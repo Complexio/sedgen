{
 "cells": [
  {
   "cell_type": "markdown",
   "metadata": {},
   "source": [
    "# Bookkeeping"
   ]
  },
  {
   "cell_type": "code",
   "execution_count": 1,
   "metadata": {},
   "outputs": [],
   "source": [
    "import numpy as np\n",
    "import pandas as pd\n",
    "import itertools\n",
    "\n",
    "from scipy.stats import norm, lognorm\n",
    "import matplotlib.pyplot as plt\n",
    "import seaborn as sns"
   ]
  },
  {
   "cell_type": "code",
   "execution_count": 26,
   "metadata": {},
   "outputs": [],
   "source": [
    "from sedgen.input import Input\n",
    "from sedgen import weathering"
   ]
  },
  {
   "cell_type": "code",
   "execution_count": 3,
   "metadata": {},
   "outputs": [],
   "source": [
    "# Load jupyter extension to reload packages before executing user code.\n",
    "# https://ipython.readthedocs.io/en/stable/config/extensions/autoreload.html\n",
    "%load_ext autoreload\n",
    "# Reload all packages (except those excluded by %aimport) every time before executing the Python code typed.\n",
    "%autoreload 2"
   ]
  },
  {
   "cell_type": "code",
   "execution_count": 4,
   "metadata": {},
   "outputs": [],
   "source": [
    "tester = np.zeros((6, 2000), dtype='int32')"
   ]
  },
  {
   "cell_type": "code",
   "execution_count": 5,
   "metadata": {},
   "outputs": [
    {
     "data": {
      "text/plain": [
       "(2000,)"
      ]
     },
     "execution_count": 5,
     "metadata": {},
     "output_type": "execute_result"
    }
   ],
   "source": [
    "tester[0].shape"
   ]
  },
  {
   "cell_type": "code",
   "execution_count": 7,
   "metadata": {},
   "outputs": [
    {
     "data": {
      "text/plain": [
       "array([0, 0, 0, ..., 0, 0, 0])"
      ]
     },
     "execution_count": 7,
     "metadata": {},
     "output_type": "execute_result"
    }
   ],
   "source": [
    "tester[0]"
   ]
  },
  {
   "cell_type": "code",
   "execution_count": 11,
   "metadata": {},
   "outputs": [],
   "source": [
    "bins = np.array([0, 1, 2, 3, 4, 5, 6, 7, 8, 9])"
   ]
  },
  {
   "cell_type": "code",
   "execution_count": 15,
   "metadata": {},
   "outputs": [],
   "source": [
    "bins = bins.astype('str')"
   ]
  },
  {
   "cell_type": "code",
   "execution_count": 22,
   "metadata": {},
   "outputs": [],
   "source": [
    "counts = np.array([0, 1, 2, 0, 4, 5, 6, 8, 0, 0])"
   ]
  },
  {
   "cell_type": "code",
   "execution_count": 35,
   "metadata": {},
   "outputs": [],
   "source": [
    "dict_ = {}\n",
    "\n",
    "for bin_, count in zip(bins, counts):\n",
    "    if count == 0:\n",
    "        continue\n",
    "    else:\n",
    "        dict_[bin_] = count"
   ]
  },
  {
   "cell_type": "code",
   "execution_count": 39,
   "metadata": {},
   "outputs": [
    {
     "data": {
      "text/plain": [
       "{'1': 1, '2': 2, '4': 4, '5': 5, '6': 6, '7': 8}"
      ]
     },
     "execution_count": 39,
     "metadata": {},
     "output_type": "execute_result"
    }
   ],
   "source": [
    "dict_"
   ]
  },
  {
   "cell_type": "code",
   "execution_count": 36,
   "metadata": {},
   "outputs": [],
   "source": [
    "from sys import getsizeof"
   ]
  },
  {
   "cell_type": "code",
   "execution_count": 68,
   "metadata": {},
   "outputs": [
    {
     "ename": "TypeError",
     "evalue": "unhashable type: 'numpy.ndarray'",
     "output_type": "error",
     "traceback": [
      "\u001b[1;31m---------------------------------------------------------------------------\u001b[0m",
      "\u001b[1;31mTypeError\u001b[0m                                 Traceback (most recent call last)",
      "\u001b[1;32m<ipython-input-68-2cafa2cc80b7>\u001b[0m in \u001b[0;36m<module>\u001b[1;34m\u001b[0m\n\u001b[1;32m----> 1\u001b[1;33m \u001b[1;33m{\u001b[0m\u001b[0mnp\u001b[0m\u001b[1;33m.\u001b[0m\u001b[0marray\u001b[0m\u001b[1;33m(\u001b[0m\u001b[0mbins\u001b[0m\u001b[1;33m[\u001b[0m\u001b[1;33m:\u001b[0m\u001b[1;33m-\u001b[0m\u001b[1;36m1\u001b[0m\u001b[1;33m]\u001b[0m\u001b[1;33m)\u001b[0m\u001b[1;33m.\u001b[0m\u001b[0mastype\u001b[0m\u001b[1;33m(\u001b[0m\u001b[1;34m'str'\u001b[0m\u001b[1;33m)\u001b[0m\u001b[1;33m,\u001b[0m \u001b[0mtester\u001b[0m\u001b[1;33m[\u001b[0m\u001b[1;36m0\u001b[0m\u001b[1;33m]\u001b[0m\u001b[1;33m}\u001b[0m\u001b[1;33m\u001b[0m\u001b[1;33m\u001b[0m\u001b[0m\n\u001b[0m",
      "\u001b[1;31mTypeError\u001b[0m: unhashable type: 'numpy.ndarray'"
     ]
    }
   ],
   "source": [
    "{np.array(bins[:-1]), tester[0]}"
   ]
  },
  {
   "cell_type": "code",
   "execution_count": 53,
   "metadata": {},
   "outputs": [
    {
     "data": {
      "text/plain": [
       "0.0457763671875"
      ]
     },
     "execution_count": 53,
     "metadata": {},
     "output_type": "execute_result"
    }
   ],
   "source": [
    "tester.nbytes / 1024 / 1024"
   ]
  },
  {
   "cell_type": "markdown",
   "metadata": {},
   "source": [
    "The input of data needs to be split up into two parts:\n",
    "- 1. Firstly, the part of data that comes from the dataset entered into the model, this needs to be boiled down to the fundamental properties (modal mineralogy, intefacial data, and crystal size data) + properties of the environment\n",
    "- 2. Secondly, for all of the parameters for which no corresponding data was entered, a substiutute needs to be constructed. For the fundamental properties this can fall back on the relations discovered during the PhD (e.g. lognormal CSD). The environmental properties might be selected by the user, nonetheless."
   ]
  },
  {
   "cell_type": "markdown",
   "metadata": {},
   "source": [
    "## 1. Modal mineralogy"
   ]
  },
  {
   "cell_type": "code",
   "execution_count": 44,
   "metadata": {},
   "outputs": [],
   "source": [
    "# Minerals present\n",
    "minerals = [\"Q\" ,\"P\", \"K\", \"B\", \"O\", \"A\"]"
   ]
  },
  {
   "cell_type": "code",
   "execution_count": 45,
   "metadata": {},
   "outputs": [],
   "source": [
    "modal_mineralogy = np.array([0.3, 0.35, 0.15, 0.10, 0.02, 0.08])"
   ]
  },
  {
   "cell_type": "code",
   "execution_count": 46,
   "metadata": {},
   "outputs": [],
   "source": [
    "prng = np.random.RandomState(1234)"
   ]
  },
  {
   "cell_type": "code",
   "execution_count": 47,
   "metadata": {},
   "outputs": [],
   "source": [
    "test = prng.choice(np.array([0, 1, 2, 3, 4, 5]), size=20000, replace=True, p=modal_mineralogy)"
   ]
  },
  {
   "cell_type": "code",
   "execution_count": 48,
   "metadata": {},
   "outputs": [],
   "source": [
    "_, counts = np.unique(test, return_counts=True)"
   ]
  },
  {
   "cell_type": "code",
   "execution_count": 49,
   "metadata": {},
   "outputs": [
    {
     "data": {
      "text/plain": [
       "array([6005, 6943, 3067, 1940,  384, 1661], dtype=int64)"
      ]
     },
     "execution_count": 49,
     "metadata": {},
     "output_type": "execute_result"
    }
   ],
   "source": [
    "counts"
   ]
  },
  {
   "cell_type": "markdown",
   "metadata": {},
   "source": [
    "## 2. CSD"
   ]
  },
  {
   "cell_type": "code",
   "execution_count": 50,
   "metadata": {},
   "outputs": [],
   "source": [
    "# You can pass in the arithmetic standard deviation as s (= the shape)\n",
    "# You can pass in the exponent of the arithmetic mean as the scale\n",
    "# You can pass in the geometric mean as the scale"
   ]
  },
  {
   "cell_type": "code",
   "execution_count": 51,
   "metadata": {},
   "outputs": [],
   "source": [
    "csds = np.array([\n",
    "    lognorm(s=1, loc=0, scale=1),\n",
    "    lognorm(s=1, loc=0, scale=1),\n",
    "    lognorm(s=1, loc=0, scale=1),\n",
    "    lognorm(s=1, loc=0, scale=1),\n",
    "    lognorm(s=1, loc=0, scale=1),\n",
    "    lognorm(s=1, loc=0, scale=1),\n",
    "])"
   ]
  },
  {
   "cell_type": "code",
   "execution_count": 52,
   "metadata": {},
   "outputs": [
    {
     "data": {
      "text/plain": [
       "2.718281828459045"
      ]
     },
     "execution_count": 52,
     "metadata": {},
     "output_type": "execute_result"
    }
   ],
   "source": [
    "np.exp(csds[0].median())"
   ]
  },
  {
   "cell_type": "code",
   "execution_count": 57,
   "metadata": {},
   "outputs": [
    {
     "data": {
      "text/plain": [
       "95.08629639359629"
      ]
     },
     "execution_count": 57,
     "metadata": {},
     "output_type": "execute_result"
    }
   ],
   "source": [
    "n_crystals = 1e9 / calculate_volume_sphere(np.exp(csds[0].median()), diameter=True)\n",
    "n_crystals/1e6"
   ]
  },
  {
   "cell_type": "code",
   "execution_count": 58,
   "metadata": {},
   "outputs": [
    {
     "ename": "TypeError",
     "evalue": "Cannot cast array data from dtype('float64') to dtype('<U32') according to the rule 'safe'",
     "output_type": "error",
     "traceback": [
      "\u001b[1;31m---------------------------------------------------------------------------\u001b[0m",
      "\u001b[1;31mTypeError\u001b[0m                                 Traceback (most recent call last)",
      "\u001b[1;32m<timed exec>\u001b[0m in \u001b[0;36m<module>\u001b[1;34m\u001b[0m\n",
      "\u001b[1;32m<__array_function__ internals>\u001b[0m in \u001b[0;36mhistogram\u001b[1;34m(*args, **kwargs)\u001b[0m\n",
      "\u001b[1;32m~\\AppData\\Local\\Continuum\\miniconda3\\envs\\sedgen\\lib\\site-packages\\numpy\\lib\\histograms.py\u001b[0m in \u001b[0;36mhistogram\u001b[1;34m(a, bins, range, normed, weights, density)\u001b[0m\n\u001b[0;32m    879\u001b[0m             \u001b[1;32mfor\u001b[0m \u001b[0mi\u001b[0m \u001b[1;32min\u001b[0m \u001b[0m_range\u001b[0m\u001b[1;33m(\u001b[0m\u001b[1;36m0\u001b[0m\u001b[1;33m,\u001b[0m \u001b[0mlen\u001b[0m\u001b[1;33m(\u001b[0m\u001b[0ma\u001b[0m\u001b[1;33m)\u001b[0m\u001b[1;33m,\u001b[0m \u001b[0mBLOCK\u001b[0m\u001b[1;33m)\u001b[0m\u001b[1;33m:\u001b[0m\u001b[1;33m\u001b[0m\u001b[1;33m\u001b[0m\u001b[0m\n\u001b[0;32m    880\u001b[0m                 \u001b[0msa\u001b[0m \u001b[1;33m=\u001b[0m \u001b[0mnp\u001b[0m\u001b[1;33m.\u001b[0m\u001b[0msort\u001b[0m\u001b[1;33m(\u001b[0m\u001b[0ma\u001b[0m\u001b[1;33m[\u001b[0m\u001b[0mi\u001b[0m\u001b[1;33m:\u001b[0m\u001b[0mi\u001b[0m\u001b[1;33m+\u001b[0m\u001b[0mBLOCK\u001b[0m\u001b[1;33m]\u001b[0m\u001b[1;33m)\u001b[0m\u001b[1;33m\u001b[0m\u001b[1;33m\u001b[0m\u001b[0m\n\u001b[1;32m--> 881\u001b[1;33m                 \u001b[0mcum_n\u001b[0m \u001b[1;33m+=\u001b[0m \u001b[0m_search_sorted_inclusive\u001b[0m\u001b[1;33m(\u001b[0m\u001b[0msa\u001b[0m\u001b[1;33m,\u001b[0m \u001b[0mbin_edges\u001b[0m\u001b[1;33m)\u001b[0m\u001b[1;33m\u001b[0m\u001b[1;33m\u001b[0m\u001b[0m\n\u001b[0m\u001b[0;32m    882\u001b[0m         \u001b[1;32melse\u001b[0m\u001b[1;33m:\u001b[0m\u001b[1;33m\u001b[0m\u001b[1;33m\u001b[0m\u001b[0m\n\u001b[0;32m    883\u001b[0m             \u001b[0mzero\u001b[0m \u001b[1;33m=\u001b[0m \u001b[0mnp\u001b[0m\u001b[1;33m.\u001b[0m\u001b[0mzeros\u001b[0m\u001b[1;33m(\u001b[0m\u001b[1;36m1\u001b[0m\u001b[1;33m,\u001b[0m \u001b[0mdtype\u001b[0m\u001b[1;33m=\u001b[0m\u001b[0mntype\u001b[0m\u001b[1;33m)\u001b[0m\u001b[1;33m\u001b[0m\u001b[1;33m\u001b[0m\u001b[0m\n",
      "\u001b[1;32m~\\AppData\\Local\\Continuum\\miniconda3\\envs\\sedgen\\lib\\site-packages\\numpy\\lib\\histograms.py\u001b[0m in \u001b[0;36m_search_sorted_inclusive\u001b[1;34m(a, v)\u001b[0m\n\u001b[0;32m    462\u001b[0m     \"\"\"\n\u001b[0;32m    463\u001b[0m     return np.concatenate((\n\u001b[1;32m--> 464\u001b[1;33m         \u001b[0ma\u001b[0m\u001b[1;33m.\u001b[0m\u001b[0msearchsorted\u001b[0m\u001b[1;33m(\u001b[0m\u001b[0mv\u001b[0m\u001b[1;33m[\u001b[0m\u001b[1;33m:\u001b[0m\u001b[1;33m-\u001b[0m\u001b[1;36m1\u001b[0m\u001b[1;33m]\u001b[0m\u001b[1;33m,\u001b[0m \u001b[1;34m'left'\u001b[0m\u001b[1;33m)\u001b[0m\u001b[1;33m,\u001b[0m\u001b[1;33m\u001b[0m\u001b[1;33m\u001b[0m\u001b[0m\n\u001b[0m\u001b[0;32m    465\u001b[0m         \u001b[0ma\u001b[0m\u001b[1;33m.\u001b[0m\u001b[0msearchsorted\u001b[0m\u001b[1;33m(\u001b[0m\u001b[0mv\u001b[0m\u001b[1;33m[\u001b[0m\u001b[1;33m-\u001b[0m\u001b[1;36m1\u001b[0m\u001b[1;33m:\u001b[0m\u001b[1;33m]\u001b[0m\u001b[1;33m,\u001b[0m \u001b[1;34m'right'\u001b[0m\u001b[1;33m)\u001b[0m\u001b[1;33m\u001b[0m\u001b[1;33m\u001b[0m\u001b[0m\n\u001b[0;32m    466\u001b[0m     ))\n",
      "\u001b[1;31mTypeError\u001b[0m: Cannot cast array data from dtype('float64') to dtype('<U32') according to the rule 'safe'"
     ]
    }
   ],
   "source": [
    "%%time\n",
    "csd_sample = csds[0].rvs(int(n_crystals))\n",
    "crystal_counts_binned_test, _ = np.histogram(np.exp(csd_sample), bins=bins)"
   ]
  },
  {
   "cell_type": "code",
   "execution_count": 59,
   "metadata": {},
   "outputs": [
    {
     "data": {
      "text/plain": [
       "725.4508666992188"
      ]
     },
     "execution_count": 59,
     "metadata": {},
     "output_type": "execute_result"
    }
   ],
   "source": [
    "csd_sample.nbytes / 1024 / 1024  # MB"
   ]
  },
  {
   "cell_type": "code",
   "execution_count": 60,
   "metadata": {},
   "outputs": [
    {
     "ename": "UFuncTypeError",
     "evalue": "ufunc 'subtract' did not contain a loop with signature matching types (dtype('<U11'), dtype('<U11')) -> dtype('<U11')",
     "output_type": "error",
     "traceback": [
      "\u001b[1;31m---------------------------------------------------------------------------\u001b[0m",
      "\u001b[1;31mUFuncTypeError\u001b[0m                            Traceback (most recent call last)",
      "\u001b[1;32m<timed exec>\u001b[0m in \u001b[0;36m<module>\u001b[1;34m\u001b[0m\n",
      "\u001b[1;32m~\\AppData\\Local\\Continuum\\miniconda3\\envs\\sedgen\\lib\\site-packages\\scipy\\stats\\_distn_infrastructure.py\u001b[0m in \u001b[0;36mpdf\u001b[1;34m(self, x)\u001b[0m\n\u001b[0;32m    441\u001b[0m \u001b[1;33m\u001b[0m\u001b[0m\n\u001b[0;32m    442\u001b[0m     \u001b[1;32mdef\u001b[0m \u001b[0mpdf\u001b[0m\u001b[1;33m(\u001b[0m\u001b[0mself\u001b[0m\u001b[1;33m,\u001b[0m \u001b[0mx\u001b[0m\u001b[1;33m)\u001b[0m\u001b[1;33m:\u001b[0m   \u001b[1;31m# raises AttributeError in frozen discrete distribution\u001b[0m\u001b[1;33m\u001b[0m\u001b[1;33m\u001b[0m\u001b[0m\n\u001b[1;32m--> 443\u001b[1;33m         \u001b[1;32mreturn\u001b[0m \u001b[0mself\u001b[0m\u001b[1;33m.\u001b[0m\u001b[0mdist\u001b[0m\u001b[1;33m.\u001b[0m\u001b[0mpdf\u001b[0m\u001b[1;33m(\u001b[0m\u001b[0mx\u001b[0m\u001b[1;33m,\u001b[0m \u001b[1;33m*\u001b[0m\u001b[0mself\u001b[0m\u001b[1;33m.\u001b[0m\u001b[0margs\u001b[0m\u001b[1;33m,\u001b[0m \u001b[1;33m**\u001b[0m\u001b[0mself\u001b[0m\u001b[1;33m.\u001b[0m\u001b[0mkwds\u001b[0m\u001b[1;33m)\u001b[0m\u001b[1;33m\u001b[0m\u001b[1;33m\u001b[0m\u001b[0m\n\u001b[0m\u001b[0;32m    444\u001b[0m \u001b[1;33m\u001b[0m\u001b[0m\n\u001b[0;32m    445\u001b[0m     \u001b[1;32mdef\u001b[0m \u001b[0mlogpdf\u001b[0m\u001b[1;33m(\u001b[0m\u001b[0mself\u001b[0m\u001b[1;33m,\u001b[0m \u001b[0mx\u001b[0m\u001b[1;33m)\u001b[0m\u001b[1;33m:\u001b[0m\u001b[1;33m\u001b[0m\u001b[1;33m\u001b[0m\u001b[0m\n",
      "\u001b[1;32m~\\AppData\\Local\\Continuum\\miniconda3\\envs\\sedgen\\lib\\site-packages\\scipy\\stats\\_distn_infrastructure.py\u001b[0m in \u001b[0;36mpdf\u001b[1;34m(self, x, *args, **kwds)\u001b[0m\n\u001b[0;32m   1718\u001b[0m         \u001b[0margs\u001b[0m \u001b[1;33m=\u001b[0m \u001b[0mtuple\u001b[0m\u001b[1;33m(\u001b[0m\u001b[0mmap\u001b[0m\u001b[1;33m(\u001b[0m\u001b[0masarray\u001b[0m\u001b[1;33m,\u001b[0m \u001b[0margs\u001b[0m\u001b[1;33m)\u001b[0m\u001b[1;33m)\u001b[0m\u001b[1;33m\u001b[0m\u001b[1;33m\u001b[0m\u001b[0m\n\u001b[0;32m   1719\u001b[0m         \u001b[0mdtyp\u001b[0m \u001b[1;33m=\u001b[0m \u001b[0mnp\u001b[0m\u001b[1;33m.\u001b[0m\u001b[0mfind_common_type\u001b[0m\u001b[1;33m(\u001b[0m\u001b[1;33m[\u001b[0m\u001b[0mx\u001b[0m\u001b[1;33m.\u001b[0m\u001b[0mdtype\u001b[0m\u001b[1;33m,\u001b[0m \u001b[0mnp\u001b[0m\u001b[1;33m.\u001b[0m\u001b[0mfloat64\u001b[0m\u001b[1;33m]\u001b[0m\u001b[1;33m,\u001b[0m \u001b[1;33m[\u001b[0m\u001b[1;33m]\u001b[0m\u001b[1;33m)\u001b[0m\u001b[1;33m\u001b[0m\u001b[1;33m\u001b[0m\u001b[0m\n\u001b[1;32m-> 1720\u001b[1;33m         \u001b[0mx\u001b[0m \u001b[1;33m=\u001b[0m \u001b[0mnp\u001b[0m\u001b[1;33m.\u001b[0m\u001b[0masarray\u001b[0m\u001b[1;33m(\u001b[0m\u001b[1;33m(\u001b[0m\u001b[0mx\u001b[0m \u001b[1;33m-\u001b[0m \u001b[0mloc\u001b[0m\u001b[1;33m)\u001b[0m\u001b[1;33m/\u001b[0m\u001b[0mscale\u001b[0m\u001b[1;33m,\u001b[0m \u001b[0mdtype\u001b[0m\u001b[1;33m=\u001b[0m\u001b[0mdtyp\u001b[0m\u001b[1;33m)\u001b[0m\u001b[1;33m\u001b[0m\u001b[1;33m\u001b[0m\u001b[0m\n\u001b[0m\u001b[0;32m   1721\u001b[0m         \u001b[0mcond0\u001b[0m \u001b[1;33m=\u001b[0m \u001b[0mself\u001b[0m\u001b[1;33m.\u001b[0m\u001b[0m_argcheck\u001b[0m\u001b[1;33m(\u001b[0m\u001b[1;33m*\u001b[0m\u001b[0margs\u001b[0m\u001b[1;33m)\u001b[0m \u001b[1;33m&\u001b[0m \u001b[1;33m(\u001b[0m\u001b[0mscale\u001b[0m \u001b[1;33m>\u001b[0m \u001b[1;36m0\u001b[0m\u001b[1;33m)\u001b[0m\u001b[1;33m\u001b[0m\u001b[1;33m\u001b[0m\u001b[0m\n\u001b[0;32m   1722\u001b[0m         \u001b[0mcond1\u001b[0m \u001b[1;33m=\u001b[0m \u001b[0mself\u001b[0m\u001b[1;33m.\u001b[0m\u001b[0m_support_mask\u001b[0m\u001b[1;33m(\u001b[0m\u001b[0mx\u001b[0m\u001b[1;33m,\u001b[0m \u001b[1;33m*\u001b[0m\u001b[0margs\u001b[0m\u001b[1;33m)\u001b[0m \u001b[1;33m&\u001b[0m \u001b[1;33m(\u001b[0m\u001b[0mscale\u001b[0m \u001b[1;33m>\u001b[0m \u001b[1;36m0\u001b[0m\u001b[1;33m)\u001b[0m\u001b[1;33m\u001b[0m\u001b[1;33m\u001b[0m\u001b[0m\n",
      "\u001b[1;31mUFuncTypeError\u001b[0m: ufunc 'subtract' did not contain a loop with signature matching types (dtype('<U11'), dtype('<U11')) -> dtype('<U11')"
     ]
    }
   ],
   "source": [
    "%%time\n",
    "test = (csds[0].pdf(bins)*int(n_crystals)).astype('int')"
   ]
  },
  {
   "cell_type": "code",
   "execution_count": 61,
   "metadata": {},
   "outputs": [
    {
     "ename": "UFuncTypeError",
     "evalue": "ufunc 'subtract' did not contain a loop with signature matching types (dtype('<U11'), dtype('<U11')) -> dtype('<U11')",
     "output_type": "error",
     "traceback": [
      "\u001b[1;31m---------------------------------------------------------------------------\u001b[0m",
      "\u001b[1;31mUFuncTypeError\u001b[0m                            Traceback (most recent call last)",
      "\u001b[1;32m<ipython-input-61-bb0afdac9796>\u001b[0m in \u001b[0;36m<module>\u001b[1;34m\u001b[0m\n\u001b[1;32m----> 1\u001b[1;33m \u001b[0mpdf_normalized\u001b[0m \u001b[1;33m=\u001b[0m \u001b[0mcsds\u001b[0m\u001b[1;33m[\u001b[0m\u001b[1;36m0\u001b[0m\u001b[1;33m]\u001b[0m\u001b[1;33m.\u001b[0m\u001b[0mpdf\u001b[0m\u001b[1;33m(\u001b[0m\u001b[0mbins\u001b[0m\u001b[1;33m)\u001b[0m \u001b[1;33m/\u001b[0m \u001b[0mnp\u001b[0m\u001b[1;33m.\u001b[0m\u001b[0msum\u001b[0m\u001b[1;33m(\u001b[0m\u001b[0mcsds\u001b[0m\u001b[1;33m[\u001b[0m\u001b[1;36m0\u001b[0m\u001b[1;33m]\u001b[0m\u001b[1;33m.\u001b[0m\u001b[0mpdf\u001b[0m\u001b[1;33m(\u001b[0m\u001b[0mbins\u001b[0m\u001b[1;33m)\u001b[0m\u001b[1;33m)\u001b[0m\u001b[1;33m\u001b[0m\u001b[1;33m\u001b[0m\u001b[0m\n\u001b[0m",
      "\u001b[1;32m~\\AppData\\Local\\Continuum\\miniconda3\\envs\\sedgen\\lib\\site-packages\\scipy\\stats\\_distn_infrastructure.py\u001b[0m in \u001b[0;36mpdf\u001b[1;34m(self, x)\u001b[0m\n\u001b[0;32m    441\u001b[0m \u001b[1;33m\u001b[0m\u001b[0m\n\u001b[0;32m    442\u001b[0m     \u001b[1;32mdef\u001b[0m \u001b[0mpdf\u001b[0m\u001b[1;33m(\u001b[0m\u001b[0mself\u001b[0m\u001b[1;33m,\u001b[0m \u001b[0mx\u001b[0m\u001b[1;33m)\u001b[0m\u001b[1;33m:\u001b[0m   \u001b[1;31m# raises AttributeError in frozen discrete distribution\u001b[0m\u001b[1;33m\u001b[0m\u001b[1;33m\u001b[0m\u001b[0m\n\u001b[1;32m--> 443\u001b[1;33m         \u001b[1;32mreturn\u001b[0m \u001b[0mself\u001b[0m\u001b[1;33m.\u001b[0m\u001b[0mdist\u001b[0m\u001b[1;33m.\u001b[0m\u001b[0mpdf\u001b[0m\u001b[1;33m(\u001b[0m\u001b[0mx\u001b[0m\u001b[1;33m,\u001b[0m \u001b[1;33m*\u001b[0m\u001b[0mself\u001b[0m\u001b[1;33m.\u001b[0m\u001b[0margs\u001b[0m\u001b[1;33m,\u001b[0m \u001b[1;33m**\u001b[0m\u001b[0mself\u001b[0m\u001b[1;33m.\u001b[0m\u001b[0mkwds\u001b[0m\u001b[1;33m)\u001b[0m\u001b[1;33m\u001b[0m\u001b[1;33m\u001b[0m\u001b[0m\n\u001b[0m\u001b[0;32m    444\u001b[0m \u001b[1;33m\u001b[0m\u001b[0m\n\u001b[0;32m    445\u001b[0m     \u001b[1;32mdef\u001b[0m \u001b[0mlogpdf\u001b[0m\u001b[1;33m(\u001b[0m\u001b[0mself\u001b[0m\u001b[1;33m,\u001b[0m \u001b[0mx\u001b[0m\u001b[1;33m)\u001b[0m\u001b[1;33m:\u001b[0m\u001b[1;33m\u001b[0m\u001b[1;33m\u001b[0m\u001b[0m\n",
      "\u001b[1;32m~\\AppData\\Local\\Continuum\\miniconda3\\envs\\sedgen\\lib\\site-packages\\scipy\\stats\\_distn_infrastructure.py\u001b[0m in \u001b[0;36mpdf\u001b[1;34m(self, x, *args, **kwds)\u001b[0m\n\u001b[0;32m   1718\u001b[0m         \u001b[0margs\u001b[0m \u001b[1;33m=\u001b[0m \u001b[0mtuple\u001b[0m\u001b[1;33m(\u001b[0m\u001b[0mmap\u001b[0m\u001b[1;33m(\u001b[0m\u001b[0masarray\u001b[0m\u001b[1;33m,\u001b[0m \u001b[0margs\u001b[0m\u001b[1;33m)\u001b[0m\u001b[1;33m)\u001b[0m\u001b[1;33m\u001b[0m\u001b[1;33m\u001b[0m\u001b[0m\n\u001b[0;32m   1719\u001b[0m         \u001b[0mdtyp\u001b[0m \u001b[1;33m=\u001b[0m \u001b[0mnp\u001b[0m\u001b[1;33m.\u001b[0m\u001b[0mfind_common_type\u001b[0m\u001b[1;33m(\u001b[0m\u001b[1;33m[\u001b[0m\u001b[0mx\u001b[0m\u001b[1;33m.\u001b[0m\u001b[0mdtype\u001b[0m\u001b[1;33m,\u001b[0m \u001b[0mnp\u001b[0m\u001b[1;33m.\u001b[0m\u001b[0mfloat64\u001b[0m\u001b[1;33m]\u001b[0m\u001b[1;33m,\u001b[0m \u001b[1;33m[\u001b[0m\u001b[1;33m]\u001b[0m\u001b[1;33m)\u001b[0m\u001b[1;33m\u001b[0m\u001b[1;33m\u001b[0m\u001b[0m\n\u001b[1;32m-> 1720\u001b[1;33m         \u001b[0mx\u001b[0m \u001b[1;33m=\u001b[0m \u001b[0mnp\u001b[0m\u001b[1;33m.\u001b[0m\u001b[0masarray\u001b[0m\u001b[1;33m(\u001b[0m\u001b[1;33m(\u001b[0m\u001b[0mx\u001b[0m \u001b[1;33m-\u001b[0m \u001b[0mloc\u001b[0m\u001b[1;33m)\u001b[0m\u001b[1;33m/\u001b[0m\u001b[0mscale\u001b[0m\u001b[1;33m,\u001b[0m \u001b[0mdtype\u001b[0m\u001b[1;33m=\u001b[0m\u001b[0mdtyp\u001b[0m\u001b[1;33m)\u001b[0m\u001b[1;33m\u001b[0m\u001b[1;33m\u001b[0m\u001b[0m\n\u001b[0m\u001b[0;32m   1721\u001b[0m         \u001b[0mcond0\u001b[0m \u001b[1;33m=\u001b[0m \u001b[0mself\u001b[0m\u001b[1;33m.\u001b[0m\u001b[0m_argcheck\u001b[0m\u001b[1;33m(\u001b[0m\u001b[1;33m*\u001b[0m\u001b[0margs\u001b[0m\u001b[1;33m)\u001b[0m \u001b[1;33m&\u001b[0m \u001b[1;33m(\u001b[0m\u001b[0mscale\u001b[0m \u001b[1;33m>\u001b[0m \u001b[1;36m0\u001b[0m\u001b[1;33m)\u001b[0m\u001b[1;33m\u001b[0m\u001b[1;33m\u001b[0m\u001b[0m\n\u001b[0;32m   1722\u001b[0m         \u001b[0mcond1\u001b[0m \u001b[1;33m=\u001b[0m \u001b[0mself\u001b[0m\u001b[1;33m.\u001b[0m\u001b[0m_support_mask\u001b[0m\u001b[1;33m(\u001b[0m\u001b[0mx\u001b[0m\u001b[1;33m,\u001b[0m \u001b[1;33m*\u001b[0m\u001b[0margs\u001b[0m\u001b[1;33m)\u001b[0m \u001b[1;33m&\u001b[0m \u001b[1;33m(\u001b[0m\u001b[0mscale\u001b[0m \u001b[1;33m>\u001b[0m \u001b[1;36m0\u001b[0m\u001b[1;33m)\u001b[0m\u001b[1;33m\u001b[0m\u001b[1;33m\u001b[0m\u001b[0m\n",
      "\u001b[1;31mUFuncTypeError\u001b[0m: ufunc 'subtract' did not contain a loop with signature matching types (dtype('<U11'), dtype('<U11')) -> dtype('<U11')"
     ]
    }
   ],
   "source": [
    "pdf_normalized = csds[0].pdf(bins) / np.sum(csds[0].pdf(bins))"
   ]
  },
  {
   "cell_type": "code",
   "execution_count": null,
   "metadata": {},
   "outputs": [],
   "source": [
    "test = (pdf_normalized * n_crystals).astype('int')"
   ]
  },
  {
   "cell_type": "code",
   "execution_count": null,
   "metadata": {},
   "outputs": [],
   "source": [
    "bins_medians = [1.5 * 2.0**x for x in np.arange(-10, 10.01, 0.01)]"
   ]
  },
  {
   "cell_type": "code",
   "execution_count": 41,
   "metadata": {},
   "outputs": [
    {
     "data": {
      "text/plain": [
       "dtype('int32')"
      ]
     },
     "execution_count": 41,
     "metadata": {},
     "output_type": "execute_result"
    }
   ],
   "source": [
    "test.dtype"
   ]
  },
  {
   "cell_type": "code",
   "execution_count": 43,
   "metadata": {},
   "outputs": [
    {
     "data": {
      "text/plain": [
       "4.294967296"
      ]
     },
     "execution_count": 43,
     "metadata": {},
     "output_type": "execute_result"
    }
   ],
   "source": [
    "2**32 / 1e9"
   ]
  },
  {
   "cell_type": "code",
   "execution_count": 40,
   "metadata": {},
   "outputs": [
    {
     "data": {
      "text/plain": [
       "46.8984375"
      ]
     },
     "execution_count": 40,
     "metadata": {},
     "output_type": "execute_result"
    }
   ],
   "source": [
    "6 * test.nbytes / 1024  # kB"
   ]
  },
  {
   "cell_type": "code",
   "execution_count": 194,
   "metadata": {},
   "outputs": [
    {
     "data": {
      "text/plain": [
       "95085508"
      ]
     },
     "execution_count": 194,
     "metadata": {},
     "output_type": "execute_result"
    }
   ],
   "source": [
    "test.sum()"
   ]
  },
  {
   "cell_type": "code",
   "execution_count": 195,
   "metadata": {},
   "outputs": [],
   "source": [
    "bins_volumes = calculate_volume_sphere(np.array(bins_medians), diameter=True)"
   ]
  },
  {
   "cell_type": "code",
   "execution_count": 196,
   "metadata": {},
   "outputs": [
    {
     "data": {
      "text/plain": [
       "0.7296020964387707"
      ]
     },
     "execution_count": 196,
     "metadata": {},
     "output_type": "execute_result"
    }
   ],
   "source": [
    "np.sum(test * bins_volumes) / 1e9"
   ]
  },
  {
   "cell_type": "code",
   "execution_count": 117,
   "metadata": {},
   "outputs": [
    {
     "data": {
      "text/plain": [
       "<BarContainer object of 2001 artists>"
      ]
     },
     "execution_count": 117,
     "metadata": {},
     "output_type": "execute_result"
    },
    {
     "data": {
      "text/plain": [
       "(0.000244140625, 1024)"
      ]
     },
     "execution_count": 117,
     "metadata": {},
     "output_type": "execute_result"
    },
    {
     "data": {
      "image/png": "[encoded data removed]",
      "text/plain": [
       "<Figure size 432x288 with 1 Axes>"
      ]
     },
     "metadata": {
      "needs_background": "light"
     },
     "output_type": "display_data"
    }
   ],
   "source": [
    "plt.bar(bins, test)\n",
    "plt.gca().set_xscale('log', basex=2)\n",
    "plt.xlim(2**-12, 2**10)"
   ]
  },
  {
   "cell_type": "code",
   "execution_count": 70,
   "metadata": {},
   "outputs": [
    {
     "data": {
      "text/plain": [
       "[<matplotlib.lines.Line2D at 0x1bff2d80e88>]"
      ]
     },
     "execution_count": 70,
     "metadata": {},
     "output_type": "execute_result"
    },
    {
     "data": {
      "image/png": "[encoded data removed]",
      "text/plain": [
       "<Figure size 432x288 with 1 Axes>"
      ]
     },
     "metadata": {
      "needs_background": "light"
     },
     "output_type": "display_data"
    }
   ],
   "source": [
    "plt.plot(np.log2(bins), csds[0].pdf(bins))"
   ]
  },
  {
   "cell_type": "code",
   "execution_count": 27,
   "metadata": {},
   "outputs": [
    {
     "data": {
      "text/plain": [
       "5.2003257647899614"
      ]
     },
     "execution_count": 27,
     "metadata": {},
     "output_type": "execute_result"
    }
   ],
   "source": [
    "np.exp(csds[0].mean())"
   ]
  },
  {
   "cell_type": "code",
   "execution_count": 62,
   "metadata": {},
   "outputs": [
    {
     "name": "stdout",
     "output_type": "stream",
     "text": [
      "Wall time: 1.97 ms\n"
     ]
    }
   ],
   "source": [
    "%%time\n",
    "# Obtain crystal sizes per mineral class\n",
    "crystal_sizes = []\n",
    "for csd, crystals in zip(csds, counts):\n",
    "#     print(csd, crystals)\n",
    "    crystal_sizes.append(csd.rvs(size=crystals, random_state=1234))"
   ]
  },
  {
   "cell_type": "code",
   "execution_count": 17,
   "metadata": {},
   "outputs": [
    {
     "data": {
      "image/png": "[encoded data removed]",
      "text/plain": [
       "<Figure size 432x288 with 1 Axes>"
      ]
     },
     "metadata": {
      "needs_background": "light"
     },
     "output_type": "display_data"
    }
   ],
   "source": [
    "plt.plot(np.log(ecdf(crystal_sizes[0])[0]), ecdf(crystal_sizes[0])[1], \n",
    "         color='orangered', zorder=10, label=\"sample\")\n",
    "\n",
    "x = np.linspace(csds[0].ppf(0.00001), csds[0].ppf(0.99999), 1000)\n",
    "plt.plot(np.log(x), csds[0].cdf(x), \n",
    "         color='k', lw=5, label=\"population\")\n",
    "\n",
    "plt.legend(fontsize='small')\n",
    "plt.show();"
   ]
  },
  {
   "cell_type": "code",
   "execution_count": 66,
   "metadata": {},
   "outputs": [],
   "source": [
    "# Bins according to phi scale in quarters (in mm)\n",
    "# To Do: Make lower- and upper bin boundaries model parameters (and attributes)\n",
    "bins = [2.0**x for x in np.arange(-10, 10.01, 0.01)]"
   ]
  },
  {
   "cell_type": "code",
   "execution_count": 67,
   "metadata": {},
   "outputs": [],
   "source": [
    "crystal_counts_binned = np.zeros((6, 2000))\n",
    "for i in range(6):\n",
    "    crystal_counts_binned[i], _ = np.histogram(crystal_sizes[i], bins=bins)"
   ]
  },
  {
   "cell_type": "code",
   "execution_count": 20,
   "metadata": {},
   "outputs": [
    {
     "data": {
      "image/png": "[encoded data removed]",
      "text/plain": [
       "<Figure size 432x288 with 1 Axes>"
      ]
     },
     "metadata": {
      "needs_background": "light"
     },
     "output_type": "display_data"
    }
   ],
   "source": [
    "for i in range(6):\n",
    "    plt.hist(crystal_sizes[i], bins=bins, label=minerals[i], alpha=0.8)\n",
    "plt.gca().set_xscale('log', basex=2)\n",
    "plt.legend(fontsize='small')\n",
    "plt.show();"
   ]
  },
  {
   "cell_type": "code",
   "execution_count": 63,
   "metadata": {},
   "outputs": [
    {
     "name": "stdout",
     "output_type": "stream",
     "text": [
      "Q 9918.392700030865\n",
      "P 11450.004600725795\n",
      "K 5140.702784406363\n",
      "B 3245.63696652118\n",
      "O 651.1386442209653\n",
      "A 2789.404561612471\n"
     ]
    }
   ],
   "source": [
    "crystal_sizes_sum_total = 0\n",
    "for i in range(6):\n",
    "    print(minerals[i], crystal_sizes[i].sum())\n",
    "    crystal_sizes_sum_total += crystal_sizes[i].sum()"
   ]
  },
  {
   "cell_type": "code",
   "execution_count": 21,
   "metadata": {},
   "outputs": [
    {
     "data": {
      "text/plain": [
       "33195.28025751764"
      ]
     },
     "execution_count": 21,
     "metadata": {},
     "output_type": "execute_result"
    }
   ],
   "source": [
    "crystal_sizes_sum_total"
   ]
  },
  {
   "cell_type": "code",
   "execution_count": 9,
   "metadata": {},
   "outputs": [],
   "source": [
    "def calculate_volume_sphere(r, diameter=False):\n",
    "    if diameter:\n",
    "        r = r/2\n",
    "    \n",
    "    volume = 4/3 * r**3 * np.pi\n",
    "    return volume"
   ]
  },
  {
   "cell_type": "code",
   "execution_count": 10,
   "metadata": {},
   "outputs": [],
   "source": [
    "def calculate_equivalent_circular_diameter(volume):\n",
    "    diameter = 2 * (3/4 * volume / np.pi) ** (1/3)\n",
    "    \n",
    "    return diameter"
   ]
  },
  {
   "cell_type": "code",
   "execution_count": 24,
   "metadata": {},
   "outputs": [
    {
     "name": "stdout",
     "output_type": "stream",
     "text": [
      "Q 156190.83190647393\n",
      "P 180345.1925750545\n",
      "K 89892.80872030772\n",
      "B 57613.65136188341\n",
      "O 10024.37333383742\n",
      "A 52009.45666716363\n"
     ]
    }
   ],
   "source": [
    "crystal_sizes_volume_total = 0\n",
    "for i in range(6):\n",
    "    volumes = calculate_volume_sphere(crystal_sizes[i], diameter=True)\n",
    "    print(minerals[i], volumes.sum())\n",
    "    crystal_sizes_volume_total += volumes.sum()"
   ]
  },
  {
   "cell_type": "code",
   "execution_count": 25,
   "metadata": {},
   "outputs": [
    {
     "data": {
      "text/plain": [
       "546076.3145647206"
      ]
     },
     "execution_count": 25,
     "metadata": {},
     "output_type": "execute_result"
    },
    {
     "data": {
      "text/plain": [
       "0.0005460763145647206"
      ]
     },
     "execution_count": 25,
     "metadata": {},
     "output_type": "execute_result"
    }
   ],
   "source": [
    "crystal_sizes_volume_total  # in mm³\n",
    "crystal_sizes_volume_total / 1e9 # in m³"
   ]
  },
  {
   "cell_type": "code",
   "execution_count": 106,
   "metadata": {},
   "outputs": [],
   "source": [
    "from sklearn.model_selection import train_test_split"
   ]
  },
  {
   "cell_type": "code",
   "execution_count": 112,
   "metadata": {},
   "outputs": [
    {
     "data": {
      "text/plain": [
       "[array([0, 2, 2, 2, 0, 0, 1, 0, 2, 2, 1, 0, 0, 1]), array([0, 1, 1, 1, 2, 0])]"
      ]
     },
     "execution_count": 112,
     "metadata": {},
     "output_type": "execute_result"
    }
   ],
   "source": [
    "train_test_split(np.random.randint(0, 3, (20)), train_size=0.7, random_state=1234)"
   ]
  },
  {
   "cell_type": "code",
   "execution_count": 54,
   "metadata": {},
   "outputs": [],
   "source": [
    "def split_size(n):\n",
    "    if n > 10:\n",
    "        split_size = (0.9-0.1) * prng.random_sample() + 0.1\n",
    "    else:\n",
    "        a = 1/n\n",
    "        b = 1 - a\n",
    "        split_size = (b-a) * prng.random_sample() + a\n",
    "    return split_size"
   ]
  },
  {
   "cell_type": "code",
   "execution_count": 116,
   "metadata": {},
   "outputs": [
    {
     "name": "stdout",
     "output_type": "stream",
     "text": [
      "1.27 µs ± 20.4 ns per loop (mean ± std. dev. of 7 runs, 1000000 loops each)\n"
     ]
    }
   ],
   "source": [
    "%%timeit\n",
    "np.random.random(2)"
   ]
  },
  {
   "cell_type": "code",
   "execution_count": 7,
   "metadata": {},
   "outputs": [],
   "source": [
    "def mechanical_weathering(steps):\n",
    "    composition_new = [1]\n",
    "    single_crystals = 0\n",
    "    threshold = 1e-8\n",
    "\n",
    "    for i in range(steps):\n",
    "    #     print(composition_new)\n",
    "        composition_old = composition_new\n",
    "        composition_new = []\n",
    "\n",
    "        for comp in composition_old:\n",
    "            a, b = np.random.random(2)\n",
    "    #         print(a, b)\n",
    "            # Normalize and b\n",
    "            sum_ = a + b\n",
    "            a, b = a/sum_, b/sum_\n",
    "\n",
    "            # Move fractions smaller than threshold to single crystals count\n",
    "            for split in [a, b]:\n",
    "                if split * comp <= threshold:\n",
    "                    single_crystals += 1\n",
    "                else:\n",
    "                    composition_new += [split * comp]\n",
    "    #         composition_new += [a*comp, b*comp] "
   ]
  },
  {
   "cell_type": "code",
   "execution_count": 8,
   "metadata": {},
   "outputs": [
    {
     "name": "stdout",
     "output_type": "stream",
     "text": [
      "Wall time: 3.2 s\n"
     ]
    }
   ],
   "source": [
    "%%time\n",
    "mechanical_weathering(20)"
   ]
  },
  {
   "cell_type": "code",
   "execution_count": 105,
   "metadata": {},
   "outputs": [],
   "source": [
    "a = np.array([[1, 2],\n",
    "              [3, 4],\n",
    "              [5, 6]])\n",
    "\n",
    "b = np.array([[3],\n",
    "              [2],\n",
    "              [1]])"
   ]
  },
  {
   "cell_type": "code",
   "execution_count": 108,
   "metadata": {},
   "outputs": [
    {
     "data": {
      "text/plain": [
       "array([[3, 2, 1]])"
      ]
     },
     "execution_count": 108,
     "metadata": {},
     "output_type": "execute_result"
    }
   ],
   "source": [
    "b.reshape((1, -1))"
   ]
  },
  {
   "cell_type": "code",
   "execution_count": 146,
   "metadata": {},
   "outputs": [
    {
     "data": {
      "text/plain": [
       "array([[3, 6],\n",
       "       [6, 8],\n",
       "       [5, 6]])"
      ]
     },
     "execution_count": 146,
     "metadata": {},
     "output_type": "execute_result"
    }
   ],
   "source": [
    "a * b"
   ]
  },
  {
   "cell_type": "code",
   "execution_count": 152,
   "metadata": {},
   "outputs": [
    {
     "data": {
      "text/plain": [
       "array([ 1,  2,  6,  8, 15, 18])"
      ]
     },
     "execution_count": 152,
     "metadata": {},
     "output_type": "execute_result"
    }
   ],
   "source": [
    "(a * np.array([1, 2, 3]).reshape(-1, 1)).flatten()"
   ]
  },
  {
   "cell_type": "code",
   "execution_count": 70,
   "metadata": {},
   "outputs": [
    {
     "data": {
      "text/plain": [
       "1.0"
      ]
     },
     "execution_count": 70,
     "metadata": {},
     "output_type": "execute_result"
    }
   ],
   "source": [
    "100e6 * 1e-8"
   ]
  },
  {
   "cell_type": "code",
   "execution_count": 13,
   "metadata": {},
   "outputs": [],
   "source": [
    "def mechanical_weathering_vectorized(steps, verbose=False, threshold=1e-8):\n",
    "    \"\"\"Threshold value is based on number of crystals that is expected to be \n",
    "    present in one cubic meter of parent rock which in turn is based on the average bulk crystal size\n",
    "    \n",
    "    Example:\n",
    "    --------\n",
    "    200 million crystals in 1 m³ means that a proportion of 0.5e-8 presents one crystal.\n",
    "    When a proprtion is less than or equal to this threshold this would thus mean that \n",
    "    the pcg is no longer a pcg but has become a mcg.\n",
    "    \"\"\"\n",
    "    composition_new = np.array([1])\n",
    "    pcg_evolution = np.zeros(steps)\n",
    "    mcg_evolution = np.zeros(steps)\n",
    "    pcg_memory_usage = np.zeros(steps)\n",
    "    single_crystals = 0\n",
    "\n",
    "    for i in range(steps):\n",
    "        composition_old = composition_new\n",
    "        if verbose:\n",
    "            print(\"composition_old\", composition_old)\n",
    "            print(\"composition_old_shape\", composition_old.shape)\n",
    "            \n",
    "        # Obtain random fractions\n",
    "        ab = np.random.random((2, composition_old.shape[0]))\n",
    "        ab_norm = np.divide(ab, np.sum(ab, axis=0))\n",
    "        if verbose:\n",
    "            print(\"ab\", ab)\n",
    "            print(\"ab_norm\", ab_norm)\n",
    "\n",
    "        # Create new composition from old one and fractions\n",
    "        composition_new = np.multiply(ab_norm.T, composition_old.reshape(-1, 1)).flatten()\n",
    "        if verbose:\n",
    "            print(\"composition_new\", composition_new)\n",
    "            print(\"composition_new_sum\", np.sum(composition_new), \"\\n\")\n",
    "            \n",
    "        # Move fractions smaller than threshold to single crystals count\n",
    "        condition = composition_new <= threshold\n",
    "        single_crystals += np.sum(condition)\n",
    "        if verbose:\n",
    "            print(\"single_crystals\", single_crystals)\n",
    "        composition_new = composition_new[~condition]\n",
    "        \n",
    "        if verbose:\n",
    "            print(\"composition_new\", composition_new)\n",
    "            print(\"composition_new_sum\", np.sum(composition_new), \"\\n\")\n",
    "        \n",
    "        # Keep track of evolution of pcg and mcg\n",
    "        pcg_evolution[i] = composition_new.shape[0]\n",
    "        mcg_evolution[i] = single_crystals\n",
    "        pcg_memory_usage[i] = composition_new.nbytes / 1024**2\n",
    "        if composition_new.shape[0] == 0:\n",
    "            print(i)\n",
    "            break\n",
    "        \n",
    "    return composition_new, single_crystals, pcg_evolution, mcg_evolution, pcg_memory_usage"
   ]
  },
  {
   "cell_type": "code",
   "execution_count": 17,
   "metadata": {},
   "outputs": [
    {
     "name": "stdout",
     "output_type": "stream",
     "text": [
      "35\n",
      "Wall time: 13 ms\n"
     ]
    }
   ],
   "source": [
    "%%time\n",
    "tester = mechanical_weathering_vectorized(60, verbose=False, threshold=1e-5)"
   ]
  },
  {
   "cell_type": "code",
   "execution_count": 18,
   "metadata": {},
   "outputs": [
    {
     "name": "stdout",
     "output_type": "stream",
     "text": [
      "pcg: 0 \n",
      "mcg: 177566\n"
     ]
    }
   ],
   "source": [
    "print(\"pcg:\", tester[0].shape[0], \"\\nmcg:\", tester[1])"
   ]
  },
  {
   "cell_type": "code",
   "execution_count": 6,
   "metadata": {},
   "outputs": [
    {
     "name": "stdout",
     "output_type": "stream",
     "text": [
      "pcg: 0 \n",
      "mcg: 17735461\n"
     ]
    }
   ],
   "source": [
    "print(\"pcg:\", tester[0].shape[0], \"\\nmcg:\", tester[1])"
   ]
  },
  {
   "cell_type": "code",
   "execution_count": 58,
   "metadata": {},
   "outputs": [
    {
     "data": {
      "text/plain": [
       "7.5"
      ]
     },
     "execution_count": 58,
     "metadata": {},
     "output_type": "execute_result"
    }
   ],
   "source": [
    "15 * 0.5"
   ]
  },
  {
   "cell_type": "code",
   "execution_count": 92,
   "metadata": {},
   "outputs": [
    {
     "data": {
      "text/plain": [
       "array([[ 0.15, 14.85],\n",
       "       [15.  , 15.  ]])"
      ]
     },
     "execution_count": 92,
     "metadata": {},
     "output_type": "execute_result"
    }
   ],
   "source": [
    "test = np.sort(np.array([[0.99, 0.01], [0.5, 0.5]]) * np.array([[15], [30]]))\n",
    "test"
   ]
  },
  {
   "cell_type": "code",
   "execution_count": 93,
   "metadata": {},
   "outputs": [
    {
     "data": {
      "text/plain": [
       "array([ 1., 15.])"
      ]
     },
     "execution_count": 93,
     "metadata": {},
     "output_type": "execute_result"
    }
   ],
   "source": [
    "np.ceil(test[:, 0])"
   ]
  },
  {
   "cell_type": "code",
   "execution_count": 94,
   "metadata": {},
   "outputs": [
    {
     "data": {
      "text/plain": [
       "array([14., 15.])"
      ]
     },
     "execution_count": 94,
     "metadata": {},
     "output_type": "execute_result"
    }
   ],
   "source": [
    "np.floor(test[:, 1])"
   ]
  },
  {
   "cell_type": "code",
   "execution_count": null,
   "metadata": {},
   "outputs": [],
   "source": []
  },
  {
   "cell_type": "code",
   "execution_count": 7,
   "metadata": {},
   "outputs": [
    {
     "data": {
      "image/png": "[encoded data removed]",
      "text/plain": [
       "<Figure size 432x288 with 1 Axes>"
      ]
     },
     "metadata": {
      "needs_background": "light"
     },
     "output_type": "display_data"
    }
   ],
   "source": [
    "# Threshold set at 1e-9\n",
    "\n",
    "# Memory usage of pcg array across timesteps\n",
    "plt.plot(tester[4], lw=2, label='pcg array')\n",
    "x_max = np.where(tester[4] == tester[4].max())[0][0]\n",
    "y_max = tester[4].max()\n",
    "# print(x_max, y_max)\n",
    "\n",
    "# Annotate maximum memory usage\n",
    "plt.annotate(f\"{y_max:3.2f} MB\", \n",
    "             (x_max, y_max),\n",
    "             (20, y_max))\n",
    "# Annotate timestep where maximum memory usage is reached\n",
    "plt.annotate(x_max, \n",
    "             (x_max, 0),\n",
    "             (x_max+1, 0))\n",
    "\n",
    "plt.vlines(np.where(tester[4] == tester[4].max()), 0, tester[4].max())\n",
    "plt.xlabel(\"Timestep\")\n",
    "plt.ylabel(\"Memory\\nusage\\n(MB)\", rotation=0, labelpad=30)\n",
    "plt.legend()\n",
    "sns.despine()\n",
    "plt.tight_layout()\n",
    "plt.show();"
   ]
  },
  {
   "cell_type": "code",
   "execution_count": 111,
   "metadata": {},
   "outputs": [
    {
     "data": {
      "image/png": "[encoded data removed]",
      "text/plain": [
       "<Figure size 432x288 with 1 Axes>"
      ]
     },
     "metadata": {
      "needs_background": "light"
     },
     "output_type": "display_data"
    }
   ],
   "source": [
    "# Threshold set at 1e-8\n",
    "\n",
    "# Memory usage of pcg array across timesteps\n",
    "plt.plot(tester[4], lw=2, label='pcg array')\n",
    "x_max = np.where(tester[4] == tester[4].max())[0][0]\n",
    "y_max = tester[4].max()\n",
    "# print(x_max, y_max)\n",
    "\n",
    "# Annotate maximum memory usage\n",
    "plt.annotate(f\"{y_max:3.2f} MB\", \n",
    "             (x_max, y_max),\n",
    "             (20, y_max))\n",
    "# Annotate timestep where maximum memory usage is reached\n",
    "plt.annotate(x_max, \n",
    "             (x_max, 0),\n",
    "             (x_max+1, 0))\n",
    "\n",
    "plt.vlines(np.where(tester[4] == tester[4].max()), 0, tester[4].max())\n",
    "plt.xlabel(\"Timestep\")\n",
    "plt.ylabel(\"Memory\\nusage\\n(MB)\", rotation=0, labelpad=30)\n",
    "plt.legend()\n",
    "sns.despine()\n",
    "plt.tight_layout()\n",
    "plt.show();"
   ]
  },
  {
   "cell_type": "code",
   "execution_count": 8,
   "metadata": {},
   "outputs": [
    {
     "data": {
      "image/png": "[encoded data removed]",
      "text/plain": [
       "<Figure size 432x288 with 1 Axes>"
      ]
     },
     "metadata": {
      "needs_background": "light"
     },
     "output_type": "display_data"
    }
   ],
   "source": [
    "# Threshold set at 1e-9\n",
    "\n",
    "# Evoluton of number of pcg and mcg through timesteps\n",
    "plt.plot(tester[2], lw=2, label=\"pcg\")\n",
    "plt.plot(tester[3], lw=2, label=\"mcg\")\n",
    "plt.xlabel(\"Timestep\")\n",
    "plt.ylabel(\"Number\\nof grains\", rotation=0, labelpad=30)\n",
    "plt.legend()\n",
    "sns.despine()\n",
    "plt.tight_layout()\n",
    "plt.show();"
   ]
  },
  {
   "cell_type": "code",
   "execution_count": 85,
   "metadata": {},
   "outputs": [
    {
     "data": {
      "image/png": "[encoded data removed]",
      "text/plain": [
       "<Figure size 432x288 with 1 Axes>"
      ]
     },
     "metadata": {
      "needs_background": "light"
     },
     "output_type": "display_data"
    }
   ],
   "source": [
    "# Threshold set at 1e-8\n",
    "\n",
    "# Evoluton of number of pcg and mcg through timesteps\n",
    "plt.plot(tester[2], lw=2, label=\"pcg\")\n",
    "plt.plot(tester[3], lw=2, label=\"mcg\")\n",
    "plt.xlabel(\"Timestep\")\n",
    "plt.ylabel(\"Number\\nof grains\", rotation=0, labelpad=30)\n",
    "plt.legend()\n",
    "sns.despine()\n",
    "plt.tight_layout()\n",
    "plt.show();"
   ]
  },
  {
   "cell_type": "code",
   "execution_count": 82,
   "metadata": {},
   "outputs": [
    {
     "data": {
      "image/png": "[encoded data removed]",
      "text/plain": [
       "<Figure size 432x288 with 1 Axes>"
      ]
     },
     "metadata": {
      "needs_background": "light"
     },
     "output_type": "display_data"
    }
   ],
   "source": [
    "# Threshold set at 2e-8\n",
    "\n",
    "# Evoluton of number of pcg and mcg through timesteps\n",
    "plt.plot(tester[2], lw=2, label=\"pcg\")\n",
    "plt.plot(tester[3], lw=2, label=\"mcg\")\n",
    "plt.xlabel(\"Timestep\")\n",
    "plt.ylabel(\"Number\\nof grains\", rotation=0, labelpad=30)\n",
    "plt.legend()\n",
    "sns.despine()\n",
    "plt.tight_layout()\n",
    "plt.show();"
   ]
  },
  {
   "cell_type": "code",
   "execution_count": 50,
   "metadata": {},
   "outputs": [
    {
     "data": {
      "text/plain": [
       "0.0599822998046875"
      ]
     },
     "execution_count": 50,
     "metadata": {},
     "output_type": "execute_result"
    }
   ],
   "source": [
    "tester[0].nbytes / 1024**2"
   ]
  },
  {
   "cell_type": "code",
   "execution_count": 23,
   "metadata": {},
   "outputs": [
    {
     "data": {
      "text/plain": [
       "Timer unit: 1e-07 s\n",
       "\n",
       "Total time: 14.5192 s\n",
       "File: <ipython-input-13-cddeb2998bb1>\n",
       "Function: mechanical_weathering_vectorized at line 1\n",
       "\n",
       "Line #      Hits         Time  Per Hit   % Time  Line Contents\n",
       "==============================================================\n",
       "     1                                           def mechanical_weathering_vectorized(steps, verbose=False, threshold=1e-8):\n",
       "     2                                               \"\"\"Threshold value is based on number of crystals that is expected to be \n",
       "     3                                               present in one cubic meter of parent rock which in turn is based on the average bulk crystal size\n",
       "     4                                               \n",
       "     5                                               Example:\n",
       "     6                                               --------\n",
       "     7                                               200 million crystals in 1 m³ means that a proportion of 0.5e-8 presents one crystal.\n",
       "     8                                               When a proprtion is less than or equal to this threshold this would thus mean that \n",
       "     9                                               the pcg is no longer a pcg but has become a mcg.\n",
       "    10                                               \"\"\"\n",
       "    11         1         91.0     91.0      0.0      composition_new = np.array([1])\n",
       "    12         1         36.0     36.0      0.0      pcg_evolution = np.zeros(steps)\n",
       "    13         1        138.0    138.0      0.0      mcg_evolution = np.zeros(steps)\n",
       "    14         1         18.0     18.0      0.0      pcg_memory_usage = np.zeros(steps)\n",
       "    15         1          4.0      4.0      0.0      single_crystals = 0\n",
       "    16                                           \n",
       "    17        51        502.0      9.8      0.0      for i in range(steps):\n",
       "    18        50    1163185.0  23263.7      0.8          composition_old = composition_new\n",
       "    19        50        689.0     13.8      0.0          if verbose:\n",
       "    20                                                       print(\"composition_old\", composition_old)\n",
       "    21                                                       print(\"composition_old_shape\", composition_old.shape)\n",
       "    22                                                       \n",
       "    23                                                   # Obtain random fractions\n",
       "    24        50   38778794.0 775575.9     26.7          ab = np.random.random((2, composition_old.shape[0]))\n",
       "    25        50   29805771.0 596115.4     20.5          ab_norm = np.divide(ab, np.sum(ab, axis=0))\n",
       "    26        50       1632.0     32.6      0.0          if verbose:\n",
       "    27                                                       print(\"ab\", ab)\n",
       "    28                                                       print(\"ab_norm\", ab_norm)\n",
       "    29                                           \n",
       "    30                                                   # Create new composition from old one and fractions\n",
       "    31        50   40006719.0 800134.4     27.6          composition_new = np.multiply(ab_norm.T, composition_old.reshape(-1, 1)).flatten()\n",
       "    32        50       1733.0     34.7      0.0          if verbose:\n",
       "    33                                                       print(\"composition_new\", composition_new)\n",
       "    34                                                       print(\"composition_new_sum\", np.sum(composition_new), \"\\n\")\n",
       "    35                                                       \n",
       "    36                                                   # Move fractions smaller than threshold to single crystals count\n",
       "    37        50    3782287.0  75645.7      2.6          condition = composition_new <= threshold\n",
       "    38        50    3532455.0  70649.1      2.4          single_crystals += np.sum(condition)\n",
       "    39        50        804.0     16.1      0.0          if verbose:\n",
       "    40                                                       print(\"single_crystals\", single_crystals)\n",
       "    41        50   28110648.0 562213.0     19.4          composition_new = composition_new[~condition]\n",
       "    42                                                   \n",
       "    43        50       1297.0     25.9      0.0          if verbose:\n",
       "    44                                                       print(\"composition_new\", composition_new)\n",
       "    45                                                       print(\"composition_new_sum\", np.sum(composition_new), \"\\n\")\n",
       "    46                                                   \n",
       "    47                                                   # Keep track of evolution of pcg and mcg\n",
       "    48        50       2538.0     50.8      0.0          pcg_evolution[i] = composition_new.shape[0]\n",
       "    49        50        589.0     11.8      0.0          mcg_evolution[i] = single_crystals\n",
       "    50        50       1124.0     22.5      0.0          pcg_memory_usage[i] = composition_new.nbytes / 1024**2\n",
       "    51        50        471.0      9.4      0.0          if composition_new.shape[0] == 0:\n",
       "    52                                                       print(i)\n",
       "    53                                                       break\n",
       "    54                                                   \n",
       "    55         1         25.0     25.0      0.0      return composition_new, single_crystals, pcg_evolution, mcg_evolution, pcg_memory_usage"
      ]
     },
     "metadata": {},
     "output_type": "display_data"
    }
   ],
   "source": [
    "%lprun -f mechanical_weathering_vectorized mechanical_weathering_vectorized(50)"
   ]
  },
  {
   "cell_type": "code",
   "execution_count": 23,
   "metadata": {},
   "outputs": [
    {
     "data": {
      "text/plain": [
       "4.470348358154297"
      ]
     },
     "execution_count": 23,
     "metadata": {},
     "output_type": "execute_result"
    }
   ],
   "source": [
    "1e6 * np.random.randint(0, high=5, size=(6, 200)).nbytes / 1024**3"
   ]
  },
  {
   "cell_type": "code",
   "execution_count": null,
   "metadata": {},
   "outputs": [],
   "source": []
  },
  {
   "cell_type": "code",
   "execution_count": 11,
   "metadata": {},
   "outputs": [
    {
     "data": {
      "text/plain": [
       "1240.7009817987996"
      ]
     },
     "execution_count": 11,
     "metadata": {},
     "output_type": "execute_result"
    }
   ],
   "source": [
    "calculate_equivalent_circular_diameter(1e9)"
   ]
  },
  {
   "cell_type": "code",
   "execution_count": 39,
   "metadata": {},
   "outputs": [
    {
     "data": {
      "text/plain": [
       "33.554432"
      ]
     },
     "execution_count": 39,
     "metadata": {},
     "output_type": "execute_result"
    }
   ],
   "source": [
    "2**25 / 1e6"
   ]
  },
  {
   "cell_type": "code",
   "execution_count": 35,
   "metadata": {},
   "outputs": [
    {
     "data": {
      "text/plain": [
       "6309120"
      ]
     },
     "execution_count": 35,
     "metadata": {},
     "output_type": "execute_result"
    }
   ],
   "source": [
    "len(composition_new)"
   ]
  },
  {
   "cell_type": "code",
   "execution_count": 36,
   "metadata": {},
   "outputs": [
    {
     "data": {
      "text/plain": [
       "5995115"
      ]
     },
     "execution_count": 36,
     "metadata": {},
     "output_type": "execute_result"
    }
   ],
   "source": [
    "single_crystals"
   ]
  },
  {
   "cell_type": "code",
   "execution_count": 58,
   "metadata": {},
   "outputs": [],
   "source": [
    "test_list = []"
   ]
  },
  {
   "cell_type": "code",
   "execution_count": 59,
   "metadata": {},
   "outputs": [
    {
     "data": {
      "text/plain": [
       "[]"
      ]
     },
     "execution_count": 59,
     "metadata": {},
     "output_type": "execute_result"
    }
   ],
   "source": [
    "test_list += []\n",
    "test_list"
   ]
  },
  {
   "cell_type": "code",
   "execution_count": 37,
   "metadata": {},
   "outputs": [
    {
     "data": {
      "text/plain": [
       "1048576"
      ]
     },
     "execution_count": 37,
     "metadata": {},
     "output_type": "execute_result"
    }
   ],
   "source": [
    "len(composition_new)"
   ]
  },
  {
   "cell_type": "code",
   "execution_count": 41,
   "metadata": {},
   "outputs": [],
   "source": [
    "composition_new_array = np.array(composition_new)"
   ]
  },
  {
   "cell_type": "code",
   "execution_count": 49,
   "metadata": {},
   "outputs": [
    {
     "data": {
      "text/plain": [
       "2.0"
      ]
     },
     "execution_count": 49,
     "metadata": {},
     "output_type": "execute_result"
    }
   ],
   "source": [
    "2e8 / 1e8"
   ]
  },
  {
   "cell_type": "code",
   "execution_count": 51,
   "metadata": {},
   "outputs": [
    {
     "data": {
      "text/plain": [
       "2.0"
      ]
     },
     "execution_count": 51,
     "metadata": {},
     "output_type": "execute_result"
    }
   ],
   "source": [
    "2e8 * 1e-8"
   ]
  },
  {
   "cell_type": "code",
   "execution_count": 52,
   "metadata": {},
   "outputs": [
    {
     "data": {
      "text/plain": [
       "406164"
      ]
     },
     "execution_count": 52,
     "metadata": {},
     "output_type": "execute_result"
    }
   ],
   "source": [
    "np.sum(composition_new_array < 1e-8)"
   ]
  },
  {
   "cell_type": "code",
   "execution_count": 40,
   "metadata": {},
   "outputs": [
    {
     "data": {
      "text/plain": [
       "2.6814633045115137e-17"
      ]
     },
     "execution_count": 40,
     "metadata": {},
     "output_type": "execute_result"
    }
   ],
   "source": [
    "np.min(ncomposition_new)"
   ]
  },
  {
   "cell_type": "code",
   "execution_count": 32,
   "metadata": {},
   "outputs": [],
   "source": [
    "from sys import getsizeof"
   ]
  },
  {
   "cell_type": "code",
   "execution_count": 37,
   "metadata": {},
   "outputs": [
    {
     "name": "stdout",
     "output_type": "stream",
     "text": [
      "48.53956604003906 MB\n"
     ]
    }
   ],
   "source": [
    "print(getsizeof(composition_new) / (1024**2), \"MB\")"
   ]
  },
  {
   "cell_type": "code",
   "execution_count": 23,
   "metadata": {},
   "outputs": [
    {
     "ename": "NameError",
     "evalue": "name 'split_size' is not defined",
     "output_type": "error",
     "traceback": [
      "\u001b[1;31m---------------------------------------------------------------------------\u001b[0m",
      "\u001b[1;31mNameError\u001b[0m                                 Traceback (most recent call last)",
      "\u001b[1;32m<ipython-input-23-ec11961fbf58>\u001b[0m in \u001b[0;36m<module>\u001b[1;34m\u001b[0m\n\u001b[1;32m----> 1\u001b[1;33m \u001b[0msplit_size\u001b[0m\u001b[1;33m(\u001b[0m\u001b[1;36m4\u001b[0m\u001b[1;33m)\u001b[0m\u001b[1;33m\u001b[0m\u001b[1;33m\u001b[0m\u001b[0m\n\u001b[0m",
      "\u001b[1;31mNameError\u001b[0m: name 'split_size' is not defined"
     ]
    }
   ],
   "source": [
    "split_size(4)"
   ]
  },
  {
   "cell_type": "code",
   "execution_count": 141,
   "metadata": {},
   "outputs": [],
   "source": [
    "# %%timeit\n",
    "x1, x2 = train_test_split(crystal_sizes[0], train_size=(0.9-0.1) * prng.random_sample() + 0.1, random_state=1234)"
   ]
  },
  {
   "cell_type": "code",
   "execution_count": 240,
   "metadata": {},
   "outputs": [
    {
     "data": {
      "text/plain": [
       "array([   0,    1,    2, ..., 9997, 9998, 9999], dtype=int16)"
      ]
     },
     "execution_count": 240,
     "metadata": {},
     "output_type": "execute_result"
    }
   ],
   "source": [
    "test = np.arange(10000, dtype='int16')\n",
    "test"
   ]
  },
  {
   "cell_type": "code",
   "execution_count": 231,
   "metadata": {},
   "outputs": [
    {
     "data": {
      "text/plain": [
       "dtype('int16')"
      ]
     },
     "execution_count": 231,
     "metadata": {},
     "output_type": "execute_result"
    }
   ],
   "source": [
    "test.dtype"
   ]
  },
  {
   "cell_type": "code",
   "execution_count": 248,
   "metadata": {},
   "outputs": [],
   "source": [
    "labels = np.array([0]*5000 + [1]*5000, dtype='bool')"
   ]
  },
  {
   "cell_type": "code",
   "execution_count": 269,
   "metadata": {},
   "outputs": [],
   "source": [
    "# Bins according to phi scale in quarters (in mm)\n",
    "bins = [2.0**x for x in np.arange(-10, 10.1, 0.1)]"
   ]
  },
  {
   "cell_type": "code",
   "execution_count": 274,
   "metadata": {},
   "outputs": [
    {
     "data": {
      "text/plain": [
       "1.4975666999816895"
      ]
     },
     "execution_count": 274,
     "metadata": {},
     "output_type": "execute_result"
    }
   ],
   "source": [
    "np.array(bins).nbytes *1e6 / (1024**3)"
   ]
  },
  {
   "cell_type": "code",
   "execution_count": 278,
   "metadata": {},
   "outputs": [
    {
     "data": {
      "text/plain": [
       "400"
      ]
     },
     "execution_count": 278,
     "metadata": {},
     "output_type": "execute_result"
    }
   ],
   "source": [
    "np.random.randint(low=0, high=10000, size=200, dtype='uint16').nbytes"
   ]
  },
  {
   "cell_type": "code",
   "execution_count": 41,
   "metadata": {},
   "outputs": [],
   "source": [
    "from scipy import sparse"
   ]
  },
  {
   "cell_type": "code",
   "execution_count": 42,
   "metadata": {},
   "outputs": [],
   "source": [
    "from sys import getsizeof"
   ]
  },
  {
   "cell_type": "code",
   "execution_count": 102,
   "metadata": {},
   "outputs": [],
   "source": [
    "tester = np.random.randint(0, 1, (10, 6, 2000), dtype='int32')"
   ]
  },
  {
   "cell_type": "code",
   "execution_count": 103,
   "metadata": {},
   "outputs": [
    {
     "data": {
      "text/plain": [
       "480128"
      ]
     },
     "execution_count": 103,
     "metadata": {},
     "output_type": "execute_result"
    }
   ],
   "source": [
    "getsizeof(tester)"
   ]
  },
  {
   "cell_type": "code",
   "execution_count": 104,
   "metadata": {},
   "outputs": [
    {
     "data": {
      "text/plain": [
       "480000"
      ]
     },
     "execution_count": 104,
     "metadata": {},
     "output_type": "execute_result"
    }
   ],
   "source": [
    "tester.nbytes"
   ]
  },
  {
   "cell_type": "code",
   "execution_count": 105,
   "metadata": {},
   "outputs": [
    {
     "ename": "TypeError",
     "evalue": "Expected rank <=2 dense array or matrix.",
     "output_type": "error",
     "traceback": [
      "\u001b[1;31m---------------------------------------------------------------------------\u001b[0m",
      "\u001b[1;31mTypeError\u001b[0m                                 Traceback (most recent call last)",
      "\u001b[1;32m<ipython-input-105-f4f6e593b363>\u001b[0m in \u001b[0;36m<module>\u001b[1;34m\u001b[0m\n\u001b[1;32m----> 1\u001b[1;33m \u001b[0mtester_sparse\u001b[0m \u001b[1;33m=\u001b[0m \u001b[0msparse\u001b[0m\u001b[1;33m.\u001b[0m\u001b[0mdok_matrix\u001b[0m\u001b[1;33m(\u001b[0m\u001b[0mtester\u001b[0m\u001b[1;33m)\u001b[0m\u001b[1;33m\u001b[0m\u001b[1;33m\u001b[0m\u001b[0m\n\u001b[0m",
      "\u001b[1;32m~\\AppData\\Local\\Continuum\\miniconda3\\envs\\sedgen\\lib\\site-packages\\scipy\\sparse\\dok.py\u001b[0m in \u001b[0;36m__init__\u001b[1;34m(self, arg1, shape, dtype, copy)\u001b[0m\n\u001b[0;32m    103\u001b[0m \u001b[1;33m\u001b[0m\u001b[0m\n\u001b[0;32m    104\u001b[0m             \u001b[1;32mif\u001b[0m \u001b[0mlen\u001b[0m\u001b[1;33m(\u001b[0m\u001b[0marg1\u001b[0m\u001b[1;33m.\u001b[0m\u001b[0mshape\u001b[0m\u001b[1;33m)\u001b[0m \u001b[1;33m!=\u001b[0m \u001b[1;36m2\u001b[0m\u001b[1;33m:\u001b[0m\u001b[1;33m\u001b[0m\u001b[1;33m\u001b[0m\u001b[0m\n\u001b[1;32m--> 105\u001b[1;33m                 \u001b[1;32mraise\u001b[0m \u001b[0mTypeError\u001b[0m\u001b[1;33m(\u001b[0m\u001b[1;34m'Expected rank <=2 dense array or matrix.'\u001b[0m\u001b[1;33m)\u001b[0m\u001b[1;33m\u001b[0m\u001b[1;33m\u001b[0m\u001b[0m\n\u001b[0m\u001b[0;32m    106\u001b[0m \u001b[1;33m\u001b[0m\u001b[0m\n\u001b[0;32m    107\u001b[0m             \u001b[1;32mfrom\u001b[0m \u001b[1;33m.\u001b[0m\u001b[0mcoo\u001b[0m \u001b[1;32mimport\u001b[0m \u001b[0mcoo_matrix\u001b[0m\u001b[1;33m\u001b[0m\u001b[1;33m\u001b[0m\u001b[0m\n",
      "\u001b[1;31mTypeError\u001b[0m: Expected rank <=2 dense array or matrix."
     ]
    }
   ],
   "source": [
    "tester_sparse = sparse.dok_matrix(tester)"
   ]
  },
  {
   "cell_type": "code",
   "execution_count": 100,
   "metadata": {},
   "outputs": [
    {
     "data": {
      "text/plain": [
       "295024"
      ]
     },
     "execution_count": 100,
     "metadata": {},
     "output_type": "execute_result"
    }
   ],
   "source": [
    "getsizeof(tester_sparse)"
   ]
  },
  {
   "cell_type": "code",
   "execution_count": 83,
   "metadata": {},
   "outputs": [
    {
     "data": {
      "text/plain": [
       "dict_values([])"
      ]
     },
     "execution_count": 83,
     "metadata": {},
     "output_type": "execute_result"
    }
   ],
   "source": [
    "tester"
   ]
  },
  {
   "cell_type": "code",
   "execution_count": 80,
   "metadata": {},
   "outputs": [
    {
     "data": {
      "text/plain": [
       "96"
      ]
     },
     "execution_count": 80,
     "metadata": {},
     "output_type": "execute_result"
    }
   ],
   "source": [
    "getsizeof(crystal_counts_binned[0])"
   ]
  },
  {
   "cell_type": "code",
   "execution_count": 81,
   "metadata": {},
   "outputs": [
    {
     "data": {
      "text/plain": [
       "16000"
      ]
     },
     "execution_count": 81,
     "metadata": {},
     "output_type": "execute_result"
    }
   ],
   "source": [
    "crystal_counts_binned[0].nbytes"
   ]
  },
  {
   "cell_type": "code",
   "execution_count": 70,
   "metadata": {},
   "outputs": [
    {
     "data": {
      "text/plain": [
       "array([0., 0., 0., ..., 0., 0., 0.])"
      ]
     },
     "execution_count": 70,
     "metadata": {},
     "output_type": "execute_result"
    }
   ],
   "source": [
    "crystal_counts_binned[0]"
   ]
  },
  {
   "cell_type": "code",
   "execution_count": 71,
   "metadata": {},
   "outputs": [
    {
     "data": {
      "text/plain": [
       "array([9.76562500e-04, 9.83355029e-04, 9.90194804e-04, ...,\n",
       "       1.00990229e+03, 1.01692672e+03, 1.02400000e+03])"
      ]
     },
     "execution_count": 71,
     "metadata": {},
     "output_type": "execute_result"
    }
   ],
   "source": [
    "np.array(bins)"
   ]
  },
  {
   "cell_type": "markdown",
   "metadata": {},
   "source": [
    "**Sparse matrices would become interesting if the non-zero values to be stored are floats and not integers.**  \n",
    "**By using appropriate datatypes, memory usage can be reduced**  "
   ]
  },
  {
   "cell_type": "code",
   "execution_count": 314,
   "metadata": {},
   "outputs": [
    {
     "data": {
      "text/plain": [
       "(190, 380, 380)"
      ]
     },
     "execution_count": 314,
     "metadata": {},
     "output_type": "execute_result"
    }
   ],
   "source": [
    "sparse_array = sparse.coo_matrix(crystal_counts_binned[0])\n",
    "sparse_array.data.nbytes, sparse_array.row.nbytes, sparse_array.col.nbytes"
   ]
  },
  {
   "cell_type": "code",
   "execution_count": 330,
   "metadata": {},
   "outputs": [
    {
     "data": {
      "text/plain": [
       "array([ 1.,  1.,  1.,  1.,  1.,  1.,  1.,  1.,  1.,  1.,  1.,  2.,  1.,\n",
       "        1.,  1.,  1.,  1.,  1.,  1.,  1.,  4.,  1.,  1.,  1.,  1.,  1.,\n",
       "        2.,  1.,  1.,  1.,  3.,  2.,  3.,  2.,  1.,  1.,  1.,  1.,  1.,\n",
       "        1.,  2.,  1.,  1.,  2.,  1.,  2.,  2.,  1.,  3.,  1.,  5.,  2.,\n",
       "        3.,  2.,  2.,  3.,  1.,  3.,  3.,  2.,  1.,  2.,  4.,  4.,  2.,\n",
       "        2.,  1.,  1.,  1.,  3.,  3.,  3.,  4.,  2.,  3.,  3.,  3.,  1.,\n",
       "        1.,  2.,  3.,  2.,  1.,  1.,  2.,  2.,  3.,  2.,  6.,  3.,  1.,\n",
       "        5.,  5.,  3.,  2.,  4.,  3.,  2.,  2., 10.,  4.,  2.,  3.,  4.,\n",
       "        5.,  2.,  3.,  3.,  5.,  2.,  7.,  7.,  3., 12.,  7.,  5.,  3.,\n",
       "        6.,  4.,  5.,  3.,  3.,  1.,  3.,  3.,  1.,  2.,  4.,  3.,  4.,\n",
       "        6.,  5.,  3.,  6.,  2.,  5.,  7.,  3.,  4.,  7.,  2.,  3.,  6.,\n",
       "        5.,  9.,  5.,  3.,  6.,  5.,  4.,  4.,  5.,  5.,  2., 11.,  3.,\n",
       "        8.,  4.,  7.,  6.,  7.,  7.,  3., 10.,  9.,  5.,  5.,  9.,  7.,\n",
       "        8.,  9.,  7.,  9.,  6.,  9.,  7.,  6.,  2.,  6.,  5.,  7.,  8.,\n",
       "        9.,  9.,  3.,  4.,  8.,  6.,  9.,  7.,  6.,  5.,  5.,  7.,  7.,\n",
       "        9.,  4.,  9.,  8.,  6.,  7., 14.,  7., 11., 12.,  4.,  9., 10.,\n",
       "        4., 11.,  9.,  7., 10., 11.,  8.,  9.,  8., 13., 11., 16., 11.,\n",
       "       15., 12., 12.,  8.,  9., 10., 14., 10., 12., 15., 18., 10.,  8.,\n",
       "       12.,  9., 11., 11., 13., 11., 18., 10., 12., 18., 11., 10.,  8.,\n",
       "       11., 17., 15.,  2., 13., 16., 10.,  9., 13.,  8., 16., 10., 10.,\n",
       "       16., 12., 12., 12., 12., 11., 12., 14., 10., 15., 17., 13., 11.,\n",
       "       13., 16.,  5., 15., 16., 12., 16., 10., 19., 14., 13., 16., 11.,\n",
       "       10.,  8., 17., 24., 17., 15., 13., 17., 18., 18.,  4., 17.,  9.,\n",
       "       19., 14., 14.,  8., 13., 12., 14., 21., 14., 16., 19., 31., 13.,\n",
       "       13., 19.,  9., 16., 11., 13., 14., 21., 16., 14., 19., 14., 10.,\n",
       "       11., 16., 16., 21., 13., 17., 18., 16., 14., 15., 22., 19., 18.,\n",
       "       18., 20., 17., 14., 14., 18., 19., 19., 12., 20., 10., 20., 15.,\n",
       "       24., 15., 18., 17., 21., 17., 14., 17., 15.,  9., 15., 11., 13.,\n",
       "       23., 24., 18., 13., 26., 19., 14., 15., 19., 14., 18., 13., 12.,\n",
       "       17.,  9., 26., 11., 13., 11., 17., 13., 18., 12., 15., 15., 18.,\n",
       "       17., 15., 24., 20., 13., 14., 17., 19., 11., 14., 14., 18., 14.,\n",
       "       13., 22., 22., 17., 23., 14., 14., 16., 18., 18., 19., 16., 12.,\n",
       "        7., 20., 19.,  9.,  8., 19., 13., 17., 22.,  8., 23., 12., 18.,\n",
       "       11., 17., 14., 16., 17., 18., 15., 17., 10., 11., 14.,  8., 18.,\n",
       "       12., 19., 14., 16., 14.,  8., 12., 13., 24., 14., 13., 10., 12.,\n",
       "       12., 15., 14., 25., 20., 15., 12., 11., 20., 15., 15., 12.,  8.,\n",
       "       12., 12., 17., 13., 18., 10., 13.,  8.,  7., 16.,  6., 12., 16.,\n",
       "       10., 17., 15., 10.,  7., 12.,  9., 16., 17., 13.,  7.,  4., 11.,\n",
       "        9., 10., 15., 13.,  9., 19.,  5.,  4.,  7., 11., 12.,  9., 10.,\n",
       "        8.,  9., 15.,  8.,  5.,  9., 14., 12., 10., 10., 12.,  6., 11.,\n",
       "        9., 10.,  8., 12.,  4., 10.,  7.,  7., 14.,  8.,  6., 11., 11.,\n",
       "        8.,  7.,  9., 17.,  4.,  9.,  7., 10., 10.,  9.,  3.,  6.,  5.,\n",
       "        6.,  9.,  8.,  7.,  5.,  8., 10.,  9.,  6.,  5.,  6.,  2.,  9.,\n",
       "        8., 11., 12.,  5.,  8., 13.,  5.,  3.,  5.,  4.,  6.,  5.,  5.,\n",
       "        5.,  5., 10.,  5.,  9.,  8.,  5.,  6.,  3.,  7.,  2.,  6.,  6.,\n",
       "        5.,  6.,  5.,  8.,  6.,  5.,  4.,  6.,  1.,  7.,  5.,  4.,  5.,\n",
       "        7.,  1.,  2.,  4.,  3.,  4.,  2.,  4.,  3.,  6.,  6.,  3.,  6.,\n",
       "        8.,  3.,  2.,  2.,  6.,  4.,  4.,  2.,  4.,  5.,  3.,  3.,  4.,\n",
       "        4.,  3.,  5.,  3.,  5.,  2.,  1.,  4.,  1.,  2.,  6.,  3.,  1.,\n",
       "        1.,  4.,  4.,  1.,  3.,  2.,  3.,  4.,  2.,  2.,  5.,  6.,  5.,\n",
       "        4.,  3.,  2.,  2.,  3.,  3.,  1.,  2.,  3.,  2.,  4.,  2.,  3.,\n",
       "        2.,  5.,  3.,  5.,  3.,  1.,  1.,  1.,  3.,  2.,  1.,  2.,  1.,\n",
       "        2.,  2.,  1.,  2.,  1.,  1.,  2.,  1.,  1.,  1.,  1.,  1.,  3.,\n",
       "        3.,  1.,  2.,  1.,  1.,  2.,  1.,  1.,  1.,  2.,  1.,  1.,  1.,\n",
       "        1.,  2.,  1.,  1.,  1.,  1.,  1.,  1.,  1.,  1.,  1.,  2.,  1.,\n",
       "        1.,  2.,  1.,  1.,  1.,  1.,  1.,  1.,  1.,  1.])"
      ]
     },
     "execution_count": 330,
     "metadata": {},
     "output_type": "execute_result"
    },
    {
     "data": {
      "text/plain": [
       "dtype('float64')"
      ]
     },
     "execution_count": 330,
     "metadata": {},
     "output_type": "execute_result"
    },
    {
     "data": {
      "text/plain": [
       "array([  0, 725], dtype=int32)"
      ]
     },
     "execution_count": 330,
     "metadata": {},
     "output_type": "execute_result"
    },
    {
     "data": {
      "text/plain": [
       "array([ 440,  480,  485,  504,  527,  529,  533,  545,  564,  568,  569,\n",
       "        575,  602,  613,  614,  615,  616,  621,  623,  624,  625,  627,\n",
       "        628,  629,  630,  631,  634,  643,  645,  647,  650,  653,  654,\n",
       "        656,  657,  658,  660,  663,  666,  667,  671,  673,  674,  675,\n",
       "        676,  678,  679,  680,  681,  682,  683,  684,  685,  687,  689,\n",
       "        690,  692,  693,  694,  695,  696,  697,  699,  700,  701,  702,\n",
       "        703,  704,  705,  706,  707,  708,  710,  711,  712,  713,  714,\n",
       "        715,  716,  717,  718,  719,  720,  721,  722,  723,  724,  725,\n",
       "        726,  727,  728,  729,  730,  731,  732,  733,  734,  735,  736,\n",
       "        737,  738,  739,  740,  741,  742,  743,  744,  745,  746,  747,\n",
       "        748,  749,  750,  751,  752,  753,  754,  755,  756,  757,  758,\n",
       "        759,  760,  761,  762,  763,  764,  765,  766,  767,  768,  769,\n",
       "        770,  771,  772,  773,  774,  775,  776,  777,  778,  779,  780,\n",
       "        781,  782,  783,  784,  785,  786,  787,  788,  789,  790,  791,\n",
       "        792,  793,  794,  795,  796,  797,  798,  799,  800,  801,  802,\n",
       "        803,  804,  805,  806,  807,  808,  809,  810,  811,  812,  813,\n",
       "        814,  815,  816,  817,  818,  819,  820,  821,  822,  823,  824,\n",
       "        825,  826,  827,  828,  829,  830,  831,  832,  833,  834,  835,\n",
       "        836,  837,  838,  839,  840,  841,  842,  843,  844,  845,  846,\n",
       "        847,  848,  849,  850,  851,  852,  853,  854,  855,  856,  857,\n",
       "        858,  859,  860,  861,  862,  863,  864,  865,  866,  867,  868,\n",
       "        869,  870,  871,  872,  873,  874,  875,  876,  877,  878,  879,\n",
       "        880,  881,  882,  883,  884,  885,  886,  887,  888,  889,  890,\n",
       "        891,  892,  893,  894,  895,  896,  897,  898,  899,  900,  901,\n",
       "        902,  903,  904,  905,  906,  907,  908,  909,  910,  911,  912,\n",
       "        913,  914,  915,  916,  917,  918,  919,  920,  921,  922,  923,\n",
       "        924,  925,  926,  927,  928,  929,  930,  931,  932,  933,  934,\n",
       "        935,  936,  937,  938,  939,  940,  941,  942,  943,  944,  945,\n",
       "        946,  947,  948,  949,  950,  951,  952,  953,  954,  955,  956,\n",
       "        957,  958,  959,  960,  961,  962,  963,  964,  965,  966,  967,\n",
       "        968,  969,  970,  971,  972,  973,  974,  975,  976,  977,  978,\n",
       "        979,  980,  981,  982,  983,  984,  985,  986,  987,  988,  989,\n",
       "        990,  991,  992,  993,  994,  995,  996,  997,  998,  999, 1000,\n",
       "       1001, 1002, 1003, 1004, 1005, 1006, 1007, 1008, 1009, 1010, 1011,\n",
       "       1012, 1013, 1014, 1015, 1016, 1017, 1018, 1019, 1020, 1021, 1022,\n",
       "       1023, 1024, 1025, 1026, 1027, 1028, 1029, 1030, 1031, 1032, 1033,\n",
       "       1034, 1035, 1036, 1037, 1038, 1039, 1040, 1041, 1042, 1043, 1044,\n",
       "       1045, 1046, 1047, 1048, 1049, 1050, 1051, 1052, 1053, 1054, 1055,\n",
       "       1056, 1057, 1058, 1059, 1060, 1061, 1062, 1063, 1064, 1065, 1066,\n",
       "       1067, 1068, 1069, 1070, 1071, 1072, 1073, 1074, 1075, 1076, 1077,\n",
       "       1078, 1079, 1080, 1081, 1082, 1083, 1084, 1085, 1086, 1087, 1088,\n",
       "       1089, 1090, 1091, 1092, 1093, 1094, 1095, 1096, 1097, 1098, 1099,\n",
       "       1100, 1101, 1102, 1103, 1104, 1105, 1106, 1107, 1108, 1109, 1110,\n",
       "       1111, 1112, 1113, 1114, 1115, 1116, 1117, 1118, 1119, 1120, 1121,\n",
       "       1122, 1123, 1124, 1125, 1126, 1127, 1128, 1129, 1130, 1131, 1132,\n",
       "       1133, 1134, 1135, 1136, 1137, 1138, 1139, 1140, 1141, 1142, 1143,\n",
       "       1144, 1145, 1146, 1147, 1148, 1149, 1150, 1151, 1152, 1153, 1154,\n",
       "       1155, 1156, 1157, 1158, 1159, 1160, 1161, 1162, 1163, 1164, 1165,\n",
       "       1166, 1167, 1168, 1169, 1170, 1171, 1172, 1173, 1174, 1175, 1176,\n",
       "       1177, 1178, 1179, 1180, 1181, 1182, 1183, 1184, 1185, 1186, 1187,\n",
       "       1188, 1189, 1190, 1191, 1192, 1193, 1194, 1195, 1196, 1197, 1198,\n",
       "       1199, 1200, 1201, 1202, 1203, 1204, 1205, 1206, 1207, 1208, 1209,\n",
       "       1210, 1211, 1212, 1213, 1214, 1215, 1216, 1217, 1218, 1219, 1220,\n",
       "       1221, 1222, 1223, 1224, 1225, 1226, 1227, 1228, 1229, 1230, 1231,\n",
       "       1232, 1233, 1234, 1235, 1236, 1237, 1238, 1239, 1240, 1241, 1242,\n",
       "       1243, 1244, 1245, 1246, 1247, 1248, 1249, 1250, 1251, 1252, 1253,\n",
       "       1254, 1255, 1256, 1257, 1258, 1259, 1260, 1261, 1262, 1264, 1265,\n",
       "       1266, 1267, 1268, 1269, 1270, 1271, 1272, 1273, 1275, 1276, 1277,\n",
       "       1278, 1279, 1280, 1281, 1282, 1283, 1285, 1286, 1287, 1288, 1289,\n",
       "       1290, 1291, 1292, 1293, 1294, 1295, 1296, 1297, 1298, 1299, 1300,\n",
       "       1301, 1302, 1303, 1304, 1305, 1306, 1307, 1308, 1309, 1310, 1311,\n",
       "       1313, 1315, 1316, 1317, 1318, 1319, 1321, 1322, 1323, 1324, 1326,\n",
       "       1327, 1330, 1331, 1332, 1335, 1337, 1340, 1341, 1342, 1344, 1346,\n",
       "       1348, 1352, 1353, 1354, 1356, 1357, 1362, 1364, 1367, 1368, 1369,\n",
       "       1371, 1372, 1375, 1376, 1380, 1381, 1382, 1386, 1389, 1391, 1392,\n",
       "       1398, 1407, 1408, 1411, 1418, 1420, 1432, 1448, 1450, 1464],\n",
       "      dtype=int32)"
      ]
     },
     "execution_count": 330,
     "metadata": {},
     "output_type": "execute_result"
    },
    {
     "data": {
      "text/plain": [
       "(5800, 8, 2900)"
      ]
     },
     "execution_count": 330,
     "metadata": {},
     "output_type": "execute_result"
    },
    {
     "data": {
      "text/plain": [
       "8708"
      ]
     },
     "execution_count": 330,
     "metadata": {},
     "output_type": "execute_result"
    }
   ],
   "source": [
    "sparse_array = sparse.csr_matrix(crystal_counts_binned[0])\n",
    "sparse_array.data\n",
    "sparse_array.dtype\n",
    "sparse_array.indptr\n",
    "sparse_array.indices\n",
    "sparse_array.data.nbytes, sparse_array.indptr.nbytes, sparse_array.indices.nbytes\n",
    "sparse_array.data.nbytes + sparse_array.indptr.nbytes + sparse_array.indices.nbytes"
   ]
  },
  {
   "cell_type": "code",
   "execution_count": null,
   "metadata": {},
   "outputs": [],
   "source": [
    "sparse.random()"
   ]
  },
  {
   "cell_type": "code",
   "execution_count": 209,
   "metadata": {},
   "outputs": [],
   "source": [
    "# %%timeit\n",
    "testA1, testA2, labelsA1, labelsA2 = train_test_split(test, labels, train_size=split_size(test.size))"
   ]
  },
  {
   "cell_type": "code",
   "execution_count": 183,
   "metadata": {},
   "outputs": [],
   "source": [
    "testB1, testB2 = train_test_split(test, \n",
    "                                train_size=split_size(test.size))"
   ]
  },
  {
   "cell_type": "code",
   "execution_count": 249,
   "metadata": {},
   "outputs": [
    {
     "data": {
      "text/plain": [
       "20000"
      ]
     },
     "execution_count": 249,
     "metadata": {},
     "output_type": "execute_result"
    },
    {
     "data": {
      "text/plain": [
       "10000"
      ]
     },
     "execution_count": 249,
     "metadata": {},
     "output_type": "execute_result"
    }
   ],
   "source": [
    "test.nbytes\n",
    "labels.nbytes"
   ]
  },
  {
   "cell_type": "code",
   "execution_count": 226,
   "metadata": {},
   "outputs": [
    {
     "data": {
      "text/plain": [
       "0.12107193470001221"
      ]
     },
     "execution_count": 226,
     "metadata": {},
     "output_type": "execute_result"
    }
   ],
   "source": [
    "1.3e8 / (1024*1024*1024)"
   ]
  },
  {
   "cell_type": "code",
   "execution_count": 210,
   "metadata": {},
   "outputs": [
    {
     "data": {
      "text/plain": [
       "array([1270,  555, 6171, ..., 6679, 3488, 4346])"
      ]
     },
     "execution_count": 210,
     "metadata": {},
     "output_type": "execute_result"
    },
    {
     "data": {
      "text/plain": [
       "array([0, 0, 1, ..., 1, 0, 0])"
      ]
     },
     "execution_count": 210,
     "metadata": {},
     "output_type": "execute_result"
    },
    {
     "data": {
      "text/plain": [
       "array([ 787, 3362, 8373, ..., 6974, 7276, 8735])"
      ]
     },
     "execution_count": 210,
     "metadata": {},
     "output_type": "execute_result"
    },
    {
     "data": {
      "text/plain": [
       "array([0, 0, 1, ..., 1, 1, 1])"
      ]
     },
     "execution_count": 210,
     "metadata": {},
     "output_type": "execute_result"
    }
   ],
   "source": [
    "testA1\n",
    "labelsA1\n",
    "testA2\n",
    "labelsA2"
   ]
  },
  {
   "cell_type": "code",
   "execution_count": 160,
   "metadata": {},
   "outputs": [
    {
     "data": {
      "text/plain": [
       "[array([4]), array([7])]"
      ]
     },
     "execution_count": 160,
     "metadata": {},
     "output_type": "execute_result"
    },
    {
     "data": {
      "text/plain": [
       "[array([6, 3, 1]), array([9, 0, 5, 2, 8])]"
      ]
     },
     "execution_count": 160,
     "metadata": {},
     "output_type": "execute_result"
    }
   ],
   "source": [
    "train_test_split(test1, train_size=split_size(test1.size))\n",
    "train_test_split(test2, train_size=split_size(test2.size))"
   ]
  },
  {
   "cell_type": "code",
   "execution_count": 91,
   "metadata": {},
   "outputs": [
    {
     "ename": "AttributeError",
     "evalue": "'numpy.ndarray' object has no attribute 'szie'",
     "output_type": "error",
     "traceback": [
      "\u001b[1;31m---------------------------------------------------------------------------\u001b[0m",
      "\u001b[1;31mAttributeError\u001b[0m                            Traceback (most recent call last)",
      "\u001b[1;32m<ipython-input-91-30c8c8b09d8a>\u001b[0m in \u001b[0;36m<module>\u001b[1;34m\u001b[0m\n\u001b[1;32m----> 1\u001b[1;33m \u001b[0mnp\u001b[0m\u001b[1;33m.\u001b[0m\u001b[0masarray\u001b[0m\u001b[1;33m(\u001b[0m\u001b[0mcrystal_sizes\u001b[0m\u001b[1;33m)\u001b[0m\u001b[1;33m.\u001b[0m\u001b[0mszie\u001b[0m\u001b[1;33m\u001b[0m\u001b[1;33m\u001b[0m\u001b[0m\n\u001b[0m",
      "\u001b[1;31mAttributeError\u001b[0m: 'numpy.ndarray' object has no attribute 'szie'"
     ]
    }
   ],
   "source": [
    "crystal_sizes"
   ]
  },
  {
   "cell_type": "code",
   "execution_count": 84,
   "metadata": {},
   "outputs": [
    {
     "data": {
      "text/plain": [
       "(6005,)"
      ]
     },
     "execution_count": 84,
     "metadata": {},
     "output_type": "execute_result"
    }
   ],
   "source": [
    "crystal_sizes[0].shape"
   ]
  },
  {
   "cell_type": "code",
   "execution_count": 85,
   "metadata": {},
   "outputs": [
    {
     "data": {
      "text/plain": [
       "((711,), (5294,))"
      ]
     },
     "execution_count": 85,
     "metadata": {},
     "output_type": "execute_result"
    }
   ],
   "source": [
    "x1.shape, x2.shape"
   ]
  },
  {
   "cell_type": "code",
   "execution_count": 36,
   "metadata": {},
   "outputs": [
    {
     "data": {
      "text/plain": [
       "array([1.6022921 , 0.30392458, 4.19002612, ..., 0.34813099, 0.38173981,\n",
       "       3.76740571])"
      ]
     },
     "execution_count": 36,
     "metadata": {},
     "output_type": "execute_result"
    }
   ],
   "source": [
    "crystal_sizes[0]"
   ]
  },
  {
   "cell_type": "code",
   "execution_count": 26,
   "metadata": {},
   "outputs": [
    {
     "data": {
      "text/plain": [
       "101.41096278205382"
      ]
     },
     "execution_count": 26,
     "metadata": {},
     "output_type": "execute_result"
    }
   ],
   "source": [
    "calculate_equivalent_circular_diameter(crystal_sizes_volume_total)"
   ]
  },
  {
   "cell_type": "code",
   "execution_count": 34,
   "metadata": {},
   "outputs": [
    {
     "data": {
      "text/plain": [
       "array([[  0.,   0.,   0.,   0.,   0.,   0.,   0.,   0.,   0.,   0.,   0.,\n",
       "          0.,   0.,   0.,   0.,   0.,   0.,   1.,   0.,   2.,   1.,   4.,\n",
       "          3.,   2.,   8.,  14.,  20.,  45.,  53.,  95., 106., 131., 170.,\n",
       "        193., 282., 300., 325., 385., 387., 416., 399., 417., 385., 355.,\n",
       "        312., 255., 242., 184., 147., 115.,  78.,  69.,  49.,  19.,  15.,\n",
       "         11.,   6.,   2.,   2.,   0.,   0.,   0.,   0.,   0.,   0.,   0.,\n",
       "          0.,   0.,   0.,   0.,   0.,   0.,   0.,   0.,   0.,   0.,   0.,\n",
       "          0.,   0.,   0.],\n",
       "       [  0.,   0.,   0.,   0.,   0.,   0.,   0.,   0.,   0.,   0.,   0.,\n",
       "          0.,   0.,   0.,   0.,   0.,   0.,   1.,   0.,   2.,   1.,   4.,\n",
       "          3.,   4.,  11.,  15.,  23.,  47.,  56., 106., 119., 156., 191.,\n",
       "        222., 324., 351., 395., 440., 461., 485., 458., 492., 443., 404.,\n",
       "        357., 293., 278., 212., 164., 134.,  89.,  82.,  56.,  23.,  16.,\n",
       "         13.,   8.,   2.,   2.,   0.,   0.,   0.,   0.,   0.,   0.,   0.,\n",
       "          0.,   0.,   0.,   0.,   0.,   0.,   0.,   0.,   0.,   0.,   0.,\n",
       "          0.,   0.,   0.],\n",
       "       [  0.,   0.,   0.,   0.,   0.,   0.,   0.,   0.,   0.,   0.,   0.,\n",
       "          0.,   0.,   0.,   0.,   0.,   0.,   1.,   0.,   1.,   0.,   1.,\n",
       "          0.,   1.,   3.,   9.,   8.,  29.,  25.,  45.,  40.,  61.,  76.,\n",
       "        108., 146., 154., 174., 192., 201., 224., 207., 229., 195., 179.,\n",
       "        157., 130., 118.,  85.,  66.,  58.,  43.,  40.,  28.,  10.,  11.,\n",
       "          8.,   1.,   1.,   2.,   0.,   0.,   0.,   0.,   0.,   0.,   0.,\n",
       "          0.,   0.,   0.,   0.,   0.,   0.,   0.,   0.,   0.,   0.,   0.,\n",
       "          0.,   0.,   0.],\n",
       "       [  0.,   0.,   0.,   0.,   0.,   0.,   0.,   0.,   0.,   0.,   0.,\n",
       "          0.,   0.,   0.,   0.,   0.,   0.,   1.,   0.,   1.,   0.,   0.,\n",
       "          0.,   0.,   2.,   5.,   6.,  19.,  13.,  32.,  27.,  38.,  47.,\n",
       "         64.,  85., 105., 119., 121., 132., 137., 138., 145., 124., 107.,\n",
       "         98.,  85.,  70.,  43.,  46.,  39.,  23.,  25.,  19.,   8.,   9.,\n",
       "          5.,   0.,   1.,   1.,   0.,   0.,   0.,   0.,   0.,   0.,   0.,\n",
       "          0.,   0.,   0.,   0.,   0.,   0.,   0.,   0.,   0.,   0.,   0.,\n",
       "          0.,   0.,   0.],\n",
       "       [  0.,   0.,   0.,   0.,   0.,   0.,   0.,   0.,   0.,   0.,   0.,\n",
       "          0.,   0.,   0.,   0.,   0.,   0.,   0.,   0.,   1.,   0.,   0.,\n",
       "          0.,   0.,   0.,   0.,   2.,   4.,   3.,   5.,   4.,  11.,   9.,\n",
       "         10.,  13.,  15.,  21.,  23.,  27.,  25.,  30.,  34.,  25.,  23.,\n",
       "         24.,  19.,  15.,  11.,   9.,   1.,   6.,   6.,   3.,   2.,   1.,\n",
       "          2.,   0.,   0.,   0.,   0.,   0.,   0.,   0.,   0.,   0.,   0.,\n",
       "          0.,   0.,   0.,   0.,   0.,   0.,   0.,   0.,   0.,   0.,   0.,\n",
       "          0.,   0.,   0.],\n",
       "       [  0.,   0.,   0.,   0.,   0.,   0.,   0.,   0.,   0.,   0.,   0.,\n",
       "          0.,   0.,   0.,   0.,   0.,   0.,   0.,   0.,   1.,   0.,   0.,\n",
       "          0.,   0.,   1.,   5.,   5.,  17.,  11.,  30.,  23.,  33.,  40.,\n",
       "         53.,  70.,  88., 105., 109., 112., 118., 118., 125., 102.,  93.,\n",
       "         81.,  71.,  61.,  35.,  40.,  36.,  18.,  23.,  15.,   8.,   7.,\n",
       "          5.,   0.,   1.,   1.,   0.,   0.,   0.,   0.,   0.,   0.,   0.,\n",
       "          0.,   0.,   0.,   0.,   0.,   0.,   0.,   0.,   0.,   0.,   0.,\n",
       "          0.,   0.,   0.]])"
      ]
     },
     "execution_count": 34,
     "metadata": {},
     "output_type": "execute_result"
    }
   ],
   "source": [
    "crystal_counts_binned"
   ]
  },
  {
   "cell_type": "code",
   "execution_count": null,
   "metadata": {},
   "outputs": [],
   "source": []
  },
  {
   "cell_type": "markdown",
   "metadata": {},
   "source": [
    "___"
   ]
  },
  {
   "cell_type": "markdown",
   "metadata": {},
   "source": [
    "## Lognormal distribution tests"
   ]
  },
  {
   "cell_type": "code",
   "execution_count": 11,
   "metadata": {},
   "outputs": [],
   "source": [
    "from scipy.stats import gmean"
   ]
  },
  {
   "cell_type": "code",
   "execution_count": 16,
   "metadata": {},
   "outputs": [
    {
     "data": {
      "text/plain": [
       "4.9018317882522195"
      ]
     },
     "execution_count": 16,
     "metadata": {},
     "output_type": "execute_result"
    }
   ],
   "source": [
    "gmean(np.random.normal(5, 1, 10000))"
   ]
  },
  {
   "cell_type": "code",
   "execution_count": 19,
   "metadata": {},
   "outputs": [
    {
     "data": {
      "text/plain": [
       "4.903473709354666"
      ]
     },
     "execution_count": 19,
     "metadata": {},
     "output_type": "execute_result"
    }
   ],
   "source": [
    "np.exp(np.mean(np.log(np.random.normal(5, 1, 10000))))"
   ]
  },
  {
   "cell_type": "code",
   "execution_count": null,
   "metadata": {},
   "outputs": [],
   "source": [
    "np.mean(np.random.normal(5, 1, 10000))"
   ]
  },
  {
   "cell_type": "code",
   "execution_count": 14,
   "metadata": {},
   "outputs": [
    {
     "data": {
      "text/plain": [
       "1.676016677534841"
      ]
     },
     "execution_count": 14,
     "metadata": {},
     "output_type": "execute_result"
    }
   ],
   "source": [
    "np.mean(np.random.lognormal(0, 1, 10000))"
   ]
  },
  {
   "cell_type": "code",
   "execution_count": 134,
   "metadata": {},
   "outputs": [],
   "source": [
    "tester1 = lognorm(1, 0, 16)\n",
    "tester2 = lognorm(1, 0, 1)"
   ]
  },
  {
   "cell_type": "code",
   "execution_count": 135,
   "metadata": {},
   "outputs": [
    {
     "data": {
      "image/png": "[encoded data removed]",
      "text/plain": [
       "<Figure size 432x288 with 1 Axes>"
      ]
     },
     "metadata": {
      "needs_background": "light"
     },
     "output_type": "display_data"
    }
   ],
   "source": [
    "plt.plot(x, tester1.pdf(x), label=\"tester1\")\n",
    "plt.plot(x, tester2.pdf(x), label=\"tester2\")\n",
    "plt.legend()\n",
    "plt.show();"
   ]
  },
  {
   "cell_type": "code",
   "execution_count": 129,
   "metadata": {},
   "outputs": [
    {
     "data": {
      "image/png": "[encoded data removed]",
      "text/plain": [
       "<Figure size 432x288 with 1 Axes>"
      ]
     },
     "metadata": {
      "needs_background": "light"
     },
     "output_type": "display_data"
    }
   ],
   "source": [
    "plt.plot(np.log(x), tester1.pdf(np.log(x)), label=\"tester1\")\n",
    "plt.plot(np.log(x), tester2.pdf(np.log(x)), label=\"tester2\")\n",
    "plt.legend()\n",
    "plt.show();"
   ]
  },
  {
   "cell_type": "code",
   "execution_count": 80,
   "metadata": {},
   "outputs": [],
   "source": [
    "mu = 0\n",
    "sigma = 1\n",
    "\n",
    "norm_test = norm(loc=3.54, scale=1.5)\n",
    "# s = shape = sigma = std of underlying normal distribution\n",
    "# loc = Z0 in Y = s * (Z - Z0) ** scale --> set loc=0 for standard lognormal behaviour\n",
    "# scale = exp(mu) where mu = mean of underlying normal distribution = median of lognormal distribution\n",
    "lognorm_test = lognorm(s=sigma, loc=0, scale=np.exp(mu))\n",
    "# np.exp(mu) = geometric mean of underlying normal distribution N~(0, 1) or median of lognormal distribution"
   ]
  },
  {
   "cell_type": "code",
   "execution_count": 87,
   "metadata": {},
   "outputs": [],
   "source": [
    "x = np.linspace(-4, 4, 1000)"
   ]
  },
  {
   "cell_type": "code",
   "execution_count": 88,
   "metadata": {},
   "outputs": [],
   "source": [
    "norm_sample = np.random.normal(0, 1, 10000)"
   ]
  },
  {
   "cell_type": "code",
   "execution_count": 89,
   "metadata": {},
   "outputs": [],
   "source": [
    "lognorm_sample = np.random.lognormal(0, 1, 10000)"
   ]
  },
  {
   "cell_type": "code",
   "execution_count": 8,
   "metadata": {},
   "outputs": [],
   "source": [
    "def ecdf(data):\n",
    "    \"\"\"Compute ECDF for a one-dimensional array of measurements.\n",
    "\n",
    "    Parameters:\n",
    "    -----------\n",
    "    n : int\n",
    "        Number of data points\n",
    "    x : list/array\n",
    "        x-data for the ECDF\n",
    "    y : list/array\n",
    "        y-data for the ECDF\n",
    "\n",
    "    Returns:\n",
    "    --------\n",
    "    x : list/array\n",
    "        Data\n",
    "    y : list/array\n",
    "        cdf\n",
    "    \"\"\"\n",
    "\n",
    "    n = len(data)\n",
    "    x = np.sort(data)\n",
    "    y = np.arange(1, n+1) / float(n)\n",
    "\n",
    "    return x, y"
   ]
  },
  {
   "cell_type": "code",
   "execution_count": 85,
   "metadata": {},
   "outputs": [],
   "source": [
    "lognorm_sample_cdf = ecdf(np.log(lognorm_sample))"
   ]
  },
  {
   "cell_type": "code",
   "execution_count": 90,
   "metadata": {},
   "outputs": [
    {
     "data": {
      "image/png": "[encoded data removed]",
      "text/plain": [
       "<Figure size 432x288 with 1 Axes>"
      ]
     },
     "metadata": {
      "needs_background": "light"
     },
     "output_type": "display_data"
    }
   ],
   "source": [
    "plt.plot(x, lognorm_test.cdf(np.exp(x)), c='k', lw=5, label=\"scipy distribution\")\n",
    "plt.plot(lognorm_sample_cdf[0], lognorm_sample_cdf[1], color='orangered', lw=1, label=\"numpy sample\")\n",
    "# plt.plot(x, norm_test.pdf(x), c=\"orangered\")\n",
    "plt.legend(fontsize='small')\n",
    "plt.show();"
   ]
  },
  {
   "cell_type": "code",
   "execution_count": 14,
   "metadata": {},
   "outputs": [
    {
     "data": {
      "text/plain": [
       "1.0"
      ]
     },
     "execution_count": 14,
     "metadata": {},
     "output_type": "execute_result"
    }
   ],
   "source": [
    "np.exp(mu)"
   ]
  },
  {
   "cell_type": "code",
   "execution_count": 13,
   "metadata": {},
   "outputs": [
    {
     "data": {
      "text/plain": [
       "(array(1.64872127), array(4.67077427))"
      ]
     },
     "execution_count": 13,
     "metadata": {},
     "output_type": "execute_result"
    }
   ],
   "source": [
    "lognorm_test.stats()"
   ]
  },
  {
   "cell_type": "code",
   "execution_count": 465,
   "metadata": {},
   "outputs": [
    {
     "data": {
      "text/plain": [
       "1.6487212707001282"
      ]
     },
     "execution_count": 465,
     "metadata": {},
     "output_type": "execute_result"
    }
   ],
   "source": [
    "# Formula for mean of lognormal distribution based on underlying normal distribution's mean and std\n",
    "np.exp(mu + (sigma**2)/2)"
   ]
  },
  {
   "cell_type": "code",
   "execution_count": 463,
   "metadata": {},
   "outputs": [
    {
     "data": {
      "text/plain": [
       "4.670774270471604"
      ]
     },
     "execution_count": 463,
     "metadata": {},
     "output_type": "execute_result"
    }
   ],
   "source": [
    "# Formula for variance of lognormal distribution based on underlying normal distribution's mean and std\n",
    "(np.exp(sigma**2) - 1) * np.exp(2*mu+sigma**2)"
   ]
  },
  {
   "cell_type": "code",
   "execution_count": 17,
   "metadata": {},
   "outputs": [
    {
     "data": {
      "text/plain": [
       "2.1610182784974308"
      ]
     },
     "execution_count": 17,
     "metadata": {},
     "output_type": "execute_result"
    }
   ],
   "source": [
    "np.sqrt(4.67)"
   ]
  },
  {
   "cell_type": "code",
   "execution_count": 480,
   "metadata": {},
   "outputs": [
    {
     "data": {
      "text/plain": [
       "3.5632121497683826"
      ]
     },
     "execution_count": 480,
     "metadata": {},
     "output_type": "execute_result"
    }
   ],
   "source": [
    "lognorm_test.stats()[0] * np.sqrt(lognorm_test.stats()[1])"
   ]
  },
  {
   "cell_type": "code",
   "execution_count": 249,
   "metadata": {},
   "outputs": [],
   "source": [
    "def prepare_lognorm(mean, var):\n",
    "    # Formula from https://en.wikipedia.org/wiki/Log-normal_distribution\n",
    "    sigma = np.sqrt(np.log(1 + (float(var) / mean ** 2)))\n",
    "    mu = np.log(mean / np.sqrt(1 + (float(var) / mean ** 2)))\n",
    "    # Compute the scale for scipy\n",
    "    # For more details, check: https://docs.scipy.org/doc/scipy/reference/generated/scipy.stats.lognorm.html\n",
    "    return lognorm(sigma, scale=np.exp(mu))\n",
    " \n",
    "\n",
    "MEAN = 0.0001\n",
    "VAR = 1 ** 2\n",
    "cmp_mean, cmp_var = prepare_lognorm(MEAN, VAR).stats(moments='mv')\n",
    "np.testing.assert_array_almost_equal([cmp_mean, cmp_var], [MEAN, VAR])"
   ]
  },
  {
   "cell_type": "code",
   "execution_count": 331,
   "metadata": {},
   "outputs": [
    {
     "data": {
      "text/plain": [
       "<matplotlib.axes._subplots.AxesSubplot at 0x1c279c60a08>"
      ]
     },
     "execution_count": 331,
     "metadata": {},
     "output_type": "execute_result"
    },
    {
     "data": {
      "text/plain": [
       "[<matplotlib.lines.Line2D at 0x1c279c6d888>]"
      ]
     },
     "execution_count": 331,
     "metadata": {},
     "output_type": "execute_result"
    },
    {
     "data": {
      "text/plain": [
       "[<matplotlib.lines.Line2D at 0x1c279c94988>]"
      ]
     },
     "execution_count": 331,
     "metadata": {},
     "output_type": "execute_result"
    },
    {
     "data": {
      "text/plain": [
       "<matplotlib.legend.Legend at 0x1c279ce7908>"
      ]
     },
     "execution_count": 331,
     "metadata": {},
     "output_type": "execute_result"
    },
    {
     "data": {
      "image/png": "[encoded data removed]",
      "text/plain": [
       "<Figure size 720x360 with 1 Axes>"
      ]
     },
     "metadata": {
      "needs_background": "light"
     },
     "output_type": "display_data"
    },
    {
     "data": {
      "text/plain": [
       "<matplotlib.axes._subplots.AxesSubplot at 0x1c279d990c8>"
      ]
     },
     "execution_count": 331,
     "metadata": {},
     "output_type": "execute_result"
    },
    {
     "data": {
      "text/plain": [
       "[<matplotlib.lines.Line2D at 0x1c279af1d88>]"
      ]
     },
     "execution_count": 331,
     "metadata": {},
     "output_type": "execute_result"
    },
    {
     "data": {
      "text/plain": [
       "[<matplotlib.lines.Line2D at 0x1c279da9fc8>]"
      ]
     },
     "execution_count": 331,
     "metadata": {},
     "output_type": "execute_result"
    },
    {
     "data": {
      "text/plain": [
       "<matplotlib.legend.Legend at 0x1c279ae25c8>"
      ]
     },
     "execution_count": 331,
     "metadata": {},
     "output_type": "execute_result"
    },
    {
     "data": {
      "image/png": "[encoded data removed]",
      "text/plain": [
       "<Figure size 720x360 with 1 Axes>"
      ]
     },
     "metadata": {
      "needs_background": "light"
     },
     "output_type": "display_data"
    }
   ],
   "source": [
    "import scipy\n",
    "import matplotlib.pyplot as plt\n",
    "import seaborn as sns\n",
    "import numpy as np\n",
    "\n",
    "mu = 10 # Mean of sample !!! Make sure your data is positive for the lognormal example \n",
    "sigma = 1.5 # Standard deviation of sample\n",
    "N = 2000 # Number of samples\n",
    "\n",
    "norm_dist = scipy.stats.norm(loc=mu, scale=sigma) # Create Random Process\n",
    "x = norm_dist.rvs(size=N) # Generate samples\n",
    "\n",
    "# Fit normal\n",
    "fitting_params = scipy.stats.norm.fit(x)\n",
    "norm_dist_fitted = scipy.stats.norm(*fitting_params)\n",
    "t = np.linspace(np.min(x), np.max(x), 100)\n",
    "\n",
    "# Plot normals\n",
    "f, ax = plt.subplots(1, sharex='col', figsize=(10, 5))\n",
    "sns.distplot(x, ax=ax, norm_hist=True, kde=False, label='Data X~N(mu={0:.1f}, sigma={1:.1f})'.format(mu, sigma))\n",
    "ax.plot(t, norm_dist_fitted.pdf(t), lw=2, color='r',\n",
    "        label='Fitted Model X~N(mu={0:.1f}, sigma={1:.1f})'.format(norm_dist_fitted.mean(), norm_dist_fitted.std()))\n",
    "ax.plot(t, norm_dist.pdf(t), lw=2, color='g', ls=':',\n",
    "        label='Original Model X~N(mu={0:.1f}, sigma={1:.1f})'.format(norm_dist.mean(), norm_dist.std()))\n",
    "ax.legend(loc='lower right')\n",
    "plt.show()\n",
    "\n",
    "\n",
    "# The lognormal model fits to a variable whose log is normal\n",
    "# We create our variable whose log is normal 'exponenciating' the previous variable\n",
    "\n",
    "x_exp = np.exp(x)\n",
    "mu_exp = np.exp(mu)\n",
    "sigma_exp = np.exp(sigma)\n",
    "\n",
    "fitting_params_lognormal = scipy.stats.lognorm.fit(x_exp, floc=0, scale=mu_exp)\n",
    "lognorm_dist_fitted = scipy.stats.lognorm(*fitting_params_lognormal)\n",
    "t = np.linspace(np.min(x_exp), np.max(x_exp), 100)\n",
    "\n",
    "# Here is the magic I was looking for a long long time\n",
    "lognorm_dist = scipy.stats.lognorm(s=sigma, loc=0, scale=np.exp(mu))\n",
    "\n",
    "# The trick is to understand these two things:\n",
    "# 1. If the EXP of a variable is NORMAL with MU and STD -> EXP(X) ~ scipy.stats.lognorm(s=sigma, loc=0, scale=np.exp(mu))\n",
    "# 2. If your variable (x) HAS THE FORM of a LOGNORMAL, the model will be scipy.stats.lognorm(s=sigmaX, loc=0, scale=muX)\n",
    "# with:\n",
    "#    - muX = np.mean(np.log(x))\n",
    "#    - sigmaX = np.std(np.log(x))\n",
    "\n",
    "\n",
    "# Plot lognormals\n",
    "f, ax = plt.subplots(1, sharex='col', figsize=(10, 5))\n",
    "sns.distplot(x_exp, ax=ax, norm_hist=True, kde=False,\n",
    "             label='Data exp(X)~N(mu={0:.1f}, sigma={1:.1f})\\n X~LogNorm(mu={0:.1f}, sigma={1:.1f})'.format(mu, sigma))\n",
    "ax.plot(t, lognorm_dist_fitted.pdf(t), lw=2, color='r',\n",
    "        label='Fitted Model X~LogNorm(mu={0:.1f}, sigma={1:.1f})'.format(lognorm_dist_fitted.mean(), lognorm_dist_fitted.std()))\n",
    "ax.plot(t, lognorm_dist.pdf(t), lw=2, color='g', ls=':',\n",
    "        label='Original Model X~LogNorm(mu={0:.1f}, sigma={1:.1f})'.format(lognorm_dist.mean(), lognorm_dist.std()))\n",
    "ax.legend(loc='lower right')\n",
    "plt.show()"
   ]
  },
  {
   "cell_type": "markdown",
   "metadata": {},
   "source": [
    "___"
   ]
  },
  {
   "cell_type": "markdown",
   "metadata": {},
   "source": [
    "___"
   ]
  },
  {
   "cell_type": "markdown",
   "metadata": {},
   "source": [
    "## Random dataset generation"
   ]
  },
  {
   "cell_type": "code",
   "execution_count": 105,
   "metadata": {},
   "outputs": [],
   "source": [
    "# Minerals present\n",
    "minerals = [\"Q\" ,\"P\", \"K\", \"B\", \"O\", \"A\"]"
   ]
  },
  {
   "cell_type": "code",
   "execution_count": 3,
   "metadata": {},
   "outputs": [],
   "source": [
    "# Initialize dataset\n",
    "dataset = Input([\"Q\" ,\"P\", \"K\", \"B\", \"O\", \"A\"])"
   ]
  },
  {
   "cell_type": "code",
   "execution_count": 16,
   "metadata": {},
   "outputs": [
    {
     "data": {
      "text/plain": [
       "array([0.06199479, 0.20137643, 0.14169234, 0.25422035, 0.25247794,\n",
       "       0.08823815])"
      ]
     },
     "execution_count": 16,
     "metadata": {},
     "output_type": "execute_result"
    }
   ],
   "source": [
    "# Set custom proportion of minerals\n",
    "dataset.set_random_mineral_proportions()"
   ]
  },
  {
   "cell_type": "code",
   "execution_count": 15,
   "metadata": {},
   "outputs": [
    {
     "name": "stdout",
     "output_type": "stream",
     "text": [
      "hello\n"
     ]
    },
    {
     "data": {
      "text/plain": [
       "array([[0., 0., 0., 0., 0., 0., 0., 0., 0., 0.],\n",
       "       [0., 0., 0., 0., 0., 0., 0., 0., 0., 0.],\n",
       "       [0., 0., 0., 0., 0., 0., 0., 0., 0., 0.],\n",
       "       [0., 0., 0., 0., 0., 0., 0., 0., 0., 0.],\n",
       "       [0., 0., 0., 0., 0., 0., 0., 0., 0., 0.],\n",
       "       [0., 0., 0., 0., 0., 0., 0., 0., 0., 0.]])"
      ]
     },
     "execution_count": 15,
     "metadata": {},
     "output_type": "execute_result"
    }
   ],
   "source": [
    "dataset.get_number_of_crystals()"
   ]
  },
  {
   "cell_type": "code",
   "execution_count": null,
   "metadata": {},
   "outputs": [],
   "source": [
    "np.random.random()"
   ]
  },
  {
   "cell_type": "code",
   "execution_count": 18,
   "metadata": {},
   "outputs": [],
   "source": [
    "minerals_csd = dataset.set_random_grain_size_distributions()"
   ]
  },
  {
   "cell_type": "code",
   "execution_count": 8,
   "metadata": {},
   "outputs": [
    {
     "data": {
      "text/html": [
       "<div>\n",
       "<style scoped>\n",
       "    .dataframe tbody tr th:only-of-type {\n",
       "        vertical-align: middle;\n",
       "    }\n",
       "\n",
       "    .dataframe tbody tr th {\n",
       "        vertical-align: top;\n",
       "    }\n",
       "\n",
       "    .dataframe thead th {\n",
       "        text-align: right;\n",
       "    }\n",
       "</style>\n",
       "<table border=\"1\" class=\"dataframe\">\n",
       "  <thead>\n",
       "    <tr style=\"text-align: right;\">\n",
       "      <th></th>\n",
       "      <th>0</th>\n",
       "      <th>1</th>\n",
       "      <th>2</th>\n",
       "      <th>3</th>\n",
       "      <th>4</th>\n",
       "      <th>5</th>\n",
       "      <th>6</th>\n",
       "      <th>7</th>\n",
       "      <th>8</th>\n",
       "      <th>9</th>\n",
       "    </tr>\n",
       "  </thead>\n",
       "  <tbody>\n",
       "    <tr>\n",
       "      <th>Q</th>\n",
       "      <td>0.0</td>\n",
       "      <td>0.0</td>\n",
       "      <td>0.0</td>\n",
       "      <td>0.0</td>\n",
       "      <td>0.0</td>\n",
       "      <td>0.0</td>\n",
       "      <td>0.0</td>\n",
       "      <td>0.0</td>\n",
       "      <td>0.0</td>\n",
       "      <td>0.0</td>\n",
       "    </tr>\n",
       "    <tr>\n",
       "      <th>P</th>\n",
       "      <td>0.0</td>\n",
       "      <td>0.0</td>\n",
       "      <td>0.0</td>\n",
       "      <td>0.0</td>\n",
       "      <td>0.0</td>\n",
       "      <td>0.0</td>\n",
       "      <td>0.0</td>\n",
       "      <td>0.0</td>\n",
       "      <td>0.0</td>\n",
       "      <td>0.0</td>\n",
       "    </tr>\n",
       "    <tr>\n",
       "      <th>K</th>\n",
       "      <td>0.0</td>\n",
       "      <td>0.0</td>\n",
       "      <td>0.0</td>\n",
       "      <td>0.0</td>\n",
       "      <td>0.0</td>\n",
       "      <td>0.0</td>\n",
       "      <td>0.0</td>\n",
       "      <td>0.0</td>\n",
       "      <td>0.0</td>\n",
       "      <td>0.0</td>\n",
       "    </tr>\n",
       "    <tr>\n",
       "      <th>B</th>\n",
       "      <td>0.0</td>\n",
       "      <td>0.0</td>\n",
       "      <td>0.0</td>\n",
       "      <td>0.0</td>\n",
       "      <td>0.0</td>\n",
       "      <td>0.0</td>\n",
       "      <td>0.0</td>\n",
       "      <td>0.0</td>\n",
       "      <td>0.0</td>\n",
       "      <td>0.0</td>\n",
       "    </tr>\n",
       "    <tr>\n",
       "      <th>O</th>\n",
       "      <td>0.0</td>\n",
       "      <td>0.0</td>\n",
       "      <td>0.0</td>\n",
       "      <td>0.0</td>\n",
       "      <td>0.0</td>\n",
       "      <td>0.0</td>\n",
       "      <td>0.0</td>\n",
       "      <td>0.0</td>\n",
       "      <td>0.0</td>\n",
       "      <td>0.0</td>\n",
       "    </tr>\n",
       "    <tr>\n",
       "      <th>A</th>\n",
       "      <td>0.0</td>\n",
       "      <td>0.0</td>\n",
       "      <td>0.0</td>\n",
       "      <td>0.0</td>\n",
       "      <td>0.0</td>\n",
       "      <td>0.0</td>\n",
       "      <td>0.0</td>\n",
       "      <td>0.0</td>\n",
       "      <td>0.0</td>\n",
       "      <td>0.0</td>\n",
       "    </tr>\n",
       "  </tbody>\n",
       "</table>\n",
       "</div>"
      ],
      "text/plain": [
       "     0    1    2    3    4    5    6    7    8    9\n",
       "Q  0.0  0.0  0.0  0.0  0.0  0.0  0.0  0.0  0.0  0.0\n",
       "P  0.0  0.0  0.0  0.0  0.0  0.0  0.0  0.0  0.0  0.0\n",
       "K  0.0  0.0  0.0  0.0  0.0  0.0  0.0  0.0  0.0  0.0\n",
       "B  0.0  0.0  0.0  0.0  0.0  0.0  0.0  0.0  0.0  0.0\n",
       "O  0.0  0.0  0.0  0.0  0.0  0.0  0.0  0.0  0.0  0.0\n",
       "A  0.0  0.0  0.0  0.0  0.0  0.0  0.0  0.0  0.0  0.0"
      ]
     },
     "execution_count": 8,
     "metadata": {},
     "output_type": "execute_result"
    }
   ],
   "source": [
    "pd.DataFrame(dataset.get_number_of_crystals(), index=[[\"Q\" ,\"P\", \"K\", \"B\", \"O\", \"A\"]])"
   ]
  },
  {
   "cell_type": "code",
   "execution_count": 19,
   "metadata": {},
   "outputs": [],
   "source": [
    "from scipy.stats import lognorm"
   ]
  },
  {
   "cell_type": "code",
   "execution_count": 11,
   "metadata": {},
   "outputs": [
    {
     "data": {
      "text/plain": [
       "['QQ',\n",
       " 'QP',\n",
       " 'QK',\n",
       " 'QB',\n",
       " 'QO',\n",
       " 'QA',\n",
       " 'PP',\n",
       " 'PK',\n",
       " 'PB',\n",
       " 'PO',\n",
       " 'PA',\n",
       " 'KK',\n",
       " 'KB',\n",
       " 'KO',\n",
       " 'KA',\n",
       " 'BB',\n",
       " 'BO',\n",
       " 'BA',\n",
       " 'OO',\n",
       " 'OA',\n",
       " 'AA']"
      ]
     },
     "execution_count": 11,
     "metadata": {},
     "output_type": "execute_result"
    }
   ],
   "source": [
    "dataset.get_interface_labels()"
   ]
  },
  {
   "cell_type": "code",
   "execution_count": 13,
   "metadata": {},
   "outputs": [
    {
     "data": {
      "text/plain": [
       "array([[0., 0., 0., 0., 0., 0., 0., 0., 0., 0.],\n",
       "       [0., 0., 0., 0., 0., 0., 0., 0., 0., 0.],\n",
       "       [0., 0., 0., 0., 0., 0., 0., 0., 0., 0.],\n",
       "       [0., 0., 0., 0., 0., 0., 0., 0., 0., 0.],\n",
       "       [0., 0., 0., 0., 0., 0., 0., 0., 0., 0.],\n",
       "       [0., 0., 0., 0., 0., 0., 0., 0., 0., 0.]])"
      ]
     },
     "execution_count": 13,
     "metadata": {},
     "output_type": "execute_result"
    }
   ],
   "source": [
    "dataset.get_number_of_crystals()"
   ]
  },
  {
   "cell_type": "markdown",
   "metadata": {},
   "source": [
    "## SedGen algorithms\n",
    "____"
   ]
  },
  {
   "cell_type": "markdown",
   "metadata": {},
   "source": [
    "**Assumptions**\n",
    "- All grains are spherical  \n",
    "\n",
    "**Relations**  \n",
    "- $X = Y+Z$"
   ]
  },
  {
   "cell_type": "code",
   "execution_count": 72,
   "metadata": {},
   "outputs": [],
   "source": [
    "m = 6  # number of mineral species\n",
    "d = 10 # number of size classes forming a geometric series\n",
    "n_c_pcg = np.zeros((m, d))  # Y (m x d) number of crystals forming part of polycrystalline grains (pcg)\n",
    "n_c_mcg = np.zeros((m, d))  # Z (m x d) number of crystals occurring as monocrystalline grains (mcg)\n",
    "n_g_pcg = np.zeros((1, d))  # R (1 x d) number of polycrystalline grains (pcg)\n",
    "\n",
    "n_c_all = n_c_mcg + n_c_pcg  # X (m x d) number of crystals in parent rock\n",
    "n_g_all = n_c_mcg + n_g_pcg  # (m x d) number of grains in parent rock"
   ]
  },
  {
   "cell_type": "code",
   "execution_count": 173,
   "metadata": {},
   "outputs": [],
   "source": [
    "n_c_pcg_df = pd.DataFrame(n_c_pcg, index=minerals)\n",
    "n_c_mcg_df = pd.DataFrame(n_c_mcg, index=minerals)\n",
    "n_g_pcg_df = pd.DataFrame(n_g_pcg)"
   ]
  },
  {
   "cell_type": "code",
   "execution_count": 176,
   "metadata": {},
   "outputs": [],
   "source": [
    "n_c_pcg_df.loc[:, 9] = [10000, 2000, 3000, 1000, 200, 300]\n",
    "n_g_pcg_df.loc[:, 9] = [1]"
   ]
  },
  {
   "cell_type": "code",
   "execution_count": 177,
   "metadata": {},
   "outputs": [
    {
     "data": {
      "text/html": [
       "<div>\n",
       "<style scoped>\n",
       "    .dataframe tbody tr th:only-of-type {\n",
       "        vertical-align: middle;\n",
       "    }\n",
       "\n",
       "    .dataframe tbody tr th {\n",
       "        vertical-align: top;\n",
       "    }\n",
       "\n",
       "    .dataframe thead th {\n",
       "        text-align: right;\n",
       "    }\n",
       "</style>\n",
       "<table border=\"1\" class=\"dataframe\">\n",
       "  <thead>\n",
       "    <tr style=\"text-align: right;\">\n",
       "      <th></th>\n",
       "      <th>0</th>\n",
       "      <th>1</th>\n",
       "      <th>2</th>\n",
       "      <th>3</th>\n",
       "      <th>4</th>\n",
       "      <th>5</th>\n",
       "      <th>6</th>\n",
       "      <th>7</th>\n",
       "      <th>8</th>\n",
       "      <th>9</th>\n",
       "    </tr>\n",
       "  </thead>\n",
       "  <tbody>\n",
       "    <tr>\n",
       "      <th>Q</th>\n",
       "      <td>0.0</td>\n",
       "      <td>0.0</td>\n",
       "      <td>0.0</td>\n",
       "      <td>0.0</td>\n",
       "      <td>0.0</td>\n",
       "      <td>0.0</td>\n",
       "      <td>0.0</td>\n",
       "      <td>0.0</td>\n",
       "      <td>0.0</td>\n",
       "      <td>10000</td>\n",
       "    </tr>\n",
       "    <tr>\n",
       "      <th>P</th>\n",
       "      <td>0.0</td>\n",
       "      <td>0.0</td>\n",
       "      <td>0.0</td>\n",
       "      <td>0.0</td>\n",
       "      <td>0.0</td>\n",
       "      <td>0.0</td>\n",
       "      <td>0.0</td>\n",
       "      <td>0.0</td>\n",
       "      <td>0.0</td>\n",
       "      <td>2000</td>\n",
       "    </tr>\n",
       "    <tr>\n",
       "      <th>K</th>\n",
       "      <td>0.0</td>\n",
       "      <td>0.0</td>\n",
       "      <td>0.0</td>\n",
       "      <td>0.0</td>\n",
       "      <td>0.0</td>\n",
       "      <td>0.0</td>\n",
       "      <td>0.0</td>\n",
       "      <td>0.0</td>\n",
       "      <td>0.0</td>\n",
       "      <td>3000</td>\n",
       "    </tr>\n",
       "    <tr>\n",
       "      <th>B</th>\n",
       "      <td>0.0</td>\n",
       "      <td>0.0</td>\n",
       "      <td>0.0</td>\n",
       "      <td>0.0</td>\n",
       "      <td>0.0</td>\n",
       "      <td>0.0</td>\n",
       "      <td>0.0</td>\n",
       "      <td>0.0</td>\n",
       "      <td>0.0</td>\n",
       "      <td>1000</td>\n",
       "    </tr>\n",
       "    <tr>\n",
       "      <th>O</th>\n",
       "      <td>0.0</td>\n",
       "      <td>0.0</td>\n",
       "      <td>0.0</td>\n",
       "      <td>0.0</td>\n",
       "      <td>0.0</td>\n",
       "      <td>0.0</td>\n",
       "      <td>0.0</td>\n",
       "      <td>0.0</td>\n",
       "      <td>0.0</td>\n",
       "      <td>200</td>\n",
       "    </tr>\n",
       "    <tr>\n",
       "      <th>A</th>\n",
       "      <td>0.0</td>\n",
       "      <td>0.0</td>\n",
       "      <td>0.0</td>\n",
       "      <td>0.0</td>\n",
       "      <td>0.0</td>\n",
       "      <td>0.0</td>\n",
       "      <td>0.0</td>\n",
       "      <td>0.0</td>\n",
       "      <td>0.0</td>\n",
       "      <td>300</td>\n",
       "    </tr>\n",
       "  </tbody>\n",
       "</table>\n",
       "</div>"
      ],
      "text/plain": [
       "     0    1    2    3    4    5    6    7    8      9\n",
       "Q  0.0  0.0  0.0  0.0  0.0  0.0  0.0  0.0  0.0  10000\n",
       "P  0.0  0.0  0.0  0.0  0.0  0.0  0.0  0.0  0.0   2000\n",
       "K  0.0  0.0  0.0  0.0  0.0  0.0  0.0  0.0  0.0   3000\n",
       "B  0.0  0.0  0.0  0.0  0.0  0.0  0.0  0.0  0.0   1000\n",
       "O  0.0  0.0  0.0  0.0  0.0  0.0  0.0  0.0  0.0    200\n",
       "A  0.0  0.0  0.0  0.0  0.0  0.0  0.0  0.0  0.0    300"
      ]
     },
     "execution_count": 177,
     "metadata": {},
     "output_type": "execute_result"
    },
    {
     "data": {
      "text/html": [
       "<div>\n",
       "<style scoped>\n",
       "    .dataframe tbody tr th:only-of-type {\n",
       "        vertical-align: middle;\n",
       "    }\n",
       "\n",
       "    .dataframe tbody tr th {\n",
       "        vertical-align: top;\n",
       "    }\n",
       "\n",
       "    .dataframe thead th {\n",
       "        text-align: right;\n",
       "    }\n",
       "</style>\n",
       "<table border=\"1\" class=\"dataframe\">\n",
       "  <thead>\n",
       "    <tr style=\"text-align: right;\">\n",
       "      <th></th>\n",
       "      <th>0</th>\n",
       "      <th>1</th>\n",
       "      <th>2</th>\n",
       "      <th>3</th>\n",
       "      <th>4</th>\n",
       "      <th>5</th>\n",
       "      <th>6</th>\n",
       "      <th>7</th>\n",
       "      <th>8</th>\n",
       "      <th>9</th>\n",
       "    </tr>\n",
       "  </thead>\n",
       "  <tbody>\n",
       "    <tr>\n",
       "      <th>0</th>\n",
       "      <td>0.0</td>\n",
       "      <td>0.0</td>\n",
       "      <td>0.0</td>\n",
       "      <td>0.0</td>\n",
       "      <td>0.0</td>\n",
       "      <td>0.0</td>\n",
       "      <td>0.0</td>\n",
       "      <td>0.0</td>\n",
       "      <td>0.0</td>\n",
       "      <td>1</td>\n",
       "    </tr>\n",
       "  </tbody>\n",
       "</table>\n",
       "</div>"
      ],
      "text/plain": [
       "     0    1    2    3    4    5    6    7    8  9\n",
       "0  0.0  0.0  0.0  0.0  0.0  0.0  0.0  0.0  0.0  1"
      ]
     },
     "execution_count": 177,
     "metadata": {},
     "output_type": "execute_result"
    }
   ],
   "source": [
    "n_c_pcg_df\n",
    "n_g_pcg_df"
   ]
  },
  {
   "cell_type": "code",
   "execution_count": 163,
   "metadata": {},
   "outputs": [],
   "source": [
    "bins = [2.0**x for x in np.arange(-10, 10.25, 0.25)]"
   ]
  },
  {
   "cell_type": "raw",
   "metadata": {},
   "source": [
    "bins_final = []\n",
    "for bin_ in bins:\n",
    "    for y in [1.0, 1.25, 1.50, 1.75]:\n",
    "        bins_final.append(bin_ * y)\n",
    "        if bin_ == 512 and y == 1.75:\n",
    "            bins_final.append(1024.0)"
   ]
  },
  {
   "cell_type": "code",
   "execution_count": 164,
   "metadata": {},
   "outputs": [
    {
     "data": {
      "text/plain": [
       "[0.0009765625,\n",
       " 0.0011613350732448448,\n",
       " 0.0013810679320049757,\n",
       " 0.0016423758110424111,\n",
       " 0.001953125,\n",
       " 0.0023226701464896895,\n",
       " 0.0027621358640099515,\n",
       " 0.0032847516220848223,\n",
       " 0.00390625,\n",
       " 0.004645340292979379,\n",
       " 0.005524271728019903,\n",
       " 0.0065695032441696445,\n",
       " 0.0078125,\n",
       " 0.009290680585958758,\n",
       " 0.011048543456039806,\n",
       " 0.013139006488339289,\n",
       " 0.015625,\n",
       " 0.018581361171917516,\n",
       " 0.02209708691207961,\n",
       " 0.026278012976678578,\n",
       " 0.03125,\n",
       " 0.03716272234383503,\n",
       " 0.04419417382415922,\n",
       " 0.052556025953357156,\n",
       " 0.0625,\n",
       " 0.07432544468767006,\n",
       " 0.08838834764831845,\n",
       " 0.10511205190671431,\n",
       " 0.125,\n",
       " 0.14865088937534013,\n",
       " 0.1767766952966369,\n",
       " 0.21022410381342863,\n",
       " 0.25,\n",
       " 0.29730177875068026,\n",
       " 0.3535533905932738,\n",
       " 0.42044820762685725,\n",
       " 0.5,\n",
       " 0.5946035575013605,\n",
       " 0.7071067811865476,\n",
       " 0.8408964152537145,\n",
       " 1.0,\n",
       " 1.189207115002721,\n",
       " 1.4142135623730951,\n",
       " 1.681792830507429,\n",
       " 2.0,\n",
       " 2.378414230005442,\n",
       " 2.8284271247461903,\n",
       " 3.363585661014858,\n",
       " 4.0,\n",
       " 4.756828460010884,\n",
       " 5.656854249492381,\n",
       " 6.727171322029716,\n",
       " 8.0,\n",
       " 9.513656920021768,\n",
       " 11.313708498984761,\n",
       " 13.454342644059432,\n",
       " 16.0,\n",
       " 19.027313840043536,\n",
       " 22.627416997969522,\n",
       " 26.908685288118864,\n",
       " 32.0,\n",
       " 38.05462768008707,\n",
       " 45.254833995939045,\n",
       " 53.81737057623773,\n",
       " 64.0,\n",
       " 76.10925536017415,\n",
       " 90.50966799187809,\n",
       " 107.63474115247546,\n",
       " 128.0,\n",
       " 152.2185107203483,\n",
       " 181.01933598375618,\n",
       " 215.2694823049509,\n",
       " 256.0,\n",
       " 304.4370214406966,\n",
       " 362.03867196751236,\n",
       " 430.5389646099018,\n",
       " 512.0,\n",
       " 608.8740428813932,\n",
       " 724.0773439350247,\n",
       " 861.0779292198037,\n",
       " 1024.0]"
      ]
     },
     "execution_count": 164,
     "metadata": {},
     "output_type": "execute_result"
    }
   ],
   "source": [
    "bins"
   ]
  },
  {
   "cell_type": "code",
   "execution_count": 165,
   "metadata": {},
   "outputs": [
    {
     "data": {
      "text/plain": [
       "array([-10.  ,  -9.75,  -9.5 ,  -9.25,  -9.  ,  -8.75,  -8.5 ,  -8.25,\n",
       "        -8.  ,  -7.75,  -7.5 ,  -7.25,  -7.  ,  -6.75,  -6.5 ,  -6.25,\n",
       "        -6.  ,  -5.75,  -5.5 ,  -5.25,  -5.  ,  -4.75,  -4.5 ,  -4.25,\n",
       "        -4.  ,  -3.75,  -3.5 ,  -3.25,  -3.  ,  -2.75,  -2.5 ,  -2.25,\n",
       "        -2.  ,  -1.75,  -1.5 ,  -1.25,  -1.  ,  -0.75,  -0.5 ,  -0.25,\n",
       "         0.  ,   0.25,   0.5 ,   0.75,   1.  ,   1.25,   1.5 ,   1.75,\n",
       "         2.  ,   2.25,   2.5 ,   2.75,   3.  ,   3.25,   3.5 ,   3.75,\n",
       "         4.  ,   4.25,   4.5 ,   4.75,   5.  ,   5.25,   5.5 ,   5.75,\n",
       "         6.  ,   6.25,   6.5 ,   6.75,   7.  ,   7.25,   7.5 ,   7.75,\n",
       "         8.  ,   8.25,   8.5 ,   8.75,   9.  ,   9.25,   9.5 ,   9.75,\n",
       "        10.  ])"
      ]
     },
     "execution_count": 165,
     "metadata": {},
     "output_type": "execute_result"
    }
   ],
   "source": [
    "np.log2(bins)"
   ]
  },
  {
   "cell_type": "code",
   "execution_count": 105,
   "metadata": {},
   "outputs": [
    {
     "data": {
      "text/plain": [
       "1152921504606846976"
      ]
     },
     "execution_count": 105,
     "metadata": {},
     "output_type": "execute_result"
    }
   ],
   "source": [
    "n ** 3"
   ]
  },
  {
   "cell_type": "code",
   "execution_count": 110,
   "metadata": {},
   "outputs": [
    {
     "data": {
      "text/plain": [
       "1.152921504606847"
      ]
     },
     "execution_count": 110,
     "metadata": {},
     "output_type": "execute_result"
    }
   ],
   "source": [
    "(n ** 3) / 1_000_000_000_000_000_000"
   ]
  },
  {
   "cell_type": "code",
   "execution_count": 166,
   "metadata": {},
   "outputs": [
    {
     "data": {
      "text/plain": [
       "81"
      ]
     },
     "execution_count": 166,
     "metadata": {},
     "output_type": "execute_result"
    }
   ],
   "source": [
    "len(bins)"
   ]
  },
  {
   "cell_type": "code",
   "execution_count": 167,
   "metadata": {},
   "outputs": [
    {
     "data": {
      "text/plain": [
       "array([[0., 0., 0., 0., 0., 0., 0., 0., 0., 0.],\n",
       "       [0., 0., 0., 0., 0., 0., 0., 0., 0., 0.],\n",
       "       [0., 0., 0., 0., 0., 0., 0., 0., 0., 0.],\n",
       "       [0., 0., 0., 0., 0., 0., 0., 0., 0., 0.],\n",
       "       [0., 0., 0., 0., 0., 0., 0., 0., 0., 0.],\n",
       "       [0., 0., 0., 0., 0., 0., 0., 0., 0., 0.]])"
      ]
     },
     "execution_count": 167,
     "metadata": {},
     "output_type": "execute_result"
    }
   ],
   "source": [
    "n_c_pcg"
   ]
  },
  {
   "cell_type": "code",
   "execution_count": 12,
   "metadata": {},
   "outputs": [
    {
     "data": {
      "text/plain": [
       "array([[0., 0., 0., 0., 0., 0., 0., 0., 0., 0.],\n",
       "       [0., 0., 0., 0., 0., 0., 0., 0., 0., 0.],\n",
       "       [0., 0., 0., 0., 0., 0., 0., 0., 0., 0.],\n",
       "       [0., 0., 0., 0., 0., 0., 0., 0., 0., 0.],\n",
       "       [0., 0., 0., 0., 0., 0., 0., 0., 0., 0.],\n",
       "       [0., 0., 0., 0., 0., 0., 0., 0., 0., 0.]])"
      ]
     },
     "execution_count": 12,
     "metadata": {},
     "output_type": "execute_result"
    }
   ],
   "source": [
    "n_c_mcg"
   ]
  },
  {
   "cell_type": "code",
   "execution_count": 13,
   "metadata": {},
   "outputs": [
    {
     "data": {
      "text/plain": [
       "array([[0., 0., 0., 0., 0., 0., 0., 0., 0., 0.]])"
      ]
     },
     "execution_count": 13,
     "metadata": {},
     "output_type": "execute_result"
    }
   ],
   "source": [
    "n_g_pcg"
   ]
  },
  {
   "cell_type": "code",
   "execution_count": 14,
   "metadata": {},
   "outputs": [
    {
     "data": {
      "text/plain": [
       "array([[0., 0., 0., 0., 0., 0., 0., 0., 0., 0.],\n",
       "       [0., 0., 0., 0., 0., 0., 0., 0., 0., 0.],\n",
       "       [0., 0., 0., 0., 0., 0., 0., 0., 0., 0.],\n",
       "       [0., 0., 0., 0., 0., 0., 0., 0., 0., 0.],\n",
       "       [0., 0., 0., 0., 0., 0., 0., 0., 0., 0.],\n",
       "       [0., 0., 0., 0., 0., 0., 0., 0., 0., 0.]])"
      ]
     },
     "execution_count": 14,
     "metadata": {},
     "output_type": "execute_result"
    }
   ],
   "source": [
    "n_c_all"
   ]
  },
  {
   "cell_type": "code",
   "execution_count": 16,
   "metadata": {},
   "outputs": [],
   "source": [
    "mineral_labels = [\"Q\" ,\"P\", \"K\", \"B\", \"O\", \"A\"]"
   ]
  },
  {
   "cell_type": "code",
   "execution_count": 149,
   "metadata": {},
   "outputs": [
    {
     "data": {
      "image/png": "[encoded data removed]",
      "text/plain": [
       "<Figure size 432x288 with 1 Axes>"
      ]
     },
     "metadata": {
      "needs_background": "light"
     },
     "output_type": "display_data"
    }
   ],
   "source": [
    "norm_distr = norm(loc=0, scale=1)\n",
    "x = np.linspace(-5, 5, 81)\n",
    "pdf = norm_distr.pdf(x)\n",
    "pdf_normalized = pdf / pdf.sum()\n",
    "\n",
    "plt.plot(x, pdf_normalized)\n",
    "plt.show();"
   ]
  },
  {
   "cell_type": "code",
   "execution_count": 158,
   "metadata": {},
   "outputs": [
    {
     "data": {
      "text/plain": [
       "2.0"
      ]
     },
     "execution_count": 158,
     "metadata": {},
     "output_type": "execute_result"
    }
   ],
   "source": [
    "(1/2) * ((1/2) ** -2)"
   ]
  },
  {
   "cell_type": "code",
   "execution_count": 87,
   "metadata": {},
   "outputs": [
    {
     "data": {
      "text/plain": [
       "array([9.29199761e-07, 1.73962726e-05, 2.20372317e-04, 1.88891140e-03,\n",
       "       1.09551886e-02, 4.29914254e-02, 1.14155686e-01, 2.05100619e-01,\n",
       "       2.49338942e-01, 2.05100619e-01, 1.14155686e-01, 4.29914254e-02,\n",
       "       1.09551886e-02, 1.88891140e-03, 2.20372317e-04, 1.73962726e-05,\n",
       "       9.29199761e-07])"
      ]
     },
     "execution_count": 87,
     "metadata": {},
     "output_type": "execute_result"
    }
   ],
   "source": [
    "pdf_normalized[-1]"
   ]
  },
  {
   "cell_type": "code",
   "execution_count": 4,
   "metadata": {},
   "outputs": [
    {
     "data": {
      "text/plain": [
       "['QQ',\n",
       " 'QP',\n",
       " 'QK',\n",
       " 'QB',\n",
       " 'QO',\n",
       " 'QA',\n",
       " 'PP',\n",
       " 'PK',\n",
       " 'PB',\n",
       " 'PO',\n",
       " 'PA',\n",
       " 'KK',\n",
       " 'KB',\n",
       " 'KO',\n",
       " 'KA',\n",
       " 'BB',\n",
       " 'BO',\n",
       " 'BA',\n",
       " 'OO',\n",
       " 'OA',\n",
       " 'AA']"
      ]
     },
     "execution_count": 4,
     "metadata": {},
     "output_type": "execute_result"
    }
   ],
   "source": [
    "interface_labels = [\"\".join(pair) for pair in itertools.combinations_with_replacement(mineral_labels, 2)]\n",
    "interface_labels"
   ]
  },
  {
   "cell_type": "code",
   "execution_count": null,
   "metadata": {},
   "outputs": [],
   "source": [
    "interface_labels"
   ]
  },
  {
   "cell_type": "markdown",
   "metadata": {},
   "source": [
    "## Mechanical weathering\n",
    "____"
   ]
  },
  {
   "cell_type": "code",
   "execution_count": null,
   "metadata": {},
   "outputs": [],
   "source": [
    "# Selection for breakage\n",
    "# D = size of grain\n",
    "# alpha_Qm = susceptibility to breakage normallized to monocrystalline quartz (Qm)\n",
    "alpha_Qm = np.zeros((m, 1)) # CONSTANT\n",
    "# delta_k = model time step\n",
    "delta_k = int\n",
    "# gamma = coefficient of time-step dependent strength of pcg # CONSTANT\n",
    "gamma = float\n",
    "# alpha = susceptibility to breakage\n",
    "alpha = alpha_Qm + alpha_init * delta_k ** gamma\n",
    "# z = abundance in the grain population\n",
    "S = D * alpha * z\n",
    "# probability of breakage ([m + 1] x d)\n",
    "P = S / np.sum(S)"
   ]
  },
  {
   "cell_type": "code",
   "execution_count": 4,
   "metadata": {},
   "outputs": [
    {
     "data": {
      "text/html": [
       "<div>\n",
       "<style scoped>\n",
       "    .dataframe tbody tr th:only-of-type {\n",
       "        vertical-align: middle;\n",
       "    }\n",
       "\n",
       "    .dataframe tbody tr th {\n",
       "        vertical-align: top;\n",
       "    }\n",
       "\n",
       "    .dataframe thead th {\n",
       "        text-align: right;\n",
       "    }\n",
       "</style>\n",
       "<table border=\"1\" class=\"dataframe\">\n",
       "  <thead>\n",
       "    <tr style=\"text-align: right;\">\n",
       "      <th></th>\n",
       "      <th>alpha_Qm</th>\n",
       "    </tr>\n",
       "  </thead>\n",
       "  <tbody>\n",
       "    <tr>\n",
       "      <th>Q</th>\n",
       "      <td>1.0</td>\n",
       "    </tr>\n",
       "    <tr>\n",
       "      <th>P</th>\n",
       "      <td>1.5</td>\n",
       "    </tr>\n",
       "    <tr>\n",
       "      <th>K</th>\n",
       "      <td>1.2</td>\n",
       "    </tr>\n",
       "    <tr>\n",
       "      <th>B</th>\n",
       "      <td>2.0</td>\n",
       "    </tr>\n",
       "    <tr>\n",
       "      <th>O</th>\n",
       "      <td>3.0</td>\n",
       "    </tr>\n",
       "    <tr>\n",
       "      <th>A</th>\n",
       "      <td>1.6</td>\n",
       "    </tr>\n",
       "  </tbody>\n",
       "</table>\n",
       "</div>"
      ],
      "text/plain": [
       "   alpha_Qm\n",
       "Q       1.0\n",
       "P       1.5\n",
       "K       1.2\n",
       "B       2.0\n",
       "O       3.0\n",
       "A       1.6"
      ]
     },
     "execution_count": 4,
     "metadata": {},
     "output_type": "execute_result"
    }
   ],
   "source": [
    "# Example values\n",
    "mineral_constants = pd.DataFrame({\"alpha_Qm\": [1, 1.5, 1.2, 2, 3, 1.6]}, index=mineral_labels)\n",
    "mineral_constants"
   ]
  },
  {
   "cell_type": "markdown",
   "metadata": {},
   "source": [
    "### Inter-crystal breakage (of pcg)"
   ]
  },
  {
   "cell_type": "code",
   "execution_count": 27,
   "metadata": {},
   "outputs": [
    {
     "data": {
      "text/html": [
       "<div>\n",
       "<style scoped>\n",
       "    .dataframe tbody tr th:only-of-type {\n",
       "        vertical-align: middle;\n",
       "    }\n",
       "\n",
       "    .dataframe tbody tr th {\n",
       "        vertical-align: top;\n",
       "    }\n",
       "\n",
       "    .dataframe thead th {\n",
       "        text-align: right;\n",
       "    }\n",
       "</style>\n",
       "<table border=\"1\" class=\"dataframe\">\n",
       "  <thead>\n",
       "    <tr style=\"text-align: right;\">\n",
       "      <th></th>\n",
       "      <th>beta_QQ</th>\n",
       "    </tr>\n",
       "  </thead>\n",
       "  <tbody>\n",
       "    <tr>\n",
       "      <th>QQ</th>\n",
       "      <td>0.500</td>\n",
       "    </tr>\n",
       "    <tr>\n",
       "      <th>QP</th>\n",
       "      <td>0.750</td>\n",
       "    </tr>\n",
       "    <tr>\n",
       "      <th>QK</th>\n",
       "      <td>0.600</td>\n",
       "    </tr>\n",
       "    <tr>\n",
       "      <th>QB</th>\n",
       "      <td>1.000</td>\n",
       "    </tr>\n",
       "    <tr>\n",
       "      <th>QO</th>\n",
       "      <td>1.500</td>\n",
       "    </tr>\n",
       "    <tr>\n",
       "      <th>QA</th>\n",
       "      <td>0.800</td>\n",
       "    </tr>\n",
       "    <tr>\n",
       "      <th>PP</th>\n",
       "      <td>1.125</td>\n",
       "    </tr>\n",
       "    <tr>\n",
       "      <th>PK</th>\n",
       "      <td>0.900</td>\n",
       "    </tr>\n",
       "    <tr>\n",
       "      <th>PB</th>\n",
       "      <td>1.500</td>\n",
       "    </tr>\n",
       "    <tr>\n",
       "      <th>PO</th>\n",
       "      <td>2.250</td>\n",
       "    </tr>\n",
       "    <tr>\n",
       "      <th>PA</th>\n",
       "      <td>1.200</td>\n",
       "    </tr>\n",
       "    <tr>\n",
       "      <th>KK</th>\n",
       "      <td>0.720</td>\n",
       "    </tr>\n",
       "    <tr>\n",
       "      <th>KB</th>\n",
       "      <td>1.200</td>\n",
       "    </tr>\n",
       "    <tr>\n",
       "      <th>KO</th>\n",
       "      <td>1.800</td>\n",
       "    </tr>\n",
       "    <tr>\n",
       "      <th>KA</th>\n",
       "      <td>0.960</td>\n",
       "    </tr>\n",
       "    <tr>\n",
       "      <th>BB</th>\n",
       "      <td>2.000</td>\n",
       "    </tr>\n",
       "    <tr>\n",
       "      <th>BO</th>\n",
       "      <td>3.000</td>\n",
       "    </tr>\n",
       "    <tr>\n",
       "      <th>BA</th>\n",
       "      <td>1.600</td>\n",
       "    </tr>\n",
       "    <tr>\n",
       "      <th>OO</th>\n",
       "      <td>4.500</td>\n",
       "    </tr>\n",
       "    <tr>\n",
       "      <th>OA</th>\n",
       "      <td>2.400</td>\n",
       "    </tr>\n",
       "    <tr>\n",
       "      <th>AA</th>\n",
       "      <td>1.280</td>\n",
       "    </tr>\n",
       "  </tbody>\n",
       "</table>\n",
       "</div>"
      ],
      "text/plain": [
       "    beta_QQ\n",
       "QQ    0.500\n",
       "QP    0.750\n",
       "QK    0.600\n",
       "QB    1.000\n",
       "QO    1.500\n",
       "QA    0.800\n",
       "PP    1.125\n",
       "PK    0.900\n",
       "PB    1.500\n",
       "PO    2.250\n",
       "PA    1.200\n",
       "KK    0.720\n",
       "KB    1.200\n",
       "KO    1.800\n",
       "KA    0.960\n",
       "BB    2.000\n",
       "BO    3.000\n",
       "BA    1.600\n",
       "OO    4.500\n",
       "OA    2.400\n",
       "AA    1.280"
      ]
     },
     "execution_count": 27,
     "metadata": {},
     "output_type": "execute_result"
    }
   ],
   "source": [
    "# beta = (g x 1) susceptibility of mineral interface to breakage\n",
    "interface_constants = pd.DataFrame({\"beta_QQ\": [(alpha[0] * alpha[1]) / 2 for alpha in itertools.combinations_with_replacement(mineral_constants[\"alpha_Qm\"], 2)]}, index=interface_labels)\n",
    "interface_constants"
   ]
  },
  {
   "cell_type": "markdown",
   "metadata": {},
   "source": [
    "### Intra-crystal breakage"
   ]
  },
  {
   "cell_type": "code",
   "execution_count": null,
   "metadata": {},
   "outputs": [],
   "source": []
  }
 ],
 "metadata": {
  "kernelspec": {
   "display_name": "Python [conda env:sedgen]",
   "language": "python",
   "name": "conda-env-sedgen-py"
  },
  "language_info": {
   "codemirror_mode": {
    "name": "ipython",
    "version": 3
   },
   "file_extension": ".py",
   "mimetype": "text/x-python",
   "name": "python",
   "nbconvert_exporter": "python",
   "pygments_lexer": "ipython3",
   "version": "3.7.6"
  },
  "toc-autonumbering": true
 },
 "nbformat": 4,
 "nbformat_minor": 4
}
