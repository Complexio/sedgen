{
 "cells": [
  {
   "cell_type": "markdown",
   "metadata": {},
   "source": [
    "# Bookkeeping"
   ]
  },
  {
   "cell_type": "code",
   "execution_count": 1,
   "metadata": {},
   "outputs": [],
   "source": [
    "import numpy as np\n",
    "import pandas as pd\n",
    "import itertools\n",
    "\n",
    "from scipy.stats import norm, lognorm, truncnorm\n",
    "import matplotlib.pyplot as plt\n",
    "import seaborn as sns\n",
    "\n",
    "from collections import Counter\n",
    "from sys import getsizeof"
   ]
  },
  {
   "cell_type": "code",
   "execution_count": 2,
   "metadata": {},
   "outputs": [],
   "source": [
    "from sedgen.input import Input\n",
    "from sedgen import weathering"
   ]
  },
  {
   "cell_type": "code",
   "execution_count": 3,
   "metadata": {},
   "outputs": [],
   "source": [
    "%load_ext line_profiler\n",
    "%load_ext memory_profiler"
   ]
  },
  {
   "cell_type": "code",
   "execution_count": 4,
   "metadata": {},
   "outputs": [],
   "source": [
    "# Load jupyter extension to reload packages before executing user code.\n",
    "# https://ipython.readthedocs.io/en/stable/config/extensions/autoreload.html\n",
    "%load_ext autoreload\n",
    "# Reload all packages (except those excluded by %aimport) every time before executing the Python code typed.\n",
    "%autoreload 2"
   ]
  },
  {
   "cell_type": "code",
   "execution_count": 5,
   "metadata": {},
   "outputs": [],
   "source": [
    "def calculate_volume_sphere(r, diameter=False):\n",
    "    if diameter:\n",
    "        r = r/2\n",
    "    \n",
    "    volume = 4/3 * r*r*r * np.pi\n",
    "    return volume"
   ]
  },
  {
   "cell_type": "code",
   "execution_count": 6,
   "metadata": {},
   "outputs": [],
   "source": [
    "def calculate_equivalent_circular_diameter(volume):\n",
    "    diameter = 2 * (3/4 * volume / np.pi) ** (1/3)\n",
    "    \n",
    "    return diameter"
   ]
  },
  {
   "cell_type": "code",
   "execution_count": 2,
   "metadata": {},
   "outputs": [],
   "source": [
    "test_norm = norm()"
   ]
  },
  {
   "cell_type": "code",
   "execution_count": 58,
   "metadata": {},
   "outputs": [],
   "source": [
    "z = np.array([0.1, 0.05, 0.08, 0.02, 0.2, 0.3, 0.1, 0.15])"
   ]
  },
  {
   "cell_type": "code",
   "execution_count": 137,
   "metadata": {},
   "outputs": [
    {
     "data": {
      "text/plain": [
       "array([0.16460905, 0.0617284 , 0.06584362, 0.00823045, 0.08230453,\n",
       "       0.24691358, 0.12345679, 0.24691358])"
      ]
     },
     "execution_count": 137,
     "metadata": {},
     "output_type": "execute_result"
    }
   ],
   "source": [
    "z * y / np.sum(z*y)"
   ]
  },
  {
   "cell_type": "code",
   "execution_count": 135,
   "metadata": {},
   "outputs": [],
   "source": [
    "def grain_location_prob(a):\n",
    "    \"\"\"Creates an array descending and then ascending again to represent \n",
    "    chance of inter crystal breakage of a poly crystalline grain (pcg).\n",
    "    The outer interfaces have a higher chance of breakage than the \n",
    "    inner ones based on their location within the pcg.\n",
    "    This represents a linear function.\n",
    "    Perhaps other functions might be added (spherical) to see the effects later on\n",
    "    \"\"\"\n",
    "    n = a.size\n",
    "    size = int(n/2)\n",
    "    corr = n % 2 != 0\n",
    "    chance = np.append(\n",
    "                    np.arange(size+corr, 0, -1, dtype='uint32'), \n",
    "                    np.arange(1+corr, size+1+corr, 1, dtype='uint32')\n",
    "             )\n",
    "    return chance"
   ]
  },
  {
   "cell_type": "code",
   "execution_count": 129,
   "metadata": {},
   "outputs": [],
   "source": [
    "a = np.random.randint(0, 5, 200000000, dtype='uint8')"
   ]
  },
  {
   "cell_type": "code",
   "execution_count": 130,
   "metadata": {},
   "outputs": [
    {
     "name": "stdout",
     "output_type": "stream",
     "text": [
      "1.06 s ± 17.7 ms per loop (mean ± std. dev. of 7 runs, 1 loop each)\n"
     ]
    }
   ],
   "source": [
    "%timeit grain_location_prob(a)"
   ]
  },
  {
   "cell_type": "code",
   "execution_count": 136,
   "metadata": {},
   "outputs": [
    {
     "data": {
      "text/plain": [
       "Timer unit: 1e-07 s\n",
       "\n",
       "Total time: 0.981924 s\n",
       "File: <ipython-input-135-78e081860892>\n",
       "Function: grain_location_prob at line 1\n",
       "\n",
       "Line #      Hits         Time  Per Hit   % Time  Line Contents\n",
       "==============================================================\n",
       "     1                                           def grain_location_prob(a):\n",
       "     2         1         31.0     31.0      0.0      n = a.size\n",
       "     3         1         19.0     19.0      0.0      size = int(n/2)\n",
       "     4         1          8.0      8.0      0.0      corr = n % 2 != 0\n",
       "     5         1         11.0     11.0      0.0      chance = np.append(\n",
       "     6         1    2410467.0 2410467.0     24.5                      np.arange(size+corr, 0, -1, dtype='uint32'), \n",
       "     7         1    7408682.0 7408682.0     75.5                      np.arange(1+corr, size+1+corr, 1, dtype='uint32')\n",
       "     8                                                        )\n",
       "     9         1         23.0     23.0      0.0      return chance"
      ]
     },
     "metadata": {},
     "output_type": "display_data"
    }
   ],
   "source": [
    "%lprun -f grain_location_prob grain_location_prob(a)"
   ]
  },
  {
   "cell_type": "code",
   "execution_count": 92,
   "metadata": {},
   "outputs": [
    {
     "name": "stdout",
     "output_type": "stream",
     "text": [
      "7.07 µs ± 200 ns per loop (mean ± std. dev. of 7 runs, 100000 loops each)\n"
     ]
    }
   ],
   "source": [
    "%%timeit\n",
    "n = 100\n",
    "size = int(n/2)\n",
    "corr = n % 2 != 0\n",
    "chance = np.append(np.arange(size+corr, 0, -1), np.arange(1+corr, size+1+corr, 1)).astype('uint32')"
   ]
  },
  {
   "cell_type": "code",
   "execution_count": 93,
   "metadata": {},
   "outputs": [
    {
     "data": {
      "text/plain": [
       "array([50, 49, 48, 47, 46, 45, 44, 43, 42, 41, 40, 39, 38, 37, 36, 35, 34,\n",
       "       33, 32, 31, 30, 29, 28, 27, 26, 25, 24, 23, 22, 21, 20, 19, 18, 17,\n",
       "       16, 15, 14, 13, 12, 11, 10,  9,  8,  7,  6,  5,  4,  3,  2,  1,  1,\n",
       "        2,  3,  4,  5,  6,  7,  8,  9, 10, 11, 12, 13, 14, 15, 16, 17, 18,\n",
       "       19, 20, 21, 22, 23, 24, 25, 26, 27, 28, 29, 30, 31, 32, 33, 34, 35,\n",
       "       36, 37, 38, 39, 40, 41, 42, 43, 44, 45, 46, 47, 48, 49, 50],\n",
       "      dtype=uint32)"
      ]
     },
     "execution_count": 93,
     "metadata": {},
     "output_type": "execute_result"
    }
   ],
   "source": [
    "chance"
   ]
  },
  {
   "cell_type": "code",
   "execution_count": 91,
   "metadata": {},
   "outputs": [
    {
     "name": "stdout",
     "output_type": "stream",
     "text": [
      "8.45 µs ± 131 ns per loop (mean ± std. dev. of 7 runs, 100000 loops each)\n"
     ]
    }
   ],
   "source": [
    "%%timeit\n",
    "n = 100\n",
    "size = int(n/2)\n",
    "corr = n % 2 != 0\n",
    "chance = np.array(list(range(size+corr, 0, -1)) + list(range(1+corr, size+1+corr, 1)), dtype='uint32')"
   ]
  },
  {
   "cell_type": "code",
   "execution_count": 80,
   "metadata": {},
   "outputs": [
    {
     "name": "stdout",
     "output_type": "stream",
     "text": [
      "188 ns ± 7.02 ns per loop (mean ± std. dev. of 7 runs, 1000000 loops each)\n"
     ]
    }
   ],
   "source": [
    "%timeit range(0, 100, 1)"
   ]
  },
  {
   "cell_type": "code",
   "execution_count": 81,
   "metadata": {},
   "outputs": [
    {
     "name": "stdout",
     "output_type": "stream",
     "text": [
      "774 ns ± 45.9 ns per loop (mean ± std. dev. of 7 runs, 1000000 loops each)\n"
     ]
    }
   ],
   "source": [
    "%timeit np.arange(0, 100, 1)"
   ]
  },
  {
   "cell_type": "code",
   "execution_count": 27,
   "metadata": {},
   "outputs": [],
   "source": [
    "y= np.array([4, 3, 2, 1, 1, 2, 3, 4])"
   ]
  },
  {
   "cell_type": "code",
   "execution_count": 28,
   "metadata": {},
   "outputs": [
    {
     "data": {
      "text/plain": [
       "array([0.2 , 0.15, 0.1 , 0.05, 0.05, 0.1 , 0.15, 0.2 ])"
      ]
     },
     "execution_count": 28,
     "metadata": {},
     "output_type": "execute_result"
    }
   ],
   "source": [
    "y / np.sum(y)"
   ]
  },
  {
   "cell_type": "code",
   "execution_count": 23,
   "metadata": {},
   "outputs": [
    {
     "data": {
      "text/plain": [
       "[<matplotlib.lines.Line2D at 0x1896ba8ae88>]"
      ]
     },
     "execution_count": 23,
     "metadata": {},
     "output_type": "execute_result"
    },
    {
     "data": {
      "image/png": "[encoded data removed]",
      "text/plain": [
       "<Figure size 432x288 with 1 Axes>"
      ]
     },
     "metadata": {
      "needs_background": "light"
     },
     "output_type": "display_data"
    }
   ],
   "source": [
    "x = np.arange(-4, 4, 1)\n",
    "plt.plot(x, norm.pdf(x))"
   ]
  },
  {
   "cell_type": "code",
   "execution_count": 24,
   "metadata": {},
   "outputs": [],
   "source": [
    "sum_pdf = np.sum(norm.pdf(x)**-1)\n",
    "normalized_pdf = norm.pdf(x)**-1 / sum_pdf"
   ]
  },
  {
   "cell_type": "code",
   "execution_count": 25,
   "metadata": {},
   "outputs": [
    {
     "data": {
      "text/plain": [
       "[<matplotlib.lines.Line2D at 0x1896bad0e88>]"
      ]
     },
     "execution_count": 25,
     "metadata": {},
     "output_type": "execute_result"
    },
    {
     "data": {
      "image/png": "[encoded data removed]",
      "text/plain": [
       "<Figure size 432x288 with 1 Axes>"
      ]
     },
     "metadata": {
      "needs_background": "light"
     },
     "output_type": "display_data"
    }
   ],
   "source": [
    "plt.plot(x, normalized_pdf)"
   ]
  },
  {
   "cell_type": "code",
   "execution_count": 15,
   "metadata": {},
   "outputs": [],
   "source": [
    "testnorm = norm(0, 1)"
   ]
  },
  {
   "cell_type": "code",
   "execution_count": 51,
   "metadata": {},
   "outputs": [],
   "source": [
    "testnorm_sample = testnorm.rvs(100000)"
   ]
  },
  {
   "cell_type": "code",
   "execution_count": 52,
   "metadata": {},
   "outputs": [
    {
     "data": {
      "text/plain": [
       "(array([2.0000e+01, 3.4300e+02, 2.9880e+03, 1.3163e+04, 2.9458e+04,\n",
       "        3.1911e+04, 1.7147e+04, 4.3760e+03, 5.5800e+02, 3.6000e+01]),\n",
       " array([-4.42934353, -3.56304014, -2.69673675, -1.83043336, -0.96412997,\n",
       "        -0.09782658,  0.76847681,  1.6347802 ,  2.50108359,  3.36738697,\n",
       "         4.23369036]),\n",
       " <a list of 10 Patch objects>)"
      ]
     },
     "execution_count": 52,
     "metadata": {},
     "output_type": "execute_result"
    },
    {
     "data": {
      "image/png": "[encoded data removed]",
      "text/plain": [
       "<Figure size 432x288 with 1 Axes>"
      ]
     },
     "metadata": {
      "needs_background": "light"
     },
     "output_type": "display_data"
    }
   ],
   "source": [
    "plt.hist(testnorm_sample)"
   ]
  },
  {
   "cell_type": "code",
   "execution_count": 35,
   "metadata": {},
   "outputs": [],
   "source": [
    "mu = 0\n",
    "sigma = 1\n",
    "\n",
    "muL = np.exp(mu + 0.5*sigma**2)\n",
    "sigmaL = np.exp(2*mu + sigma**2) * (np.exp(sigma**2) - 1)"
   ]
  },
  {
   "cell_type": "code",
   "execution_count": 109,
   "metadata": {},
   "outputs": [],
   "source": [
    "mean_diam = np.log(0.120)\n",
    "std_diam = 0.45"
   ]
  },
  {
   "cell_type": "code",
   "execution_count": 121,
   "metadata": {},
   "outputs": [
    {
     "data": {
      "text/plain": [
       "1.568312185490169"
      ]
     },
     "execution_count": 121,
     "metadata": {},
     "output_type": "execute_result"
    }
   ],
   "source": [
    "np.exp(0.45)"
   ]
  },
  {
   "cell_type": "code",
   "execution_count": 110,
   "metadata": {},
   "outputs": [
    {
     "data": {
      "text/plain": [
       "0.4054651081081644"
      ]
     },
     "execution_count": 110,
     "metadata": {},
     "output_type": "execute_result"
    }
   ],
   "source": [
    "np.log(1.5)"
   ]
  },
  {
   "cell_type": "code",
   "execution_count": 115,
   "metadata": {},
   "outputs": [
    {
     "data": {
      "text/plain": [
       "(-inf, 12.26991315080499)"
      ]
     },
     "execution_count": 115,
     "metadata": {},
     "output_type": "execute_result"
    }
   ],
   "source": [
    "a, b = (-np.inf - mean_diam) / std_diam, (np.log(30) - mean_diam) / std_diam\n",
    "a, b"
   ]
  },
  {
   "cell_type": "code",
   "execution_count": 116,
   "metadata": {},
   "outputs": [],
   "source": [
    "testnorm_trunc = truncnorm(loc=mean_diam, scale=std_diam, a=a, b=b)"
   ]
  },
  {
   "cell_type": "code",
   "execution_count": 120,
   "metadata": {},
   "outputs": [
    {
     "data": {
      "text/plain": [
       "(array([5.396107e+06, 3.985405e+06, 5.378970e+05, 6.821800e+04,\n",
       "        1.017200e+04, 1.738000e+03, 3.680000e+02, 6.600000e+01,\n",
       "        2.500000e+01, 4.000000e+00]),\n",
       " array([0.01111766, 0.12550662, 0.23989557, 0.35428453, 0.46867348,\n",
       "        0.58306244, 0.69745139, 0.81184035, 0.92622931, 1.04061826,\n",
       "        1.15500722]),\n",
       " <a list of 10 Patch objects>)"
      ]
     },
     "execution_count": 120,
     "metadata": {},
     "output_type": "execute_result"
    },
    {
     "data": {
      "image/png": "[encoded data removed]",
      "text/plain": [
       "<Figure size 432x288 with 1 Axes>"
      ]
     },
     "metadata": {
      "needs_background": "light"
     },
     "output_type": "display_data"
    }
   ],
   "source": [
    "plt.hist(np.exp(testnorm_trunc.rvs(10000000)))"
   ]
  },
  {
   "cell_type": "code",
   "execution_count": 118,
   "metadata": {},
   "outputs": [
    {
     "data": {
      "text/plain": [
       "(array([   59.,   567.,  3952., 14248., 28289., 29974., 16937.,  5103.,\n",
       "          806.,    65.]),\n",
       " array([-3.98369919, -3.61727289, -3.2508466 , -2.88442031, -2.51799402,\n",
       "        -2.15156773, -1.78514144, -1.41871515, -1.05228885, -0.68586256,\n",
       "        -0.31943627]),\n",
       " <a list of 10 Patch objects>)"
      ]
     },
     "execution_count": 118,
     "metadata": {},
     "output_type": "execute_result"
    },
    {
     "data": {
      "image/png": "[encoded data removed]",
      "text/plain": [
       "<Figure size 432x288 with 1 Axes>"
      ]
     },
     "metadata": {
      "needs_background": "light"
     },
     "output_type": "display_data"
    }
   ],
   "source": [
    "plt.hist(testnorm_trunc.rvs(100000))"
   ]
  },
  {
   "cell_type": "code",
   "execution_count": 36,
   "metadata": {},
   "outputs": [
    {
     "data": {
      "text/plain": [
       "1.6487212707001282"
      ]
     },
     "execution_count": 36,
     "metadata": {},
     "output_type": "execute_result"
    },
    {
     "data": {
      "text/plain": [
       "4.670774270471604"
      ]
     },
     "execution_count": 36,
     "metadata": {},
     "output_type": "execute_result"
    }
   ],
   "source": [
    "muL\n",
    "sigmaL"
   ]
  },
  {
   "cell_type": "code",
   "execution_count": 53,
   "metadata": {},
   "outputs": [
    {
     "data": {
      "text/plain": [
       "1.0023874704018616"
      ]
     },
     "execution_count": 53,
     "metadata": {},
     "output_type": "execute_result"
    },
    {
     "data": {
      "text/plain": [
       "1.641814648980638"
      ]
     },
     "execution_count": 53,
     "metadata": {},
     "output_type": "execute_result"
    },
    {
     "data": {
      "text/plain": [
       "2.1134418866662004"
      ]
     },
     "execution_count": 53,
     "metadata": {},
     "output_type": "execute_result"
    }
   ],
   "source": [
    "np.median(np.exp(testnorm_sample))\n",
    "np.mean(np.exp(testnorm_sample))\n",
    "np.std(np.exp(testnorm_sample))"
   ]
  },
  {
   "cell_type": "code",
   "execution_count": 46,
   "metadata": {},
   "outputs": [],
   "source": [
    "testlog_norm = lognorm(sigma, 0, np.exp(mu))"
   ]
  },
  {
   "cell_type": "code",
   "execution_count": 49,
   "metadata": {},
   "outputs": [],
   "source": [
    "testlog_norm_sample = testlog_norm.rvs(100000)"
   ]
  },
  {
   "cell_type": "code",
   "execution_count": 50,
   "metadata": {},
   "outputs": [
    {
     "data": {
      "text/plain": [
       "0.9999245334682089"
      ]
     },
     "execution_count": 50,
     "metadata": {},
     "output_type": "execute_result"
    },
    {
     "data": {
      "text/plain": [
       "1.6425206061530582"
      ]
     },
     "execution_count": 50,
     "metadata": {},
     "output_type": "execute_result"
    },
    {
     "data": {
      "text/plain": [
       "2.1831273037119074"
      ]
     },
     "execution_count": 50,
     "metadata": {},
     "output_type": "execute_result"
    }
   ],
   "source": [
    "np.median(testlog_norm_sample)\n",
    "np.mean(testlog_norm_sample)\n",
    "np.std(testlog_norm_sample)"
   ]
  },
  {
   "cell_type": "code",
   "execution_count": 124,
   "metadata": {},
   "outputs": [
    {
     "data": {
      "text/plain": [
       "(array([9.9759e+04, 2.1900e+02, 1.6000e+01, 4.0000e+00, 1.0000e+00,\n",
       "        0.0000e+00, 0.0000e+00, 0.0000e+00, 0.0000e+00, 1.0000e+00]),\n",
       " array([1.17846950e-02, 1.65431080e+01, 3.30744313e+01, 4.96057546e+01,\n",
       "        6.61370779e+01, 8.26684012e+01, 9.91997245e+01, 1.15731048e+02,\n",
       "        1.32262371e+02, 1.48793694e+02, 1.65325018e+02]),\n",
       " <a list of 10 Patch objects>)"
      ]
     },
     "execution_count": 124,
     "metadata": {},
     "output_type": "execute_result"
    },
    {
     "data": {
      "text/plain": [
       "(array([9.7409e+04, 2.1720e+03, 3.0700e+02, 7.1000e+01, 2.1000e+01,\n",
       "        1.4000e+01, 1.0000e+00, 3.0000e+00, 1.0000e+00, 1.0000e+00]),\n",
       " array([1.19223138e-02, 6.90785931e+00, 1.38037963e+01, 2.06997333e+01,\n",
       "        2.75956703e+01, 3.44916073e+01, 4.13875443e+01, 4.82834813e+01,\n",
       "        5.51794183e+01, 6.20753553e+01, 6.89712922e+01]),\n",
       " <a list of 10 Patch objects>)"
      ]
     },
     "execution_count": 124,
     "metadata": {},
     "output_type": "execute_result"
    },
    {
     "data": {
      "image/png": "[encoded data removed]",
      "text/plain": [
       "<Figure size 432x288 with 1 Axes>"
      ]
     },
     "metadata": {
      "needs_background": "light"
     },
     "output_type": "display_data"
    }
   ],
   "source": [
    "plt.hist(testlog_norm_sample)\n",
    "plt.hist(np.exp(testnorm_sample))"
   ]
  },
  {
   "cell_type": "code",
   "execution_count": 5,
   "metadata": {},
   "outputs": [
    {
     "data": {
      "text/plain": [
       "72"
      ]
     },
     "execution_count": 5,
     "metadata": {},
     "output_type": "execute_result"
    }
   ],
   "source": [
    "getsizeof([\"Q\"])"
   ]
  },
  {
   "cell_type": "code",
   "execution_count": 15,
   "metadata": {},
   "outputs": [
    {
     "data": {
      "text/plain": [
       "1525.8789672851562"
      ]
     },
     "execution_count": 15,
     "metadata": {},
     "output_type": "execute_result"
    }
   ],
   "source": [
    "getsizeof([\"Q\"]*200000000)/ 1024**2"
   ]
  },
  {
   "cell_type": "code",
   "execution_count": 18,
   "metadata": {},
   "outputs": [
    {
     "data": {
      "text/plain": [
       "(array([0, 1, 2]), array([2, 3, 2], dtype=int64))"
      ]
     },
     "execution_count": 18,
     "metadata": {},
     "output_type": "execute_result"
    }
   ],
   "source": [
    "np.unique(np.array([0, 1, 2, 1, 0, 2, 1]), return_counts=True)"
   ]
  },
  {
   "cell_type": "code",
   "execution_count": 21,
   "metadata": {},
   "outputs": [
    {
     "data": {
      "text/plain": [
       "(array(['Q', 'QK', 'QP', 'QQQQ'], dtype='<U4'),\n",
       " array([1, 1, 1, 1], dtype=int64))"
      ]
     },
     "execution_count": 21,
     "metadata": {},
     "output_type": "execute_result"
    }
   ],
   "source": [
    "np.unique(np.array([\"QQQQ\", \"QP\", \"QK\", \"Q\"]), return_counts=True)"
   ]
  },
  {
   "cell_type": "code",
   "execution_count": 23,
   "metadata": {},
   "outputs": [
    {
     "data": {
      "text/plain": [
       "array([3, 3, 2, 1, 1], dtype=int64)"
      ]
     },
     "execution_count": 23,
     "metadata": {},
     "output_type": "execute_result"
    }
   ],
   "source": [
    "np.bincount(np.array([0, 1, 2, 4, 3, 2, 1, 0, 1, 0]))"
   ]
  },
  {
   "cell_type": "code",
   "execution_count": 24,
   "metadata": {},
   "outputs": [],
   "source": [
    "def pairs_F(a):\n",
    "    M = a.max() + 1\n",
    "    a = np.ascontiguousarray(a.T) # contiguous columns (rows after .T)\n",
    "                                  # appear to be typically perform better\n",
    "                                  # thanks @ning chen\n",
    "    return sum(np.bincount((M * a[j] + a[j+1:]).ravel(), None, M*M)\n",
    "               for j in range(len(a) - 1)).reshape(M, M)"
   ]
  },
  {
   "cell_type": "code",
   "execution_count": 80,
   "metadata": {},
   "outputs": [],
   "source": [
    "a = np.array([0, 1, 1, 2, 1])"
   ]
  },
  {
   "cell_type": "code",
   "execution_count": 57,
   "metadata": {},
   "outputs": [
    {
     "name": "stdout",
     "output_type": "stream",
     "text": [
      "0 1\n",
      "1 1\n",
      "1 2\n"
     ]
    }
   ],
   "source": [
    "for i in range(a.shape[0] - 1):\n",
    "    print(a[i], a[i+1])"
   ]
  },
  {
   "cell_type": "code",
   "execution_count": 81,
   "metadata": {},
   "outputs": [],
   "source": [
    "interfaces = []\n",
    "\n",
    "for i in range(a.shape[0] - 1):\n",
    "    interfaces.append((a[i], a[i+1]))"
   ]
  },
  {
   "cell_type": "code",
   "execution_count": 107,
   "metadata": {},
   "outputs": [
    {
     "name": "stdout",
     "output_type": "stream",
     "text": [
      "(0, 1)\n",
      "(0, 2)\n",
      "(0, 3)\n",
      "(0, 2)\n",
      "(1, 2)\n",
      "(1, 3)\n",
      "(1, 2)\n",
      "(2, 3)\n",
      "(2, 2)\n",
      "(3, 2)\n"
     ]
    }
   ],
   "source": [
    "for i in itertools.combinations(np.array([0, 1, 2, 3, 2]), 2):\n",
    "    print(i)"
   ]
  },
  {
   "cell_type": "code",
   "execution_count": 108,
   "metadata": {},
   "outputs": [],
   "source": [
    "import more_itertools"
   ]
  },
  {
   "cell_type": "code",
   "execution_count": 111,
   "metadata": {},
   "outputs": [
    {
     "name": "stdout",
     "output_type": "stream",
     "text": [
      "(0, 1)\n",
      "(0, 2)\n",
      "(0, 3)\n",
      "(1, 2)\n",
      "(1, 3)\n",
      "(2, 3)\n",
      "(2, 2)\n",
      "(3, 2)\n"
     ]
    }
   ],
   "source": [
    "for i in more_itertools.distinct_combinations(np.array([0, 1, 2, 3, 2]), 2):\n",
    "    print(i)"
   ]
  },
  {
   "cell_type": "code",
   "execution_count": 99,
   "metadata": {},
   "outputs": [
    {
     "data": {
      "text/plain": [
       "[(0, 1), (1, 1), (1, 2), (2, 1)]"
      ]
     },
     "execution_count": 99,
     "metadata": {},
     "output_type": "execute_result"
    }
   ],
   "source": [
    "interfaces"
   ]
  },
  {
   "cell_type": "code",
   "execution_count": 100,
   "metadata": {},
   "outputs": [],
   "source": [
    "interfaces.sort()"
   ]
  },
  {
   "cell_type": "code",
   "execution_count": 101,
   "metadata": {},
   "outputs": [
    {
     "data": {
      "text/plain": [
       "[(0, 1), (1, 1), (1, 2), (2, 1)]"
      ]
     },
     "execution_count": 101,
     "metadata": {},
     "output_type": "execute_result"
    }
   ],
   "source": [
    "interfaces"
   ]
  },
  {
   "cell_type": "code",
   "execution_count": 98,
   "metadata": {},
   "outputs": [
    {
     "data": {
      "text/plain": [
       "array([0, 1, 2])"
      ]
     },
     "execution_count": 98,
     "metadata": {},
     "output_type": "execute_result"
    }
   ],
   "source": [
    "np.unique(test)"
   ]
  },
  {
   "cell_type": "code",
   "execution_count": 42,
   "metadata": {},
   "outputs": [
    {
     "data": {
      "text/plain": [
       "array([1, 2], dtype=int64)"
      ]
     },
     "execution_count": 42,
     "metadata": {},
     "output_type": "execute_result"
    }
   ],
   "source": [
    "np.bincount(np.array([0, 1, 1]))"
   ]
  },
  {
   "cell_type": "code",
   "execution_count": 72,
   "metadata": {},
   "outputs": [],
   "source": []
  },
  {
   "cell_type": "code",
   "execution_count": 127,
   "metadata": {},
   "outputs": [
    {
     "data": {
      "text/plain": [
       "array([0, 1, 1, 2, 1], dtype=uint8)"
      ]
     },
     "execution_count": 127,
     "metadata": {},
     "output_type": "execute_result"
    }
   ],
   "source": [
    "a"
   ]
  },
  {
   "cell_type": "code",
   "execution_count": 124,
   "metadata": {},
   "outputs": [
    {
     "data": {
      "text/plain": [
       "5"
      ]
     },
     "execution_count": 124,
     "metadata": {},
     "output_type": "execute_result"
    }
   ],
   "source": [
    "a = a.astype('uint8')\n",
    "a.nbytes"
   ]
  },
  {
   "cell_type": "code",
   "execution_count": 131,
   "metadata": {},
   "outputs": [
    {
     "data": {
      "text/plain": [
       "array([[0, 1],\n",
       "       [1, 2]], dtype=uint8)"
      ]
     },
     "execution_count": 131,
     "metadata": {},
     "output_type": "execute_result"
    }
   ],
   "source": []
  },
  {
   "cell_type": "code",
   "execution_count": 141,
   "metadata": {},
   "outputs": [],
   "source": [
    "a = np.random.randint(0, 6, size=int(1e7), dtype='uint8')"
   ]
  },
  {
   "cell_type": "code",
   "execution_count": 142,
   "metadata": {},
   "outputs": [
    {
     "name": "stdout",
     "output_type": "stream",
     "text": [
      "3.21 s ± 174 ms per loop (mean ± std. dev. of 7 runs, 1 loop each)\n"
     ]
    }
   ],
   "source": [
    "%timeit Counter(zip(a, a[1:]))"
   ]
  },
  {
   "cell_type": "code",
   "execution_count": 190,
   "metadata": {},
   "outputs": [],
   "source": [
    "b = \"QPQKBQQPQQPQPBBOQPQK\" * 10000000"
   ]
  },
  {
   "cell_type": "code",
   "execution_count": 191,
   "metadata": {},
   "outputs": [
    {
     "data": {
      "text/plain": [
       "200000000"
      ]
     },
     "execution_count": 191,
     "metadata": {},
     "output_type": "execute_result"
    }
   ],
   "source": [
    "len(b)"
   ]
  },
  {
   "cell_type": "code",
   "execution_count": 7,
   "metadata": {},
   "outputs": [],
   "source": [
    "labels = [\"\".join(pair) for pair in\n",
    "             itertools.combinations_with_replacement(\"QPKBOA\", 2)]"
   ]
  },
  {
   "cell_type": "code",
   "execution_count": 8,
   "metadata": {},
   "outputs": [],
   "source": [
    "labels = [\"\".join(pair) for pair in\n",
    "             itertools.product(\"QPKBOA\", repeat=2)]"
   ]
  },
  {
   "cell_type": "code",
   "execution_count": 9,
   "metadata": {},
   "outputs": [
    {
     "data": {
      "text/plain": [
       "36"
      ]
     },
     "execution_count": 9,
     "metadata": {},
     "output_type": "execute_result"
    }
   ],
   "source": [
    "len(labels)"
   ]
  },
  {
   "cell_type": "code",
   "execution_count": 10,
   "metadata": {},
   "outputs": [
    {
     "data": {
      "text/plain": [
       "['QQ',\n",
       " 'QP',\n",
       " 'QK',\n",
       " 'QB',\n",
       " 'QO',\n",
       " 'QA',\n",
       " 'PQ',\n",
       " 'PP',\n",
       " 'PK',\n",
       " 'PB',\n",
       " 'PO',\n",
       " 'PA',\n",
       " 'KQ',\n",
       " 'KP',\n",
       " 'KK',\n",
       " 'KB',\n",
       " 'KO',\n",
       " 'KA',\n",
       " 'BQ',\n",
       " 'BP',\n",
       " 'BK',\n",
       " 'BB',\n",
       " 'BO',\n",
       " 'BA',\n",
       " 'OQ',\n",
       " 'OP',\n",
       " 'OK',\n",
       " 'OB',\n",
       " 'OO',\n",
       " 'OA',\n",
       " 'AQ',\n",
       " 'AP',\n",
       " 'AK',\n",
       " 'AB',\n",
       " 'AO',\n",
       " 'AA']"
      ]
     },
     "execution_count": 10,
     "metadata": {},
     "output_type": "execute_result"
    }
   ],
   "source": [
    "labels"
   ]
  },
  {
   "cell_type": "code",
   "execution_count": 192,
   "metadata": {},
   "outputs": [
    {
     "data": {
      "text/plain": [
       "190.7349100112915"
      ]
     },
     "execution_count": 192,
     "metadata": {},
     "output_type": "execute_result"
    }
   ],
   "source": [
    "getsizeof(b) / 1024**2"
   ]
  },
  {
   "cell_type": "code",
   "execution_count": 11,
   "metadata": {},
   "outputs": [
    {
     "data": {
      "text/plain": [
       "[('Q', 'P'),\n",
       " ('Q', 'K'),\n",
       " ('Q', 'B'),\n",
       " ('Q', 'O'),\n",
       " ('Q', 'A'),\n",
       " ('P', 'K'),\n",
       " ('P', 'B'),\n",
       " ('P', 'O'),\n",
       " ('P', 'A'),\n",
       " ('K', 'B'),\n",
       " ('K', 'O'),\n",
       " ('K', 'A'),\n",
       " ('B', 'O'),\n",
       " ('B', 'A'),\n",
       " ('O', 'A')]"
      ]
     },
     "execution_count": 11,
     "metadata": {},
     "output_type": "execute_result"
    }
   ],
   "source": [
    "list(itertools.combinations(\"QPKBOA\", 2))"
   ]
  },
  {
   "cell_type": "code",
   "execution_count": 12,
   "metadata": {},
   "outputs": [],
   "source": [
    "number_freq = np.array([[0.3, 0.25, 0.2, 0.1, 0.05, 0.1]])"
   ]
  },
  {
   "cell_type": "code",
   "execution_count": 13,
   "metadata": {},
   "outputs": [
    {
     "data": {
      "text/plain": [
       "array([[0.09  , 0.075 , 0.06  , 0.03  , 0.015 , 0.03  ],\n",
       "       [0.075 , 0.0625, 0.05  , 0.025 , 0.0125, 0.025 ],\n",
       "       [0.06  , 0.05  , 0.04  , 0.02  , 0.01  , 0.02  ],\n",
       "       [0.03  , 0.025 , 0.02  , 0.01  , 0.005 , 0.01  ],\n",
       "       [0.015 , 0.0125, 0.01  , 0.005 , 0.0025, 0.005 ],\n",
       "       [0.03  , 0.025 , 0.02  , 0.01  , 0.005 , 0.01  ]])"
      ]
     },
     "execution_count": 13,
     "metadata": {},
     "output_type": "execute_result"
    }
   ],
   "source": [
    "interface_weights = number_freq * number_freq.T\n",
    "interface_weights"
   ]
  },
  {
   "cell_type": "code",
   "execution_count": 14,
   "metadata": {},
   "outputs": [],
   "source": [
    "interface_weights_mod = np.array([[0.06  , 0.075 , 0.06  , 0.05  , 0.015 , 0.03  ],\n",
    "                                  [0.075 , 0.0625, 0.05  , 0.025 , 0.0125, 0.025 ],\n",
    "                                  [0.06  , 0.05  , 0.04  , 0.03  , 0.01  , 0.02  ],\n",
    "                                  [0.03  , 0.025 , 0.02  , 0.01  , 0.005 , 0.01  ],\n",
    "                                  [0.015 , 0.0125, 0.01  , 0.005 , 0.0025, 0.005 ],\n",
    "                                  [0.03  , 0.025 , 0.01  , 0.02  , 0.005 , 0.01  ]])"
   ]
  },
  {
   "cell_type": "code",
   "execution_count": 15,
   "metadata": {},
   "outputs": [
    {
     "data": {
      "text/plain": [
       "array([0.3 , 0.25, 0.2 , 0.1 , 0.05, 0.1 ])"
      ]
     },
     "execution_count": 15,
     "metadata": {},
     "output_type": "execute_result"
    }
   ],
   "source": [
    "interface_weights.sum(axis=1)"
   ]
  },
  {
   "cell_type": "code",
   "execution_count": 16,
   "metadata": {},
   "outputs": [
    {
     "data": {
      "text/plain": [
       "array([0.3 , 0.25, 0.2 , 0.1 , 0.05, 0.1 ])"
      ]
     },
     "execution_count": 16,
     "metadata": {},
     "output_type": "execute_result"
    }
   ],
   "source": [
    "interface_weights[0] / 0.3"
   ]
  },
  {
   "cell_type": "code",
   "execution_count": 17,
   "metadata": {},
   "outputs": [],
   "source": [
    "interface_weights_normalized = np.divide(interface_weights, np.sum(interface_weights, axis=1).reshape(-1, 1))"
   ]
  },
  {
   "cell_type": "code",
   "execution_count": 18,
   "metadata": {},
   "outputs": [
    {
     "data": {
      "text/plain": [
       "array([0.27, 0.25, 0.19, 0.14, 0.05, 0.1 ])"
      ]
     },
     "execution_count": 18,
     "metadata": {},
     "output_type": "execute_result"
    }
   ],
   "source": [
    "np.sum(interface_weights_mod, axis=0)"
   ]
  },
  {
   "cell_type": "code",
   "execution_count": 19,
   "metadata": {},
   "outputs": [
    {
     "data": {
      "text/plain": [
       "array([0.29, 0.25, 0.21, 0.1 , 0.05, 0.1 ])"
      ]
     },
     "execution_count": 19,
     "metadata": {},
     "output_type": "execute_result"
    }
   ],
   "source": [
    "np.sum(interface_weights_mod, axis=1)"
   ]
  },
  {
   "cell_type": "code",
   "execution_count": 20,
   "metadata": {},
   "outputs": [],
   "source": [
    "interface_weights_normalized_mod = np.divide(interface_weights_mod, np.sum(interface_weights_mod, axis=1).reshape(-1, 1))"
   ]
  },
  {
   "cell_type": "code",
   "execution_count": 21,
   "metadata": {},
   "outputs": [
    {
     "data": {
      "text/plain": [
       "array([[0.3 , 0.25, 0.2 , 0.1 , 0.05, 0.1 ],\n",
       "       [0.3 , 0.25, 0.2 , 0.1 , 0.05, 0.1 ],\n",
       "       [0.3 , 0.25, 0.2 , 0.1 , 0.05, 0.1 ],\n",
       "       [0.3 , 0.25, 0.2 , 0.1 , 0.05, 0.1 ],\n",
       "       [0.3 , 0.25, 0.2 , 0.1 , 0.05, 0.1 ],\n",
       "       [0.3 , 0.25, 0.2 , 0.1 , 0.05, 0.1 ]])"
      ]
     },
     "execution_count": 21,
     "metadata": {},
     "output_type": "execute_result"
    }
   ],
   "source": [
    "interface_weights_normalized"
   ]
  },
  {
   "cell_type": "code",
   "execution_count": 22,
   "metadata": {},
   "outputs": [
    {
     "data": {
      "text/plain": [
       "array([[0.20689655, 0.25862069, 0.20689655, 0.17241379, 0.05172414,\n",
       "        0.10344828],\n",
       "       [0.3       , 0.25      , 0.2       , 0.1       , 0.05      ,\n",
       "        0.1       ],\n",
       "       [0.28571429, 0.23809524, 0.19047619, 0.14285714, 0.04761905,\n",
       "        0.0952381 ],\n",
       "       [0.3       , 0.25      , 0.2       , 0.1       , 0.05      ,\n",
       "        0.1       ],\n",
       "       [0.3       , 0.25      , 0.2       , 0.1       , 0.05      ,\n",
       "        0.1       ],\n",
       "       [0.3       , 0.25      , 0.1       , 0.2       , 0.05      ,\n",
       "        0.1       ]])"
      ]
     },
     "execution_count": 22,
     "metadata": {},
     "output_type": "execute_result"
    }
   ],
   "source": [
    "interface_weights_normalized_mod"
   ]
  },
  {
   "cell_type": "code",
   "execution_count": 48,
   "metadata": {},
   "outputs": [
    {
     "data": {
      "text/plain": [
       "array([1., 1., 1., 1., 1., 1.])"
      ]
     },
     "execution_count": 48,
     "metadata": {},
     "output_type": "execute_result"
    }
   ],
   "source": [
    "interface_weights_normalized_mod.sum(axis=1)"
   ]
  },
  {
   "cell_type": "code",
   "execution_count": 51,
   "metadata": {},
   "outputs": [
    {
     "data": {
      "text/plain": [
       "array([1., 1., 1., 1., 1., 1.])"
      ]
     },
     "execution_count": 51,
     "metadata": {},
     "output_type": "execute_result"
    }
   ],
   "source": [
    "interface_weights_normalized.sum(axis=1)"
   ]
  },
  {
   "cell_type": "code",
   "execution_count": 34,
   "metadata": {},
   "outputs": [],
   "source": [
    "interfaces_classification = {k:v for k,v in zip(range(36), labels)}"
   ]
  },
  {
   "cell_type": "code",
   "execution_count": 35,
   "metadata": {},
   "outputs": [
    {
     "data": {
      "text/plain": [
       "{0: 'QQ',\n",
       " 1: 'QP',\n",
       " 2: 'QK',\n",
       " 3: 'QB',\n",
       " 4: 'QO',\n",
       " 5: 'QA',\n",
       " 6: 'PQ',\n",
       " 7: 'PP',\n",
       " 8: 'PK',\n",
       " 9: 'PB',\n",
       " 10: 'PO',\n",
       " 11: 'PA',\n",
       " 12: 'KQ',\n",
       " 13: 'KP',\n",
       " 14: 'KK',\n",
       " 15: 'KB',\n",
       " 16: 'KO',\n",
       " 17: 'KA',\n",
       " 18: 'BQ',\n",
       " 19: 'BP',\n",
       " 20: 'BK',\n",
       " 21: 'BB',\n",
       " 22: 'BO',\n",
       " 23: 'BA',\n",
       " 24: 'OQ',\n",
       " 25: 'OP',\n",
       " 26: 'OK',\n",
       " 27: 'OB',\n",
       " 28: 'OO',\n",
       " 29: 'OA',\n",
       " 30: 'AQ',\n",
       " 31: 'AP',\n",
       " 32: 'AK',\n",
       " 33: 'AB',\n",
       " 34: 'AO',\n",
       " 35: 'AA'}"
      ]
     },
     "execution_count": 35,
     "metadata": {},
     "output_type": "execute_result"
    }
   ],
   "source": [
    "interfaces_classification"
   ]
  },
  {
   "cell_type": "code",
   "execution_count": 25,
   "metadata": {},
   "outputs": [
    {
     "name": "stdout",
     "output_type": "stream",
     "text": [
      "Wall time: 7.24 s\n"
     ]
    }
   ],
   "source": [
    "%%time\n",
    "test_array = np.zeros(200000, dtype='uint8')\n",
    "\n",
    "for i in range(test_array.shape[0]):\n",
    "    test_array[i] = np.random.choice(list(range(6)), 1, p=interface_weights_normalized_mod[test_array[i-1]])[0]"
   ]
  },
  {
   "cell_type": "code",
   "execution_count": 26,
   "metadata": {},
   "outputs": [],
   "source": [
    "possibilities = np.arange(6, dtype='uint8')"
   ]
  },
  {
   "cell_type": "code",
   "execution_count": 27,
   "metadata": {},
   "outputs": [
    {
     "name": "stdout",
     "output_type": "stream",
     "text": [
      "Wall time: 7.57 s\n"
     ]
    }
   ],
   "source": [
    "%%time\n",
    "Q = np.random.choice(possibilities, int(number_freq[0][0] * 200e6)+20000, p=interface_weights_normalized[0])\n",
    "P = np.random.choice(possibilities, int(number_freq[0][1] * 200e6)+20000, p=interface_weights_normalized[1])\n",
    "K = np.random.choice(possibilities, int(number_freq[0][2] * 200e6)+20000, p=interface_weights_normalized[2])\n",
    "B = np.random.choice(possibilities, int(number_freq[0][3] * 200e6)+20000, p=interface_weights_normalized[3])\n",
    "O = np.random.choice(possibilities, int(number_freq[0][4] * 200e6)+20000, p=interface_weights_normalized[4])\n",
    "A = np.random.choice(possibilities, int(number_freq[0][5] * 200e6)+20000, p=interface_weights_normalized[5])"
   ]
  },
  {
   "cell_type": "code",
   "execution_count": 28,
   "metadata": {},
   "outputs": [],
   "source": [
    "interfaces_random = [Q, P, K, B, O, A]"
   ]
  },
  {
   "cell_type": "code",
   "execution_count": 29,
   "metadata": {},
   "outputs": [
    {
     "data": {
      "text/plain": [
       "[array([1, 1, 4, ..., 2, 0, 1], dtype=uint8),\n",
       " array([2, 0, 4, ..., 1, 1, 1], dtype=uint8),\n",
       " array([3, 0, 5, ..., 0, 0, 0], dtype=uint8),\n",
       " array([1, 3, 1, ..., 3, 3, 2], dtype=uint8),\n",
       " array([0, 3, 1, ..., 1, 3, 5], dtype=uint8),\n",
       " array([4, 0, 2, ..., 1, 1, 3], dtype=uint8)]"
      ]
     },
     "execution_count": 29,
     "metadata": {},
     "output_type": "execute_result"
    }
   ],
   "source": [
    "interfaces_random"
   ]
  },
  {
   "cell_type": "code",
   "execution_count": 30,
   "metadata": {},
   "outputs": [],
   "source": [
    "def generate_interface_array(interfaces_random, N=200e6, print_step=1000000):\n",
    "    \n",
    "#     test_array = np.zeros(int(N), dtype='int8')\n",
    "    test_array = [0]\n",
    "    append_ = test_array.append\n",
    "    counters = [0, 0, 0, 0, 0, 0]\n",
    "#     array_size_range = range(test_array.shape[0])\n",
    "    array_size_range = range(int(N))\n",
    "\n",
    "    for i in array_size_range:\n",
    "        previous_state = test_array[i-1]\n",
    "#         test_array[i] = interfaces_random[previous_state][counters[previous_state]]\n",
    "        append_(interfaces_random[previous_state][counters[previous_state]])\n",
    "        counters[previous_state] += 1\n",
    "#         if i % print_step == 0:\n",
    "#             print(i, end=\" \")\n",
    "            \n",
    "    return test_array"
   ]
  },
  {
   "cell_type": "code",
   "execution_count": 31,
   "metadata": {},
   "outputs": [
    {
     "name": "stdout",
     "output_type": "stream",
     "text": [
      "Wall time: 1min 6s\n"
     ]
    }
   ],
   "source": [
    "%time tester = generate_interface_array(interfaces_random, N=200e6, print_step=100000)"
   ]
  },
  {
   "cell_type": "code",
   "execution_count": 32,
   "metadata": {},
   "outputs": [
    {
     "name": "stdout",
     "output_type": "stream",
     "text": [
      "Wall time: 16 s\n"
     ]
    }
   ],
   "source": [
    "%time tester_array = np.array(tester[1:], dtype='uint8')"
   ]
  },
  {
   "cell_type": "code",
   "execution_count": 33,
   "metadata": {},
   "outputs": [
    {
     "data": {
      "text/plain": [
       "(200000000,)"
      ]
     },
     "execution_count": 33,
     "metadata": {},
     "output_type": "execute_result"
    }
   ],
   "source": [
    "tester_array.shape"
   ]
  },
  {
   "cell_type": "code",
   "execution_count": 36,
   "metadata": {},
   "outputs": [
    {
     "name": "stdout",
     "output_type": "stream",
     "text": [
      "Wall time: 18.2 s\n"
     ]
    },
    {
     "data": {
      "text/plain": [
       "Counter({1: 50006424,\n",
       "         2: 39996190,\n",
       "         0: 59998657,\n",
       "         3: 20000085,\n",
       "         4: 9995320,\n",
       "         5: 20003324})"
      ]
     },
     "execution_count": 36,
     "metadata": {},
     "output_type": "execute_result"
    }
   ],
   "source": [
    "# Almost two times faster to perform Counter operation on list (18s) than on numpy array (30s)\n",
    "# By using list, also no need to convert list to numpy array which also takes 16s.\n",
    "\n",
    "# However, once the conversion to a numpy array has been made, \n",
    "# using np.unique is 4 times faster (4.5s) than Counter on list (18s)\n",
    "%time Counter(tester[1:])"
   ]
  },
  {
   "cell_type": "code",
   "execution_count": 37,
   "metadata": {},
   "outputs": [
    {
     "name": "stdout",
     "output_type": "stream",
     "text": [
      "Wall time: 30.3 s\n"
     ]
    },
    {
     "data": {
      "text/plain": [
       "Counter({1: 50006424,\n",
       "         2: 39996190,\n",
       "         0: 59998657,\n",
       "         3: 20000085,\n",
       "         4: 9995320,\n",
       "         5: 20003324})"
      ]
     },
     "execution_count": 37,
     "metadata": {},
     "output_type": "execute_result"
    }
   ],
   "source": [
    "%time Counter(tester_array)"
   ]
  },
  {
   "cell_type": "code",
   "execution_count": 38,
   "metadata": {},
   "outputs": [
    {
     "name": "stdout",
     "output_type": "stream",
     "text": [
      "Wall time: 4.66 s\n"
     ]
    },
    {
     "data": {
      "text/plain": [
       "(array([0, 1, 2, 3, 4, 5], dtype=uint8),\n",
       " array([59998657, 50006424, 39996190, 20000085,  9995320, 20003324],\n",
       "       dtype=int64))"
      ]
     },
     "execution_count": 38,
     "metadata": {},
     "output_type": "execute_result"
    }
   ],
   "source": [
    "%time np.unique(tester_array, return_counts=True)"
   ]
  },
  {
   "cell_type": "code",
   "execution_count": 43,
   "metadata": {},
   "outputs": [
    {
     "name": "stdout",
     "output_type": "stream",
     "text": [
      "Wall time: 29.8 s\n"
     ]
    }
   ],
   "source": [
    "%time tester_interfaces_list = list(zip(tester, tester[1:]))"
   ]
  },
  {
   "cell_type": "code",
   "execution_count": 54,
   "metadata": {},
   "outputs": [
    {
     "data": {
      "text/plain": [
       "array([[[0.3 , 0.25, 0.2 , 0.1 , 0.05, 0.1 ],\n",
       "        [0.3 , 0.25, 0.2 , 0.1 , 0.05, 0.1 ],\n",
       "        [0.3 , 0.25, 0.2 , 0.1 , 0.05, 0.1 ],\n",
       "        [0.3 , 0.25, 0.2 , 0.1 , 0.05, 0.1 ],\n",
       "        [0.3 , 0.25, 0.2 , 0.1 , 0.05, 0.1 ],\n",
       "        [0.3 , 0.25, 0.2 , 0.1 , 0.05, 0.1 ],\n",
       "        [0.3 , 0.25, 0.2 , 0.1 , 0.05, 0.1 ],\n",
       "        [0.3 , 0.25, 0.2 , 0.1 , 0.05, 0.1 ],\n",
       "        [0.3 , 0.25, 0.2 , 0.1 , 0.05, 0.1 ],\n",
       "        [0.3 , 0.25, 0.2 , 0.1 , 0.05, 0.1 ]],\n",
       "\n",
       "       [[0.3 , 0.25, 0.2 , 0.1 , 0.05, 0.1 ],\n",
       "        [0.3 , 0.25, 0.2 , 0.1 , 0.05, 0.1 ],\n",
       "        [0.3 , 0.25, 0.2 , 0.1 , 0.05, 0.1 ],\n",
       "        [0.3 , 0.25, 0.2 , 0.1 , 0.05, 0.1 ],\n",
       "        [0.3 , 0.25, 0.2 , 0.1 , 0.05, 0.1 ],\n",
       "        [0.3 , 0.25, 0.2 , 0.1 , 0.05, 0.1 ],\n",
       "        [0.3 , 0.25, 0.2 , 0.1 , 0.05, 0.1 ],\n",
       "        [0.3 , 0.25, 0.2 , 0.1 , 0.05, 0.1 ],\n",
       "        [0.3 , 0.25, 0.2 , 0.1 , 0.05, 0.1 ],\n",
       "        [0.3 , 0.25, 0.2 , 0.1 , 0.05, 0.1 ]]])"
      ]
     },
     "execution_count": 54,
     "metadata": {},
     "output_type": "execute_result"
    }
   ],
   "source": [
    "interface_weights_normalized[np.array(tester_interfaces_list[:10]).reshape(2, -1)]"
   ]
  },
  {
   "cell_type": "code",
   "execution_count": 66,
   "metadata": {},
   "outputs": [
    {
     "name": "stdout",
     "output_type": "stream",
     "text": [
      "Wall time: 2min 14s\n"
     ]
    }
   ],
   "source": [
    "# It takes 2min14s to create a 1D array of interface strengths which could be used\n",
    "# for the purpose of calculating the probablity of intercrystal breakage.\n",
    "%time interface_strengths = [interface_weights_normalized[i] for i in tester_interfaces_list]"
   ]
  },
  {
   "cell_type": "code",
   "execution_count": 53,
   "metadata": {},
   "outputs": [
    {
     "data": {
      "text/plain": [
       "array([[0, 1, 1, 1, 1, 2, 2, 0, 0, 3],\n",
       "       [3, 4, 4, 1, 1, 0, 0, 4, 4, 1]])"
      ]
     },
     "execution_count": 53,
     "metadata": {},
     "output_type": "execute_result"
    }
   ],
   "source": [
    "np.array(tester_interfaces_list[:10]).reshape(2, -1)"
   ]
  },
  {
   "cell_type": "code",
   "execution_count": 107,
   "metadata": {},
   "outputs": [
    {
     "name": "stdout",
     "output_type": "stream",
     "text": [
      "Wall time: 41 s\n"
     ]
    }
   ],
   "source": [
    "%time tester_interfaces_list = list(zip(tester_array, tester_array[1:]))"
   ]
  },
  {
   "cell_type": "code",
   "execution_count": 109,
   "metadata": {},
   "outputs": [
    {
     "name": "stdout",
     "output_type": "stream",
     "text": [
      "Wall time: 1min 10s\n"
     ]
    },
    {
     "data": {
      "text/plain": [
       "Counter({(1, 1): 12501034,\n",
       "         (1, 5): 5001109,\n",
       "         (5, 0): 5996664,\n",
       "         (0, 2): 11998861,\n",
       "         (2, 5): 3999121,\n",
       "         (0, 5): 5996181,\n",
       "         (5, 2): 4000842,\n",
       "         (2, 0): 12005883,\n",
       "         (0, 1): 15001868,\n",
       "         (1, 2): 10001612,\n",
       "         (1, 4): 2499466,\n",
       "         (4, 2): 2001046,\n",
       "         (1, 0): 14994759,\n",
       "         (0, 0): 18002872,\n",
       "         (5, 3): 1999931,\n",
       "         (3, 1): 4999903,\n",
       "         (0, 3): 5998998,\n",
       "         (3, 2): 3998986,\n",
       "         (2, 1): 9995532,\n",
       "         (5, 1): 4999178,\n",
       "         (1, 3): 5000907,\n",
       "         (3, 0): 6001884,\n",
       "         (3, 3): 1999783,\n",
       "         (3, 4): 998597,\n",
       "         (2, 2): 8005469,\n",
       "         (5, 5): 1999881,\n",
       "         (0, 4): 3001632,\n",
       "         (4, 3): 999258,\n",
       "         (2, 4): 2001013,\n",
       "         (4, 0): 2998350,\n",
       "         (2, 3): 3999798,\n",
       "         (4, 1): 2501371,\n",
       "         (3, 5): 1999521,\n",
       "         (4, 5): 999460,\n",
       "         (5, 4): 998777,\n",
       "         (4, 4): 500452})"
      ]
     },
     "execution_count": 109,
     "metadata": {},
     "output_type": "execute_result"
    }
   ],
   "source": [
    "%time Counter(tester_interfaces_list)"
   ]
  },
  {
   "cell_type": "code",
   "execution_count": null,
   "metadata": {},
   "outputs": [],
   "source": [
    "%time tester_interfaces = np.array(list(zip(tester_array, tester_array[1:])))"
   ]
  },
  {
   "cell_type": "code",
   "execution_count": 106,
   "metadata": {},
   "outputs": [
    {
     "name": "stdout",
     "output_type": "stream",
     "text": [
      "Wall time: 3min\n"
     ]
    },
    {
     "data": {
      "text/plain": [
       "(array([[0, 0],\n",
       "        [0, 1],\n",
       "        [0, 2],\n",
       "        [0, 3],\n",
       "        [0, 4],\n",
       "        [0, 5],\n",
       "        [1, 0],\n",
       "        [1, 1],\n",
       "        [1, 2],\n",
       "        [1, 3],\n",
       "        [1, 4],\n",
       "        [1, 5],\n",
       "        [2, 0],\n",
       "        [2, 1],\n",
       "        [2, 2],\n",
       "        [2, 3],\n",
       "        [2, 4],\n",
       "        [2, 5],\n",
       "        [3, 0],\n",
       "        [3, 1],\n",
       "        [3, 2],\n",
       "        [3, 3],\n",
       "        [3, 4],\n",
       "        [3, 5],\n",
       "        [4, 0],\n",
       "        [4, 1],\n",
       "        [4, 2],\n",
       "        [4, 3],\n",
       "        [4, 4],\n",
       "        [4, 5],\n",
       "        [5, 0],\n",
       "        [5, 1],\n",
       "        [5, 2],\n",
       "        [5, 3],\n",
       "        [5, 4],\n",
       "        [5, 5]], dtype=uint8),\n",
       " array([18002872, 15001868, 11998861,  5998998,  3001632,  5996181,\n",
       "        14994759, 12501034, 10001612,  5000907,  2499466,  5001109,\n",
       "        12005883,  9995532,  8005469,  3999798,  2001013,  3999121,\n",
       "         6001884,  4999903,  3998986,  1999783,   998597,  1999521,\n",
       "         2998350,  2501371,  2001046,   999258,   500452,   999460,\n",
       "         5996664,  4999178,  4000842,  1999931,   998777,  1999881],\n",
       "       dtype=int64))"
      ]
     },
     "execution_count": 106,
     "metadata": {},
     "output_type": "execute_result"
    }
   ],
   "source": [
    "%time np.unique(tester_interfaces, axis=0, return_counts=True)"
   ]
  },
  {
   "cell_type": "code",
   "execution_count": 84,
   "metadata": {},
   "outputs": [
    {
     "data": {
      "text/plain": [
       "Timer unit: 1e-07 s\n",
       "\n",
       "Total time: 379.341 s\n",
       "File: <ipython-input-82-e7e0c7908bd2>\n",
       "Function: generate_interface_array at line 1\n",
       "\n",
       "Line #      Hits         Time  Per Hit   % Time  Line Contents\n",
       "==============================================================\n",
       "     1                                           def generate_interface_array(interfaces_random, N=200e6, print_step=1000000):\n",
       "     2                                               \n",
       "     3                                           #     test_array = np.zeros(int(N), dtype='int8')\n",
       "     4         1         16.0     16.0      0.0      test_array = [0]\n",
       "     5         1          6.0      6.0      0.0      append_ = test_array.append\n",
       "     6         1          4.0      4.0      0.0      counters = [0, 0, 0, 0, 0, 0]\n",
       "     7                                           #     array_size_range = range(test_array.shape[0])\n",
       "     8         1         19.0     19.0      0.0      array_size_range = range(int(N))\n",
       "     9                                           \n",
       "    10 200000001  716632278.0      3.6     18.9      for i in array_size_range:\n",
       "    11 200000000  832799144.0      4.2     22.0          previous_state = test_array[i-1]\n",
       "    12                                           #         test_array[i] = interfaces_random[previous_state][counters[previous_state]]\n",
       "    13 200000000 1240919138.0      6.2     32.7          append_(interfaces_random[previous_state][counters[previous_state]])\n",
       "    14 200000000 1003062949.0      5.0     26.4          counters[previous_state] += 1\n",
       "    15                                           #         if i % print_step == 0:\n",
       "    16                                           #             print(i, end=\" \")\n",
       "    17                                                       \n",
       "    18         1          7.0      7.0      0.0      return test_array"
      ]
     },
     "metadata": {},
     "output_type": "display_data"
    }
   ],
   "source": [
    "%lprun -f generate_interface_array generate_interface_array(interfaces_random, N=200e6, print_step=100000)"
   ]
  },
  {
   "cell_type": "code",
   "execution_count": 73,
   "metadata": {},
   "outputs": [
    {
     "data": {
      "text/plain": [
       "Timer unit: 1e-07 s\n",
       "\n",
       "Total time: 43.6296 s\n",
       "File: <ipython-input-72-be577a1cd306>\n",
       "Function: generate_interface_array at line 1\n",
       "\n",
       "Line #      Hits         Time  Per Hit   % Time  Line Contents\n",
       "==============================================================\n",
       "     1                                           def generate_interface_array(interfaces_random, N=200e6, print_step=1000000):\n",
       "     2                                               \n",
       "     3         1        960.0    960.0      0.0      test_array = np.zeros(int(N), dtype='int8')\n",
       "     4         1         15.0     15.0      0.0      counters = [0, 0, 0, 0, 0, 0]\n",
       "     5         1         47.0     47.0      0.0      array_size_range = range(test_array.shape[0])\n",
       "     6                                           \n",
       "     7  20000001   74305834.0      3.7     17.0      for i in array_size_range:\n",
       "     8  20000000  113013973.0      5.7     25.9          previous_state = test_array[i-1]\n",
       "     9  20000000  149443983.0      7.5     34.3          test_array[i] = interfaces_random[previous_state][counters[previous_state]]\n",
       "    10  20000000   99531428.0      5.0     22.8          counters[previous_state] += 1\n",
       "    11                                           #         if i % print_step == 0:\n",
       "    12                                           #             print(i, end=\" \")\n",
       "    13                                                       \n",
       "    14         1          7.0      7.0      0.0      return test_array"
      ]
     },
     "metadata": {},
     "output_type": "display_data"
    }
   ],
   "source": [
    "%lprun -f generate_interface_array generate_interface_array(interfaces_random, N=200e5, print_step=100000)"
   ]
  },
  {
   "cell_type": "code",
   "execution_count": 64,
   "metadata": {},
   "outputs": [
    {
     "data": {
      "text/plain": [
       "Timer unit: 1e-07 s\n",
       "\n",
       "Total time: 44.086 s\n",
       "File: <ipython-input-63-09fad20cf78c>\n",
       "Function: generate_interface_array at line 1\n",
       "\n",
       "Line #      Hits         Time  Per Hit   % Time  Line Contents\n",
       "==============================================================\n",
       "     1                                           def generate_interface_array(interfaces_random, N=200e6, print_step=1000000):\n",
       "     2                                               \n",
       "     3         1        652.0    652.0      0.0      test_array = np.zeros(int(N), dtype='int8')\n",
       "     4         1         13.0     13.0      0.0      counters = [0, 0, 0, 0, 0, 0]\n",
       "     5                                           \n",
       "     6  20000001   75411216.0      3.8     17.1      for i in range(test_array.shape[0]):\n",
       "     7  20000000  112402222.0      5.6     25.5          previous_state = test_array[i-1]\n",
       "     8  20000000  150376735.0      7.5     34.1          test_array[i] = interfaces_random[previous_state][counters[previous_state]]\n",
       "     9  20000000  102668685.0      5.1     23.3          counters[previous_state] += 1\n",
       "    10                                           #         if i % print_step == 0:\n",
       "    11                                           #             print(i, end=\" \")\n",
       "    12                                                       \n",
       "    13         1          6.0      6.0      0.0      return test_array"
      ]
     },
     "metadata": {},
     "output_type": "display_data"
    }
   ],
   "source": [
    "%lprun -f generate_interface_array generate_interface_array(interfaces_random, N=200e5, print_step=100000)"
   ]
  },
  {
   "cell_type": "code",
   "execution_count": 58,
   "metadata": {},
   "outputs": [
    {
     "data": {
      "text/plain": [
       "Timer unit: 1e-07 s\n",
       "\n",
       "Total time: 45.8351 s\n",
       "File: <ipython-input-57-90d8ca319a41>\n",
       "Function: generate_interface_array at line 1\n",
       "\n",
       "Line #      Hits         Time  Per Hit   % Time  Line Contents\n",
       "==============================================================\n",
       "     1                                           def generate_interface_array(interfaces_random, N=200e6, print_step=1000000):\n",
       "     2                                               \n",
       "     3         1       1382.0   1382.0      0.0      test_array = np.zeros(int(N), dtype='int8')\n",
       "     4         1         16.0     16.0      0.0      counters = [0, 0, 0, 0, 0, 0]\n",
       "     5                                           \n",
       "     6  20000001   80812517.0      4.0     17.6      for i in range(test_array.shape[0]):\n",
       "     7  20000000  229640999.0     11.5     50.1          test_array[i] = interfaces_random[test_array[i-1]][counters[test_array[i-1]]]\n",
       "     8  20000000  147896534.0      7.4     32.3          counters[test_array[i-1]] += 1\n",
       "     9                                           #         if i % print_step == 0:\n",
       "    10                                           #             print(i, end=\" \")\n",
       "    11                                                       \n",
       "    12         1          4.0      4.0      0.0      return test_array"
      ]
     },
     "metadata": {},
     "output_type": "display_data"
    }
   ],
   "source": [
    "%lprun -f generate_interface_array generate_interface_array(interfaces_random, N=200e5, print_step=100000)"
   ]
  },
  {
   "cell_type": "code",
   "execution_count": 154,
   "metadata": {},
   "outputs": [],
   "source": [
    "from scipy.stats import multinomial"
   ]
  },
  {
   "cell_type": "code",
   "execution_count": 167,
   "metadata": {},
   "outputs": [
    {
     "data": {
      "text/plain": [
       "array([[2, 2, 0, 0, 0, 2]])"
      ]
     },
     "execution_count": 167,
     "metadata": {},
     "output_type": "execute_result"
    }
   ],
   "source": [
    "multinomial(6, [0.3, 0.25, 0.15, 0.15, 0.05, 0.1]).rvs(1)"
   ]
  },
  {
   "cell_type": "code",
   "execution_count": 87,
   "metadata": {},
   "outputs": [
    {
     "data": {
      "text/plain": [
       "(200000,)"
      ]
     },
     "execution_count": 87,
     "metadata": {},
     "output_type": "execute_result"
    }
   ],
   "source": [
    "test_array"
   ]
  },
  {
   "cell_type": "code",
   "execution_count": 64,
   "metadata": {},
   "outputs": [
    {
     "data": {
      "text/plain": [
       "array([1, 0, 0, ..., 3, 4, 2], dtype=int8)"
      ]
     },
     "execution_count": 64,
     "metadata": {},
     "output_type": "execute_result"
    }
   ],
   "source": [
    "test_array"
   ]
  },
  {
   "cell_type": "code",
   "execution_count": 125,
   "metadata": {},
   "outputs": [
    {
     "data": {
      "text/plain": [
       "Counter({5: 9885, 4: 4986, 1: 25151, 3: 10057, 0: 30108, 2: 19813})"
      ]
     },
     "execution_count": 125,
     "metadata": {},
     "output_type": "execute_result"
    }
   ],
   "source": [
    "Counter(test_array)"
   ]
  },
  {
   "cell_type": "code",
   "execution_count": 68,
   "metadata": {},
   "outputs": [
    {
     "data": {
      "text/plain": [
       "0.07341932159999999"
      ]
     },
     "execution_count": 68,
     "metadata": {},
     "output_type": "execute_result"
    }
   ],
   "source": [
    "(54192/200000)**2"
   ]
  },
  {
   "cell_type": "code",
   "execution_count": 69,
   "metadata": {},
   "outputs": [
    {
     "data": {
      "text/plain": [
       "0.055495"
      ]
     },
     "execution_count": 69,
     "metadata": {},
     "output_type": "execute_result"
    }
   ],
   "source": [
    "11099/200000"
   ]
  },
  {
   "cell_type": "code",
   "execution_count": 175,
   "metadata": {},
   "outputs": [
    {
     "data": {
      "text/plain": [
       "array([0, 3, 1, 2, 1, 0, 5, 0, 0, 5], dtype=int8)"
      ]
     },
     "execution_count": 175,
     "metadata": {},
     "output_type": "execute_result"
    }
   ],
   "source": [
    "test_array[:10]"
   ]
  },
  {
   "cell_type": "code",
   "execution_count": 183,
   "metadata": {},
   "outputs": [
    {
     "data": {
      "text/plain": [
       "(0, 3)"
      ]
     },
     "execution_count": 183,
     "metadata": {},
     "output_type": "execute_result"
    }
   ],
   "source": [
    "next(zip(test_array, test_array[1:]))"
   ]
  },
  {
   "cell_type": "code",
   "execution_count": 207,
   "metadata": {},
   "outputs": [
    {
     "data": {
      "text/plain": [
       "(array([4, 0, 5]), array([3, 4, 1]))"
      ]
     },
     "execution_count": 207,
     "metadata": {},
     "output_type": "execute_result"
    }
   ],
   "source": [
    "tuple(np.array([(4, 3), (0, 4), (5, 1)]).T)"
   ]
  },
  {
   "cell_type": "code",
   "execution_count": 209,
   "metadata": {},
   "outputs": [
    {
     "ename": "IndexError",
     "evalue": "only integers, slices (`:`), ellipsis (`...`), numpy.newaxis (`None`) and integer or boolean arrays are valid indices",
     "output_type": "error",
     "traceback": [
      "\u001b[1;31m---------------------------------------------------------------------------\u001b[0m",
      "\u001b[1;31mIndexError\u001b[0m                                Traceback (most recent call last)",
      "\u001b[1;32m<ipython-input-209-ae9e20178b02>\u001b[0m in \u001b[0;36m<module>\u001b[1;34m\u001b[0m\n\u001b[1;32m----> 1\u001b[1;33m \u001b[0minterface_weights_normalized\u001b[0m\u001b[1;33m[\u001b[0m\u001b[0mtuple\u001b[0m\u001b[1;33m(\u001b[0m\u001b[0mnp\u001b[0m\u001b[1;33m.\u001b[0m\u001b[0marray\u001b[0m\u001b[1;33m(\u001b[0m\u001b[1;33m[\u001b[0m\u001b[0mzip\u001b[0m\u001b[1;33m(\u001b[0m\u001b[0mtest_array\u001b[0m\u001b[1;33m,\u001b[0m \u001b[0mtest_array\u001b[0m\u001b[1;33m[\u001b[0m\u001b[1;36m1\u001b[0m\u001b[1;33m:\u001b[0m\u001b[1;33m]\u001b[0m\u001b[1;33m)\u001b[0m\u001b[1;33m]\u001b[0m\u001b[1;33m)\u001b[0m\u001b[1;33m.\u001b[0m\u001b[0mT\u001b[0m\u001b[1;33m)\u001b[0m\u001b[1;33m]\u001b[0m\u001b[1;33m\u001b[0m\u001b[1;33m\u001b[0m\u001b[0m\n\u001b[0m",
      "\u001b[1;31mIndexError\u001b[0m: only integers, slices (`:`), ellipsis (`...`), numpy.newaxis (`None`) and integer or boolean arrays are valid indices"
     ]
    }
   ],
   "source": [
    "interface_weights_normalized[tuple(np.array([zip(test_array, test_array[1:])]).T)]"
   ]
  },
  {
   "cell_type": "code",
   "execution_count": 194,
   "metadata": {},
   "outputs": [
    {
     "ename": "IndexError",
     "evalue": "only integers, slices (`:`), ellipsis (`...`), numpy.newaxis (`None`) and integer or boolean arrays are valid indices",
     "output_type": "error",
     "traceback": [
      "\u001b[1;31m---------------------------------------------------------------------------\u001b[0m",
      "\u001b[1;31mIndexError\u001b[0m                                Traceback (most recent call last)",
      "\u001b[1;32m<ipython-input-194-830b6ec82218>\u001b[0m in \u001b[0;36m<module>\u001b[1;34m\u001b[0m\n\u001b[1;32m----> 1\u001b[1;33m \u001b[0minterface_weights_normalized\u001b[0m\u001b[1;33m[\u001b[0m\u001b[0mzip\u001b[0m\u001b[1;33m(\u001b[0m\u001b[0mtest_array\u001b[0m\u001b[1;33m,\u001b[0m \u001b[0mtest_array\u001b[0m\u001b[1;33m[\u001b[0m\u001b[1;36m1\u001b[0m\u001b[1;33m:\u001b[0m\u001b[1;33m]\u001b[0m\u001b[1;33m)\u001b[0m\u001b[1;33m]\u001b[0m\u001b[1;33m\u001b[0m\u001b[1;33m\u001b[0m\u001b[0m\n\u001b[0m",
      "\u001b[1;31mIndexError\u001b[0m: only integers, slices (`:`), ellipsis (`...`), numpy.newaxis (`None`) and integer or boolean arrays are valid indices"
     ]
    }
   ],
   "source": [
    "interface_weights_normalized[tuple(zip(test_array, test_array[1:]))]"
   ]
  },
  {
   "cell_type": "code",
   "execution_count": 99,
   "metadata": {},
   "outputs": [
    {
     "data": {
      "text/plain": [
       "Counter({(3, 4): 487,\n",
       "         (4, 2): 1017,\n",
       "         (2, 2): 3902,\n",
       "         (2, 1): 4965,\n",
       "         (1, 0): 7469,\n",
       "         (0, 5): 3022,\n",
       "         (5, 0): 2974,\n",
       "         (0, 0): 8951,\n",
       "         (0, 2): 6000,\n",
       "         (2, 3): 2053,\n",
       "         (3, 2): 2062,\n",
       "         (2, 0): 6064,\n",
       "         (0, 1): 7499,\n",
       "         (1, 1): 6199,\n",
       "         (1, 3): 2516,\n",
       "         (3, 3): 1018,\n",
       "         (3, 0): 3087,\n",
       "         (0, 4): 1469,\n",
       "         (4, 1): 1191,\n",
       "         (1, 2): 5021,\n",
       "         (0, 3): 3082,\n",
       "         (5, 1): 2448,\n",
       "         (2, 5): 2025,\n",
       "         (5, 5): 1005,\n",
       "         (5, 2): 1999,\n",
       "         (2, 4): 992,\n",
       "         (4, 0): 1478,\n",
       "         (1, 5): 2354,\n",
       "         (5, 3): 1022,\n",
       "         (1, 4): 1290,\n",
       "         (4, 5): 491,\n",
       "         (4, 3): 533,\n",
       "         (3, 5): 1023,\n",
       "         (3, 1): 2547,\n",
       "         (5, 4): 472,\n",
       "         (4, 4): 272})"
      ]
     },
     "execution_count": 99,
     "metadata": {},
     "output_type": "execute_result"
    }
   ],
   "source": [
    "Counter(zip(test_array, test_array[1:]))"
   ]
  },
  {
   "cell_type": "code",
   "execution_count": 270,
   "metadata": {},
   "outputs": [],
   "source": [
    "c = np.random.randint(0, 6, 100000)"
   ]
  },
  {
   "cell_type": "code",
   "execution_count": 286,
   "metadata": {},
   "outputs": [
    {
     "data": {
      "text/plain": [
       "array([[0.2 , 0.3 ],\n",
       "       [0.35, 0.15]])"
      ]
     },
     "execution_count": 286,
     "metadata": {},
     "output_type": "execute_result"
    }
   ],
   "source": [
    "np.array([[0.4/2, 0.6/2],\n",
    "          [0.7/2, 0.3/2]])"
   ]
  },
  {
   "cell_type": "code",
   "execution_count": 273,
   "metadata": {},
   "outputs": [],
   "source": [
    "a_chance = [0.4, 0.6]\n",
    "b_chance = [0.7, 0.3]"
   ]
  },
  {
   "cell_type": "code",
   "execution_count": 297,
   "metadata": {},
   "outputs": [
    {
     "name": "stdout",
     "output_type": "stream",
     "text": [
      "36.9 µs ± 950 ns per loop (mean ± std. dev. of 7 runs, 10000 loops each)\n"
     ]
    }
   ],
   "source": [
    "%timeit np.random.choice(np.array([0, 1, 2]), size=1000)"
   ]
  },
  {
   "cell_type": "code",
   "execution_count": 299,
   "metadata": {},
   "outputs": [
    {
     "name": "stdout",
     "output_type": "stream",
     "text": [
      "26.8 ms ± 1.68 ms per loop (mean ± std. dev. of 7 runs, 10 loops each)\n"
     ]
    }
   ],
   "source": [
    "%%timeit\n",
    "for i in range(1000):\n",
    "    np.random.choice(np.array([0, 1, 2]), size=1)"
   ]
  },
  {
   "cell_type": "code",
   "execution_count": 293,
   "metadata": {},
   "outputs": [
    {
     "name": "stdout",
     "output_type": "stream",
     "text": [
      "Wall time: 3.21 s\n"
     ]
    }
   ],
   "source": [
    "%%time\n",
    "test_list = [\"a\"]\n",
    "for i in range(100000):\n",
    "    if test_list[i] == \"a\":\n",
    "        test_list.append(np.random.choice([\"a\", \"b\"], 1, p=a_chance)[0])\n",
    "    else:\n",
    "        test_list.append(np.random.choice([\"a\", \"b\"], 1, p=b_chance)[0])"
   ]
  },
  {
   "cell_type": "code",
   "execution_count": 321,
   "metadata": {},
   "outputs": [],
   "source": [
    "test_list = np.random.choice(np.array([0, 1, 2, 3, 4, 5]), size=100000, p=modal[0])"
   ]
  },
  {
   "cell_type": "code",
   "execution_count": 322,
   "metadata": {},
   "outputs": [
    {
     "data": {
      "text/plain": [
       "array([1, 5, 0, ..., 1, 2, 0])"
      ]
     },
     "execution_count": 322,
     "metadata": {},
     "output_type": "execute_result"
    }
   ],
   "source": [
    "test_list"
   ]
  },
  {
   "cell_type": "code",
   "execution_count": 294,
   "metadata": {},
   "outputs": [],
   "source": [
    "test_string = \"\".join(test_list)"
   ]
  },
  {
   "cell_type": "code",
   "execution_count": 295,
   "metadata": {},
   "outputs": [
    {
     "data": {
      "text/plain": [
       "Counter({('a', 'b'): 32228,\n",
       "         ('b', 'a'): 32227,\n",
       "         ('b', 'b'): 13773,\n",
       "         ('a', 'a'): 21772})"
      ]
     },
     "execution_count": 295,
     "metadata": {},
     "output_type": "execute_result"
    }
   ],
   "source": [
    "Counter(zip(test_string, test_string[1:]))"
   ]
  },
  {
   "cell_type": "code",
   "execution_count": 330,
   "metadata": {},
   "outputs": [
    {
     "data": {
      "text/plain": [
       "0.09028090280902809"
      ]
     },
     "execution_count": 330,
     "metadata": {},
     "output_type": "execute_result"
    }
   ],
   "source": [
    "9028/99999"
   ]
  },
  {
   "cell_type": "code",
   "execution_count": 329,
   "metadata": {},
   "outputs": [
    {
     "data": {
      "text/plain": [
       "Counter({(1, 5): 2530,\n",
       "         (5, 0): 3033,\n",
       "         (0, 5): 2949,\n",
       "         (5, 1): 2443,\n",
       "         (1, 0): 7403,\n",
       "         (0, 2): 6081,\n",
       "         (2, 5): 1985,\n",
       "         (5, 5): 1017,\n",
       "         (1, 2): 5038,\n",
       "         (2, 0): 6079,\n",
       "         (0, 1): 7549,\n",
       "         (0, 0): 9028,\n",
       "         (0, 4): 1464,\n",
       "         (4, 0): 1502,\n",
       "         (5, 2): 2030,\n",
       "         (2, 1): 5026,\n",
       "         (1, 4): 1244,\n",
       "         (2, 4): 990,\n",
       "         (4, 1): 1228,\n",
       "         (2, 2): 4096,\n",
       "         (0, 3): 2973,\n",
       "         (3, 2): 1950,\n",
       "         (3, 0): 3000,\n",
       "         (4, 5): 512,\n",
       "         (2, 3): 1990,\n",
       "         (3, 5): 966,\n",
       "         (1, 3): 2464,\n",
       "         (1, 1): 6339,\n",
       "         (3, 1): 2432,\n",
       "         (4, 4): 256,\n",
       "         (4, 2): 971,\n",
       "         (5, 4): 493,\n",
       "         (3, 3): 1015,\n",
       "         (4, 3): 479,\n",
       "         (3, 4): 501,\n",
       "         (5, 3): 943})"
      ]
     },
     "execution_count": 329,
     "metadata": {},
     "output_type": "execute_result"
    }
   ],
   "source": [
    "Counter(zip(test_list, test_list[1:]))"
   ]
  },
  {
   "cell_type": "code",
   "execution_count": 328,
   "metadata": {},
   "outputs": [
    {
     "data": {
      "text/plain": [
       "99999"
      ]
     },
     "execution_count": 328,
     "metadata": {},
     "output_type": "execute_result"
    }
   ],
   "source": [
    "np.sum(list(Counter(zip(test_list, test_list[1:])).values()))"
   ]
  },
  {
   "cell_type": "code",
   "execution_count": 19,
   "metadata": {},
   "outputs": [],
   "source": [
    "s = np.random.choice(np.array(labels), size=100000, p=interface_weights.flatten())"
   ]
  },
  {
   "cell_type": "code",
   "execution_count": 20,
   "metadata": {},
   "outputs": [
    {
     "data": {
      "text/plain": [
       "array(['BB', 'KQ', 'QB', ..., 'KQ', 'QQ', 'AQ'], dtype='<U2')"
      ]
     },
     "execution_count": 20,
     "metadata": {},
     "output_type": "execute_result"
    }
   ],
   "source": [
    "s"
   ]
  },
  {
   "cell_type": "code",
   "execution_count": 271,
   "metadata": {},
   "outputs": [
    {
     "name": "stdout",
     "output_type": "stream",
     "text": [
      "11.9 ms ± 265 µs per loop (mean ± std. dev. of 7 runs, 100 loops each)\n"
     ]
    }
   ],
   "source": [
    "%timeit np.vectorize(interfaces_classification.get)(c)"
   ]
  },
  {
   "cell_type": "code",
   "execution_count": 272,
   "metadata": {},
   "outputs": [
    {
     "name": "stdout",
     "output_type": "stream",
     "text": [
      "4.82 ms ± 224 µs per loop (mean ± std. dev. of 7 runs, 100 loops each)\n"
     ]
    }
   ],
   "source": [
    "%%timeit\n",
    "u,inv = np.unique(c, return_inverse = True)\n",
    "np.array([interfaces_classification[x] for x in u])[inv].reshape(c.shape)"
   ]
  },
  {
   "cell_type": "code",
   "execution_count": 214,
   "metadata": {},
   "outputs": [
    {
     "name": "stdout",
     "output_type": "stream",
     "text": [
      "Wall time: 4.22 s\n"
     ]
    }
   ],
   "source": [
    "%%time\n",
    "for label in labels:\n",
    "    b.count(label)"
   ]
  },
  {
   "cell_type": "code",
   "execution_count": 220,
   "metadata": {},
   "outputs": [
    {
     "name": "stdout",
     "output_type": "stream",
     "text": [
      "Wall time: 4.24 s\n"
     ]
    }
   ],
   "source": [
    "%%time\n",
    "for label in labels:\n",
    "    b.count(label[:100000000])\n",
    "    b.count(label[100000000:])"
   ]
  },
  {
   "cell_type": "code",
   "execution_count": 219,
   "metadata": {},
   "outputs": [
    {
     "name": "stdout",
     "output_type": "stream",
     "text": [
      "Wall time: 4.32 s\n"
     ]
    },
    {
     "data": {
      "text/plain": [
       "[50000000,\n",
       " 20000000,\n",
       " 0,\n",
       " 0,\n",
       " 0,\n",
       " 40000000,\n",
       " 0,\n",
       " 10000000,\n",
       " 0,\n",
       " 0,\n",
       " 9999999,\n",
       " 0,\n",
       " 10000000,\n",
       " 0,\n",
       " 0,\n",
       " 10000000,\n",
       " 0,\n",
       " 0,\n",
       " 10000000,\n",
       " 0,\n",
       " 10000000,\n",
       " 0,\n",
       " 0,\n",
       " 0,\n",
       " 0,\n",
       " 0,\n",
       " 0,\n",
       " 0,\n",
       " 0,\n",
       " 0]"
      ]
     },
     "execution_count": 219,
     "metadata": {},
     "output_type": "execute_result"
    }
   ],
   "source": [
    "%time list(map(b.count, labels))"
   ]
  },
  {
   "cell_type": "code",
   "execution_count": 176,
   "metadata": {},
   "outputs": [
    {
     "name": "stdout",
     "output_type": "stream",
     "text": [
      "3.68 s ± 320 ms per loop (mean ± std. dev. of 7 runs, 1 loop each)\n"
     ]
    }
   ],
   "source": [
    "%timeit Counter(zip(b, b[1:]))"
   ]
  },
  {
   "cell_type": "code",
   "execution_count": 150,
   "metadata": {},
   "outputs": [],
   "source": [
    "%load_ext line_profiler"
   ]
  },
  {
   "cell_type": "code",
   "execution_count": 135,
   "metadata": {},
   "outputs": [
    {
     "name": "stdout",
     "output_type": "stream",
     "text": [
      "(0, 1)\n",
      "(1, 1)\n",
      "(1, 2)\n",
      "(2, 1)\n"
     ]
    }
   ],
   "source": [
    "for i in zip(a, a[1:]):\n",
    "    print(i)"
   ]
  },
  {
   "cell_type": "code",
   "execution_count": 144,
   "metadata": {},
   "outputs": [
    {
     "name": "stdout",
     "output_type": "stream",
     "text": [
      "392 ns ± 13.6 ns per loop (mean ± std. dev. of 7 runs, 1000000 loops each)\n"
     ]
    }
   ],
   "source": [
    "%timeit zip(a, a[1:])"
   ]
  },
  {
   "cell_type": "code",
   "execution_count": 149,
   "metadata": {},
   "outputs": [
    {
     "data": {
      "text/plain": [
       "<zip at 0x14ad3ab9cc8>"
      ]
     },
     "execution_count": 149,
     "metadata": {},
     "output_type": "execute_result"
    }
   ],
   "source": [
    "zip(a, a[1:])"
   ]
  },
  {
   "cell_type": "code",
   "execution_count": null,
   "metadata": {},
   "outputs": [],
   "source": []
  },
  {
   "cell_type": "code",
   "execution_count": 50,
   "metadata": {},
   "outputs": [
    {
     "name": "stdout",
     "output_type": "stream",
     "text": [
      "[0 1 1 2]\n",
      "3 0\n"
     ]
    },
    {
     "data": {
      "text/plain": [
       "array([1, 1, 2])"
      ]
     },
     "execution_count": 50,
     "metadata": {},
     "output_type": "execute_result"
    },
    {
     "data": {
      "text/plain": [
       "array([0, 2, 1], dtype=int64)"
      ]
     },
     "execution_count": 50,
     "metadata": {},
     "output_type": "execute_result"
    },
    {
     "name": "stdout",
     "output_type": "stream",
     "text": [
      "3 1\n"
     ]
    },
    {
     "data": {
      "text/plain": [
       "array([4, 5])"
      ]
     },
     "execution_count": 50,
     "metadata": {},
     "output_type": "execute_result"
    },
    {
     "data": {
      "text/plain": [
       "array([0, 0, 0, 0, 1, 1], dtype=int64)"
      ]
     },
     "execution_count": 50,
     "metadata": {},
     "output_type": "execute_result"
    },
    {
     "name": "stdout",
     "output_type": "stream",
     "text": [
      "3 2\n"
     ]
    },
    {
     "data": {
      "text/plain": [
       "array([5])"
      ]
     },
     "execution_count": 50,
     "metadata": {},
     "output_type": "execute_result"
    },
    {
     "data": {
      "text/plain": [
       "array([0, 0, 0, 0, 0, 1], dtype=int64)"
      ]
     },
     "execution_count": 50,
     "metadata": {},
     "output_type": "execute_result"
    },
    {
     "name": "stdout",
     "output_type": "stream",
     "text": [
      "3 3\n"
     ]
    },
    {
     "data": {
      "text/plain": [
       "array([], dtype=int32)"
      ]
     },
     "execution_count": 50,
     "metadata": {},
     "output_type": "execute_result"
    },
    {
     "data": {
      "text/plain": [
       "array([], dtype=int64)"
      ]
     },
     "execution_count": 50,
     "metadata": {},
     "output_type": "execute_result"
    }
   ],
   "source": [
    "a = np.array([0, 1, 1, 2])\n",
    "M = a.max() + 1\n",
    "a = np.ascontiguousarray(a.T)\n",
    "print(a)\n",
    "\n",
    "for j in range(len(a)):\n",
    "    print(M, j)\n",
    "    M * a[j] + a[j+1:]\n",
    "    np.bincount((M * a[j] + a[j+1:]).ravel())"
   ]
  },
  {
   "cell_type": "code",
   "execution_count": 26,
   "metadata": {},
   "outputs": [],
   "source": [
    "def pairs_dict(a):\n",
    "    p = pairs_F(a)\n",
    "    # p is a 2D table with the frequency of (y, x) at position y, x\n",
    "    y, x = np.where(p)\n",
    "    c = p[y, x]\n",
    "    return {(yi, xi): ci for yi, xi, ci in zip(y, x, c)}"
   ]
  },
  {
   "cell_type": "code",
   "execution_count": 33,
   "metadata": {},
   "outputs": [
    {
     "name": "stdout",
     "output_type": "stream",
     "text": [
      "6.16 ms ± 462 µs per loop (mean ± std. dev. of 7 runs, 100 loops each)\n"
     ]
    }
   ],
   "source": [
    "%timeit pairs_dict(np.random.randint(0, 6, size=1000))"
   ]
  },
  {
   "cell_type": "code",
   "execution_count": 35,
   "metadata": {},
   "outputs": [
    {
     "name": "stdout",
     "output_type": "stream",
     "text": [
      "5.24 ms ± 162 µs per loop (mean ± std. dev. of 7 runs, 100 loops each)\n"
     ]
    }
   ],
   "source": [
    "%timeit pairs_F(np.random.randint(0, 6, size=1000))"
   ]
  },
  {
   "cell_type": "code",
   "execution_count": 37,
   "metadata": {},
   "outputs": [],
   "source": [
    "test_interfaces = pairs_F(np.random.randint(0, 6, size=1000))"
   ]
  },
  {
   "cell_type": "code",
   "execution_count": 40,
   "metadata": {},
   "outputs": [
    {
     "data": {
      "text/plain": [
       "array([[0, 2],\n",
       "       [0, 1]], dtype=int64)"
      ]
     },
     "execution_count": 40,
     "metadata": {},
     "output_type": "execute_result"
    }
   ],
   "source": [
    "pairs_F(np.array([0, 1, 1]))"
   ]
  },
  {
   "cell_type": "code",
   "execution_count": 38,
   "metadata": {},
   "outputs": [
    {
     "data": {
      "text/plain": [
       "499500"
      ]
     },
     "execution_count": 38,
     "metadata": {},
     "output_type": "execute_result"
    }
   ],
   "source": [
    "test_interfaces.sum()"
   ]
  },
  {
   "cell_type": "code",
   "execution_count": 4,
   "metadata": {},
   "outputs": [],
   "source": [
    "tester = np.zeros((6, 2000), dtype='int32')"
   ]
  },
  {
   "cell_type": "code",
   "execution_count": 5,
   "metadata": {},
   "outputs": [
    {
     "data": {
      "text/plain": [
       "(2000,)"
      ]
     },
     "execution_count": 5,
     "metadata": {},
     "output_type": "execute_result"
    }
   ],
   "source": [
    "tester[0].shape"
   ]
  },
  {
   "cell_type": "code",
   "execution_count": 7,
   "metadata": {},
   "outputs": [
    {
     "data": {
      "text/plain": [
       "array([0, 0, 0, ..., 0, 0, 0])"
      ]
     },
     "execution_count": 7,
     "metadata": {},
     "output_type": "execute_result"
    }
   ],
   "source": [
    "tester[0]"
   ]
  },
  {
   "cell_type": "code",
   "execution_count": 11,
   "metadata": {},
   "outputs": [],
   "source": [
    "bins = np.array([0, 1, 2, 3, 4, 5, 6, 7, 8, 9])"
   ]
  },
  {
   "cell_type": "code",
   "execution_count": 15,
   "metadata": {},
   "outputs": [],
   "source": [
    "bins = bins.astype('str')"
   ]
  },
  {
   "cell_type": "code",
   "execution_count": 22,
   "metadata": {},
   "outputs": [],
   "source": [
    "counts = np.array([0, 1, 2, 0, 4, 5, 6, 8, 0, 0])"
   ]
  },
  {
   "cell_type": "code",
   "execution_count": 35,
   "metadata": {},
   "outputs": [],
   "source": [
    "dict_ = {}\n",
    "\n",
    "for bin_, count in zip(bins, counts):\n",
    "    if count == 0:\n",
    "        continue\n",
    "    else:\n",
    "        dict_[bin_] = count"
   ]
  },
  {
   "cell_type": "code",
   "execution_count": null,
   "metadata": {},
   "outputs": [],
   "source": []
  },
  {
   "cell_type": "code",
   "execution_count": 39,
   "metadata": {},
   "outputs": [
    {
     "data": {
      "text/plain": [
       "{'1': 1, '2': 2, '4': 4, '5': 5, '6': 6, '7': 8}"
      ]
     },
     "execution_count": 39,
     "metadata": {},
     "output_type": "execute_result"
    }
   ],
   "source": [
    "dict_"
   ]
  },
  {
   "cell_type": "code",
   "execution_count": 1,
   "metadata": {},
   "outputs": [],
   "source": [
    "from sys import getsizeof"
   ]
  },
  {
   "cell_type": "code",
   "execution_count": 8,
   "metadata": {},
   "outputs": [
    {
     "data": {
      "text/plain": [
       "9536.7431640625"
      ]
     },
     "execution_count": 8,
     "metadata": {},
     "output_type": "execute_result"
    }
   ],
   "source": [
    "200e6 * getsizeof(\"Q\") / 1024**2"
   ]
  },
  {
   "cell_type": "code",
   "execution_count": 21,
   "metadata": {},
   "outputs": [
    {
     "data": {
      "text/plain": [
       "762.9395446777344"
      ]
     },
     "execution_count": 21,
     "metadata": {},
     "output_type": "execute_result"
    }
   ],
   "source": [
    "getsizeof(np.array([\"Q\"]*200000000)) / 1024**2"
   ]
  },
  {
   "cell_type": "code",
   "execution_count": 54,
   "metadata": {},
   "outputs": [
    {
     "data": {
      "text/plain": [
       "8"
      ]
     },
     "execution_count": 54,
     "metadata": {},
     "output_type": "execute_result"
    }
   ],
   "source": [
    "np.array([0.1], dtype='float64').nbytes"
   ]
  },
  {
   "cell_type": "code",
   "execution_count": 88,
   "metadata": {},
   "outputs": [
    {
     "data": {
      "text/plain": [
       "1525.87890625"
      ]
     },
     "execution_count": 88,
     "metadata": {},
     "output_type": "execute_result"
    }
   ],
   "source": [
    "8 * 200e6 / 1024**2"
   ]
  },
  {
   "cell_type": "code",
   "execution_count": 90,
   "metadata": {},
   "outputs": [
    {
     "data": {
      "text/plain": [
       "0.0457763671875"
      ]
     },
     "execution_count": 90,
     "metadata": {},
     "output_type": "execute_result"
    }
   ],
   "source": [
    "4 * 6 * 2000 / 1024**2"
   ]
  },
  {
   "cell_type": "code",
   "execution_count": 93,
   "metadata": {},
   "outputs": [
    {
     "data": {
      "text/plain": [
       "48000"
      ]
     },
     "execution_count": 93,
     "metadata": {},
     "output_type": "execute_result"
    }
   ],
   "source": [
    "np.zeros((6, 2000), dtype='uint32').nbytes"
   ]
  },
  {
   "cell_type": "code",
   "execution_count": 68,
   "metadata": {},
   "outputs": [],
   "source": [
    "test_norm = norm(5, 1)"
   ]
  },
  {
   "cell_type": "code",
   "execution_count": 69,
   "metadata": {},
   "outputs": [
    {
     "data": {
      "text/plain": [
       "(array([9.317e+03, 5.390e+02, 1.080e+02, 2.100e+01, 1.000e+01, 3.000e+00,\n",
       "        0.000e+00, 1.000e+00, 0.000e+00, 1.000e+00]),\n",
       " array([2.50937721e+00, 6.55048267e+02, 1.30758716e+03, 1.96012605e+03,\n",
       "        2.61266494e+03, 3.26520383e+03, 3.91774272e+03, 4.57028161e+03,\n",
       "        5.22282050e+03, 5.87535939e+03, 6.52789828e+03]),\n",
       " <a list of 10 Patch objects>)"
      ]
     },
     "execution_count": 69,
     "metadata": {},
     "output_type": "execute_result"
    },
    {
     "data": {
      "image/png": "[encoded data removed]",
      "text/plain": [
       "<Figure size 432x288 with 1 Axes>"
      ]
     },
     "metadata": {
      "needs_background": "light"
     },
     "output_type": "display_data"
    }
   ],
   "source": [
    "plt.hist(np.exp(test_norm.rvs(10000)))"
   ]
  },
  {
   "cell_type": "code",
   "execution_count": 86,
   "metadata": {},
   "outputs": [],
   "source": [
    "test_log = lognorm(s=2, loc=0, scale=np.exp(0.5))"
   ]
  },
  {
   "cell_type": "code",
   "execution_count": 87,
   "metadata": {},
   "outputs": [
    {
     "data": {
      "text/plain": [
       "(array([9.995e+03, 2.000e+00, 2.000e+00, 0.000e+00, 0.000e+00, 0.000e+00,\n",
       "        0.000e+00, 0.000e+00, 0.000e+00, 1.000e+00]),\n",
       " array([2.70535355e-04, 1.20536253e+03, 2.41072479e+03, 3.61608706e+03,\n",
       "        4.82144932e+03, 6.02681158e+03, 7.23217384e+03, 8.43753610e+03,\n",
       "        9.64289836e+03, 1.08482606e+04, 1.20536229e+04]),\n",
       " <a list of 10 Patch objects>)"
      ]
     },
     "execution_count": 87,
     "metadata": {},
     "output_type": "execute_result"
    },
    {
     "data": {
      "image/png": "[encoded data removed]",
      "text/plain": [
       "<Figure size 432x288 with 1 Axes>"
      ]
     },
     "metadata": {
      "needs_background": "light"
     },
     "output_type": "display_data"
    }
   ],
   "source": [
    "plt.hist(test_log.rvs(10000))"
   ]
  },
  {
   "cell_type": "code",
   "execution_count": 55,
   "metadata": {},
   "outputs": [
    {
     "data": {
      "text/plain": [
       "1525.87890625"
      ]
     },
     "execution_count": 55,
     "metadata": {},
     "output_type": "execute_result"
    }
   ],
   "source": [
    "8 * 200e6 / 1024**2"
   ]
  },
  {
   "cell_type": "code",
   "execution_count": 45,
   "metadata": {},
   "outputs": [
    {
     "ename": "TypeError",
     "evalue": "data type \"uint4\" not understood",
     "output_type": "error",
     "traceback": [
      "\u001b[1;31m---------------------------------------------------------------------------\u001b[0m",
      "\u001b[1;31mTypeError\u001b[0m                                 Traceback (most recent call last)",
      "\u001b[1;32m<ipython-input-45-ccdcce023a78>\u001b[0m in \u001b[0;36m<module>\u001b[1;34m\u001b[0m\n\u001b[1;32m----> 1\u001b[1;33m \u001b[0mgetsizeof\u001b[0m\u001b[1;33m(\u001b[0m\u001b[0mnp\u001b[0m\u001b[1;33m.\u001b[0m\u001b[0marray\u001b[0m\u001b[1;33m(\u001b[0m\u001b[1;33m[\u001b[0m\u001b[1;34m\"0\"\u001b[0m\u001b[1;33m]\u001b[0m\u001b[1;33m*\u001b[0m\u001b[1;36m200000000\u001b[0m\u001b[1;33m,\u001b[0m \u001b[0mdtype\u001b[0m\u001b[1;33m=\u001b[0m\u001b[1;34m'uint4'\u001b[0m\u001b[1;33m)\u001b[0m\u001b[1;33m)\u001b[0m \u001b[1;33m/\u001b[0m \u001b[1;36m1024\u001b[0m\u001b[1;33m**\u001b[0m\u001b[1;36m2\u001b[0m\u001b[1;33m\u001b[0m\u001b[1;33m\u001b[0m\u001b[0m\n\u001b[0m",
      "\u001b[1;31mTypeError\u001b[0m: data type \"uint4\" not understood"
     ]
    }
   ],
   "source": [
    "getsizeof(np.array([\"0\"]*200000000, dtype='uint8')) / 1024**2"
   ]
  },
  {
   "cell_type": "code",
   "execution_count": 30,
   "metadata": {},
   "outputs": [
    {
     "data": {
      "text/plain": [
       "array(['0', '0', '0', '0', '0', '0', '0', '0', '0', '0'], dtype='<U1')"
      ]
     },
     "execution_count": 30,
     "metadata": {},
     "output_type": "execute_result"
    }
   ],
   "source": [
    "test = np.array([\"0\"]*10)\n",
    "test"
   ]
  },
  {
   "cell_type": "code",
   "execution_count": 32,
   "metadata": {},
   "outputs": [
    {
     "data": {
      "text/plain": [
       "190.73486328125"
      ]
     },
     "execution_count": 32,
     "metadata": {},
     "output_type": "execute_result"
    }
   ],
   "source": [
    "200e6 / 1024**2"
   ]
  },
  {
   "cell_type": "code",
   "execution_count": 18,
   "metadata": {},
   "outputs": [
    {
     "data": {
      "text/plain": [
       "40000"
      ]
     },
     "execution_count": 18,
     "metadata": {},
     "output_type": "execute_result"
    }
   ],
   "source": [
    "np.array([\"Q\"]*10000).nbytes"
   ]
  },
  {
   "cell_type": "code",
   "execution_count": 6,
   "metadata": {},
   "outputs": [
    {
     "data": {
      "text/plain": [
       "28"
      ]
     },
     "execution_count": 6,
     "metadata": {},
     "output_type": "execute_result"
    }
   ],
   "source": [
    "getsizeof(1)"
   ]
  },
  {
   "cell_type": "code",
   "execution_count": 68,
   "metadata": {},
   "outputs": [
    {
     "ename": "TypeError",
     "evalue": "unhashable type: 'numpy.ndarray'",
     "output_type": "error",
     "traceback": [
      "\u001b[1;31m---------------------------------------------------------------------------\u001b[0m",
      "\u001b[1;31mTypeError\u001b[0m                                 Traceback (most recent call last)",
      "\u001b[1;32m<ipython-input-68-2cafa2cc80b7>\u001b[0m in \u001b[0;36m<module>\u001b[1;34m\u001b[0m\n\u001b[1;32m----> 1\u001b[1;33m \u001b[1;33m{\u001b[0m\u001b[0mnp\u001b[0m\u001b[1;33m.\u001b[0m\u001b[0marray\u001b[0m\u001b[1;33m(\u001b[0m\u001b[0mbins\u001b[0m\u001b[1;33m[\u001b[0m\u001b[1;33m:\u001b[0m\u001b[1;33m-\u001b[0m\u001b[1;36m1\u001b[0m\u001b[1;33m]\u001b[0m\u001b[1;33m)\u001b[0m\u001b[1;33m.\u001b[0m\u001b[0mastype\u001b[0m\u001b[1;33m(\u001b[0m\u001b[1;34m'str'\u001b[0m\u001b[1;33m)\u001b[0m\u001b[1;33m,\u001b[0m \u001b[0mtester\u001b[0m\u001b[1;33m[\u001b[0m\u001b[1;36m0\u001b[0m\u001b[1;33m]\u001b[0m\u001b[1;33m}\u001b[0m\u001b[1;33m\u001b[0m\u001b[1;33m\u001b[0m\u001b[0m\n\u001b[0m",
      "\u001b[1;31mTypeError\u001b[0m: unhashable type: 'numpy.ndarray'"
     ]
    }
   ],
   "source": [
    "{np.array(bins[:-1]), tester[0]}"
   ]
  },
  {
   "cell_type": "code",
   "execution_count": 53,
   "metadata": {},
   "outputs": [
    {
     "data": {
      "text/plain": [
       "0.0457763671875"
      ]
     },
     "execution_count": 53,
     "metadata": {},
     "output_type": "execute_result"
    }
   ],
   "source": [
    "tester.nbytes / 1024 / 1024"
   ]
  },
  {
   "cell_type": "markdown",
   "metadata": {},
   "source": [
    "The input of data needs to be split up into two parts:\n",
    "- 1. Firstly, the part of data that comes from the dataset entered into the model, this needs to be boiled down to the fundamental properties (modal mineralogy, intefacial data, and crystal size data) + properties of the environment\n",
    "- 2. Secondly, for all of the parameters for which no corresponding data was entered, a substiutute needs to be constructed. For the fundamental properties this can fall back on the relations discovered during the PhD (e.g. lognormal CSD). The environmental properties might be selected by the user, nonetheless."
   ]
  },
  {
   "cell_type": "markdown",
   "metadata": {},
   "source": [
    "## 1. Modal mineralogy"
   ]
  },
  {
   "cell_type": "code",
   "execution_count": 44,
   "metadata": {},
   "outputs": [],
   "source": [
    "# Minerals present\n",
    "minerals = [\"Q\" ,\"P\", \"K\", \"B\", \"O\", \"A\"]"
   ]
  },
  {
   "cell_type": "code",
   "execution_count": 45,
   "metadata": {},
   "outputs": [],
   "source": [
    "modal_mineralogy = np.array([0.3, 0.35, 0.15, 0.10, 0.02, 0.08])"
   ]
  },
  {
   "cell_type": "code",
   "execution_count": 46,
   "metadata": {},
   "outputs": [],
   "source": [
    "prng = np.random.RandomState(1234)"
   ]
  },
  {
   "cell_type": "code",
   "execution_count": 47,
   "metadata": {},
   "outputs": [],
   "source": [
    "test = prng.choice(np.array([0, 1, 2, 3, 4, 5]), size=20000, replace=True, p=modal_mineralogy)"
   ]
  },
  {
   "cell_type": "code",
   "execution_count": 48,
   "metadata": {},
   "outputs": [],
   "source": [
    "_, counts = np.unique(test, return_counts=True)"
   ]
  },
  {
   "cell_type": "code",
   "execution_count": 49,
   "metadata": {},
   "outputs": [
    {
     "data": {
      "text/plain": [
       "array([6005, 6943, 3067, 1940,  384, 1661], dtype=int64)"
      ]
     },
     "execution_count": 49,
     "metadata": {},
     "output_type": "execute_result"
    }
   ],
   "source": [
    "counts"
   ]
  },
  {
   "cell_type": "markdown",
   "metadata": {},
   "source": [
    "## 2. CSD"
   ]
  },
  {
   "cell_type": "code",
   "execution_count": 50,
   "metadata": {},
   "outputs": [],
   "source": [
    "# You can pass in the arithmetic standard deviation as s (= the shape)\n",
    "# You can pass in the exponent of the arithmetic mean as the scale\n",
    "# You can pass in the geometric mean as the scale"
   ]
  },
  {
   "cell_type": "code",
   "execution_count": 31,
   "metadata": {},
   "outputs": [],
   "source": [
    "# Example values based on AZ from Heins(1992)\n",
    "csds = np.array([\n",
    "    lognorm(s=np.exp(0.359), loc=0, scale=0.120),\n",
    "    lognorm(s=np.exp(0.356), loc=0, scale=0.174),\n",
    "    lognorm(s=np.exp(0.455), loc=0, scale=0.112),\n",
    "    lognorm(s=np.exp(0.399), loc=0, scale=0.155),\n",
    "    lognorm(s=np.exp(0.328), loc=0, scale=0.066),\n",
    "    lognorm(s=np.exp(0.452), loc=0, scale=0.079),\n",
    "])"
   ]
  },
  {
   "cell_type": "code",
   "execution_count": 33,
   "metadata": {},
   "outputs": [
    {
     "data": {
      "text/plain": [
       "(array([4.40000e+01, 9.90000e+02, 1.47530e+04, 9.69600e+04, 2.80442e+05,\n",
       "        3.56126e+05, 1.97393e+05, 4.79920e+04, 5.06100e+03, 2.39000e+02]),\n",
       " array([-9.24658678, -7.89899873, -6.55141068, -5.20382262, -3.85623457,\n",
       "        -2.50864652, -1.16105847,  0.18652958,  1.53411763,  2.88170568,\n",
       "         4.22929373]),\n",
       " <a list of 10 Patch objects>)"
      ]
     },
     "execution_count": 33,
     "metadata": {},
     "output_type": "execute_result"
    },
    {
     "data": {
      "image/png": "[encoded data removed]",
      "text/plain": [
       "<Figure size 432x288 with 1 Axes>"
      ]
     },
     "metadata": {
      "needs_background": "light"
     },
     "output_type": "display_data"
    }
   ],
   "source": [
    "plt.hist(np.log(csds[0].rvs(1000000)))"
   ]
  },
  {
   "cell_type": "code",
   "execution_count": 18,
   "metadata": {},
   "outputs": [],
   "source": [
    "def get_truncnorm(mean, std, trunc_left, trunc_right):\n",
    "    mean = np.log(mean)\n",
    "    std = np.exp(std)\n",
    "    trunc_right = np.log(trunc_right)\n",
    "    a, b = (trunc_left - mean) / std, (trunc_right - mean) / std\n",
    "    return truncnorm(loc=mean, scale=std, a=a, b=b)"
   ]
  },
  {
   "cell_type": "code",
   "execution_count": 94,
   "metadata": {},
   "outputs": [],
   "source": [
    "# Modal mineralogy mean values per pluton of Heins(1992)\n",
    "modal_mineralogy = np.array([[0.16331256, 0.46387757, 0.12683457, 0.05758711, 0.01078412, 0.17760407],   # AZ\n",
    "                             [0.27453254, 0.40124204, 0.24993859, 0.02509231, 0.00454988, 0.04464465],   # CA-EW\n",
    "                             [0.30591989, 0.38159713, 0.26209888, 0.0188256 , 0.00799247, 0.02356603],   # CA-NS\n",
    "                             [0.19781274, 0.41766034, 0.16121575, 0.06478527, 0.00894429, 0.14958161],   # GR\n",
    "                             [0.25983144, 0.46392506, 0.15827298, 0.04370113, 0.00689158, 0.06737782],   # MT\n",
    "                             [0.22419158, 0.48490082, 0.05641885, 0.11571367, 0.        , 0.11877509]])  # WA"
   ]
  },
  {
   "cell_type": "code",
   "execution_count": 20,
   "metadata": {},
   "outputs": [],
   "source": [
    "# Example values based on AZ from Heins(1992)\n",
    "csds_AZ = np.array([\n",
    "    get_truncnorm(mean=0.120, std=0.359, trunc_left=-np.inf, trunc_right=30),\n",
    "    get_truncnorm(mean=0.174, std=0.356, trunc_left=-np.inf, trunc_right=30),\n",
    "    get_truncnorm(mean=0.112, std=0.455, trunc_left=-np.inf, trunc_right=30),\n",
    "    get_truncnorm(mean=0.155, std=0.399, trunc_left=-np.inf, trunc_right=30),\n",
    "    get_truncnorm(mean=0.066, std=0.328, trunc_left=-np.inf, trunc_right=30),\n",
    "    get_truncnorm(mean=0.079, std=0.452, trunc_left=-np.inf, trunc_right=30),\n",
    "])"
   ]
  },
  {
   "cell_type": "code",
   "execution_count": 88,
   "metadata": {},
   "outputs": [],
   "source": [
    "# Example values based on CA_EW from Heins(1992)\n",
    "csds_CA_EW = np.array([\n",
    "    get_truncnorm(mean=0.247, std=0.986, trunc_left=-np.inf, trunc_right=30),\n",
    "    get_truncnorm(mean=0.333, std=0.640, trunc_left=-np.inf, trunc_right=30),\n",
    "    get_truncnorm(mean=0.292, std=0.497, trunc_left=-np.inf, trunc_right=30),\n",
    "    get_truncnorm(mean=0.212, std=0.889, trunc_left=-np.inf, trunc_right=30),\n",
    "    get_truncnorm(mean=0.090, std=0.275, trunc_left=-np.inf, trunc_right=30),\n",
    "    get_truncnorm(mean=0.127, std=0.502, trunc_left=-np.inf, trunc_right=30),\n",
    "])"
   ]
  },
  {
   "cell_type": "code",
   "execution_count": 52,
   "metadata": {},
   "outputs": [],
   "source": [
    "# Example values based on CA_NS from Heins(1992)\n",
    "csds_CA_NS = np.array([\n",
    "    get_truncnorm(mean=0.309, std=0.823, trunc_left=-np.inf, trunc_right=30),\n",
    "    get_truncnorm(mean=0.330, std=0.683, trunc_left=-np.inf, trunc_right=30),\n",
    "    get_truncnorm(mean=0.244, std=0.817, trunc_left=-np.inf, trunc_right=30),\n",
    "    get_truncnorm(mean=0.223, std=0.819, trunc_left=-np.inf, trunc_right=30),\n",
    "    get_truncnorm(mean=0.120, std=0.554, trunc_left=-np.inf, trunc_right=30),\n",
    "    get_truncnorm(mean=0.122, std=0.782, trunc_left=-np.inf, trunc_right=30),\n",
    "])"
   ]
  },
  {
   "cell_type": "code",
   "execution_count": 89,
   "metadata": {},
   "outputs": [],
   "source": [
    "# Example values based on GR from Heins(1992)\n",
    "csds_GR = np.array([\n",
    "    get_truncnorm(mean=0.244, std=0.312, trunc_left=-np.inf, trunc_right=30),\n",
    "    get_truncnorm(mean=0.269, std=0.450, trunc_left=-np.inf, trunc_right=30),\n",
    "    get_truncnorm(mean=0.222, std=0.444, trunc_left=-np.inf, trunc_right=30),\n",
    "    get_truncnorm(mean=0.251, std=0.262, trunc_left=-np.inf, trunc_right=30),\n",
    "    get_truncnorm(mean=0.059, std=0.378, trunc_left=-np.inf, trunc_right=30),\n",
    "    get_truncnorm(mean=0.107, std=0.313, trunc_left=-np.inf, trunc_right=30),\n",
    "])"
   ]
  },
  {
   "cell_type": "code",
   "execution_count": 90,
   "metadata": {},
   "outputs": [],
   "source": [
    "# Example values based on MT from Heins(1992)\n",
    "csds_MT = np.array([\n",
    "    get_truncnorm(mean=0.220, std=0.472, trunc_left=-np.inf, trunc_right=30),\n",
    "    get_truncnorm(mean=0.227, std=0.415, trunc_left=-np.inf, trunc_right=30),\n",
    "    get_truncnorm(mean=0.160, std=0.344, trunc_left=-np.inf, trunc_right=30),\n",
    "    get_truncnorm(mean=0.153, std=0.363, trunc_left=-np.inf, trunc_right=30),\n",
    "    get_truncnorm(mean=0.078, std=0.315, trunc_left=-np.inf, trunc_right=30),\n",
    "    get_truncnorm(mean=0.075, std=0.599, trunc_left=-np.inf, trunc_right=30),\n",
    "])"
   ]
  },
  {
   "cell_type": "code",
   "execution_count": 92,
   "metadata": {},
   "outputs": [],
   "source": [
    "# Example values based on WA from Heins(1992)\n",
    "csds_WA = np.array([\n",
    "    get_truncnorm(mean=0.342, std=0.542, trunc_left=-np.inf, trunc_right=30),\n",
    "    get_truncnorm(mean=0.385, std=0.478, trunc_left=-np.inf, trunc_right=30),\n",
    "    get_truncnorm(mean=0.241, std=0.386, trunc_left=-np.inf, trunc_right=30),\n",
    "    get_truncnorm(mean=0.481, std=0.467, trunc_left=-np.inf, trunc_right=30),\n",
    "    get_truncnorm(mean=0.001, std=0.001, trunc_left=-np.inf, trunc_right=30),\n",
    "    get_truncnorm(mean=0.130, std=0.494, trunc_left=-np.inf, trunc_right=30),\n",
    "])"
   ]
  },
  {
   "cell_type": "code",
   "execution_count": 77,
   "metadata": {},
   "outputs": [],
   "source": [
    "mean_Q, std_Q = np.log(0.079), np.exp(0.452)\n",
    "trunc_left, trunc_right = -np.inf, np.log(30)  # No crystals bigger than 30 mm\n",
    "a_Q, b_Q = (trunc_left - mean_Q) / std_Q, (trunc_right - mean_Q) / std_Q\n",
    "truncnorm_Q = truncnorm(loc=mean_Q, scale=std_Q, a=a_Q, b=b_Q)"
   ]
  },
  {
   "cell_type": "code",
   "execution_count": 37,
   "metadata": {},
   "outputs": [
    {
     "data": {
      "text/plain": [
       "(array([9.87622e+05, 9.22600e+03, 1.93200e+03, 6.23000e+02, 2.82000e+02,\n",
       "        1.32000e+02, 1.01000e+02, 3.70000e+01, 2.60000e+01, 1.90000e+01]),\n",
       " array([9.75120274e-05, 2.97356484e+00, 5.94703216e+00, 8.92049949e+00,\n",
       "        1.18939668e+01, 1.48674341e+01, 1.78409015e+01, 2.08143688e+01,\n",
       "        2.37878361e+01, 2.67613034e+01, 2.97347708e+01]),\n",
       " <a list of 10 Patch objects>)"
      ]
     },
     "execution_count": 37,
     "metadata": {},
     "output_type": "execute_result"
    },
    {
     "data": {
      "image/png": "[encoded data removed]",
      "text/plain": [
       "<Figure size 432x288 with 1 Axes>"
      ]
     },
     "metadata": {
      "needs_background": "light"
     },
     "output_type": "display_data"
    }
   ],
   "source": [
    "plt.hist(np.exp(truncnorm_Q.rvs(1000000)))"
   ]
  },
  {
   "cell_type": "code",
   "execution_count": 27,
   "metadata": {},
   "outputs": [
    {
     "data": {
      "text/plain": [
       "350000000.0"
      ]
     },
     "execution_count": 27,
     "metadata": {},
     "output_type": "execute_result"
    }
   ],
   "source": [
    "1e9 * 0.35"
   ]
  },
  {
   "cell_type": "code",
   "execution_count": 38,
   "metadata": {},
   "outputs": [
    {
     "data": {
      "text/plain": [
       "30160013.136991218"
      ]
     },
     "execution_count": 38,
     "metadata": {},
     "output_type": "execute_result"
    }
   ],
   "source": [
    "np.sum(calculate_volume_sphere(np.exp(truncnorm_Q.rvs(10000000)), diameter=True))"
   ]
  },
  {
   "cell_type": "code",
   "execution_count": 30,
   "metadata": {},
   "outputs": [
    {
     "data": {
      "text/plain": [
       "0.0009047786842338603"
      ]
     },
     "execution_count": 30,
     "metadata": {},
     "output_type": "execute_result"
    }
   ],
   "source": [
    "calculate_volume_sphere(0.120, diameter=True)"
   ]
  },
  {
   "cell_type": "markdown",
   "metadata": {},
   "source": [
    "____"
   ]
  },
  {
   "cell_type": "code",
   "execution_count": 80,
   "metadata": {},
   "outputs": [],
   "source": [
    "def calculate_N_crystals(csd, modal_fraction, total_volume=1e9, learning_rate=100):\n",
    "    total_volume_mineral = 0\n",
    "    requested_volume = total_volume * modal_fraction\n",
    "    # numpy.append faster than using list.extend in code\n",
    "#     crystals = np.array([])\n",
    "#     crystals = []\n",
    "    crystals_total = []\n",
    "\n",
    "    while total_volume_mineral < requested_volume:\n",
    "        diff = requested_volume - total_volume_mineral\n",
    "        crystals_requested = int(diff / (modal_fraction*learning_rate)) + 1\n",
    "        print(crystals_requested, end=\" \")\n",
    "        crystals_total.append(crystals_requested) \n",
    "        crystals_to_add = np.exp(csd.rvs(size=crystals_requested))\n",
    "#         crystals = np.append(crystals, crystals_to_add)\n",
    "#         crystals.extend(crystals_to_add)\n",
    "        total_volume_mineral += np.sum(calculate_volume_sphere(crystals_to_add, diameter=True))\n",
    "    #     print(total_volume_mineral, \"\\n\")\n",
    "    return crystals_total, np.sum(crystals_total), total_volume_mineral"
   ]
  },
  {
   "cell_type": "code",
   "execution_count": 96,
   "metadata": {},
   "outputs": [
    {
     "data": {
      "text/plain": [
       "array([0.30591989, 0.38159713, 0.26209888, 0.0188256 , 0.00799247,\n",
       "       0.02356603])"
      ]
     },
     "execution_count": 96,
     "metadata": {},
     "output_type": "execute_result"
    }
   ],
   "source": [
    "modal_mineralogy[1]"
   ]
  },
  {
   "cell_type": "code",
   "execution_count": 112,
   "metadata": {},
   "outputs": [
    {
     "name": "stdout",
     "output_type": "stream",
     "text": [
      "Q\n",
      "1000001 703236 495525 351676 245621 173764 122329 86661 60392 41974 30201 21116 14721 9945 7204 5187 3679 2616 1841 1179 784 507 379 267 170 159 108 105 48 P\n",
      "1000001 878915 773032 676370 593396 519819 456677 400660 351647 307994 270068 237730 209068 184054 160834 141131 124429 108762 96230 85284 75278 65619 57657 50644 44092 38600 33907 29774 26158 23040 20281 17848 15602 13643 11842 10385 9061 7901 6836 6037 5234 4547 3983 3516 3052 2754 2503 2148 1828 1591 1403 1222 1096 934 831 688 621 539 483 456 378 320 289 265 231 196 155 147 117 98 75 40 39 38 28 28 28 27 27 26 26 K\n",
      "1000001 717543 517841 375884 267517 188925 134657 96927 68561 49317 34548 25691 18777 13076 9217 6887 5081 3635 2607 2117 1622 1288 703 27 27 20 B\n",
      "1000000 329968 108078 34807 10255 3748 1048 261 58 22 19 O\n",
      "A\n",
      "1000001 905270 818977 736878 664155 602882 544451 491323 442897 400818 363580 330308 297857 269232 243170 219964 200681 180623 163231 146630 131609 118829 106567 96492 88046 78046 70387 62935 56739 51246 46131 41907 38139 34447 31301 28907 25634 23520 21073 18993 17650 16126 14607 13354 12335 10899 9986 8854 8003 7153 6475 5790 5109 4687 4456 3932 3681 3444 3164 2833 2656 2366 2018 1825 1620 1527 1464 1282 1193 1037 903 869 780 737 611 585 469 353 349 167 153 152 151 146 146 135 134 129 129 51 49 46 46 45 45 43 42 42 41 40 40 35 33 33 30 30 29 29 29 10 8 8 8 7 7 7 7 7 7 7 7 7 7 7 5 5 5 5 5 5 5 5 5 5 5 5 4 4 4 4 4 4 4 4 4 4 4 4 4 4 4 4 4 4 4 4 4 4 4 4 4 4 4 4 4 4 4 4 4 4 4 4 4 4 4 4 4 4 4 4 4 4 4 4 4 4 4 4 4 4 4 4 3 3 3 3 3 3 3 3 3 3 3 2 2 2 2 2 2 2 2 2 2 2 2 2 2 2 2 2 2 2 2 2 2 2 2 2 2 2 2 1 1 1 1 1 1 1 1 1 1 1 1 1 1 1 1 1 1 1 1 1 1 1 1 1 1 1 1 1 1 1 1 1 1 1 1 1 1 1 1 1 1 1 1 1 1 1 1 1 1 1 1 1 1 1 1 1 1 1 1 1 1 1 1 1 1 1 1 1 1 1 1 1 1 1 1 1 1 1 1 1 1 1 1 1 1 1 1 1 1 1 1 1 1 1 1 1 1 1 1 1 1 1 1 1 1 1 1 1 1 1 1 1 1 1 1 1 1 1 1 1 1 1 1 1 1 1 1 1 1 1 1 1 1 1 1 1 1 1 1 1 1 1 1 1 1 1 1 1 1 1 1 1 1 1 1 1 1 1 1 1 1 1 1 1 1 1 1 1 1 1 1 1 1 1 1 1 1 1 1 1 1 1 1 1 1 1 1 1 1 1 1 1 1 1 1 Wall time: 4.47 s\n"
     ]
    }
   ],
   "source": [
    "%%time\n",
    "minerals = [\"Q\", \"P\", \"K\", \"B\", \"O\", \"A\"]\n",
    "minerals_N = {}\n",
    "\n",
    "for i in range(6):\n",
    "    print(minerals[i])\n",
    "    minerals_N[minerals[i]] = calculate_N_crystals(csds_WA[i], modal_fraction=modal_mineralogy[5][i], learning_rate=1000)"
   ]
  },
  {
   "cell_type": "code",
   "execution_count": 111,
   "metadata": {},
   "outputs": [
    {
     "name": "stdout",
     "output_type": "stream",
     "text": [
      "Q 54059055\n",
      "P 69818762\n",
      "K 20280845\n",
      "B 7723466\n",
      "O 20875453\n",
      "A 58556943\n",
      "231314524\n"
     ]
    }
   ],
   "source": [
    "# AZ\n",
    "total = 0\n",
    "\n",
    "for mineral in minerals:\n",
    "    total += minerals_N[mineral][1]\n",
    "    print(mineral, minerals_N[mineral][1])\n",
    "print(total)"
   ]
  },
  {
   "cell_type": "code",
   "execution_count": 98,
   "metadata": {},
   "outputs": [
    {
     "name": "stdout",
     "output_type": "stream",
     "text": [
      "Q 1667333\n",
      "P 3990425\n",
      "K 6110871\n",
      "B 333334\n",
      "O 12186021\n",
      "A 2064326\n",
      "26352310\n"
     ]
    }
   ],
   "source": [
    "# CA-EW\n",
    "total = 0\n",
    "\n",
    "for mineral in minerals:\n",
    "    total += minerals_N[mineral][1]\n",
    "    print(mineral, minerals_N[mineral][1])\n",
    "print(total)"
   ]
  },
  {
   "cell_type": "code",
   "execution_count": 103,
   "metadata": {},
   "outputs": [
    {
     "name": "stdout",
     "output_type": "stream",
     "text": [
      "Q 1778956\n",
      "P 3686599\n",
      "K 2043468\n",
      "B 225846\n",
      "O 284233\n",
      "A 793712\n",
      "8812814\n"
     ]
    }
   ],
   "source": [
    "# CA-NS\n",
    "total = 0\n",
    "\n",
    "for mineral in minerals:\n",
    "    total += minerals_N[mineral][1]\n",
    "    print(mineral, minerals_N[mineral][1])\n",
    "print(total)"
   ]
  },
  {
   "cell_type": "code",
   "execution_count": 107,
   "metadata": {},
   "outputs": [
    {
     "name": "stdout",
     "output_type": "stream",
     "text": [
      "Q 20711267\n",
      "P 14338701\n",
      "K 7941081\n",
      "B 9327098\n",
      "O 12571781\n",
      "A 101358741\n",
      "166248669\n"
     ]
    }
   ],
   "source": [
    "# GR\n",
    "total = 0\n",
    "\n",
    "for mineral in minerals:\n",
    "    total += minerals_N[mineral][1]\n",
    "    print(mineral, minerals_N[mineral][1])\n",
    "print(total)"
   ]
  },
  {
   "cell_type": "code",
   "execution_count": 109,
   "metadata": {},
   "outputs": [
    {
     "name": "stdout",
     "output_type": "stream",
     "text": [
      "Q 10919323\n",
      "P 26535391\n",
      "K 31503060\n",
      "B 8223161\n",
      "O 10057995\n",
      "A 6722115\n",
      "93961045\n"
     ]
    }
   ],
   "source": [
    "# MT\n",
    "total = 0\n",
    "\n",
    "for mineral in minerals:\n",
    "    total += minerals_N[mineral][1]\n",
    "    print(mineral, minerals_N[mineral][1])\n",
    "print(total)"
   ]
  },
  {
   "cell_type": "code",
   "execution_count": 113,
   "metadata": {},
   "outputs": [
    {
     "name": "stdout",
     "output_type": "stream",
     "text": [
      "Q 3381395\n",
      "P 8182313\n",
      "K 3542496\n",
      "B 1488264\n",
      "O 0.0\n",
      "A 10381958\n",
      "26976426.0\n"
     ]
    }
   ],
   "source": [
    "# WA\n",
    "total = 0\n",
    "\n",
    "for mineral in minerals:\n",
    "    total += minerals_N[mineral][1]\n",
    "    print(mineral, minerals_N[mineral][1])\n",
    "print(total)"
   ]
  },
  {
   "cell_type": "code",
   "execution_count": 135,
   "metadata": {},
   "outputs": [
    {
     "data": {
      "text/plain": [
       "array([0., 1., 2., 4., 5., 6.])"
      ]
     },
     "execution_count": 135,
     "metadata": {},
     "output_type": "execute_result"
    }
   ],
   "source": [
    "tester"
   ]
  },
  {
   "cell_type": "code",
   "execution_count": 136,
   "metadata": {},
   "outputs": [
    {
     "data": {
      "text/plain": [
       "144"
      ]
     },
     "execution_count": 136,
     "metadata": {},
     "output_type": "execute_result"
    }
   ],
   "source": [
    "getsizeof(tester)"
   ]
  },
  {
   "cell_type": "code",
   "execution_count": 130,
   "metadata": {},
   "outputs": [
    {
     "data": {
      "text/plain": [
       "112"
      ]
     },
     "execution_count": 130,
     "metadata": {},
     "output_type": "execute_result"
    }
   ],
   "source": [
    "getsizeof(tester)"
   ]
  },
  {
   "cell_type": "code",
   "execution_count": 92,
   "metadata": {},
   "outputs": [],
   "source": [
    "%load_ext line_profiler"
   ]
  },
  {
   "cell_type": "code",
   "execution_count": 24,
   "metadata": {},
   "outputs": [
    {
     "name": "stdout",
     "output_type": "stream",
     "text": [
      "10000001 2588735 696450 211410 53996 12546 6239 745 86 77 73 60 Wall time: 3.06 s\n"
     ]
    }
   ],
   "source": [
    "%%time\n",
    "tester = calculate_N_crystals(csds_AZ[3], modal_fraction=modal_AZ[3])"
   ]
  },
  {
   "cell_type": "code",
   "execution_count": null,
   "metadata": {},
   "outputs": [],
   "source": []
  },
  {
   "cell_type": "code",
   "execution_count": 77,
   "metadata": {},
   "outputs": [
    {
     "name": "stdout",
     "output_type": "stream",
     "text": [
      "10000001 8996672 8090415 7263271 6516425 5856867 5269452 4731288 4252633 3830781 3443397 3092543 2777744 2490998 2240271 2023186 1813647 1630795 1467692 1317276 1174313 1058984 954980 862610 774944 696173 624866 557545 496089 448580 403934 362167 325590 291061 262937 236948 214732 193053 173248 158729 142606 127712 113803 102670 93649 84118 74791 68320 60580 53574 48133 42144 37416 33525 29872 26629 23202 20094 18118 16136 14503 13518 11777 10848 9833 8507 7589 7082 6728 6032 5557 4719 4409 3444 2504 2373 1707 1533 1323 1107 1010 974 894 875 819 796 723 704 687 631 592 577 452 436 406 394 390 382 243 227 223 214 208 140 139 138 123 "
     ]
    },
    {
     "data": {
      "text/plain": [
       "Timer unit: 1e-07 s\n",
       "\n",
       "Total time: 16.1714 s\n",
       "File: <ipython-input-56-4d970bd109f6>\n",
       "Function: calculate_N_crystals at line 1\n",
       "\n",
       "Line #      Hits         Time  Per Hit   % Time  Line Contents\n",
       "==============================================================\n",
       "     1                                           def calculate_N_crystals(csd, modal_fraction, total_volume=1e9, learning_rate=100):\n",
       "     2         1         32.0     32.0      0.0      total_volume_mineral = 0\n",
       "     3         1         45.0     45.0      0.0      requested_volume = total_volume * modal_fraction\n",
       "     4                                               # numpy.append faster than using list.extend in code\n",
       "     5                                           #     crystals = np.array([])\n",
       "     6                                           #     crystals = []\n",
       "     7         1          8.0      8.0      0.0      crystals_total = []\n",
       "     8                                           \n",
       "     9       108       2861.0     26.5      0.0      while total_volume_mineral < requested_volume:\n",
       "    10       107       1170.0     10.9      0.0          diff = requested_volume - total_volume_mineral\n",
       "    11       107       6235.0     58.3      0.0          crystals_requested = int(diff / (modal_fraction*learning_rate)) + 1\n",
       "    12       107     257860.0   2409.9      0.2          print(crystals_requested, end=\" \")\n",
       "    13       107       2662.0     24.9      0.0          crystals_total.append(crystals_requested) \n",
       "    14       107  133843492.0 1250873.8     82.8          crystals_to_add = np.exp(csd.rvs(size=crystals_requested))\n",
       "    15                                           #         crystals = np.append(crystals, crystals_to_add)\n",
       "    16                                           #         crystals.extend(crystals_to_add)\n",
       "    17       107   27599165.0 257936.1     17.1          total_volume_mineral += np.sum(calculate_volume_sphere(crystals_to_add, diameter=True))\n",
       "    18                                               #     print(total_volume_mineral, \"\\n\")\n",
       "    19         1          5.0      5.0      0.0      return crystals_total, total_volume_mineral"
      ]
     },
     "metadata": {},
     "output_type": "display_data"
    }
   ],
   "source": [
    "%lprun -f calculate_N_crystals calculate_N_crystals(csds_AZ[0], modal_fraction=modal_AZ[0])"
   ]
  },
  {
   "cell_type": "code",
   "execution_count": 74,
   "metadata": {},
   "outputs": [
    {
     "name": "stdout",
     "output_type": "stream",
     "text": [
      "20000001 4774863 1235181 284019 97564 22370 9926 1709 Wall time: 4.33 s\n"
     ]
    }
   ],
   "source": [
    "%time tester_P = calculate_N_crystals(csds_AZ[5], modal_fraction=modal_AZ[5], learning_rate=50)"
   ]
  },
  {
   "cell_type": "code",
   "execution_count": 75,
   "metadata": {},
   "outputs": [
    {
     "data": {
      "text/plain": [
       "(26425633, 80001785.8329562)"
      ]
     },
     "execution_count": 75,
     "metadata": {},
     "output_type": "execute_result"
    }
   ],
   "source": [
    "np.sum(tester_P[0]), tester_P[1]"
   ]
  },
  {
   "cell_type": "code",
   "execution_count": 76,
   "metadata": {},
   "outputs": [
    {
     "data": {
      "text/plain": [
       "65536"
      ]
     },
     "execution_count": 76,
     "metadata": {},
     "output_type": "execute_result"
    }
   ],
   "source": [
    "2**16"
   ]
  },
  {
   "cell_type": "code",
   "execution_count": 46,
   "metadata": {},
   "outputs": [
    {
     "name": "stdout",
     "output_type": "stream",
     "text": [
      "Wall time: 8.52 s\n"
     ]
    },
    {
     "data": {
      "text/plain": [
       "349771505.99173033"
      ]
     },
     "execution_count": 46,
     "metadata": {},
     "output_type": "execute_result"
    }
   ],
   "source": [
    "%time np.sum(calculate_volume_sphere(np.exp(csds_AZ[1].rvs(np.sum(tester_P[0]))), diameter=True))"
   ]
  },
  {
   "cell_type": "code",
   "execution_count": 47,
   "metadata": {},
   "outputs": [
    {
     "name": "stdout",
     "output_type": "stream",
     "text": [
      "Wall time: 7.03 s\n"
     ]
    },
    {
     "data": {
      "text/plain": [
       "array([0.0380036 , 0.00772837, 0.95296444, ..., 0.22952287, 0.04054685,\n",
       "       0.40800456])"
      ]
     },
     "execution_count": 47,
     "metadata": {},
     "output_type": "execute_result"
    }
   ],
   "source": [
    "%time np.exp(csds_AZ[1].rvs(np.sum(tester_P[0])))"
   ]
  },
  {
   "cell_type": "code",
   "execution_count": 32,
   "metadata": {},
   "outputs": [
    {
     "name": "stdout",
     "output_type": "stream",
     "text": [
      "10000001 2605662 705646 182375 34101 3853 1560 526 384 "
     ]
    },
    {
     "data": {
      "text/plain": [
       "Timer unit: 1e-07 s\n",
       "\n",
       "Total time: 2.73999 s\n",
       "File: <ipython-input-30-98f3f63d90ff>\n",
       "Function: calculate_N_crystals at line 1\n",
       "\n",
       "Line #      Hits         Time  Per Hit   % Time  Line Contents\n",
       "==============================================================\n",
       "     1                                           def calculate_N_crystals(csd, modal_fraction, total_volume=1e9):\n",
       "     2         1         17.0     17.0      0.0      total_volume_mineral = 0\n",
       "     3         1         21.0     21.0      0.0      requested_volume = total_volume * modal_fraction\n",
       "     4                                               # numpy.append faster than using list.extend in code\n",
       "     5                                           #     crystals = np.array([])\n",
       "     6         1          5.0      5.0      0.0      crystals = []\n",
       "     7         1          4.0      4.0      0.0      crystals_total = []\n",
       "     8                                           \n",
       "     9        10        227.0     22.7      0.0      while total_volume_mineral < requested_volume:\n",
       "    10         9        113.0     12.6      0.0          diff = requested_volume - total_volume_mineral\n",
       "    11         9        472.0     52.4      0.0          crystals_requested = int(diff / (modal_fraction*100)) + 1\n",
       "    12         9      32520.0   3613.3      0.1          print(crystals_requested, end=\" \")\n",
       "    13         9        294.0     32.7      0.0          crystals_total.append(crystals_requested) \n",
       "    14         9   18028225.0 2003136.1     65.8          crystals_to_add = np.exp(csd.rvs(size=crystals_requested))\n",
       "    15                                           #         crystals = np.append(crystals, crystals_to_add)\n",
       "    16         9    5648918.0 627657.6     20.6          crystals.extend(crystals_to_add)\n",
       "    17         9    3689052.0 409894.7     13.5          total_volume_mineral += np.sum(calculate_volume_sphere(crystals_to_add, diameter=True))\n",
       "    18                                               #     print(total_volume_mineral, \"\\n\")\n",
       "    19         1          5.0      5.0      0.0      return crystals, crystals_total, total_volume_mineral"
      ]
     },
     "metadata": {},
     "output_type": "display_data"
    }
   ],
   "source": [
    "%lprun -f calculate_N_crystals calculate_N_crystals(csds_AZ[3], modal_fraction=modal_AZ[3])"
   ]
  },
  {
   "cell_type": "code",
   "execution_count": 81,
   "metadata": {},
   "outputs": [
    {
     "name": "stdout",
     "output_type": "stream",
     "text": [
      "10000001 6204322 3848273 2326992 1470845 939028 573906 365303 212668 132153 80016 43695 27488 16081 9751 5280 3570 1540 243 229 210 154 134 128 32 32 32 32 29 29 28 28 27 18 10 10 10 10 9 9 7 7 6 5 5 5 5 5 5 5 5 5 5 5 5 5 5 5 5 4 4 4 4 4 4 4 4 4 4 4 4 4 4 4 4 4 4 4 3 3 3 3 2 2 2 2 2 2 2 2 2 2 2 2 Wall time: 18.3 s\n"
     ]
    }
   ],
   "source": [
    "%%time\n",
    "total_volume_Q = 0\n",
    "total_volume = 1e9\n",
    "modal_fraction = 0.08\n",
    "requested_volume = total_volume * modal_fraction\n",
    "crystals = np.array([])\n",
    "crystals_total = []\n",
    "\n",
    "while total_volume_Q < requested_volume:\n",
    "    diff = requested_volume - total_volume_Q\n",
    "#     print(diff)\n",
    "    crystals_requested = int(diff / (modal_fraction*100)) + 1\n",
    "    print(crystals_requested, end=\" \")\n",
    "    crystals_total.append(crystals_requested) \n",
    "    crystals_to_add = np.exp(truncnorm_Q.rvs(size=crystals_requested))\n",
    "    crystals = np.append(crystals, crystals_to_add)\n",
    "    total_volume_Q += np.sum(calculate_volume_sphere(crystals_to_add, diameter=True))\n",
    "#     print(total_volume_Q, \"\\n\")"
   ]
  },
  {
   "cell_type": "code",
   "execution_count": 82,
   "metadata": {},
   "outputs": [
    {
     "data": {
      "text/plain": [
       "80000120.43646985"
      ]
     },
     "execution_count": 82,
     "metadata": {},
     "output_type": "execute_result"
    }
   ],
   "source": [
    "total_volume_Q"
   ]
  },
  {
   "cell_type": "code",
   "execution_count": 83,
   "metadata": {},
   "outputs": [
    {
     "data": {
      "text/plain": [
       "26.262567"
      ]
     },
     "execution_count": 83,
     "metadata": {},
     "output_type": "execute_result"
    }
   ],
   "source": [
    "np.sum(crystals_total) / 1e6"
   ]
  },
  {
   "cell_type": "markdown",
   "metadata": {},
   "source": [
    "Based on 3-5 runs of above code block:  \n",
    "(Without setting upper limit on CSD)   \n",
    "Mineral: modal proportion #crystals in 1m³ based on CSDs for AZ, Heins(1992)  \n",
    "- Q: 0.30 30-40 M  \n",
    "- P: 0.35 10-15 M  \n",
    "- K: 0.15  3- 5 M  \n",
    "- B: 0.10  1- 4 M\n",
    "- O: 0.02 23-25 M \n",
    "- A: 0.08   6-9 M"
   ]
  },
  {
   "cell_type": "markdown",
   "metadata": {},
   "source": [
    "Based on 2 runs of above code block:  \n",
    "(With setting upper limit on CSD of 30 mm crystals)   \n",
    "Mineral: modal proportion #crystals in 1m³ based on CSDs for AZ, Heins(1992)  \n",
    "- Q: 0.30 99 M  \n",
    "- P: 0.35 53 M  \n",
    "- K: 0.15 24 M  \n",
    "- B: 0.10 13.5 M\n",
    "- O: 0.02 37.5 M \n",
    "- A: 0.08 26 M"
   ]
  },
  {
   "cell_type": "code",
   "execution_count": 98,
   "metadata": {},
   "outputs": [
    {
     "data": {
      "text/plain": [
       "98"
      ]
     },
     "execution_count": 98,
     "metadata": {},
     "output_type": "execute_result"
    }
   ],
   "source": [
    "40+15+5+4+25+9"
   ]
  },
  {
   "cell_type": "code",
   "execution_count": 84,
   "metadata": {},
   "outputs": [
    {
     "data": {
      "text/plain": [
       "253.0"
      ]
     },
     "execution_count": 84,
     "metadata": {},
     "output_type": "execute_result"
    }
   ],
   "source": [
    "99+53+24+13.5+37.5+26"
   ]
  },
  {
   "cell_type": "code",
   "execution_count": 14,
   "metadata": {},
   "outputs": [],
   "source": [
    "# Checking to see effect of number of size bins on total volume representation\n",
    "stepsize = 0.02\n",
    "bins = [2.0**x for x in np.arange(-10, 10, stepsize)]"
   ]
  },
  {
   "cell_type": "code",
   "execution_count": 15,
   "metadata": {},
   "outputs": [],
   "source": [
    "bins_medians = [(bins[i] + bins[i+1]) / 2 for i in range(len(bins) - 1)]"
   ]
  },
  {
   "cell_type": "code",
   "execution_count": 16,
   "metadata": {},
   "outputs": [
    {
     "data": {
      "text/plain": [
       "1000"
      ]
     },
     "execution_count": 16,
     "metadata": {},
     "output_type": "execute_result"
    }
   ],
   "source": [
    "len(bins)"
   ]
  },
  {
   "cell_type": "code",
   "execution_count": 17,
   "metadata": {},
   "outputs": [
    {
     "data": {
      "text/plain": [
       "[948.8489687865026,\n",
       " 962.0944067900675,\n",
       " 975.5247442177532,\n",
       " 989.142562169334,\n",
       " 1002.9504777753941]"
      ]
     },
     "execution_count": 17,
     "metadata": {},
     "output_type": "execute_result"
    }
   ],
   "source": [
    "bins_medians[-5:]"
   ]
  },
  {
   "cell_type": "code",
   "execution_count": 18,
   "metadata": {},
   "outputs": [],
   "source": [
    "crystal_binned, _ = np.histogram(crystals, bins=bins)"
   ]
  },
  {
   "cell_type": "code",
   "execution_count": 19,
   "metadata": {},
   "outputs": [
    {
     "data": {
      "text/plain": [
       "19898781.085896134"
      ]
     },
     "execution_count": 19,
     "metadata": {},
     "output_type": "execute_result"
    }
   ],
   "source": [
    "np.sum(calculate_volume_sphere(np.array(bins_medians), diameter=True) * crystal_binned)"
   ]
  },
  {
   "cell_type": "markdown",
   "metadata": {},
   "source": [
    "___"
   ]
  },
  {
   "cell_type": "code",
   "execution_count": 20,
   "metadata": {},
   "outputs": [
    {
     "data": {
      "text/plain": [
       "76668273.25487155"
      ]
     },
     "execution_count": 20,
     "metadata": {},
     "output_type": "execute_result"
    }
   ],
   "source": [
    "calculate_volume_sphere(crystals.max(), diameter=True)"
   ]
  },
  {
   "cell_type": "code",
   "execution_count": 13,
   "metadata": {},
   "outputs": [
    {
     "data": {
      "text/plain": [
       "4.0616720262594845e-05"
      ]
     },
     "execution_count": 13,
     "metadata": {},
     "output_type": "execute_result"
    }
   ],
   "source": [
    "crystals.min()"
   ]
  },
  {
   "cell_type": "code",
   "execution_count": 52,
   "metadata": {
    "jupyter": {
     "source_hidden": true
    }
   },
   "outputs": [
    {
     "data": {
      "text/plain": [
       "2.718281828459045"
      ]
     },
     "execution_count": 52,
     "metadata": {},
     "output_type": "execute_result"
    }
   ],
   "source": [
    "np.exp(csds[0].median())"
   ]
  },
  {
   "cell_type": "code",
   "execution_count": 57,
   "metadata": {},
   "outputs": [
    {
     "data": {
      "text/plain": [
       "95.08629639359629"
      ]
     },
     "execution_count": 57,
     "metadata": {},
     "output_type": "execute_result"
    }
   ],
   "source": [
    "n_crystals = 1e9 / calculate_volume_sphere(np.exp(csds[0].median()), diameter=True)\n",
    "n_crystals/1e6"
   ]
  },
  {
   "cell_type": "code",
   "execution_count": 58,
   "metadata": {},
   "outputs": [
    {
     "ename": "TypeError",
     "evalue": "Cannot cast array data from dtype('float64') to dtype('<U32') according to the rule 'safe'",
     "output_type": "error",
     "traceback": [
      "\u001b[1;31m---------------------------------------------------------------------------\u001b[0m",
      "\u001b[1;31mTypeError\u001b[0m                                 Traceback (most recent call last)",
      "\u001b[1;32m<timed exec>\u001b[0m in \u001b[0;36m<module>\u001b[1;34m\u001b[0m\n",
      "\u001b[1;32m<__array_function__ internals>\u001b[0m in \u001b[0;36mhistogram\u001b[1;34m(*args, **kwargs)\u001b[0m\n",
      "\u001b[1;32m~\\AppData\\Local\\Continuum\\miniconda3\\envs\\sedgen\\lib\\site-packages\\numpy\\lib\\histograms.py\u001b[0m in \u001b[0;36mhistogram\u001b[1;34m(a, bins, range, normed, weights, density)\u001b[0m\n\u001b[0;32m    879\u001b[0m             \u001b[1;32mfor\u001b[0m \u001b[0mi\u001b[0m \u001b[1;32min\u001b[0m \u001b[0m_range\u001b[0m\u001b[1;33m(\u001b[0m\u001b[1;36m0\u001b[0m\u001b[1;33m,\u001b[0m \u001b[0mlen\u001b[0m\u001b[1;33m(\u001b[0m\u001b[0ma\u001b[0m\u001b[1;33m)\u001b[0m\u001b[1;33m,\u001b[0m \u001b[0mBLOCK\u001b[0m\u001b[1;33m)\u001b[0m\u001b[1;33m:\u001b[0m\u001b[1;33m\u001b[0m\u001b[1;33m\u001b[0m\u001b[0m\n\u001b[0;32m    880\u001b[0m                 \u001b[0msa\u001b[0m \u001b[1;33m=\u001b[0m \u001b[0mnp\u001b[0m\u001b[1;33m.\u001b[0m\u001b[0msort\u001b[0m\u001b[1;33m(\u001b[0m\u001b[0ma\u001b[0m\u001b[1;33m[\u001b[0m\u001b[0mi\u001b[0m\u001b[1;33m:\u001b[0m\u001b[0mi\u001b[0m\u001b[1;33m+\u001b[0m\u001b[0mBLOCK\u001b[0m\u001b[1;33m]\u001b[0m\u001b[1;33m)\u001b[0m\u001b[1;33m\u001b[0m\u001b[1;33m\u001b[0m\u001b[0m\n\u001b[1;32m--> 881\u001b[1;33m                 \u001b[0mcum_n\u001b[0m \u001b[1;33m+=\u001b[0m \u001b[0m_search_sorted_inclusive\u001b[0m\u001b[1;33m(\u001b[0m\u001b[0msa\u001b[0m\u001b[1;33m,\u001b[0m \u001b[0mbin_edges\u001b[0m\u001b[1;33m)\u001b[0m\u001b[1;33m\u001b[0m\u001b[1;33m\u001b[0m\u001b[0m\n\u001b[0m\u001b[0;32m    882\u001b[0m         \u001b[1;32melse\u001b[0m\u001b[1;33m:\u001b[0m\u001b[1;33m\u001b[0m\u001b[1;33m\u001b[0m\u001b[0m\n\u001b[0;32m    883\u001b[0m             \u001b[0mzero\u001b[0m \u001b[1;33m=\u001b[0m \u001b[0mnp\u001b[0m\u001b[1;33m.\u001b[0m\u001b[0mzeros\u001b[0m\u001b[1;33m(\u001b[0m\u001b[1;36m1\u001b[0m\u001b[1;33m,\u001b[0m \u001b[0mdtype\u001b[0m\u001b[1;33m=\u001b[0m\u001b[0mntype\u001b[0m\u001b[1;33m)\u001b[0m\u001b[1;33m\u001b[0m\u001b[1;33m\u001b[0m\u001b[0m\n",
      "\u001b[1;32m~\\AppData\\Local\\Continuum\\miniconda3\\envs\\sedgen\\lib\\site-packages\\numpy\\lib\\histograms.py\u001b[0m in \u001b[0;36m_search_sorted_inclusive\u001b[1;34m(a, v)\u001b[0m\n\u001b[0;32m    462\u001b[0m     \"\"\"\n\u001b[0;32m    463\u001b[0m     return np.concatenate((\n\u001b[1;32m--> 464\u001b[1;33m         \u001b[0ma\u001b[0m\u001b[1;33m.\u001b[0m\u001b[0msearchsorted\u001b[0m\u001b[1;33m(\u001b[0m\u001b[0mv\u001b[0m\u001b[1;33m[\u001b[0m\u001b[1;33m:\u001b[0m\u001b[1;33m-\u001b[0m\u001b[1;36m1\u001b[0m\u001b[1;33m]\u001b[0m\u001b[1;33m,\u001b[0m \u001b[1;34m'left'\u001b[0m\u001b[1;33m)\u001b[0m\u001b[1;33m,\u001b[0m\u001b[1;33m\u001b[0m\u001b[1;33m\u001b[0m\u001b[0m\n\u001b[0m\u001b[0;32m    465\u001b[0m         \u001b[0ma\u001b[0m\u001b[1;33m.\u001b[0m\u001b[0msearchsorted\u001b[0m\u001b[1;33m(\u001b[0m\u001b[0mv\u001b[0m\u001b[1;33m[\u001b[0m\u001b[1;33m-\u001b[0m\u001b[1;36m1\u001b[0m\u001b[1;33m:\u001b[0m\u001b[1;33m]\u001b[0m\u001b[1;33m,\u001b[0m \u001b[1;34m'right'\u001b[0m\u001b[1;33m)\u001b[0m\u001b[1;33m\u001b[0m\u001b[1;33m\u001b[0m\u001b[0m\n\u001b[0;32m    466\u001b[0m     ))\n",
      "\u001b[1;31mTypeError\u001b[0m: Cannot cast array data from dtype('float64') to dtype('<U32') according to the rule 'safe'"
     ]
    }
   ],
   "source": [
    "%%time\n",
    "csd_sample = csds[0].rvs(int(n_crystals))\n",
    "crystal_counts_binned_test, _ = np.histogram(np.exp(csd_sample), bins=bins)"
   ]
  },
  {
   "cell_type": "code",
   "execution_count": 59,
   "metadata": {},
   "outputs": [
    {
     "data": {
      "text/plain": [
       "725.4508666992188"
      ]
     },
     "execution_count": 59,
     "metadata": {},
     "output_type": "execute_result"
    }
   ],
   "source": [
    "csd_sample.nbytes / 1024 / 1024  # MB"
   ]
  },
  {
   "cell_type": "code",
   "execution_count": 60,
   "metadata": {},
   "outputs": [
    {
     "ename": "UFuncTypeError",
     "evalue": "ufunc 'subtract' did not contain a loop with signature matching types (dtype('<U11'), dtype('<U11')) -> dtype('<U11')",
     "output_type": "error",
     "traceback": [
      "\u001b[1;31m---------------------------------------------------------------------------\u001b[0m",
      "\u001b[1;31mUFuncTypeError\u001b[0m                            Traceback (most recent call last)",
      "\u001b[1;32m<timed exec>\u001b[0m in \u001b[0;36m<module>\u001b[1;34m\u001b[0m\n",
      "\u001b[1;32m~\\AppData\\Local\\Continuum\\miniconda3\\envs\\sedgen\\lib\\site-packages\\scipy\\stats\\_distn_infrastructure.py\u001b[0m in \u001b[0;36mpdf\u001b[1;34m(self, x)\u001b[0m\n\u001b[0;32m    441\u001b[0m \u001b[1;33m\u001b[0m\u001b[0m\n\u001b[0;32m    442\u001b[0m     \u001b[1;32mdef\u001b[0m \u001b[0mpdf\u001b[0m\u001b[1;33m(\u001b[0m\u001b[0mself\u001b[0m\u001b[1;33m,\u001b[0m \u001b[0mx\u001b[0m\u001b[1;33m)\u001b[0m\u001b[1;33m:\u001b[0m   \u001b[1;31m# raises AttributeError in frozen discrete distribution\u001b[0m\u001b[1;33m\u001b[0m\u001b[1;33m\u001b[0m\u001b[0m\n\u001b[1;32m--> 443\u001b[1;33m         \u001b[1;32mreturn\u001b[0m \u001b[0mself\u001b[0m\u001b[1;33m.\u001b[0m\u001b[0mdist\u001b[0m\u001b[1;33m.\u001b[0m\u001b[0mpdf\u001b[0m\u001b[1;33m(\u001b[0m\u001b[0mx\u001b[0m\u001b[1;33m,\u001b[0m \u001b[1;33m*\u001b[0m\u001b[0mself\u001b[0m\u001b[1;33m.\u001b[0m\u001b[0margs\u001b[0m\u001b[1;33m,\u001b[0m \u001b[1;33m**\u001b[0m\u001b[0mself\u001b[0m\u001b[1;33m.\u001b[0m\u001b[0mkwds\u001b[0m\u001b[1;33m)\u001b[0m\u001b[1;33m\u001b[0m\u001b[1;33m\u001b[0m\u001b[0m\n\u001b[0m\u001b[0;32m    444\u001b[0m \u001b[1;33m\u001b[0m\u001b[0m\n\u001b[0;32m    445\u001b[0m     \u001b[1;32mdef\u001b[0m \u001b[0mlogpdf\u001b[0m\u001b[1;33m(\u001b[0m\u001b[0mself\u001b[0m\u001b[1;33m,\u001b[0m \u001b[0mx\u001b[0m\u001b[1;33m)\u001b[0m\u001b[1;33m:\u001b[0m\u001b[1;33m\u001b[0m\u001b[1;33m\u001b[0m\u001b[0m\n",
      "\u001b[1;32m~\\AppData\\Local\\Continuum\\miniconda3\\envs\\sedgen\\lib\\site-packages\\scipy\\stats\\_distn_infrastructure.py\u001b[0m in \u001b[0;36mpdf\u001b[1;34m(self, x, *args, **kwds)\u001b[0m\n\u001b[0;32m   1718\u001b[0m         \u001b[0margs\u001b[0m \u001b[1;33m=\u001b[0m \u001b[0mtuple\u001b[0m\u001b[1;33m(\u001b[0m\u001b[0mmap\u001b[0m\u001b[1;33m(\u001b[0m\u001b[0masarray\u001b[0m\u001b[1;33m,\u001b[0m \u001b[0margs\u001b[0m\u001b[1;33m)\u001b[0m\u001b[1;33m)\u001b[0m\u001b[1;33m\u001b[0m\u001b[1;33m\u001b[0m\u001b[0m\n\u001b[0;32m   1719\u001b[0m         \u001b[0mdtyp\u001b[0m \u001b[1;33m=\u001b[0m \u001b[0mnp\u001b[0m\u001b[1;33m.\u001b[0m\u001b[0mfind_common_type\u001b[0m\u001b[1;33m(\u001b[0m\u001b[1;33m[\u001b[0m\u001b[0mx\u001b[0m\u001b[1;33m.\u001b[0m\u001b[0mdtype\u001b[0m\u001b[1;33m,\u001b[0m \u001b[0mnp\u001b[0m\u001b[1;33m.\u001b[0m\u001b[0mfloat64\u001b[0m\u001b[1;33m]\u001b[0m\u001b[1;33m,\u001b[0m \u001b[1;33m[\u001b[0m\u001b[1;33m]\u001b[0m\u001b[1;33m)\u001b[0m\u001b[1;33m\u001b[0m\u001b[1;33m\u001b[0m\u001b[0m\n\u001b[1;32m-> 1720\u001b[1;33m         \u001b[0mx\u001b[0m \u001b[1;33m=\u001b[0m \u001b[0mnp\u001b[0m\u001b[1;33m.\u001b[0m\u001b[0masarray\u001b[0m\u001b[1;33m(\u001b[0m\u001b[1;33m(\u001b[0m\u001b[0mx\u001b[0m \u001b[1;33m-\u001b[0m \u001b[0mloc\u001b[0m\u001b[1;33m)\u001b[0m\u001b[1;33m/\u001b[0m\u001b[0mscale\u001b[0m\u001b[1;33m,\u001b[0m \u001b[0mdtype\u001b[0m\u001b[1;33m=\u001b[0m\u001b[0mdtyp\u001b[0m\u001b[1;33m)\u001b[0m\u001b[1;33m\u001b[0m\u001b[1;33m\u001b[0m\u001b[0m\n\u001b[0m\u001b[0;32m   1721\u001b[0m         \u001b[0mcond0\u001b[0m \u001b[1;33m=\u001b[0m \u001b[0mself\u001b[0m\u001b[1;33m.\u001b[0m\u001b[0m_argcheck\u001b[0m\u001b[1;33m(\u001b[0m\u001b[1;33m*\u001b[0m\u001b[0margs\u001b[0m\u001b[1;33m)\u001b[0m \u001b[1;33m&\u001b[0m \u001b[1;33m(\u001b[0m\u001b[0mscale\u001b[0m \u001b[1;33m>\u001b[0m \u001b[1;36m0\u001b[0m\u001b[1;33m)\u001b[0m\u001b[1;33m\u001b[0m\u001b[1;33m\u001b[0m\u001b[0m\n\u001b[0;32m   1722\u001b[0m         \u001b[0mcond1\u001b[0m \u001b[1;33m=\u001b[0m \u001b[0mself\u001b[0m\u001b[1;33m.\u001b[0m\u001b[0m_support_mask\u001b[0m\u001b[1;33m(\u001b[0m\u001b[0mx\u001b[0m\u001b[1;33m,\u001b[0m \u001b[1;33m*\u001b[0m\u001b[0margs\u001b[0m\u001b[1;33m)\u001b[0m \u001b[1;33m&\u001b[0m \u001b[1;33m(\u001b[0m\u001b[0mscale\u001b[0m \u001b[1;33m>\u001b[0m \u001b[1;36m0\u001b[0m\u001b[1;33m)\u001b[0m\u001b[1;33m\u001b[0m\u001b[1;33m\u001b[0m\u001b[0m\n",
      "\u001b[1;31mUFuncTypeError\u001b[0m: ufunc 'subtract' did not contain a loop with signature matching types (dtype('<U11'), dtype('<U11')) -> dtype('<U11')"
     ]
    }
   ],
   "source": [
    "%%time\n",
    "test = (csds[0].pdf(bins)*int(n_crystals)).astype('int')"
   ]
  },
  {
   "cell_type": "code",
   "execution_count": 61,
   "metadata": {},
   "outputs": [
    {
     "ename": "UFuncTypeError",
     "evalue": "ufunc 'subtract' did not contain a loop with signature matching types (dtype('<U11'), dtype('<U11')) -> dtype('<U11')",
     "output_type": "error",
     "traceback": [
      "\u001b[1;31m---------------------------------------------------------------------------\u001b[0m",
      "\u001b[1;31mUFuncTypeError\u001b[0m                            Traceback (most recent call last)",
      "\u001b[1;32m<ipython-input-61-bb0afdac9796>\u001b[0m in \u001b[0;36m<module>\u001b[1;34m\u001b[0m\n\u001b[1;32m----> 1\u001b[1;33m \u001b[0mpdf_normalized\u001b[0m \u001b[1;33m=\u001b[0m \u001b[0mcsds\u001b[0m\u001b[1;33m[\u001b[0m\u001b[1;36m0\u001b[0m\u001b[1;33m]\u001b[0m\u001b[1;33m.\u001b[0m\u001b[0mpdf\u001b[0m\u001b[1;33m(\u001b[0m\u001b[0mbins\u001b[0m\u001b[1;33m)\u001b[0m \u001b[1;33m/\u001b[0m \u001b[0mnp\u001b[0m\u001b[1;33m.\u001b[0m\u001b[0msum\u001b[0m\u001b[1;33m(\u001b[0m\u001b[0mcsds\u001b[0m\u001b[1;33m[\u001b[0m\u001b[1;36m0\u001b[0m\u001b[1;33m]\u001b[0m\u001b[1;33m.\u001b[0m\u001b[0mpdf\u001b[0m\u001b[1;33m(\u001b[0m\u001b[0mbins\u001b[0m\u001b[1;33m)\u001b[0m\u001b[1;33m)\u001b[0m\u001b[1;33m\u001b[0m\u001b[1;33m\u001b[0m\u001b[0m\n\u001b[0m",
      "\u001b[1;32m~\\AppData\\Local\\Continuum\\miniconda3\\envs\\sedgen\\lib\\site-packages\\scipy\\stats\\_distn_infrastructure.py\u001b[0m in \u001b[0;36mpdf\u001b[1;34m(self, x)\u001b[0m\n\u001b[0;32m    441\u001b[0m \u001b[1;33m\u001b[0m\u001b[0m\n\u001b[0;32m    442\u001b[0m     \u001b[1;32mdef\u001b[0m \u001b[0mpdf\u001b[0m\u001b[1;33m(\u001b[0m\u001b[0mself\u001b[0m\u001b[1;33m,\u001b[0m \u001b[0mx\u001b[0m\u001b[1;33m)\u001b[0m\u001b[1;33m:\u001b[0m   \u001b[1;31m# raises AttributeError in frozen discrete distribution\u001b[0m\u001b[1;33m\u001b[0m\u001b[1;33m\u001b[0m\u001b[0m\n\u001b[1;32m--> 443\u001b[1;33m         \u001b[1;32mreturn\u001b[0m \u001b[0mself\u001b[0m\u001b[1;33m.\u001b[0m\u001b[0mdist\u001b[0m\u001b[1;33m.\u001b[0m\u001b[0mpdf\u001b[0m\u001b[1;33m(\u001b[0m\u001b[0mx\u001b[0m\u001b[1;33m,\u001b[0m \u001b[1;33m*\u001b[0m\u001b[0mself\u001b[0m\u001b[1;33m.\u001b[0m\u001b[0margs\u001b[0m\u001b[1;33m,\u001b[0m \u001b[1;33m**\u001b[0m\u001b[0mself\u001b[0m\u001b[1;33m.\u001b[0m\u001b[0mkwds\u001b[0m\u001b[1;33m)\u001b[0m\u001b[1;33m\u001b[0m\u001b[1;33m\u001b[0m\u001b[0m\n\u001b[0m\u001b[0;32m    444\u001b[0m \u001b[1;33m\u001b[0m\u001b[0m\n\u001b[0;32m    445\u001b[0m     \u001b[1;32mdef\u001b[0m \u001b[0mlogpdf\u001b[0m\u001b[1;33m(\u001b[0m\u001b[0mself\u001b[0m\u001b[1;33m,\u001b[0m \u001b[0mx\u001b[0m\u001b[1;33m)\u001b[0m\u001b[1;33m:\u001b[0m\u001b[1;33m\u001b[0m\u001b[1;33m\u001b[0m\u001b[0m\n",
      "\u001b[1;32m~\\AppData\\Local\\Continuum\\miniconda3\\envs\\sedgen\\lib\\site-packages\\scipy\\stats\\_distn_infrastructure.py\u001b[0m in \u001b[0;36mpdf\u001b[1;34m(self, x, *args, **kwds)\u001b[0m\n\u001b[0;32m   1718\u001b[0m         \u001b[0margs\u001b[0m \u001b[1;33m=\u001b[0m \u001b[0mtuple\u001b[0m\u001b[1;33m(\u001b[0m\u001b[0mmap\u001b[0m\u001b[1;33m(\u001b[0m\u001b[0masarray\u001b[0m\u001b[1;33m,\u001b[0m \u001b[0margs\u001b[0m\u001b[1;33m)\u001b[0m\u001b[1;33m)\u001b[0m\u001b[1;33m\u001b[0m\u001b[1;33m\u001b[0m\u001b[0m\n\u001b[0;32m   1719\u001b[0m         \u001b[0mdtyp\u001b[0m \u001b[1;33m=\u001b[0m \u001b[0mnp\u001b[0m\u001b[1;33m.\u001b[0m\u001b[0mfind_common_type\u001b[0m\u001b[1;33m(\u001b[0m\u001b[1;33m[\u001b[0m\u001b[0mx\u001b[0m\u001b[1;33m.\u001b[0m\u001b[0mdtype\u001b[0m\u001b[1;33m,\u001b[0m \u001b[0mnp\u001b[0m\u001b[1;33m.\u001b[0m\u001b[0mfloat64\u001b[0m\u001b[1;33m]\u001b[0m\u001b[1;33m,\u001b[0m \u001b[1;33m[\u001b[0m\u001b[1;33m]\u001b[0m\u001b[1;33m)\u001b[0m\u001b[1;33m\u001b[0m\u001b[1;33m\u001b[0m\u001b[0m\n\u001b[1;32m-> 1720\u001b[1;33m         \u001b[0mx\u001b[0m \u001b[1;33m=\u001b[0m \u001b[0mnp\u001b[0m\u001b[1;33m.\u001b[0m\u001b[0masarray\u001b[0m\u001b[1;33m(\u001b[0m\u001b[1;33m(\u001b[0m\u001b[0mx\u001b[0m \u001b[1;33m-\u001b[0m \u001b[0mloc\u001b[0m\u001b[1;33m)\u001b[0m\u001b[1;33m/\u001b[0m\u001b[0mscale\u001b[0m\u001b[1;33m,\u001b[0m \u001b[0mdtype\u001b[0m\u001b[1;33m=\u001b[0m\u001b[0mdtyp\u001b[0m\u001b[1;33m)\u001b[0m\u001b[1;33m\u001b[0m\u001b[1;33m\u001b[0m\u001b[0m\n\u001b[0m\u001b[0;32m   1721\u001b[0m         \u001b[0mcond0\u001b[0m \u001b[1;33m=\u001b[0m \u001b[0mself\u001b[0m\u001b[1;33m.\u001b[0m\u001b[0m_argcheck\u001b[0m\u001b[1;33m(\u001b[0m\u001b[1;33m*\u001b[0m\u001b[0margs\u001b[0m\u001b[1;33m)\u001b[0m \u001b[1;33m&\u001b[0m \u001b[1;33m(\u001b[0m\u001b[0mscale\u001b[0m \u001b[1;33m>\u001b[0m \u001b[1;36m0\u001b[0m\u001b[1;33m)\u001b[0m\u001b[1;33m\u001b[0m\u001b[1;33m\u001b[0m\u001b[0m\n\u001b[0;32m   1722\u001b[0m         \u001b[0mcond1\u001b[0m \u001b[1;33m=\u001b[0m \u001b[0mself\u001b[0m\u001b[1;33m.\u001b[0m\u001b[0m_support_mask\u001b[0m\u001b[1;33m(\u001b[0m\u001b[0mx\u001b[0m\u001b[1;33m,\u001b[0m \u001b[1;33m*\u001b[0m\u001b[0margs\u001b[0m\u001b[1;33m)\u001b[0m \u001b[1;33m&\u001b[0m \u001b[1;33m(\u001b[0m\u001b[0mscale\u001b[0m \u001b[1;33m>\u001b[0m \u001b[1;36m0\u001b[0m\u001b[1;33m)\u001b[0m\u001b[1;33m\u001b[0m\u001b[1;33m\u001b[0m\u001b[0m\n",
      "\u001b[1;31mUFuncTypeError\u001b[0m: ufunc 'subtract' did not contain a loop with signature matching types (dtype('<U11'), dtype('<U11')) -> dtype('<U11')"
     ]
    }
   ],
   "source": [
    "pdf_normalized = csds[0].pdf(bins) / np.sum(csds[0].pdf(bins))"
   ]
  },
  {
   "cell_type": "code",
   "execution_count": null,
   "metadata": {},
   "outputs": [],
   "source": [
    "test = (pdf_normalized * n_crystals).astype('int')"
   ]
  },
  {
   "cell_type": "code",
   "execution_count": null,
   "metadata": {},
   "outputs": [],
   "source": [
    "bins_medians = [1.5 * 2.0**x for x in np.arange(-10, 10.01, 0.01)]"
   ]
  },
  {
   "cell_type": "code",
   "execution_count": 41,
   "metadata": {},
   "outputs": [
    {
     "data": {
      "text/plain": [
       "dtype('int32')"
      ]
     },
     "execution_count": 41,
     "metadata": {},
     "output_type": "execute_result"
    }
   ],
   "source": [
    "test.dtype"
   ]
  },
  {
   "cell_type": "code",
   "execution_count": 43,
   "metadata": {},
   "outputs": [
    {
     "data": {
      "text/plain": [
       "4.294967296"
      ]
     },
     "execution_count": 43,
     "metadata": {},
     "output_type": "execute_result"
    }
   ],
   "source": [
    "2**32 / 1e9"
   ]
  },
  {
   "cell_type": "code",
   "execution_count": 40,
   "metadata": {},
   "outputs": [
    {
     "data": {
      "text/plain": [
       "46.8984375"
      ]
     },
     "execution_count": 40,
     "metadata": {},
     "output_type": "execute_result"
    }
   ],
   "source": [
    "6 * test.nbytes / 1024  # kB"
   ]
  },
  {
   "cell_type": "code",
   "execution_count": 194,
   "metadata": {},
   "outputs": [
    {
     "data": {
      "text/plain": [
       "95085508"
      ]
     },
     "execution_count": 194,
     "metadata": {},
     "output_type": "execute_result"
    }
   ],
   "source": [
    "test.sum()"
   ]
  },
  {
   "cell_type": "code",
   "execution_count": 195,
   "metadata": {},
   "outputs": [],
   "source": [
    "bins_volumes = calculate_volume_sphere(np.array(bins_medians), diameter=True)"
   ]
  },
  {
   "cell_type": "code",
   "execution_count": 196,
   "metadata": {},
   "outputs": [
    {
     "data": {
      "text/plain": [
       "0.7296020964387707"
      ]
     },
     "execution_count": 196,
     "metadata": {},
     "output_type": "execute_result"
    }
   ],
   "source": [
    "np.sum(test * bins_volumes) / 1e9"
   ]
  },
  {
   "cell_type": "code",
   "execution_count": 117,
   "metadata": {},
   "outputs": [
    {
     "data": {
      "text/plain": [
       "<BarContainer object of 2001 artists>"
      ]
     },
     "execution_count": 117,
     "metadata": {},
     "output_type": "execute_result"
    },
    {
     "data": {
      "text/plain": [
       "(0.000244140625, 1024)"
      ]
     },
     "execution_count": 117,
     "metadata": {},
     "output_type": "execute_result"
    },
    {
     "data": {
      "image/png": "[encoded data removed]",
      "text/plain": [
       "<Figure size 432x288 with 1 Axes>"
      ]
     },
     "metadata": {
      "needs_background": "light"
     },
     "output_type": "display_data"
    }
   ],
   "source": [
    "plt.bar(bins, test)\n",
    "plt.gca().set_xscale('log', basex=2)\n",
    "plt.xlim(2**-12, 2**10)"
   ]
  },
  {
   "cell_type": "code",
   "execution_count": 70,
   "metadata": {},
   "outputs": [
    {
     "data": {
      "text/plain": [
       "[<matplotlib.lines.Line2D at 0x1bff2d80e88>]"
      ]
     },
     "execution_count": 70,
     "metadata": {},
     "output_type": "execute_result"
    },
    {
     "data": {
      "image/png": "[encoded data removed]",
      "text/plain": [
       "<Figure size 432x288 with 1 Axes>"
      ]
     },
     "metadata": {
      "needs_background": "light"
     },
     "output_type": "display_data"
    }
   ],
   "source": [
    "plt.plot(np.log2(bins), csds[0].pdf(bins))"
   ]
  },
  {
   "cell_type": "code",
   "execution_count": 27,
   "metadata": {},
   "outputs": [
    {
     "data": {
      "text/plain": [
       "5.2003257647899614"
      ]
     },
     "execution_count": 27,
     "metadata": {},
     "output_type": "execute_result"
    }
   ],
   "source": [
    "np.exp(csds[0].mean())"
   ]
  },
  {
   "cell_type": "code",
   "execution_count": 62,
   "metadata": {},
   "outputs": [
    {
     "name": "stdout",
     "output_type": "stream",
     "text": [
      "Wall time: 1.97 ms\n"
     ]
    }
   ],
   "source": [
    "%%time\n",
    "# Obtain crystal sizes per mineral class\n",
    "crystal_sizes = []\n",
    "for csd, crystals in zip(csds, counts):\n",
    "#     print(csd, crystals)\n",
    "    crystal_sizes.append(csd.rvs(size=crystals, random_state=1234))"
   ]
  },
  {
   "cell_type": "code",
   "execution_count": 17,
   "metadata": {},
   "outputs": [
    {
     "data": {
      "image/png": "[encoded data removed]",
      "text/plain": [
       "<Figure size 432x288 with 1 Axes>"
      ]
     },
     "metadata": {
      "needs_background": "light"
     },
     "output_type": "display_data"
    }
   ],
   "source": [
    "plt.plot(np.log(ecdf(crystal_sizes[0])[0]), ecdf(crystal_sizes[0])[1], \n",
    "         color='orangered', zorder=10, label=\"sample\")\n",
    "\n",
    "x = np.linspace(csds[0].ppf(0.00001), csds[0].ppf(0.99999), 1000)\n",
    "plt.plot(np.log(x), csds[0].cdf(x), \n",
    "         color='k', lw=5, label=\"population\")\n",
    "\n",
    "plt.legend(fontsize='small')\n",
    "plt.show();"
   ]
  },
  {
   "cell_type": "code",
   "execution_count": 21,
   "metadata": {},
   "outputs": [],
   "source": [
    "# Bins according to phi scale in quarters (in mm)\n",
    "# To Do: Make lower- and upper bin boundaries model parameters (and attributes)\n",
    "bins = [2.0**x for x in np.arange(-10, 10.01, 0.01)]"
   ]
  },
  {
   "cell_type": "code",
   "execution_count": 67,
   "metadata": {},
   "outputs": [],
   "source": [
    "crystal_counts_binned = np.zeros((6, 2000))\n",
    "for i in range(6):\n",
    "    crystal_counts_binned[i], _ = np.histogram(crystal_sizes[i], bins=bins)"
   ]
  },
  {
   "cell_type": "code",
   "execution_count": 20,
   "metadata": {},
   "outputs": [
    {
     "data": {
      "image/png": "[encoded data removed]",
      "text/plain": [
       "<Figure size 432x288 with 1 Axes>"
      ]
     },
     "metadata": {
      "needs_background": "light"
     },
     "output_type": "display_data"
    }
   ],
   "source": [
    "for i in range(6):\n",
    "    plt.hist(crystal_sizes[i], bins=bins, label=minerals[i], alpha=0.8)\n",
    "plt.gca().set_xscale('log', basex=2)\n",
    "plt.legend(fontsize='small')\n",
    "plt.show();"
   ]
  },
  {
   "cell_type": "code",
   "execution_count": 63,
   "metadata": {},
   "outputs": [
    {
     "name": "stdout",
     "output_type": "stream",
     "text": [
      "Q 9918.392700030865\n",
      "P 11450.004600725795\n",
      "K 5140.702784406363\n",
      "B 3245.63696652118\n",
      "O 651.1386442209653\n",
      "A 2789.404561612471\n"
     ]
    }
   ],
   "source": [
    "crystal_sizes_sum_total = 0\n",
    "for i in range(6):\n",
    "    print(minerals[i], crystal_sizes[i].sum())\n",
    "    crystal_sizes_sum_total += crystal_sizes[i].sum()"
   ]
  },
  {
   "cell_type": "code",
   "execution_count": 21,
   "metadata": {},
   "outputs": [
    {
     "data": {
      "text/plain": [
       "33195.28025751764"
      ]
     },
     "execution_count": 21,
     "metadata": {},
     "output_type": "execute_result"
    }
   ],
   "source": [
    "crystal_sizes_sum_total"
   ]
  },
  {
   "cell_type": "code",
   "execution_count": 24,
   "metadata": {},
   "outputs": [
    {
     "name": "stdout",
     "output_type": "stream",
     "text": [
      "Q 156190.83190647393\n",
      "P 180345.1925750545\n",
      "K 89892.80872030772\n",
      "B 57613.65136188341\n",
      "O 10024.37333383742\n",
      "A 52009.45666716363\n"
     ]
    }
   ],
   "source": [
    "crystal_sizes_volume_total = 0\n",
    "for i in range(6):\n",
    "    volumes = calculate_volume_sphere(crystal_sizes[i], diameter=True)\n",
    "    print(minerals[i], volumes.sum())\n",
    "    crystal_sizes_volume_total += volumes.sum()"
   ]
  },
  {
   "cell_type": "code",
   "execution_count": 25,
   "metadata": {},
   "outputs": [
    {
     "data": {
      "text/plain": [
       "546076.3145647206"
      ]
     },
     "execution_count": 25,
     "metadata": {},
     "output_type": "execute_result"
    },
    {
     "data": {
      "text/plain": [
       "0.0005460763145647206"
      ]
     },
     "execution_count": 25,
     "metadata": {},
     "output_type": "execute_result"
    }
   ],
   "source": [
    "crystal_sizes_volume_total  # in mm³\n",
    "crystal_sizes_volume_total / 1e9 # in m³"
   ]
  },
  {
   "cell_type": "code",
   "execution_count": 106,
   "metadata": {},
   "outputs": [],
   "source": [
    "from sklearn.model_selection import train_test_split"
   ]
  },
  {
   "cell_type": "code",
   "execution_count": 112,
   "metadata": {},
   "outputs": [
    {
     "data": {
      "text/plain": [
       "[array([0, 2, 2, 2, 0, 0, 1, 0, 2, 2, 1, 0, 0, 1]), array([0, 1, 1, 1, 2, 0])]"
      ]
     },
     "execution_count": 112,
     "metadata": {},
     "output_type": "execute_result"
    }
   ],
   "source": [
    "train_test_split(np.random.randint(0, 3, (20)), train_size=0.7, random_state=1234)"
   ]
  },
  {
   "cell_type": "code",
   "execution_count": 54,
   "metadata": {},
   "outputs": [],
   "source": [
    "def split_size(n):\n",
    "    if n > 10:\n",
    "        split_size = (0.9-0.1) * prng.random_sample() + 0.1\n",
    "    else:\n",
    "        a = 1/n\n",
    "        b = 1 - a\n",
    "        split_size = (b-a) * prng.random_sample() + a\n",
    "    return split_size"
   ]
  },
  {
   "cell_type": "code",
   "execution_count": 116,
   "metadata": {},
   "outputs": [
    {
     "name": "stdout",
     "output_type": "stream",
     "text": [
      "1.27 µs ± 20.4 ns per loop (mean ± std. dev. of 7 runs, 1000000 loops each)\n"
     ]
    }
   ],
   "source": [
    "%%timeit\n",
    "np.random.random(2)"
   ]
  },
  {
   "cell_type": "code",
   "execution_count": 7,
   "metadata": {},
   "outputs": [],
   "source": [
    "def mechanical_weathering(steps):\n",
    "    composition_new = [1]\n",
    "    single_crystals = 0\n",
    "    threshold = 1e-8\n",
    "\n",
    "    for i in range(steps):\n",
    "    #     print(composition_new)\n",
    "        composition_old = composition_new\n",
    "        composition_new = []\n",
    "\n",
    "        for comp in composition_old:\n",
    "            a, b = np.random.random(2)\n",
    "    #         print(a, b)\n",
    "            # Normalize and b\n",
    "            sum_ = a + b\n",
    "            a, b = a/sum_, b/sum_\n",
    "\n",
    "            # Move fractions smaller than threshold to single crystals count\n",
    "            for split in [a, b]:\n",
    "                if split * comp <= threshold:\n",
    "                    single_crystals += 1\n",
    "                else:\n",
    "                    composition_new += [split * comp]\n",
    "    #         composition_new += [a*comp, b*comp] "
   ]
  },
  {
   "cell_type": "code",
   "execution_count": 8,
   "metadata": {},
   "outputs": [
    {
     "name": "stdout",
     "output_type": "stream",
     "text": [
      "Wall time: 3.2 s\n"
     ]
    }
   ],
   "source": [
    "%%time\n",
    "mechanical_weathering(20)"
   ]
  },
  {
   "cell_type": "code",
   "execution_count": 105,
   "metadata": {},
   "outputs": [],
   "source": [
    "a = np.array([[1, 2],\n",
    "              [3, 4],\n",
    "              [5, 6]])\n",
    "\n",
    "b = np.array([[3],\n",
    "              [2],\n",
    "              [1]])"
   ]
  },
  {
   "cell_type": "code",
   "execution_count": 108,
   "metadata": {},
   "outputs": [
    {
     "data": {
      "text/plain": [
       "array([[3, 2, 1]])"
      ]
     },
     "execution_count": 108,
     "metadata": {},
     "output_type": "execute_result"
    }
   ],
   "source": [
    "b.reshape((1, -1))"
   ]
  },
  {
   "cell_type": "code",
   "execution_count": 146,
   "metadata": {},
   "outputs": [
    {
     "data": {
      "text/plain": [
       "array([[3, 6],\n",
       "       [6, 8],\n",
       "       [5, 6]])"
      ]
     },
     "execution_count": 146,
     "metadata": {},
     "output_type": "execute_result"
    }
   ],
   "source": [
    "a * b"
   ]
  },
  {
   "cell_type": "code",
   "execution_count": 152,
   "metadata": {},
   "outputs": [
    {
     "data": {
      "text/plain": [
       "array([ 1,  2,  6,  8, 15, 18])"
      ]
     },
     "execution_count": 152,
     "metadata": {},
     "output_type": "execute_result"
    }
   ],
   "source": [
    "(a * np.array([1, 2, 3]).reshape(-1, 1)).flatten()"
   ]
  },
  {
   "cell_type": "code",
   "execution_count": 70,
   "metadata": {},
   "outputs": [
    {
     "data": {
      "text/plain": [
       "1.0"
      ]
     },
     "execution_count": 70,
     "metadata": {},
     "output_type": "execute_result"
    }
   ],
   "source": [
    "100e6 * 1e-8"
   ]
  },
  {
   "cell_type": "code",
   "execution_count": 13,
   "metadata": {},
   "outputs": [],
   "source": [
    "def mechanical_weathering_vectorized(steps, verbose=False, threshold=1e-8):\n",
    "    \"\"\"Threshold value is based on number of crystals that is expected to be \n",
    "    present in one cubic meter of parent rock which in turn is based on the average bulk crystal size\n",
    "    \n",
    "    Example:\n",
    "    --------\n",
    "    200 million crystals in 1 m³ means that a proportion of 0.5e-8 presents one crystal.\n",
    "    When a proprtion is less than or equal to this threshold this would thus mean that \n",
    "    the pcg is no longer a pcg but has become a mcg.\n",
    "    \"\"\"\n",
    "    composition_new = np.array([1])\n",
    "    pcg_evolution = np.zeros(steps)\n",
    "    mcg_evolution = np.zeros(steps)\n",
    "    pcg_memory_usage = np.zeros(steps)\n",
    "    single_crystals = 0\n",
    "\n",
    "    for i in range(steps):\n",
    "        composition_old = composition_new\n",
    "        if verbose:\n",
    "            print(\"composition_old\", composition_old)\n",
    "            print(\"composition_old_shape\", composition_old.shape)\n",
    "            \n",
    "        # Obtain random fractions\n",
    "        ab = np.random.random((2, composition_old.shape[0]))\n",
    "        ab_norm = np.divide(ab, np.sum(ab, axis=0))\n",
    "        if verbose:\n",
    "            print(\"ab\", ab)\n",
    "            print(\"ab_norm\", ab_norm)\n",
    "\n",
    "        # Create new composition from old one and fractions\n",
    "        composition_new = np.multiply(ab_norm.T, composition_old.reshape(-1, 1)).flatten()\n",
    "        if verbose:\n",
    "            print(\"composition_new\", composition_new)\n",
    "            print(\"composition_new_sum\", np.sum(composition_new), \"\\n\")\n",
    "            \n",
    "        # Move fractions smaller than threshold to single crystals count\n",
    "        condition = composition_new <= threshold\n",
    "        single_crystals += np.sum(condition)\n",
    "        if verbose:\n",
    "            print(\"single_crystals\", single_crystals)\n",
    "        composition_new = composition_new[~condition]\n",
    "        \n",
    "        if verbose:\n",
    "            print(\"composition_new\", composition_new)\n",
    "            print(\"composition_new_sum\", np.sum(composition_new), \"\\n\")\n",
    "        \n",
    "        # Keep track of evolution of pcg and mcg\n",
    "        pcg_evolution[i] = composition_new.shape[0]\n",
    "        mcg_evolution[i] = single_crystals\n",
    "        pcg_memory_usage[i] = composition_new.nbytes / 1024**2\n",
    "        if composition_new.shape[0] == 0:\n",
    "            print(i)\n",
    "            break\n",
    "        \n",
    "    return composition_new, single_crystals, pcg_evolution, mcg_evolution, pcg_memory_usage"
   ]
  },
  {
   "cell_type": "code",
   "execution_count": 235,
   "metadata": {},
   "outputs": [],
   "source": [
    "a = np.array([9, 2, 3, 6])\n",
    "b = np.array([1, 8, 7, 4])"
   ]
  },
  {
   "cell_type": "code",
   "execution_count": 236,
   "metadata": {},
   "outputs": [
    {
     "name": "stdout",
     "output_type": "stream",
     "text": [
      "484 ns ± 24 ns per loop (mean ± std. dev. of 7 runs, 1000000 loops each)\n"
     ]
    }
   ],
   "source": [
    "%timeit np.multiply(a, b)"
   ]
  },
  {
   "cell_type": "code",
   "execution_count": 237,
   "metadata": {},
   "outputs": [
    {
     "name": "stdout",
     "output_type": "stream",
     "text": [
      "428 ns ± 8.79 ns per loop (mean ± std. dev. of 7 runs, 1000000 loops each)\n"
     ]
    }
   ],
   "source": [
    "%timeit a * b"
   ]
  },
  {
   "cell_type": "code",
   "execution_count": 189,
   "metadata": {},
   "outputs": [
    {
     "name": "stdout",
     "output_type": "stream",
     "text": [
      "5.14 µs ± 291 ns per loop (mean ± std. dev. of 7 runs, 100000 loops each)\n"
     ]
    }
   ],
   "source": [
    "%timeit ab = np.stack((a, b))"
   ]
  },
  {
   "cell_type": "code",
   "execution_count": 191,
   "metadata": {},
   "outputs": [
    {
     "data": {
      "text/plain": [
       "array([[9, 2, 3, 6],\n",
       "       [1, 8, 7, 4]])"
      ]
     },
     "execution_count": 191,
     "metadata": {},
     "output_type": "execute_result"
    }
   ],
   "source": [
    "np.stack((a, b))"
   ]
  },
  {
   "cell_type": "code",
   "execution_count": 190,
   "metadata": {},
   "outputs": [
    {
     "name": "stdout",
     "output_type": "stream",
     "text": [
      "1.32 µs ± 29.3 ns per loop (mean ± std. dev. of 7 runs, 1000000 loops each)\n"
     ]
    }
   ],
   "source": [
    "%timeit ab = np.array((a, b))"
   ]
  },
  {
   "cell_type": "code",
   "execution_count": 192,
   "metadata": {},
   "outputs": [
    {
     "data": {
      "text/plain": [
       "array([[9, 2, 3, 6],\n",
       "       [1, 8, 7, 4]])"
      ]
     },
     "execution_count": 192,
     "metadata": {},
     "output_type": "execute_result"
    }
   ],
   "source": [
    "np.array((a, b))"
   ]
  },
  {
   "cell_type": "code",
   "execution_count": 174,
   "metadata": {},
   "outputs": [
    {
     "data": {
      "text/plain": [
       "array([[1, 2, 3, 4],\n",
       "       [9, 8, 7, 6]])"
      ]
     },
     "execution_count": 174,
     "metadata": {},
     "output_type": "execute_result"
    }
   ],
   "source": [
    "ab = np.sort(ab, axis=0)\n",
    "ab"
   ]
  },
  {
   "cell_type": "raw",
   "metadata": {},
   "source": [
    "def mechanical_weathering_absolute_vectorized(steps, verbose=False, threshold=1, start_nr=200e6):\n",
    "    \"\"\"Threshold value is based on number of crystals that is expected to be \n",
    "    present in one cubic meter of parent rock which in turn is based on the average bulk crystal size\n",
    "    \n",
    "    Example:\n",
    "    --------\n",
    "    200 million crystals in 1 m³ means that a proportion of 0.5e-8 presents one crystal.\n",
    "    When a proprtion is less than or equal to this threshold this would thus mean that \n",
    "    the pcg is no longer a pcg but has become a mcg.\n",
    "    \"\"\"\n",
    "    composition_new = np.array([start_nr])\n",
    "    pcg_evolution = np.zeros(steps)\n",
    "    mcg_evolution = np.zeros(steps)\n",
    "    pcg_memory_usage = np.zeros(steps)\n",
    "    single_crystals = 0\n",
    "\n",
    "    for i in range(steps):\n",
    "        composition_old = composition_new\n",
    "        if verbose:\n",
    "            print(\"composition_old\", composition_old)\n",
    "            print(\"composition_old_shape\", composition_old.shape)\n",
    "            \n",
    "        # Obtain random fractions\n",
    "        a_prop = np.random.random(composition_old.shape[0])\n",
    "#         ab_norm = np.divide(ab, np.sum(ab, axis=0))\n",
    "        if verbose:\n",
    "            print(\"a_prop\", a_prop)\n",
    "#             print(\"ab_norm\", ab_norm)\n",
    "\n",
    "        # Create new composition from old one and fractions\n",
    "        a = np.multiply(a_prop, composition_old)\n",
    "        b = composition_old - a\n",
    "        if verbose:\n",
    "            print(\"a\", a)\n",
    "            print(\"b\", b)\n",
    "        composition_new = np.array((a, b))\n",
    "        # Sort along axis 0 to put smallest fraction in a and largest in b\n",
    "        composition_new = np.sort(composition_new, axis=0)\n",
    "        # Now that we now the smallest fractions are in a and the largest in b we can perform rounding\n",
    "        # This way the total sum of all grains remains equal to the 'start_nr'.\n",
    "        composition_new[0] = np.floor(composition_new[0])\n",
    "        composition_new[1] = np.ceil(composition_new[1])\n",
    "#         composition_new = composition_new.flatten()\n",
    "        if verbose:\n",
    "            print(\"composition_new\", composition_new)\n",
    "            print(\"composition_new_sum\", np.sum(composition_new), \"\\n\")\n",
    "            \n",
    "        # Move fractions smaller than threshold to single crystals count\n",
    "#         composition_new = composition_new.astype('int64')\n",
    "        condition = composition_new == threshold\n",
    "        single_crystals += np.sum(condition)\n",
    "        if verbose:\n",
    "            print(\"single_crystals\", single_crystals)\n",
    "        composition_new = composition_new[~condition]\n",
    "        composition_new = composition_new[composition_new != 0]\n",
    "        \n",
    "        if verbose:\n",
    "            print(\"composition_new\", composition_new)\n",
    "            print(\"composition_new_sum\", np.sum(composition_new), \"\\n\")\n",
    "        \n",
    "        # Keep track of evolution of pcg and mcg\n",
    "        pcg_evolution[i] = composition_new.shape[0]\n",
    "        mcg_evolution[i] = single_crystals\n",
    "        pcg_memory_usage[i] = composition_new.nbytes / 1024**2\n",
    "        if composition_new.shape[0] == 0:\n",
    "            print(i)\n",
    "            break\n",
    "        \n",
    "    return composition_new, single_crystals, pcg_evolution, mcg_evolution, pcg_memory_usage"
   ]
  },
  {
   "cell_type": "code",
   "execution_count": 13,
   "metadata": {},
   "outputs": [
    {
     "data": {
      "text/plain": [
       "5e-09"
      ]
     },
     "execution_count": 13,
     "metadata": {},
     "output_type": "execute_result"
    }
   ],
   "source": [
    "1/200e6"
   ]
  },
  {
   "cell_type": "code",
   "execution_count": 12,
   "metadata": {},
   "outputs": [
    {
     "data": {
      "text/plain": [
       "array([5.e-09], dtype=float32)"
      ]
     },
     "execution_count": 12,
     "metadata": {},
     "output_type": "execute_result"
    }
   ],
   "source": [
    "np.array([1/200e6], dtype='float32')"
   ]
  },
  {
   "cell_type": "code",
   "execution_count": 10,
   "metadata": {},
   "outputs": [
    {
     "data": {
      "text/plain": [
       "800000000"
      ]
     },
     "execution_count": 10,
     "metadata": {},
     "output_type": "execute_result"
    }
   ],
   "source": [
    "np.random.random(size=200000000).astype('float32').nbytes"
   ]
  },
  {
   "cell_type": "code",
   "execution_count": 9,
   "metadata": {},
   "outputs": [
    {
     "data": {
      "text/plain": [
       "1525.87890625"
      ]
     },
     "execution_count": 9,
     "metadata": {},
     "output_type": "execute_result"
    }
   ],
   "source": [
    "200e6*8 / 1024**2"
   ]
  },
  {
   "cell_type": "code",
   "execution_count": 33,
   "metadata": {},
   "outputs": [],
   "source": [
    "def mechanical_weathering_absolute_vectorized(steps, verbose=False, threshold=1, start_nr=200e6):\n",
    "    \"\"\"Threshold value is based on number of crystals that is expected to be \n",
    "    present in one cubic meter of parent rock which in turn is based on the average bulk crystal size\n",
    "    \n",
    "    Example:\n",
    "    --------\n",
    "    200 million crystals in 1 m³ means that a proportion of 0.5e-8 presents one crystal.\n",
    "    When a proprtion is less than or equal to this threshold this would thus mean that \n",
    "    the pcg is no longer a pcg but has become a mcg.\n",
    "    \"\"\"\n",
    "    composition = np.array([start_nr], dtype='uint32')\n",
    "    pcg_evolution = np.zeros(steps, dtype='uint32')\n",
    "    mcg_evolution = np.array([start_nr]*steps, dtype='uint32')\n",
    "    pcg_memory_usage = np.zeros(steps, dtype='float64')\n",
    "    single_crystals = 0\n",
    "\n",
    "    for i in range(steps):\n",
    "#         composition_old = composition_new\n",
    "        if verbose:\n",
    "            print(\"composition_old\", composition)\n",
    "            print(\"composition_old_shape\", composition.shape)\n",
    "            \n",
    "        # Obtain random fractions to divide pcgs in two parts\n",
    "        a_prop = np.random.random(composition.shape[0])\n",
    "#         ab_norm = np.divide(ab, np.sum(ab, axis=0))\n",
    "        if verbose:\n",
    "            print(\"a_prop\", a_prop)\n",
    "#             print(\"ab_norm\", ab_norm)\n",
    "\n",
    "        # Create new composition from old one and fractions\n",
    "        a = np.multiply(a_prop, composition).astype('uint32')\n",
    "#         b = composition - a\n",
    "        if verbose:\n",
    "            print(\"a\", a)\n",
    "            print(\"b\", composition - a)\n",
    "        composition = np.array((a, composition - a))\n",
    "        if verbose:\n",
    "            print(\"composition_new\", composition)\n",
    "            print(\"composition_new_sum\", np.sum(composition), \"\\n\")\n",
    "            \n",
    "        # Move fractions smaller than threshold to single crystals count\n",
    "        single_crystals += np.sum(composition == threshold)\n",
    "        if verbose:\n",
    "            print(\"single_crystals\", single_crystals)\n",
    "        # Remove single crystals and zero values from pcg array\n",
    "        composition = composition[composition > threshold]\n",
    "        \n",
    "        if verbose:\n",
    "            print(\"composition_new\", composition)\n",
    "            print(\"composition_new_sum\", np.sum(composition), \"\\n\")\n",
    "        \n",
    "        # Keep track of evolution of pcg and mcg numbers...\n",
    "        pcg_evolution[i] = composition.shape[0]\n",
    "        mcg_evolution[i] = single_crystals\n",
    "        # ... and pcg_array memory usage\n",
    "        pcg_memory_usage[i] = composition.nbytes / 1024**2\n",
    "        \n",
    "        # Break out of for loop if there are no more pcgs left\n",
    "        if composition.shape[0] == 0:\n",
    "            print(i)\n",
    "            break\n",
    "        \n",
    "    return composition, single_crystals, pcg_evolution, mcg_evolution, pcg_memory_usage"
   ]
  },
  {
   "cell_type": "code",
   "execution_count": 34,
   "metadata": {},
   "outputs": [
    {
     "name": "stdout",
     "output_type": "stream",
     "text": [
      "76\n",
      "Wall time: 13 s\n"
     ]
    }
   ],
   "source": [
    "%%time\n",
    "tester2 = mechanical_weathering_absolute_vectorized(100, verbose=False, threshold=1, start_nr=200e6)"
   ]
  },
  {
   "cell_type": "code",
   "execution_count": 20,
   "metadata": {},
   "outputs": [
    {
     "name": "stdout",
     "output_type": "stream",
     "text": [
      "80\n",
      "Wall time: 29 s\n"
     ]
    }
   ],
   "source": [
    "%%time\n",
    "tester2 = mechanical_weathering_absolute_vectorized(100, verbose=False, threshold=1, start_nr=300e6)"
   ]
  },
  {
   "cell_type": "code",
   "execution_count": 212,
   "metadata": {},
   "outputs": [
    {
     "name": "stdout",
     "output_type": "stream",
     "text": [
      "Wall time: 24.9 s\n"
     ]
    }
   ],
   "source": [
    "%%time\n",
    "tester2 = mechanical_weathering_absolute_vectorized(40, verbose=False, threshold=1, start_nr=200e6)"
   ]
  },
  {
   "cell_type": "code",
   "execution_count": 194,
   "metadata": {},
   "outputs": [
    {
     "name": "stdout",
     "output_type": "stream",
     "text": [
      "Wall time: 35.6 s\n"
     ]
    }
   ],
   "source": [
    "%%time\n",
    "tester2 = mechanical_weathering_absolute_vectorized(40, verbose=False, threshold=1, start_nr=200e6)"
   ]
  },
  {
   "cell_type": "code",
   "execution_count": 185,
   "metadata": {},
   "outputs": [
    {
     "name": "stdout",
     "output_type": "stream",
     "text": [
      "Wall time: 34.7 s\n"
     ]
    }
   ],
   "source": [
    "%%time\n",
    "tester2 = mechanical_weathering_absolute_vectorized(40, verbose=False, threshold=1, start_nr=200e6)"
   ]
  },
  {
   "cell_type": "code",
   "execution_count": 141,
   "metadata": {},
   "outputs": [
    {
     "name": "stdout",
     "output_type": "stream",
     "text": [
      "Wall time: 1min 20s\n"
     ]
    }
   ],
   "source": [
    "%%time\n",
    "tester2 = mechanical_weathering_absolute_vectorized(40, verbose=False, threshold=1, start_nr=200e6)"
   ]
  },
  {
   "cell_type": "code",
   "execution_count": 216,
   "metadata": {
    "collapsed": true,
    "jupyter": {
     "outputs_hidden": true
    }
   },
   "outputs": [
    {
     "name": "stdout",
     "output_type": "stream",
     "text": [
      "composition_old [200000000]\n",
      "composition_old_shape (1,)\n",
      "a_prop [0.23296056]\n",
      "a [46592112]\n",
      "b [153407888]\n",
      "composition_new [[ 46592112]\n",
      " [153407888]]\n",
      "composition_new_sum 200000000 \n",
      "\n",
      "single_crystals 0\n",
      "composition_new [ 46592112 153407888]\n",
      "composition_new_sum 200000000 \n",
      "\n",
      "composition_old [ 46592112 153407888]\n",
      "composition_old_shape (2,)\n",
      "a_prop [0.18249185 0.75872631]\n",
      "a [  8502680 116394600]\n",
      "b [38089432 37013288]\n",
      "composition_new [[  8502680 116394600]\n",
      " [ 38089432  37013288]]\n",
      "composition_new_sum 200000000 \n",
      "\n",
      "single_crystals 0\n",
      "composition_new [  8502680 116394600  38089432  37013288]\n",
      "composition_new_sum 200000000 \n",
      "\n",
      "composition_old [  8502680 116394600  38089432  37013288]\n",
      "composition_old_shape (4,)\n",
      "a_prop [0.16560679 0.19156219 0.7869242  0.72038634]\n",
      "a [ 1408101 22296804 29973495 26663867]\n",
      "b [ 7094579 94097796  8115937 10349421]\n",
      "composition_new [[ 1408101 22296804 29973495 26663867]\n",
      " [ 7094579 94097796  8115937 10349421]]\n",
      "composition_new_sum 200000000 \n",
      "\n",
      "single_crystals 0\n",
      "composition_new [ 1408101 22296804 29973495 26663867  7094579 94097796  8115937 10349421]\n",
      "composition_new_sum 200000000 \n",
      "\n",
      "composition_old [ 1408101 22296804 29973495 26663867  7094579 94097796  8115937 10349421]\n",
      "composition_old_shape (8,)\n",
      "a_prop [0.72611071 0.92995996 0.69456474 0.79367884 0.68217416 0.44535588\n",
      " 0.20479396 0.4714502 ]\n",
      "a [ 1022437 20735134 20818532 21162547  4839738 41907006  1662094  4879236]\n",
      "b [  385664  1561670  9154963  5501320  2254841 52190790  6453843  5470185]\n",
      "composition_new [[ 1022437 20735134 20818532 21162547  4839738 41907006  1662094  4879236]\n",
      " [  385664  1561670  9154963  5501320  2254841 52190790  6453843  5470185]]\n",
      "composition_new_sum 200000000 \n",
      "\n",
      "single_crystals 0\n",
      "composition_new [ 1022437 20735134 20818532 21162547  4839738 41907006  1662094  4879236\n",
      "   385664  1561670  9154963  5501320  2254841 52190790  6453843  5470185]\n",
      "composition_new_sum 200000000 \n",
      "\n",
      "composition_old [ 1022437 20735134 20818532 21162547  4839738 41907006  1662094  4879236\n",
      "   385664  1561670  9154963  5501320  2254841 52190790  6453843  5470185]\n",
      "composition_old_shape (16,)\n",
      "a_prop [0.65796049 0.15827019 0.25633167 0.95266041 0.63026162 0.10156338\n",
      " 0.27964567 0.70829937 0.24556779 0.36201736 0.8272262  0.86443686\n",
      " 0.12762371 0.86018762 0.35229926 0.55843065]\n",
      "a [  672723  3281753  5336449 20160720  3050301  4256217   464797  3455959\n",
      "    94706   565351  7573225  4755543   287771 44893871  2273684  3054718]\n",
      "b [  349714 17453381 15482083  1001827  1789437 37650789  1197297  1423277\n",
      "   290958   996319  1581738   745777  1967070  7296919  4180159  2415467]\n",
      "composition_new [[  672723  3281753  5336449 20160720  3050301  4256217   464797  3455959\n",
      "     94706   565351  7573225  4755543   287771 44893871  2273684  3054718]\n",
      " [  349714 17453381 15482083  1001827  1789437 37650789  1197297  1423277\n",
      "    290958   996319  1581738   745777  1967070  7296919  4180159  2415467]]\n",
      "composition_new_sum 200000000 \n",
      "\n",
      "single_crystals 0\n",
      "composition_new [  672723  3281753  5336449 20160720  3050301  4256217   464797  3455959\n",
      "    94706   565351  7573225  4755543   287771 44893871  2273684  3054718\n",
      "   349714 17453381 15482083  1001827  1789437 37650789  1197297  1423277\n",
      "   290958   996319  1581738   745777  1967070  7296919  4180159  2415467]\n",
      "composition_new_sum 200000000 \n",
      "\n"
     ]
    },
    {
     "data": {
      "text/plain": [
       "(array([  672723,  3281753,  5336449, 20160720,  3050301,  4256217,\n",
       "          464797,  3455959,    94706,   565351,  7573225,  4755543,\n",
       "          287771, 44893871,  2273684,  3054718,   349714, 17453381,\n",
       "        15482083,  1001827,  1789437, 37650789,  1197297,  1423277,\n",
       "          290958,   996319,  1581738,   745777,  1967070,  7296919,\n",
       "         4180159,  2415467], dtype=int64),\n",
       " 0,\n",
       " array([ 2.,  4.,  8., 16., 32.]),\n",
       " array([0., 0., 0., 0., 0.]),\n",
       " array([1.52587891e-05, 3.05175781e-05, 6.10351562e-05, 1.22070312e-04,\n",
       "        2.44140625e-04]))"
      ]
     },
     "execution_count": 216,
     "metadata": {},
     "output_type": "execute_result"
    }
   ],
   "source": [
    "mechanical_weathering_absolute_vectorized(5, verbose=True, threshold=1, start_nr=200e6)"
   ]
  },
  {
   "cell_type": "code",
   "execution_count": 21,
   "metadata": {},
   "outputs": [
    {
     "name": "stdout",
     "output_type": "stream",
     "text": [
      "pcg: 0 \n",
      "mcg: 300000000\n"
     ]
    }
   ],
   "source": [
    "print(\"pcg:\", tester2[0].shape[0], \"\\nmcg:\", tester2[1])"
   ]
  },
  {
   "cell_type": "code",
   "execution_count": 186,
   "metadata": {},
   "outputs": [
    {
     "name": "stdout",
     "output_type": "stream",
     "text": [
      "pcg: 45118925 \n",
      "mcg: 47103846\n"
     ]
    }
   ],
   "source": [
    "print(\"pcg:\", tester2[0].shape[0], \"\\nmcg:\", tester2[1])"
   ]
  },
  {
   "cell_type": "code",
   "execution_count": 135,
   "metadata": {},
   "outputs": [
    {
     "name": "stdout",
     "output_type": "stream",
     "text": [
      "pcg: 57826962 \n",
      "mcg: 67951688\n"
     ]
    }
   ],
   "source": [
    "print(\"pcg:\", tester2[0].shape[0], \"\\nmcg:\", tester2[1])"
   ]
  },
  {
   "cell_type": "code",
   "execution_count": 197,
   "metadata": {},
   "outputs": [
    {
     "name": "stdout",
     "output_type": "stream",
     "text": [
      "Wall time: 26.2 s\n"
     ]
    }
   ],
   "source": [
    "%%time\n",
    "tester = mechanical_weathering_vectorized(40, verbose=False, threshold=0.5e-8)"
   ]
  },
  {
   "cell_type": "code",
   "execution_count": 18,
   "metadata": {},
   "outputs": [
    {
     "name": "stdout",
     "output_type": "stream",
     "text": [
      "pcg: 0 \n",
      "mcg: 177566\n"
     ]
    }
   ],
   "source": [
    "print(\"pcg:\", tester[0].shape[0], \"\\nmcg:\", tester[1])"
   ]
  },
  {
   "cell_type": "code",
   "execution_count": 6,
   "metadata": {},
   "outputs": [
    {
     "name": "stdout",
     "output_type": "stream",
     "text": [
      "pcg: 0 \n",
      "mcg: 17735461\n"
     ]
    }
   ],
   "source": [
    "print(\"pcg:\", tester[0].shape[0], \"\\nmcg:\", tester[1])"
   ]
  },
  {
   "cell_type": "code",
   "execution_count": 58,
   "metadata": {},
   "outputs": [
    {
     "data": {
      "text/plain": [
       "7.5"
      ]
     },
     "execution_count": 58,
     "metadata": {},
     "output_type": "execute_result"
    }
   ],
   "source": [
    "15 * 0.5"
   ]
  },
  {
   "cell_type": "code",
   "execution_count": 92,
   "metadata": {},
   "outputs": [
    {
     "data": {
      "text/plain": [
       "array([[ 0.15, 14.85],\n",
       "       [15.  , 15.  ]])"
      ]
     },
     "execution_count": 92,
     "metadata": {},
     "output_type": "execute_result"
    }
   ],
   "source": [
    "test = np.sort(np.array([[0.99, 0.01], [0.5, 0.5]]) * np.array([[15], [30]]))\n",
    "test"
   ]
  },
  {
   "cell_type": "code",
   "execution_count": 93,
   "metadata": {},
   "outputs": [
    {
     "data": {
      "text/plain": [
       "array([ 1., 15.])"
      ]
     },
     "execution_count": 93,
     "metadata": {},
     "output_type": "execute_result"
    }
   ],
   "source": [
    "np.ceil(test[:, 0])"
   ]
  },
  {
   "cell_type": "code",
   "execution_count": 94,
   "metadata": {},
   "outputs": [
    {
     "data": {
      "text/plain": [
       "array([14., 15.])"
      ]
     },
     "execution_count": 94,
     "metadata": {},
     "output_type": "execute_result"
    }
   ],
   "source": [
    "np.floor(test[:, 1])"
   ]
  },
  {
   "cell_type": "code",
   "execution_count": 106,
   "metadata": {},
   "outputs": [
    {
     "name": "stdout",
     "output_type": "stream",
     "text": [
      "16.1 µs ± 474 ns per loop (mean ± std. dev. of 7 runs, 100000 loops each)\n"
     ]
    }
   ],
   "source": [
    "%%timeit\n",
    "total = 0\n",
    "\n",
    "while total < 100:\n",
    "    total += np.sum(np.random.random(100))"
   ]
  },
  {
   "cell_type": "code",
   "execution_count": 103,
   "metadata": {},
   "outputs": [
    {
     "data": {
      "text/plain": [
       "array([100.26915625])"
      ]
     },
     "execution_count": 103,
     "metadata": {},
     "output_type": "execute_result"
    }
   ],
   "source": [
    "total"
   ]
  },
  {
   "cell_type": "code",
   "execution_count": null,
   "metadata": {},
   "outputs": [],
   "source": []
  },
  {
   "cell_type": "code",
   "execution_count": 7,
   "metadata": {},
   "outputs": [
    {
     "data": {
      "image/png": "[encoded data removed]",
      "text/plain": [
       "<Figure size 432x288 with 1 Axes>"
      ]
     },
     "metadata": {
      "needs_background": "light"
     },
     "output_type": "display_data"
    }
   ],
   "source": [
    "# Threshold set at 1e-9\n",
    "\n",
    "# Memory usage of pcg array across timesteps\n",
    "plt.plot(tester[4], lw=2, label='pcg array')\n",
    "x_max = np.where(tester[4] == tester[4].max())[0][0]\n",
    "y_max = tester[4].max()\n",
    "# print(x_max, y_max)\n",
    "\n",
    "# Annotate maximum memory usage\n",
    "plt.annotate(f\"{y_max:3.2f} MB\", \n",
    "             (x_max, y_max),\n",
    "             (20, y_max))\n",
    "# Annotate timestep where maximum memory usage is reached\n",
    "plt.annotate(x_max, \n",
    "             (x_max, 0),\n",
    "             (x_max+1, 0))\n",
    "\n",
    "plt.vlines(np.where(tester[4] == tester[4].max()), 0, tester[4].max())\n",
    "plt.xlabel(\"Timestep\")\n",
    "plt.ylabel(\"Memory\\nusage\\n(MB)\", rotation=0, labelpad=30)\n",
    "plt.legend()\n",
    "sns.despine()\n",
    "plt.tight_layout()\n",
    "plt.show();"
   ]
  },
  {
   "cell_type": "code",
   "execution_count": 35,
   "metadata": {},
   "outputs": [
    {
     "data": {
      "image/png": "[encoded data removed]",
      "text/plain": [
       "<Figure size 432x288 with 1 Axes>"
      ]
     },
     "metadata": {
      "needs_background": "light"
     },
     "output_type": "display_data"
    }
   ],
   "source": [
    "# Threshold set at 1, 200e6 crystals, unit32\n",
    "\n",
    "tester = tester2\n",
    "\n",
    "# Memory usage of pcg array across timesteps\n",
    "plt.plot(tester[4], lw=2, label='pcg array')\n",
    "x_max = np.where(tester[4] == tester[4].max())[0][0]\n",
    "y_max = tester[4].max()\n",
    "# print(x_max, y_max)\n",
    "\n",
    "# Annotate maximum memory usage\n",
    "plt.annotate(f\"{y_max:3.2f} MB\", \n",
    "             (x_max, y_max),\n",
    "             (20, y_max))\n",
    "# Annotate timestep where maximum memory usage is reached\n",
    "plt.annotate(x_max, \n",
    "             (x_max, 0),\n",
    "             (x_max+1, 0))\n",
    "\n",
    "plt.vlines(np.where(tester[4] == tester[4].max()), 0, tester[4].max())\n",
    "plt.xlabel(\"Timestep\")\n",
    "plt.ylabel(\"Memory\\nusage\\n(MB)\", rotation=0, labelpad=30)\n",
    "plt.legend()\n",
    "sns.despine()\n",
    "plt.tight_layout()\n",
    "plt.show();"
   ]
  },
  {
   "cell_type": "code",
   "execution_count": 22,
   "metadata": {},
   "outputs": [
    {
     "data": {
      "image/png": "[encoded data removed]",
      "text/plain": [
       "<Figure size 432x288 with 1 Axes>"
      ]
     },
     "metadata": {
      "needs_background": "light"
     },
     "output_type": "display_data"
    }
   ],
   "source": [
    "# Threshold set at 1, 300e6 crystals\n",
    "\n",
    "tester = tester2\n",
    "\n",
    "# Memory usage of pcg array across timesteps\n",
    "plt.plot(tester[4], lw=2, label='pcg array')\n",
    "x_max = np.where(tester[4] == tester[4].max())[0][0]\n",
    "y_max = tester[4].max()\n",
    "# print(x_max, y_max)\n",
    "\n",
    "# Annotate maximum memory usage\n",
    "plt.annotate(f\"{y_max:3.2f} MB\", \n",
    "             (x_max, y_max),\n",
    "             (20, y_max))\n",
    "# Annotate timestep where maximum memory usage is reached\n",
    "plt.annotate(x_max, \n",
    "             (x_max, 0),\n",
    "             (x_max+1, 0))\n",
    "\n",
    "plt.vlines(np.where(tester[4] == tester[4].max()), 0, tester[4].max())\n",
    "plt.xlabel(\"Timestep\")\n",
    "plt.ylabel(\"Memory\\nusage\\n(MB)\", rotation=0, labelpad=30)\n",
    "plt.legend()\n",
    "sns.despine()\n",
    "plt.tight_layout()\n",
    "plt.show();"
   ]
  },
  {
   "cell_type": "code",
   "execution_count": 233,
   "metadata": {},
   "outputs": [
    {
     "data": {
      "image/png": "[encoded data removed]",
      "text/plain": [
       "<Figure size 432x288 with 1 Axes>"
      ]
     },
     "metadata": {
      "needs_background": "light"
     },
     "output_type": "display_data"
    }
   ],
   "source": [
    "# Threshold set at 1, 200e6 crystals\n",
    "\n",
    "tester = tester2\n",
    "\n",
    "# Memory usage of pcg array across timesteps\n",
    "plt.plot(tester[4], lw=2, label='pcg array')\n",
    "x_max = np.where(tester[4] == tester[4].max())[0][0]\n",
    "y_max = tester[4].max()\n",
    "# print(x_max, y_max)\n",
    "\n",
    "# Annotate maximum memory usage\n",
    "plt.annotate(f\"{y_max:3.2f} MB\", \n",
    "             (x_max, y_max),\n",
    "             (20, y_max))\n",
    "# Annotate timestep where maximum memory usage is reached\n",
    "plt.annotate(x_max, \n",
    "             (x_max, 0),\n",
    "             (x_max+1, 0))\n",
    "\n",
    "plt.vlines(np.where(tester[4] == tester[4].max()), 0, tester[4].max())\n",
    "plt.xlabel(\"Timestep\")\n",
    "plt.ylabel(\"Memory\\nusage\\n(MB)\", rotation=0, labelpad=30)\n",
    "plt.legend()\n",
    "sns.despine()\n",
    "plt.tight_layout()\n",
    "plt.show();"
   ]
  },
  {
   "cell_type": "code",
   "execution_count": 111,
   "metadata": {},
   "outputs": [
    {
     "data": {
      "image/png": "[encoded data removed]",
      "text/plain": [
       "<Figure size 432x288 with 1 Axes>"
      ]
     },
     "metadata": {
      "needs_background": "light"
     },
     "output_type": "display_data"
    }
   ],
   "source": [
    "# Threshold set at 1e-8\n",
    "\n",
    "# Memory usage of pcg array across timesteps\n",
    "plt.plot(tester[4], lw=2, label='pcg array')\n",
    "x_max = np.where(tester[4] == tester[4].max())[0][0]\n",
    "y_max = tester[4].max()\n",
    "# print(x_max, y_max)\n",
    "\n",
    "# Annotate maximum memory usage\n",
    "plt.annotate(f\"{y_max:3.2f} MB\", \n",
    "             (x_max, y_max),\n",
    "             (20, y_max))\n",
    "# Annotate timestep where maximum memory usage is reached\n",
    "plt.annotate(x_max, \n",
    "             (x_max, 0),\n",
    "             (x_max+1, 0))\n",
    "\n",
    "plt.vlines(np.where(tester[4] == tester[4].max()), 0, tester[4].max())\n",
    "plt.xlabel(\"Timestep\")\n",
    "plt.ylabel(\"Memory\\nusage\\n(MB)\", rotation=0, labelpad=30)\n",
    "plt.legend()\n",
    "sns.despine()\n",
    "plt.tight_layout()\n",
    "plt.show();"
   ]
  },
  {
   "cell_type": "code",
   "execution_count": 36,
   "metadata": {},
   "outputs": [
    {
     "data": {
      "image/png": "[encoded data removed]",
      "text/plain": [
       "<Figure size 432x288 with 1 Axes>"
      ]
     },
     "metadata": {
      "needs_background": "light"
     },
     "output_type": "display_data"
    }
   ],
   "source": [
    "# Threshold set at 1, 200e6 crystals, unit32\n",
    "\n",
    "tester = tester2\n",
    "\n",
    "# Evoluton of number of pcg and mcg through timesteps\n",
    "plt.plot(tester[2], lw=2, label=\"pcg\")\n",
    "plt.plot(tester[3], lw=2, label=\"mcg\")\n",
    "plt.xlabel(\"Timestep\")\n",
    "plt.ylabel(\"Number\\nof grains\", rotation=0, labelpad=30)\n",
    "plt.legend()\n",
    "sns.despine()\n",
    "plt.tight_layout()\n",
    "plt.show();"
   ]
  },
  {
   "cell_type": "code",
   "execution_count": 23,
   "metadata": {},
   "outputs": [
    {
     "data": {
      "image/png": "[encoded data removed]",
      "text/plain": [
       "<Figure size 432x288 with 1 Axes>"
      ]
     },
     "metadata": {
      "needs_background": "light"
     },
     "output_type": "display_data"
    }
   ],
   "source": [
    "# Threshold set at 1, 300e6 crystals\n",
    "\n",
    "tester = tester2\n",
    "\n",
    "# Evoluton of number of pcg and mcg through timesteps\n",
    "plt.plot(tester[2], lw=2, label=\"pcg\")\n",
    "plt.plot(tester[3], lw=2, label=\"mcg\")\n",
    "plt.xlabel(\"Timestep\")\n",
    "plt.ylabel(\"Number\\nof grains\", rotation=0, labelpad=30)\n",
    "plt.legend()\n",
    "sns.despine()\n",
    "plt.tight_layout()\n",
    "plt.show();"
   ]
  },
  {
   "cell_type": "code",
   "execution_count": 234,
   "metadata": {},
   "outputs": [
    {
     "data": {
      "image/png": "[encoded data removed]",
      "text/plain": [
       "<Figure size 432x288 with 1 Axes>"
      ]
     },
     "metadata": {
      "needs_background": "light"
     },
     "output_type": "display_data"
    }
   ],
   "source": [
    "# Threshold set at 1, 200e6 crystals\n",
    "\n",
    "tester = tester2\n",
    "\n",
    "# Evoluton of number of pcg and mcg through timesteps\n",
    "plt.plot(tester[2], lw=2, label=\"pcg\")\n",
    "plt.plot(tester[3], lw=2, label=\"mcg\")\n",
    "plt.xlabel(\"Timestep\")\n",
    "plt.ylabel(\"Number\\nof grains\", rotation=0, labelpad=30)\n",
    "plt.legend()\n",
    "sns.despine()\n",
    "plt.tight_layout()\n",
    "plt.show();"
   ]
  },
  {
   "cell_type": "code",
   "execution_count": 8,
   "metadata": {},
   "outputs": [
    {
     "data": {
      "image/png": "[encoded data removed]",
      "text/plain": [
       "<Figure size 432x288 with 1 Axes>"
      ]
     },
     "metadata": {
      "needs_background": "light"
     },
     "output_type": "display_data"
    }
   ],
   "source": [
    "# Threshold set at 1e-9\n",
    "\n",
    "# Evoluton of number of pcg and mcg through timesteps\n",
    "plt.plot(tester[2], lw=2, label=\"pcg\")\n",
    "plt.plot(tester[3], lw=2, label=\"mcg\")\n",
    "plt.xlabel(\"Timestep\")\n",
    "plt.ylabel(\"Number\\nof grains\", rotation=0, labelpad=30)\n",
    "plt.legend()\n",
    "sns.despine()\n",
    "plt.tight_layout()\n",
    "plt.show();"
   ]
  },
  {
   "cell_type": "code",
   "execution_count": 85,
   "metadata": {},
   "outputs": [
    {
     "data": {
      "image/png": "[encoded data removed]",
      "text/plain": [
       "<Figure size 432x288 with 1 Axes>"
      ]
     },
     "metadata": {
      "needs_background": "light"
     },
     "output_type": "display_data"
    }
   ],
   "source": [
    "# Threshold set at 1e-8\n",
    "\n",
    "# Evoluton of number of pcg and mcg through timesteps\n",
    "plt.plot(tester[2], lw=2, label=\"pcg\")\n",
    "plt.plot(tester[3], lw=2, label=\"mcg\")\n",
    "plt.xlabel(\"Timestep\")\n",
    "plt.ylabel(\"Number\\nof grains\", rotation=0, labelpad=30)\n",
    "plt.legend()\n",
    "sns.despine()\n",
    "plt.tight_layout()\n",
    "plt.show();"
   ]
  },
  {
   "cell_type": "code",
   "execution_count": 82,
   "metadata": {},
   "outputs": [
    {
     "data": {
      "image/png": "[encoded data removed]",
      "text/plain": [
       "<Figure size 432x288 with 1 Axes>"
      ]
     },
     "metadata": {
      "needs_background": "light"
     },
     "output_type": "display_data"
    }
   ],
   "source": [
    "# Threshold set at 2e-8\n",
    "\n",
    "# Evoluton of number of pcg and mcg through timesteps\n",
    "plt.plot(tester[2], lw=2, label=\"pcg\")\n",
    "plt.plot(tester[3], lw=2, label=\"mcg\")\n",
    "plt.xlabel(\"Timestep\")\n",
    "plt.ylabel(\"Number\\nof grains\", rotation=0, labelpad=30)\n",
    "plt.legend()\n",
    "sns.despine()\n",
    "plt.tight_layout()\n",
    "plt.show();"
   ]
  },
  {
   "cell_type": "code",
   "execution_count": 50,
   "metadata": {},
   "outputs": [
    {
     "data": {
      "text/plain": [
       "0.0599822998046875"
      ]
     },
     "execution_count": 50,
     "metadata": {},
     "output_type": "execute_result"
    }
   ],
   "source": [
    "tester[0].nbytes / 1024**2"
   ]
  },
  {
   "cell_type": "code",
   "execution_count": 149,
   "metadata": {},
   "outputs": [
    {
     "data": {
      "text/plain": [
       "array([[ 43, 157],\n",
       "       [ 42, 158],\n",
       "       [ 41, 159],\n",
       "       [ 41, 159],\n",
       "       [ 35, 165],\n",
       "       [ 39, 161],\n",
       "       [ 39, 161],\n",
       "       [ 40, 160],\n",
       "       [ 43, 157],\n",
       "       [ 37, 163]])"
      ]
     },
     "execution_count": 149,
     "metadata": {},
     "output_type": "execute_result"
    }
   ],
   "source": [
    "np.random.multinomial(200, [0.2, 0.8], 10)"
   ]
  },
  {
   "cell_type": "code",
   "execution_count": 38,
   "metadata": {},
   "outputs": [],
   "source": [
    "%load_ext line_profiler\n",
    "%load_ext memory_profiler"
   ]
  },
  {
   "cell_type": "code",
   "execution_count": 17,
   "metadata": {},
   "outputs": [
    {
     "name": "stdout",
     "output_type": "stream",
     "text": [
      "\n"
     ]
    },
    {
     "data": {
      "text/plain": [
       "Filename: d:\\onedrive\\documenten\\programming\\python\\jupyter_notebooks\\sedgen\\sedgen\\src\\sedgen\\weathering.py\n",
       "\n",
       "Line #    Mem usage    Increment   Line Contents\n",
       "================================================\n",
       "     3    123.3 MiB    123.3 MiB   def mechanical_weathering_vectorized(steps, verbose=False, threshold=1e-8):\n",
       "     4                                 \"\"\"Threshold value is based on number of crystals that is expected to be \n",
       "     5                                 present in one cubic meter of parent rock which in turn is based on the average bulk crystal size\n",
       "     6                                 \n",
       "     7                                 Example:\n",
       "     8                                 --------\n",
       "     9                                 200 million crystals in 1 m³ means that a proportion of 0.5e-8 presents one crystal.\n",
       "    10                                 When a proprtion is less than or equal to this threshold this would thus mean that \n",
       "    11                                 the pcg is no longer a pcg but has become a mcg.\n",
       "    12                                 \"\"\"\n",
       "    13    123.3 MiB      0.0 MiB       composition_new = np.array([1])\n",
       "    14    123.3 MiB      0.0 MiB       pcg_evolution = np.zeros(steps)\n",
       "    15    123.3 MiB      0.0 MiB       mcg_evolution = np.zeros(steps)\n",
       "    16    123.3 MiB      0.0 MiB       pcg_memory_usage = np.zeros(steps)\n",
       "    17    123.3 MiB      0.0 MiB       single_crystals = 0\n",
       "    18                             \n",
       "    19   1030.5 MiB      0.0 MiB       for i in range(steps):\n",
       "    20    733.2 MiB      0.0 MiB           composition_old = composition_new\n",
       "    21    733.2 MiB      0.0 MiB           if verbose:\n",
       "    22                                         print(\"composition_old\", composition_old)\n",
       "    23                                         print(\"composition_old_shape\", composition_old.shape)\n",
       "    24                                         \n",
       "    25                                     # Obtain random fractions\n",
       "    26    793.0 MiB     59.7 MiB           ab = np.random.random((2, composition_old.shape[0]))\n",
       "    27    852.7 MiB     59.7 MiB           ab_norm = np.divide(ab, np.sum(ab, axis=0))\n",
       "    28    852.7 MiB      0.0 MiB           if verbose:\n",
       "    29                                         print(\"ab\", ab)\n",
       "    30                                         print(\"ab_norm\", ab_norm)\n",
       "    31                             \n",
       "    32                                     # Create new composition from old one and fractions\n",
       "    33   1133.1 MiB    280.4 MiB           composition_new = np.multiply(ab_norm.T, composition_old.reshape(-1, 1)).flatten()\n",
       "    34   1133.1 MiB      0.0 MiB           if verbose:\n",
       "    35                                         print(\"composition_new\", composition_new)\n",
       "    36                                         print(\"composition_new_sum\", np.sum(composition_new), \"\\n\")\n",
       "    37                                         \n",
       "    38                                     # Move fractions smaller than threshold to single crystals count\n",
       "    39   1140.6 MiB      7.5 MiB           condition = composition_new <= threshold\n",
       "    40   1140.6 MiB      0.0 MiB           single_crystals += np.sum(condition)\n",
       "    41   1140.6 MiB      0.0 MiB           if verbose:\n",
       "    42                                         print(\"single_crystals\", single_crystals)\n",
       "    43   1030.5 MiB      0.0 MiB           composition_new = composition_new[~condition]\n",
       "    44                                     \n",
       "    45   1030.5 MiB      0.0 MiB           if verbose:\n",
       "    46                                         print(\"composition_new\", composition_new)\n",
       "    47                                         print(\"composition_new_sum\", np.sum(composition_new), \"\\n\")\n",
       "    48                                     \n",
       "    49                                     # Keep track of evolution of pcg and mcg\n",
       "    50   1030.5 MiB      0.0 MiB           pcg_evolution[i] = composition_new.shape[0]\n",
       "    51   1030.5 MiB      0.0 MiB           mcg_evolution[i] = single_crystals\n",
       "    52   1030.5 MiB      0.0 MiB           pcg_memory_usage[i] = composition_new.nbytes / 1024**2\n",
       "    53   1030.5 MiB      0.0 MiB           if composition_new.shape[0] == 0:\n",
       "    54                                         print(i)\n",
       "    55                                         break\n",
       "    56                                     \n",
       "    57   1030.5 MiB      0.0 MiB       return composition_new, single_crystals, pcg_evolution, mcg_evolution, pcg_memory_usage"
      ]
     },
     "metadata": {},
     "output_type": "display_data"
    }
   ],
   "source": [
    "%mprun -f weathering.mechanical_weathering_vectorized weathering.mechanical_weathering_vectorized(30, threshold=0.5e-8)"
   ]
  },
  {
   "cell_type": "code",
   "execution_count": 94,
   "metadata": {},
   "outputs": [
    {
     "name": "stdout",
     "output_type": "stream",
     "text": [
      "77\n",
      "\n"
     ]
    },
    {
     "data": {
      "text/plain": [
       "Filename: d:\\onedrive\\documenten\\programming\\python\\jupyter_notebooks\\sedgen\\sedgen\\src\\sedgen\\weathering.py\n",
       "\n",
       "Line #    Mem usage    Increment   Line Contents\n",
       "================================================\n",
       "    60    180.6 MiB    180.6 MiB   def mechanical_weathering_absolute_vectorized(steps, verbose=False, threshold=1, start_nr=200e6):\n",
       "    61                                 \"\"\"Threshold value is based on number of crystals that is expected to be \n",
       "    62                                 present in one cubic meter of parent rock which in turn is based on the average bulk crystal size\n",
       "    63                                 \n",
       "    64                                 Example:\n",
       "    65                                 --------\n",
       "    66                                 200 million crystals in 1 m³ means that a proportion of 0.5e-8 presents one crystal.\n",
       "    67                                 When a proprtion is less than or equal to this threshold this would thus mean that \n",
       "    68                                 the pcg is no longer a pcg but has become a mcg.\n",
       "    69                                 \"\"\"\n",
       "    70    180.6 MiB      0.0 MiB       composition = np.array([start_nr], dtype='uint32')\n",
       "    71    180.6 MiB      0.0 MiB       pcg_evolution = np.zeros(steps, dtype='uint32')\n",
       "    72    180.6 MiB      0.0 MiB       mcg_evolution = np.array([start_nr]*steps, dtype='uint32')\n",
       "    73    180.6 MiB      0.0 MiB       pcg_memory_usage = np.zeros(steps, dtype='float64')\n",
       "    74    180.6 MiB      0.0 MiB       single_crystals = 0\n",
       "    75                             \n",
       "    76    466.7 MiB      0.0 MiB       for i in range(steps):\n",
       "    77                             #         composition_old = composition_new\n",
       "    78    466.7 MiB      0.0 MiB           if verbose:\n",
       "    79                                         print(\"composition_old\", composition)\n",
       "    80                                         print(\"composition_old_shape\", composition.shape)\n",
       "    81                                         \n",
       "    82                                     # Obtain random fractions to divide pcgs in two parts\n",
       "    83    466.9 MiB     14.3 MiB           a_prop = np.random.random(composition.shape[0])\n",
       "    84                             #         ab_norm = np.divide(ab, np.sum(ab, axis=0))\n",
       "    85    466.9 MiB      0.0 MiB           if verbose:\n",
       "    86                                         print(\"a_prop\", a_prop)\n",
       "    87                             #             print(\"ab_norm\", ab_norm)\n",
       "    88                             \n",
       "    89                                     # Create new composition from old one and fractions\n",
       "    90    466.9 MiB      7.1 MiB           a = np.multiply(a_prop, composition).astype('uint32')\n",
       "    91                             #         b = composition - a\n",
       "    92    466.9 MiB      0.0 MiB           if verbose:\n",
       "    93                                         print(\"a\", a)\n",
       "    94                                         print(\"b\", composition - a)\n",
       "    95    538.3 MiB     71.4 MiB           composition = np.array((a, composition - a))\n",
       "    96    538.3 MiB      0.0 MiB           if verbose:\n",
       "    97                                         print(\"composition_new\", composition)\n",
       "    98                                         print(\"composition_new_sum\", np.sum(composition), \"\\n\")\n",
       "    99                                         \n",
       "   100                                     # Move fractions smaller than threshold to single crystals count\n",
       "   101    538.3 MiB      0.8 MiB           single_crystals += np.sum(composition == threshold)\n",
       "   102    538.3 MiB      0.0 MiB           if verbose:\n",
       "   103                                         print(\"single_crystals\", single_crystals)\n",
       "   104                                     # Remove single crystals and zero values from pcg array\n",
       "   105    466.7 MiB      0.6 MiB           composition = composition[composition > threshold]\n",
       "   106                                     \n",
       "   107    466.7 MiB      0.0 MiB           if verbose:\n",
       "   108                                         print(\"composition_new\", composition)\n",
       "   109                                         print(\"composition_new_sum\", np.sum(composition), \"\\n\")\n",
       "   110                                     \n",
       "   111                                     # Keep track of evolution of pcg and mcg numbers...\n",
       "   112    466.7 MiB      0.0 MiB           pcg_evolution[i] = composition.shape[0]\n",
       "   113    466.7 MiB      0.0 MiB           mcg_evolution[i] = single_crystals\n",
       "   114                                     # ... and pcg_array memory usage\n",
       "   115    466.7 MiB      0.0 MiB           pcg_memory_usage[i] = composition.nbytes / 1024**2\n",
       "   116                                     \n",
       "   117                                     # Break out of for loop if there are no more pcgs left\n",
       "   118    466.7 MiB      0.0 MiB           if composition.shape[0] == 0:\n",
       "   119    181.5 MiB      0.0 MiB               print(i)\n",
       "   120    181.5 MiB      0.0 MiB               break\n",
       "   121                                     \n",
       "   122    181.5 MiB      0.0 MiB       return composition, single_crystals, pcg_evolution, mcg_evolution, pcg_memory_usage"
      ]
     },
     "metadata": {},
     "output_type": "display_data"
    }
   ],
   "source": [
    "%mprun -f weathering.mechanical_weathering_absolute_vectorized weathering.mechanical_weathering_absolute_vectorized(100)"
   ]
  },
  {
   "cell_type": "code",
   "execution_count": 16,
   "metadata": {},
   "outputs": [
    {
     "name": "stdout",
     "output_type": "stream",
     "text": [
      "\n"
     ]
    },
    {
     "data": {
      "text/plain": [
       "Filename: d:\\onedrive\\documenten\\programming\\python\\jupyter_notebooks\\sedgen\\sedgen\\src\\sedgen\\weathering.py\n",
       "\n",
       "Line #    Mem usage    Increment   Line Contents\n",
       "================================================\n",
       "    60    122.3 MiB    122.3 MiB   def mechanical_weathering_absolute_vectorized(steps, verbose=False, threshold=1, start_nr=200e6):\n",
       "    61                                 \"\"\"Threshold value is based on number of crystals that is expected to be \n",
       "    62                                 present in one cubic meter of parent rock which in turn is based on the average bulk crystal size\n",
       "    63                                 \n",
       "    64                                 Example:\n",
       "    65                                 --------\n",
       "    66                                 200 million crystals in 1 m³ means that a proportion of 0.5e-8 presents one crystal.\n",
       "    67                                 When a proprtion is less than or equal to this threshold this would thus mean that \n",
       "    68                                 the pcg is no longer a pcg but has become a mcg.\n",
       "    69                                 \"\"\"\n",
       "    70    122.3 MiB      0.0 MiB       composition = np.array([start_nr], dtype='int64')\n",
       "    71    122.3 MiB      0.0 MiB       pcg_evolution = np.zeros(steps, dtype='int64')\n",
       "    72    122.3 MiB      0.0 MiB       mcg_evolution = np.array([start_nr]*steps, dtype='int64')\n",
       "    73    122.3 MiB      0.0 MiB       pcg_memory_usage = np.zeros(steps, dtype='float64')\n",
       "    74    122.3 MiB      0.0 MiB       single_crystals = 0\n",
       "    75                             \n",
       "    76    324.0 MiB      0.0 MiB       for i in range(steps):\n",
       "    77                             #         composition_old = composition_new\n",
       "    78    285.9 MiB      0.0 MiB           if verbose:\n",
       "    79                                         print(\"composition_old\", composition)\n",
       "    80                                         print(\"composition_old_shape\", composition.shape)\n",
       "    81                                         \n",
       "    82                                     # Obtain random fractions to divide pcgs in two parts\n",
       "    83    298.3 MiB     12.4 MiB           a_prop = np.random.random(composition.shape[0])\n",
       "    84                             #         ab_norm = np.divide(ab, np.sum(ab, axis=0))\n",
       "    85    298.3 MiB      0.0 MiB           if verbose:\n",
       "    86                                         print(\"a_prop\", a_prop)\n",
       "    87                             #             print(\"ab_norm\", ab_norm)\n",
       "    88                             \n",
       "    89                                     # Create new composition from old one and fractions\n",
       "    90    310.6 MiB     12.4 MiB           a = np.multiply(a_prop, composition).astype('int64')\n",
       "    91                             #         b = composition - a\n",
       "    92    310.6 MiB      0.0 MiB           if verbose:\n",
       "    93                                         print(\"a\", a)\n",
       "    94                                         print(\"b\", composition - a)\n",
       "    95    373.1 MiB     62.4 MiB           composition = np.array((a, composition - a))\n",
       "    96    373.1 MiB      0.0 MiB           if verbose:\n",
       "    97                                         print(\"composition_new\", composition)\n",
       "    98                                         print(\"composition_new_sum\", np.sum(composition), \"\\n\")\n",
       "    99                                         \n",
       "   100                                     # Move fractions smaller than threshold to single crystals count\n",
       "   101    373.1 MiB      0.5 MiB           single_crystals += np.sum(composition == threshold)\n",
       "   102    373.1 MiB      0.0 MiB           if verbose:\n",
       "   103                                         print(\"single_crystals\", single_crystals)\n",
       "   104                                     # Remove single crystals and zero values from pcg array\n",
       "   105    324.0 MiB      0.1 MiB           composition = composition[composition > threshold]\n",
       "   106                                     \n",
       "   107    324.0 MiB      0.0 MiB           if verbose:\n",
       "   108                                         print(\"composition_new\", composition)\n",
       "   109                                         print(\"composition_new_sum\", np.sum(composition), \"\\n\")\n",
       "   110                                     \n",
       "   111                                     # Keep track of evolution of pcg and mcg numbers...\n",
       "   112    324.0 MiB      0.0 MiB           pcg_evolution[i] = composition.shape[0]\n",
       "   113    324.0 MiB      0.0 MiB           mcg_evolution[i] = single_crystals\n",
       "   114                                     # ... and pcg_array memory usage\n",
       "   115    324.0 MiB      0.0 MiB           pcg_memory_usage[i] = composition.nbytes / 1024**2\n",
       "   116                                     \n",
       "   117                                     # Break out of for loop if there are no more pcgs left\n",
       "   118    324.0 MiB      0.0 MiB           if composition.shape[0] == 0:\n",
       "   119                                         print(i)\n",
       "   120                                         break\n",
       "   121                                     \n",
       "   122    324.0 MiB      0.0 MiB       return composition, single_crystals, pcg_evolution, mcg_evolution, pcg_memory_usage"
      ]
     },
     "metadata": {},
     "output_type": "display_data"
    }
   ],
   "source": [
    "%mprun -f weathering.mechanical_weathering_absolute_vectorized weathering.mechanical_weathering_absolute_vectorized(30)"
   ]
  },
  {
   "cell_type": "code",
   "execution_count": 14,
   "metadata": {},
   "outputs": [
    {
     "data": {
      "text/plain": [
       "Timer unit: 1e-07 s\n",
       "\n",
       "Total time: 1.72689 s\n",
       "File: <ipython-input-11-2d0e4ec2e899>\n",
       "Function: mechanical_weathering_absolute_vectorized at line 1\n",
       "\n",
       "Line #      Hits         Time  Per Hit   % Time  Line Contents\n",
       "==============================================================\n",
       "     1                                           def mechanical_weathering_absolute_vectorized(steps, verbose=False, threshold=1, start_nr=200e6):\n",
       "     2                                               \"\"\"Threshold value is based on number of crystals that is expected to be \n",
       "     3                                               present in one cubic meter of parent rock which in turn is based on the average bulk crystal size\n",
       "     4                                               \n",
       "     5                                               Example:\n",
       "     6                                               --------\n",
       "     7                                               200 million crystals in 1 m³ means that a proportion of 0.5e-8 presents one crystal.\n",
       "     8                                               When a proprtion is less than or equal to this threshold this would thus mean that \n",
       "     9                                               the pcg is no longer a pcg but has become a mcg.\n",
       "    10                                               \"\"\"\n",
       "    11         1        150.0    150.0      0.0      composition = np.array([start_nr], dtype='int64')\n",
       "    12         1         44.0     44.0      0.0      pcg_evolution = np.zeros(steps, dtype='int64')\n",
       "    13         1        180.0    180.0      0.0      mcg_evolution = np.array([start_nr]*steps, dtype='int64')\n",
       "    14         1         27.0     27.0      0.0      pcg_memory_usage = np.zeros(steps, dtype='float64')\n",
       "    15         1          4.0      4.0      0.0      single_crystals = 0\n",
       "    16                                           \n",
       "    17        31        453.0     14.6      0.0      for i in range(steps):\n",
       "    18                                           #         composition_old = composition_new\n",
       "    19        30        131.0      4.4      0.0          if verbose:\n",
       "    20                                                       print(\"composition_old\", composition)\n",
       "    21                                                       print(\"composition_old_shape\", composition.shape)\n",
       "    22                                                       \n",
       "    23                                                   # Obtain random fractions to divide pcgs in two parts\n",
       "    24        30    3319422.0 110647.4     19.2          a_prop = np.random.random(composition.shape[0])\n",
       "    25                                           #         ab_norm = np.divide(ab, np.sum(ab, axis=0))\n",
       "    26        30        679.0     22.6      0.0          if verbose:\n",
       "    27                                                       print(\"a_prop\", a_prop)\n",
       "    28                                           #             print(\"ab_norm\", ab_norm)\n",
       "    29                                           \n",
       "    30                                                   # Create new composition from old one and fractions\n",
       "    31        30    3208625.0 106954.2     18.6          a = np.multiply(a_prop, composition).astype('int64')\n",
       "    32                                           #         b = composition - a\n",
       "    33        30        407.0     13.6      0.0          if verbose:\n",
       "    34                                                       print(\"a\", a)\n",
       "    35                                                       print(\"b\", composition - a)\n",
       "    36        30    4458247.0 148608.2     25.8          composition = np.array((a, composition - a))\n",
       "    37        30        469.0     15.6      0.0          if verbose:\n",
       "    38                                                       print(\"composition_new\", composition)\n",
       "    39                                                       print(\"composition_new_sum\", np.sum(composition), \"\\n\")\n",
       "    40                                                       \n",
       "    41                                                   # Move fractions smaller than threshold to single crystals count\n",
       "    42                                           #         condition = composition == threshold\n",
       "    43        30    1250624.0  41687.5      7.2          single_crystals += np.sum(composition == threshold)\n",
       "    44        30        305.0     10.2      0.0          if verbose:\n",
       "    45                                                       print(\"single_crystals\", single_crystals)\n",
       "    46        30    5026502.0 167550.1     29.1          composition = composition[composition > threshold]\n",
       "    47                                           #         composition = composition[composition != 0]\n",
       "    48                                                   \n",
       "    49        30        461.0     15.4      0.0          if verbose:\n",
       "    50                                                       print(\"composition_new\", composition)\n",
       "    51                                                       print(\"composition_new_sum\", np.sum(composition), \"\\n\")\n",
       "    52                                                   \n",
       "    53                                                   # Keep track of evolution of pcg and mcg numbers...\n",
       "    54        30        736.0     24.5      0.0          pcg_evolution[i] = composition.shape[0]\n",
       "    55        30        528.0     17.6      0.0          mcg_evolution[i] = single_crystals\n",
       "    56                                                   # ... and pcg_array memory usage\n",
       "    57        30        653.0     21.8      0.0          pcg_memory_usage[i] = composition.nbytes / 1024**2\n",
       "    58                                                   \n",
       "    59                                                   # Break out of for loop if there are no more pcgs left\n",
       "    60        30        203.0      6.8      0.0          if composition.shape[0] == 0:\n",
       "    61                                                       print(i)\n",
       "    62                                                       break\n",
       "    63                                                   \n",
       "    64         1          8.0      8.0      0.0      return composition, single_crystals, pcg_evolution, mcg_evolution, pcg_memory_usage"
      ]
     },
     "metadata": {},
     "output_type": "display_data"
    }
   ],
   "source": [
    "%lprun -f mechanical_weathering_absolute_vectorized mechanical_weathering_absolute_vectorized(30)"
   ]
  },
  {
   "cell_type": "code",
   "execution_count": 10,
   "metadata": {},
   "outputs": [
    {
     "data": {
      "text/plain": [
       "Timer unit: 1e-07 s\n",
       "\n",
       "Total time: 1.80277 s\n",
       "File: <ipython-input-4-e81054a884ff>\n",
       "Function: mechanical_weathering_absolute_vectorized at line 1\n",
       "\n",
       "Line #      Hits         Time  Per Hit   % Time  Line Contents\n",
       "==============================================================\n",
       "     1                                           def mechanical_weathering_absolute_vectorized(steps, verbose=False, threshold=1, start_nr=200e6):\n",
       "     2                                               \"\"\"Threshold value is based on number of crystals that is expected to be \n",
       "     3                                               present in one cubic meter of parent rock which in turn is based on the average bulk crystal size\n",
       "     4                                               \n",
       "     5                                               Example:\n",
       "     6                                               --------\n",
       "     7                                               200 million crystals in 1 m³ means that a proportion of 0.5e-8 presents one crystal.\n",
       "     8                                               When a proprtion is less than or equal to this threshold this would thus mean that \n",
       "     9                                               the pcg is no longer a pcg but has become a mcg.\n",
       "    10                                               \"\"\"\n",
       "    11         1        144.0    144.0      0.0      composition = np.array([start_nr], dtype='int64')\n",
       "    12         1         38.0     38.0      0.0      pcg_evolution = np.zeros(steps, dtype='int64')\n",
       "    13         1         44.0     44.0      0.0      mcg_evolution = np.array([start_nr]*steps, dtype='int64')\n",
       "    14         1         24.0     24.0      0.0      pcg_memory_usage = np.zeros(steps, dtype='float64')\n",
       "    15         1          4.0      4.0      0.0      single_crystals = 0\n",
       "    16                                           \n",
       "    17        31        185.0      6.0      0.0      for i in range(steps):\n",
       "    18                                           #         composition_old = composition_new\n",
       "    19        30        275.0      9.2      0.0          if verbose:\n",
       "    20                                                       print(\"composition_old\", composition)\n",
       "    21                                                       print(\"composition_old_shape\", composition.shape)\n",
       "    22                                                       \n",
       "    23                                                   # Obtain random fractions to divide pcgs in two parts\n",
       "    24        30    3234285.0 107809.5     17.9          a_prop = np.random.random(composition.shape[0])\n",
       "    25                                           #         ab_norm = np.divide(ab, np.sum(ab, axis=0))\n",
       "    26        30        422.0     14.1      0.0          if verbose:\n",
       "    27                                                       print(\"a_prop\", a_prop)\n",
       "    28                                           #             print(\"ab_norm\", ab_norm)\n",
       "    29                                           \n",
       "    30                                                   # Create new composition from old one and fractions\n",
       "    31        30    3356465.0 111882.2     18.6          a = np.multiply(a_prop, composition).astype('int64')\n",
       "    32                                           #         b = composition - a\n",
       "    33        30        593.0     19.8      0.0          if verbose:\n",
       "    34                                                       print(\"a\", a)\n",
       "    35                                                       print(\"b\", composition - a)\n",
       "    36        30    4742457.0 158081.9     26.3          composition = np.array((a, composition - a))\n",
       "    37        30        493.0     16.4      0.0          if verbose:\n",
       "    38                                                       print(\"composition_new\", composition)\n",
       "    39                                                       print(\"composition_new_sum\", np.sum(composition), \"\\n\")\n",
       "    40                                                       \n",
       "    41                                                   # Move fractions smaller than threshold to single crystals count\n",
       "    42        30     734476.0  24482.5      4.1          condition = composition == threshold\n",
       "    43        30     590618.0  19687.3      3.3          single_crystals += np.sum(condition)\n",
       "    44        30        271.0      9.0      0.0          if verbose:\n",
       "    45                                                       print(\"single_crystals\", single_crystals)\n",
       "    46        30    5363838.0 178794.6     29.8          composition = composition[composition > threshold]\n",
       "    47                                           #         composition = composition[composition != 0]\n",
       "    48                                                   \n",
       "    49        30        513.0     17.1      0.0          if verbose:\n",
       "    50                                                       print(\"composition_new\", composition)\n",
       "    51                                                       print(\"composition_new_sum\", np.sum(composition), \"\\n\")\n",
       "    52                                                   \n",
       "    53                                                   # Keep track of evolution of pcg and mcg numbers...\n",
       "    54        30       1168.0     38.9      0.0          pcg_evolution[i] = composition.shape[0]\n",
       "    55        30        425.0     14.2      0.0          mcg_evolution[i] = single_crystals\n",
       "    56                                                   # ... and pcg_array memory usage\n",
       "    57        30        769.0     25.6      0.0          pcg_memory_usage[i] = composition.nbytes / 1024**2\n",
       "    58                                                   \n",
       "    59                                                   # Break out of for loop if there are no more pcgs left\n",
       "    60        30        219.0      7.3      0.0          if composition.shape[0] == 0:\n",
       "    61                                                       print(i)\n",
       "    62                                                       break\n",
       "    63                                                   \n",
       "    64         1          8.0      8.0      0.0      return composition, single_crystals, pcg_evolution, mcg_evolution, pcg_memory_usage"
      ]
     },
     "metadata": {},
     "output_type": "display_data"
    }
   ],
   "source": [
    "%lprun -f mechanical_weathering_absolute_vectorized mechanical_weathering_absolute_vectorized(30)"
   ]
  },
  {
   "cell_type": "code",
   "execution_count": 243,
   "metadata": {},
   "outputs": [
    {
     "data": {
      "text/plain": [
       "Timer unit: 1e-07 s\n",
       "\n",
       "Total time: 1.85404 s\n",
       "File: <ipython-input-242-d8a6c3b2daa0>\n",
       "Function: mechanical_weathering_absolute_vectorized at line 1\n",
       "\n",
       "Line #      Hits         Time  Per Hit   % Time  Line Contents\n",
       "==============================================================\n",
       "     1                                           def mechanical_weathering_absolute_vectorized(steps, verbose=False, threshold=1, start_nr=200e6):\n",
       "     2                                               \"\"\"Threshold value is based on number of crystals that is expected to be \n",
       "     3                                               present in one cubic meter of parent rock which in turn is based on the average bulk crystal size\n",
       "     4                                               \n",
       "     5                                               Example:\n",
       "     6                                               --------\n",
       "     7                                               200 million crystals in 1 m³ means that a proportion of 0.5e-8 presents one crystal.\n",
       "     8                                               When a proprtion is less than or equal to this threshold this would thus mean that \n",
       "     9                                               the pcg is no longer a pcg but has become a mcg.\n",
       "    10                                               \"\"\"\n",
       "    11         1        228.0    228.0      0.0      composition = np.array([start_nr], dtype='int64')\n",
       "    12         1         50.0     50.0      0.0      pcg_evolution = np.zeros(steps, dtype='int64')\n",
       "    13         1         46.0     46.0      0.0      mcg_evolution = np.array([start_nr]*steps, dtype='int64')\n",
       "    14         1         23.0     23.0      0.0      pcg_memory_usage = np.zeros(steps, dtype='float64')\n",
       "    15         1          5.0      5.0      0.0      single_crystals = 0\n",
       "    16                                           \n",
       "    17        31        239.0      7.7      0.0      for i in range(steps):\n",
       "    18                                           #         composition_old = composition_new\n",
       "    19        30        166.0      5.5      0.0          if verbose:\n",
       "    20                                                       print(\"composition_old\", composition)\n",
       "    21                                                       print(\"composition_old_shape\", composition.shape)\n",
       "    22                                                       \n",
       "    23                                                   # Obtain random fractions to divide pcgs in two parts\n",
       "    24        30    2783575.0  92785.8     15.0          a_prop = np.random.random(composition.shape[0])\n",
       "    25                                           #         ab_norm = np.divide(ab, np.sum(ab, axis=0))\n",
       "    26        30        441.0     14.7      0.0          if verbose:\n",
       "    27                                                       print(\"a_prop\", a_prop)\n",
       "    28                                           #             print(\"ab_norm\", ab_norm)\n",
       "    29                                           \n",
       "    30                                                   # Create new composition from old one and fractions\n",
       "    31        30    2899174.0  96639.1     15.6          a = np.multiply(a_prop, composition).astype('int64')\n",
       "    32                                           #         b = composition - a\n",
       "    33        30        397.0     13.2      0.0          if verbose:\n",
       "    34                                                       print(\"a\", a)\n",
       "    35                                                       print(\"b\", composition - a)\n",
       "    36        30    4178978.0 139299.3     22.5          composition = np.array((a, composition - a))\n",
       "    37        30        499.0     16.6      0.0          if verbose:\n",
       "    38                                                       print(\"composition_new\", composition)\n",
       "    39                                                       print(\"composition_new_sum\", np.sum(composition), \"\\n\")\n",
       "    40                                                       \n",
       "    41                                                   # Move fractions smaller than threshold to single crystals count\n",
       "    42        30     698672.0  23289.1      3.8          condition = composition == threshold\n",
       "    43        30     513180.0  17106.0      2.8          single_crystals += np.sum(condition)\n",
       "    44        30        369.0     12.3      0.0          if verbose:\n",
       "    45                                                       print(\"single_crystals\", single_crystals)\n",
       "    46        30    4066613.0 135553.8     21.9          composition = composition[~condition]\n",
       "    47        30    3395197.0 113173.2     18.3          composition = composition[composition != 0]\n",
       "    48                                                   \n",
       "    49        30        503.0     16.8      0.0          if verbose:\n",
       "    50                                                       print(\"composition_new\", composition)\n",
       "    51                                                       print(\"composition_new_sum\", np.sum(composition), \"\\n\")\n",
       "    52                                                   \n",
       "    53                                                   # Keep track of evolution of pcg and mcg numbers...\n",
       "    54        30        819.0     27.3      0.0          pcg_evolution[i] = composition.shape[0]\n",
       "    55        30        336.0     11.2      0.0          mcg_evolution[i] = single_crystals\n",
       "    56                                                   # ... and pcg_array memory usage\n",
       "    57        30        624.0     20.8      0.0          pcg_memory_usage[i] = composition.nbytes / 1024**2\n",
       "    58                                                   \n",
       "    59                                                   # Break out of for loop if there are no more pcgs left\n",
       "    60        30        266.0      8.9      0.0          if composition.shape[0] == 0:\n",
       "    61                                                       print(i)\n",
       "    62                                                       break\n",
       "    63                                                   \n",
       "    64         1          8.0      8.0      0.0      return composition, single_crystals, pcg_evolution, mcg_evolution, pcg_memory_usage"
      ]
     },
     "metadata": {},
     "output_type": "display_data"
    }
   ],
   "source": [
    "%lprun -f mechanical_weathering_absolute_vectorized mechanical_weathering_absolute_vectorized(30)"
   ]
  },
  {
   "cell_type": "code",
   "execution_count": 219,
   "metadata": {},
   "outputs": [
    {
     "data": {
      "text/plain": [
       "Timer unit: 1e-07 s\n",
       "\n",
       "Total time: 2.65166 s\n",
       "File: <ipython-input-215-47747a931316>\n",
       "Function: mechanical_weathering_absolute_vectorized at line 1\n",
       "\n",
       "Line #      Hits         Time  Per Hit   % Time  Line Contents\n",
       "==============================================================\n",
       "     1                                           def mechanical_weathering_absolute_vectorized(steps, verbose=False, threshold=1, start_nr=200e6):\n",
       "     2                                               \"\"\"Threshold value is based on number of crystals that is expected to be \n",
       "     3                                               present in one cubic meter of parent rock which in turn is based on the average bulk crystal size\n",
       "     4                                               \n",
       "     5                                               Example:\n",
       "     6                                               --------\n",
       "     7                                               200 million crystals in 1 m³ means that a proportion of 0.5e-8 presents one crystal.\n",
       "     8                                               When a proprtion is less than or equal to this threshold this would thus mean that \n",
       "     9                                               the pcg is no longer a pcg but has become a mcg.\n",
       "    10                                               \"\"\"\n",
       "    11         1        140.0    140.0      0.0      composition = np.array([start_nr], dtype='int64')\n",
       "    12         1         31.0     31.0      0.0      pcg_evolution = np.zeros(steps)\n",
       "    13         1         14.0     14.0      0.0      mcg_evolution = np.zeros(steps)\n",
       "    14         1         12.0     12.0      0.0      pcg_memory_usage = np.zeros(steps)\n",
       "    15         1          5.0      5.0      0.0      single_crystals = 0\n",
       "    16                                           \n",
       "    17        31        331.0     10.7      0.0      for i in range(steps):\n",
       "    18                                           #         composition_old = composition_new\n",
       "    19        30        147.0      4.9      0.0          if verbose:\n",
       "    20                                                       print(\"composition_old\", composition)\n",
       "    21                                                       print(\"composition_old_shape\", composition.shape)\n",
       "    22                                                       \n",
       "    23                                                   # Obtain random fractions\n",
       "    24        30    4013738.0 133791.3     15.1          a_prop = np.random.random(composition.shape[0])\n",
       "    25                                           #         ab_norm = np.divide(ab, np.sum(ab, axis=0))\n",
       "    26        30        489.0     16.3      0.0          if verbose:\n",
       "    27                                                       print(\"a_prop\", a_prop)\n",
       "    28                                           #             print(\"ab_norm\", ab_norm)\n",
       "    29                                           \n",
       "    30                                                   # Create new composition from old one and fractions\n",
       "    31        30    4039082.0 134636.1     15.2          a = np.multiply(a_prop, composition).astype('int64')\n",
       "    32        30    2129952.0  70998.4      8.0          b = composition - a\n",
       "    33        30        402.0     13.4      0.0          if verbose:\n",
       "    34                                                       print(\"a\", a)\n",
       "    35                                                       print(\"b\", b)\n",
       "    36        30    3750128.0 125004.3     14.1          composition = np.array((a, b))\n",
       "    37                                                   # Sort along axis 0 to put smallest fraction in a and largest in b\n",
       "    38                                           #         composition = np.sort(composition, axis=0)\n",
       "    39                                                   # Now that we now the smallest fractions are in a and the largest in b we can perform rounding\n",
       "    40                                                   # This way the total sum of all grains remains equal to the 'start_nr'.\n",
       "    41                                           #         composition[0] = np.floor(composition[0])\n",
       "    42                                           #         composition[1] = np.ceil(composition[1])\n",
       "    43                                           #         composition_new = composition_new.flatten()\n",
       "    44        30        483.0     16.1      0.0          if verbose:\n",
       "    45                                                       print(\"composition_new\", composition)\n",
       "    46                                                       print(\"composition_new_sum\", np.sum(composition), \"\\n\")\n",
       "    47                                                       \n",
       "    48                                                   # Move fractions smaller than threshold to single crystals count\n",
       "    49                                           #         composition_new = composition_new.astype('int64')\n",
       "    50        30    1003780.0  33459.3      3.8          condition = composition == threshold\n",
       "    51        30     764046.0  25468.2      2.9          single_crystals += np.sum(condition)\n",
       "    52        30        410.0     13.7      0.0          if verbose:\n",
       "    53                                                       print(\"single_crystals\", single_crystals)\n",
       "    54        30    6096594.0 203219.8     23.0          composition = composition[~condition]\n",
       "    55        30    4713650.0 157121.7     17.8          composition = composition[composition != 0]\n",
       "    56                                                   \n",
       "    57        30        722.0     24.1      0.0          if verbose:\n",
       "    58                                                       print(\"composition_new\", composition)\n",
       "    59                                                       print(\"composition_new_sum\", np.sum(composition), \"\\n\")\n",
       "    60                                                   \n",
       "    61                                                   # Keep track of evolution of pcg and mcg\n",
       "    62        30       1138.0     37.9      0.0          pcg_evolution[i] = composition.shape[0]\n",
       "    63        30        315.0     10.5      0.0          mcg_evolution[i] = single_crystals\n",
       "    64        30        731.0     24.4      0.0          pcg_memory_usage[i] = composition.nbytes / 1024**2\n",
       "    65        30        227.0      7.6      0.0          if composition.shape[0] == 0:\n",
       "    66                                                       print(i)\n",
       "    67                                                       break\n",
       "    68                                                   \n",
       "    69         1          7.0      7.0      0.0      return composition, single_crystals, pcg_evolution, mcg_evolution, pcg_memory_usage"
      ]
     },
     "metadata": {},
     "output_type": "display_data"
    }
   ],
   "source": [
    "%lprun -f mechanical_weathering_absolute_vectorized mechanical_weathering_absolute_vectorized(30)"
   ]
  },
  {
   "cell_type": "code",
   "execution_count": 214,
   "metadata": {},
   "outputs": [
    {
     "data": {
      "text/plain": [
       "Timer unit: 1e-07 s\n",
       "\n",
       "Total time: 4.84945 s\n",
       "File: <ipython-input-210-24f78ae98550>\n",
       "Function: mechanical_weathering_absolute_vectorized at line 1\n",
       "\n",
       "Line #      Hits         Time  Per Hit   % Time  Line Contents\n",
       "==============================================================\n",
       "     1                                           def mechanical_weathering_absolute_vectorized(steps, verbose=False, threshold=1, start_nr=200e6):\n",
       "     2                                               \"\"\"Threshold value is based on number of crystals that is expected to be \n",
       "     3                                               present in one cubic meter of parent rock which in turn is based on the average bulk crystal size\n",
       "     4                                               \n",
       "     5                                               Example:\n",
       "     6                                               --------\n",
       "     7                                               200 million crystals in 1 m³ means that a proportion of 0.5e-8 presents one crystal.\n",
       "     8                                               When a proprtion is less than or equal to this threshold this would thus mean that \n",
       "     9                                               the pcg is no longer a pcg but has become a mcg.\n",
       "    10                                               \"\"\"\n",
       "    11         1        147.0    147.0      0.0      composition = np.array([start_nr], dtype='int64')\n",
       "    12         1         33.0     33.0      0.0      pcg_evolution = np.zeros(steps)\n",
       "    13         1         13.0     13.0      0.0      mcg_evolution = np.zeros(steps)\n",
       "    14         1         12.0     12.0      0.0      pcg_memory_usage = np.zeros(steps)\n",
       "    15         1          5.0      5.0      0.0      single_crystals = 0\n",
       "    16                                           \n",
       "    17        31        273.0      8.8      0.0      for i in range(steps):\n",
       "    18                                           #         composition_old = composition_new\n",
       "    19        30        288.0      9.6      0.0          if verbose:\n",
       "    20                                                       print(\"composition_old\", composition)\n",
       "    21                                                       print(\"composition_old_shape\", composition.shape)\n",
       "    22                                                       \n",
       "    23                                                   # Obtain random fractions\n",
       "    24        30    4336004.0 144533.5      8.9          a_prop = np.random.random(composition.shape[0])\n",
       "    25                                           #         ab_norm = np.divide(ab, np.sum(ab, axis=0))\n",
       "    26        30        725.0     24.2      0.0          if verbose:\n",
       "    27                                                       print(\"a_prop\", a_prop)\n",
       "    28                                           #             print(\"ab_norm\", ab_norm)\n",
       "    29                                           \n",
       "    30                                                   # Create new composition from old one and fractions\n",
       "    31        30    4332094.0 144403.1      8.9          a = np.multiply(a_prop, composition).astype('int64')\n",
       "    32        30    2138556.0  71285.2      4.4          b = composition - a\n",
       "    33        30        544.0     18.1      0.0          if verbose:\n",
       "    34                                                       print(\"a\", a)\n",
       "    35                                                       print(\"b\", b)\n",
       "    36        30    4003053.0 133435.1      8.3          composition = np.array((a, b))\n",
       "    37                                                   # Sort along axis 0 to put smallest fraction in a and largest in b\n",
       "    38        30   11711958.0 390398.6     24.2          composition = np.sort(composition, axis=0)\n",
       "    39                                                   # Now that we now the smallest fractions are in a and the largest in b we can perform rounding\n",
       "    40                                                   # This way the total sum of all grains remains equal to the 'start_nr'.\n",
       "    41        30    4831435.0 161047.8     10.0          composition[0] = np.floor(composition[0])\n",
       "    42        30    4005305.0 133510.2      8.3          composition[1] = np.ceil(composition[1])\n",
       "    43                                           #         composition_new = composition_new.flatten()\n",
       "    44        30        490.0     16.3      0.0          if verbose:\n",
       "    45                                                       print(\"composition_new\", composition)\n",
       "    46                                                       print(\"composition_new_sum\", np.sum(composition), \"\\n\")\n",
       "    47                                                       \n",
       "    48                                                   # Move fractions smaller than threshold to single crystals count\n",
       "    49                                           #         composition_new = composition_new.astype('int64')\n",
       "    50        30     980159.0  32672.0      2.0          condition = composition == threshold\n",
       "    51        30     772602.0  25753.4      1.6          single_crystals += np.sum(condition)\n",
       "    52        30        256.0      8.5      0.0          if verbose:\n",
       "    53                                                       print(\"single_crystals\", single_crystals)\n",
       "    54        30    6416558.0 213885.3     13.2          composition = composition[~condition]\n",
       "    55        30    4961096.0 165369.9     10.2          composition = composition[composition != 0]\n",
       "    56                                                   \n",
       "    57        30        512.0     17.1      0.0          if verbose:\n",
       "    58                                                       print(\"composition_new\", composition)\n",
       "    59                                                       print(\"composition_new_sum\", np.sum(composition), \"\\n\")\n",
       "    60                                                   \n",
       "    61                                                   # Keep track of evolution of pcg and mcg\n",
       "    62        30       1232.0     41.1      0.0          pcg_evolution[i] = composition.shape[0]\n",
       "    63        30        341.0     11.4      0.0          mcg_evolution[i] = single_crystals\n",
       "    64        30        595.0     19.8      0.0          pcg_memory_usage[i] = composition.nbytes / 1024**2\n",
       "    65        30        237.0      7.9      0.0          if composition.shape[0] == 0:\n",
       "    66                                                       print(i)\n",
       "    67                                                       break\n",
       "    68                                                   \n",
       "    69         1          9.0      9.0      0.0      return composition, single_crystals, pcg_evolution, mcg_evolution, pcg_memory_usage"
      ]
     },
     "metadata": {},
     "output_type": "display_data"
    }
   ],
   "source": [
    "%lprun -f mechanical_weathering_absolute_vectorized mechanical_weathering_absolute_vectorized(30)"
   ]
  },
  {
   "cell_type": "code",
   "execution_count": 203,
   "metadata": {},
   "outputs": [
    {
     "data": {
      "text/plain": [
       "Timer unit: 1e-07 s\n",
       "\n",
       "Total time: 3.74975 s\n",
       "File: <ipython-input-200-62c30fe6b48c>\n",
       "Function: mechanical_weathering_absolute_vectorized at line 1\n",
       "\n",
       "Line #      Hits         Time  Per Hit   % Time  Line Contents\n",
       "==============================================================\n",
       "     1                                           def mechanical_weathering_absolute_vectorized(steps, verbose=False, threshold=1, start_nr=200e6):\n",
       "     2                                               \"\"\"Threshold value is based on number of crystals that is expected to be \n",
       "     3                                               present in one cubic meter of parent rock which in turn is based on the average bulk crystal size\n",
       "     4                                               \n",
       "     5                                               Example:\n",
       "     6                                               --------\n",
       "     7                                               200 million crystals in 1 m³ means that a proportion of 0.5e-8 presents one crystal.\n",
       "     8                                               When a proprtion is less than or equal to this threshold this would thus mean that \n",
       "     9                                               the pcg is no longer a pcg but has become a mcg.\n",
       "    10                                               \"\"\"\n",
       "    11         1         87.0     87.0      0.0      composition = np.array([start_nr])\n",
       "    12         1        161.0    161.0      0.0      pcg_evolution = np.zeros(steps)\n",
       "    13         1         13.0     13.0      0.0      mcg_evolution = np.zeros(steps)\n",
       "    14         1         12.0     12.0      0.0      pcg_memory_usage = np.zeros(steps)\n",
       "    15         1          5.0      5.0      0.0      single_crystals = 0\n",
       "    16                                           \n",
       "    17        31        190.0      6.1      0.0      for i in range(steps):\n",
       "    18                                           #         composition_old = composition_new\n",
       "    19        30        289.0      9.6      0.0          if verbose:\n",
       "    20                                                       print(\"composition_old\", composition)\n",
       "    21                                                       print(\"composition_old_shape\", composition.shape)\n",
       "    22                                                       \n",
       "    23                                                   # Obtain random fractions\n",
       "    24        30    3491516.0 116383.9      9.3          a_prop = np.random.random(composition.shape[0])\n",
       "    25                                           #         ab_norm = np.divide(ab, np.sum(ab, axis=0))\n",
       "    26        30        378.0     12.6      0.0          if verbose:\n",
       "    27                                                       print(\"a_prop\", a_prop)\n",
       "    28                                           #             print(\"ab_norm\", ab_norm)\n",
       "    29                                           \n",
       "    30                                                   # Create new composition from old one and fractions\n",
       "    31        30    1661618.0  55387.3      4.4          a = np.multiply(a_prop, composition)\n",
       "    32        30    1648454.0  54948.5      4.4          b = composition - a\n",
       "    33        30        322.0     10.7      0.0          if verbose:\n",
       "    34                                                       print(\"a\", a)\n",
       "    35                                                       print(\"b\", b)\n",
       "    36        30    3240839.0 108028.0      8.6          composition = np.array((a, b))\n",
       "    37                                                   # Sort along axis 0 to put smallest fraction in a and largest in b\n",
       "    38        30   10166815.0 338893.8     27.1          composition = np.sort(composition, axis=0)\n",
       "    39                                                   # Now that we now the smallest fractions are in a and the largest in b we can perform rounding\n",
       "    40                                                   # This way the total sum of all grains remains equal to the 'start_nr'.\n",
       "    41        30    4055525.0 135184.2     10.8          composition[0] = np.floor(composition[0])\n",
       "    42        30    2601371.0  86712.4      6.9          composition[1] = np.ceil(composition[1])\n",
       "    43                                           #         composition_new = composition_new.flatten()\n",
       "    44        30        448.0     14.9      0.0          if verbose:\n",
       "    45                                                       print(\"composition_new\", composition)\n",
       "    46                                                       print(\"composition_new_sum\", np.sum(composition), \"\\n\")\n",
       "    47                                                       \n",
       "    48                                                   # Move fractions smaller than threshold to single crystals count\n",
       "    49                                           #         composition_new = composition_new.astype('int64')\n",
       "    50        30     660763.0  22025.4      1.8          condition = composition == threshold\n",
       "    51        30     621423.0  20714.1      1.7          single_crystals += np.sum(condition)\n",
       "    52        30        220.0      7.3      0.0          if verbose:\n",
       "    53                                                       print(\"single_crystals\", single_crystals)\n",
       "    54        30    4696873.0 156562.4     12.5          composition = composition[~condition]\n",
       "    55        30    4647231.0 154907.7     12.4          composition = composition[composition != 0]\n",
       "    56                                                   \n",
       "    57        30        476.0     15.9      0.0          if verbose:\n",
       "    58                                                       print(\"composition_new\", composition)\n",
       "    59                                                       print(\"composition_new_sum\", np.sum(composition), \"\\n\")\n",
       "    60                                                   \n",
       "    61                                                   # Keep track of evolution of pcg and mcg\n",
       "    62        30       1088.0     36.3      0.0          pcg_evolution[i] = composition.shape[0]\n",
       "    63        30        553.0     18.4      0.0          mcg_evolution[i] = single_crystals\n",
       "    64        30        569.0     19.0      0.0          pcg_memory_usage[i] = composition.nbytes / 1024**2\n",
       "    65        30        209.0      7.0      0.0          if composition.shape[0] == 0:\n",
       "    66                                                       print(i)\n",
       "    67                                                       break\n",
       "    68                                                   \n",
       "    69         1          8.0      8.0      0.0      return composition, single_crystals, pcg_evolution, mcg_evolution, pcg_memory_usage"
      ]
     },
     "metadata": {},
     "output_type": "display_data"
    }
   ],
   "source": [
    "%lprun -f mechanical_weathering_absolute_vectorized mechanical_weathering_absolute_vectorized(30)"
   ]
  },
  {
   "cell_type": "code",
   "execution_count": 196,
   "metadata": {},
   "outputs": [
    {
     "data": {
      "text/plain": [
       "Timer unit: 1e-07 s\n",
       "\n",
       "Total time: 3.9461 s\n",
       "File: <ipython-input-193-dde7b1dc1951>\n",
       "Function: mechanical_weathering_absolute_vectorized at line 1\n",
       "\n",
       "Line #      Hits         Time  Per Hit   % Time  Line Contents\n",
       "==============================================================\n",
       "     1                                           def mechanical_weathering_absolute_vectorized(steps, verbose=False, threshold=1, start_nr=200e6):\n",
       "     2                                               \"\"\"Threshold value is based on number of crystals that is expected to be \n",
       "     3                                               present in one cubic meter of parent rock which in turn is based on the average bulk crystal size\n",
       "     4                                               \n",
       "     5                                               Example:\n",
       "     6                                               --------\n",
       "     7                                               200 million crystals in 1 m³ means that a proportion of 0.5e-8 presents one crystal.\n",
       "     8                                               When a proprtion is less than or equal to this threshold this would thus mean that \n",
       "     9                                               the pcg is no longer a pcg but has become a mcg.\n",
       "    10                                               \"\"\"\n",
       "    11         1         96.0     96.0      0.0      composition_new = np.array([start_nr])\n",
       "    12         1         32.0     32.0      0.0      pcg_evolution = np.zeros(steps)\n",
       "    13         1         12.0     12.0      0.0      mcg_evolution = np.zeros(steps)\n",
       "    14         1         11.0     11.0      0.0      pcg_memory_usage = np.zeros(steps)\n",
       "    15         1          4.0      4.0      0.0      single_crystals = 0\n",
       "    16                                           \n",
       "    17        31        185.0      6.0      0.0      for i in range(steps):\n",
       "    18        30     201089.0   6703.0      0.5          composition_old = composition_new\n",
       "    19        30        367.0     12.2      0.0          if verbose:\n",
       "    20                                                       print(\"composition_old\", composition_old)\n",
       "    21                                                       print(\"composition_old_shape\", composition_old.shape)\n",
       "    22                                                       \n",
       "    23                                                   # Obtain random fractions\n",
       "    24        30    3623819.0 120794.0      9.2          a_prop = np.random.random(composition_old.shape[0])\n",
       "    25                                           #         ab_norm = np.divide(ab, np.sum(ab, axis=0))\n",
       "    26        30        356.0     11.9      0.0          if verbose:\n",
       "    27                                                       print(\"a_prop\", a_prop)\n",
       "    28                                           #             print(\"ab_norm\", ab_norm)\n",
       "    29                                           \n",
       "    30                                                   # Create new composition from old one and fractions\n",
       "    31        30    1790609.0  59687.0      4.5          a = np.multiply(a_prop, composition_old)\n",
       "    32        30    1823641.0  60788.0      4.6          b = composition_old - a\n",
       "    33        30        326.0     10.9      0.0          if verbose:\n",
       "    34                                                       print(\"a\", a)\n",
       "    35                                                       print(\"b\", b)\n",
       "    36        30    3096712.0 103223.7      7.8          composition_new = np.array((a, b))\n",
       "    37                                                   # Sort along axis 0 to put smallest fraction in a and largest in b\n",
       "    38        30   10917701.0 363923.4     27.7          composition_new = np.sort(composition_new, axis=0)\n",
       "    39                                                   # Now that we now the smallest fractions are in a and the largest in b we can perform rounding\n",
       "    40                                                   # This way the total sum of all grains remains equal to the 'start_nr'.\n",
       "    41        30    4218266.0 140608.9     10.7          composition_new[0] = np.floor(composition_new[0])\n",
       "    42        30    2822262.0  94075.4      7.2          composition_new[1] = np.ceil(composition_new[1])\n",
       "    43                                           #         composition_new = composition_new.flatten()\n",
       "    44        30        472.0     15.7      0.0          if verbose:\n",
       "    45                                                       print(\"composition_new\", composition_new)\n",
       "    46                                                       print(\"composition_new_sum\", np.sum(composition_new), \"\\n\")\n",
       "    47                                                       \n",
       "    48                                                   # Move fractions smaller than threshold to single crystals count\n",
       "    49                                           #         composition_new = composition_new.astype('int64')\n",
       "    50        30     715608.0  23853.6      1.8          condition = composition_new == threshold\n",
       "    51        30     672606.0  22420.2      1.7          single_crystals += np.sum(condition)\n",
       "    52        30        230.0      7.7      0.0          if verbose:\n",
       "    53                                                       print(\"single_crystals\", single_crystals)\n",
       "    54        30    4837911.0 161263.7     12.3          composition_new = composition_new[~condition]\n",
       "    55        30    4736357.0 157878.6     12.0          composition_new = composition_new[composition_new != 0]\n",
       "    56                                                   \n",
       "    57        30        452.0     15.1      0.0          if verbose:\n",
       "    58                                                       print(\"composition_new\", composition_new)\n",
       "    59                                                       print(\"composition_new_sum\", np.sum(composition_new), \"\\n\")\n",
       "    60                                                   \n",
       "    61                                                   # Keep track of evolution of pcg and mcg\n",
       "    62        30        907.0     30.2      0.0          pcg_evolution[i] = composition_new.shape[0]\n",
       "    63        30        270.0      9.0      0.0          mcg_evolution[i] = single_crystals\n",
       "    64        30        533.0     17.8      0.0          pcg_memory_usage[i] = composition_new.nbytes / 1024**2\n",
       "    65        30        207.0      6.9      0.0          if composition_new.shape[0] == 0:\n",
       "    66                                                       print(i)\n",
       "    67                                                       break\n",
       "    68                                                   \n",
       "    69         1          8.0      8.0      0.0      return composition_new, single_crystals, pcg_evolution, mcg_evolution, pcg_memory_usage"
      ]
     },
     "metadata": {},
     "output_type": "display_data"
    }
   ],
   "source": [
    "%lprun -f mechanical_weathering_absolute_vectorized mechanical_weathering_absolute_vectorized(30)"
   ]
  },
  {
   "cell_type": "code",
   "execution_count": 187,
   "metadata": {},
   "outputs": [
    {
     "data": {
      "text/plain": [
       "Timer unit: 1e-07 s\n",
       "\n",
       "Total time: 5.05941 s\n",
       "File: <ipython-input-183-a651df2d7579>\n",
       "Function: mechanical_weathering_absolute_vectorized at line 1\n",
       "\n",
       "Line #      Hits         Time  Per Hit   % Time  Line Contents\n",
       "==============================================================\n",
       "     1                                           def mechanical_weathering_absolute_vectorized(steps, verbose=False, threshold=1, start_nr=200e6):\n",
       "     2                                               \"\"\"Threshold value is based on number of crystals that is expected to be \n",
       "     3                                               present in one cubic meter of parent rock which in turn is based on the average bulk crystal size\n",
       "     4                                               \n",
       "     5                                               Example:\n",
       "     6                                               --------\n",
       "     7                                               200 million crystals in 1 m³ means that a proportion of 0.5e-8 presents one crystal.\n",
       "     8                                               When a proprtion is less than or equal to this threshold this would thus mean that \n",
       "     9                                               the pcg is no longer a pcg but has become a mcg.\n",
       "    10                                               \"\"\"\n",
       "    11         1        160.0    160.0      0.0      composition_new = np.array([start_nr])\n",
       "    12         1         38.0     38.0      0.0      pcg_evolution = np.zeros(steps)\n",
       "    13         1         17.0     17.0      0.0      mcg_evolution = np.zeros(steps)\n",
       "    14         1         15.0     15.0      0.0      pcg_memory_usage = np.zeros(steps)\n",
       "    15         1          4.0      4.0      0.0      single_crystals = 0\n",
       "    16                                           \n",
       "    17        31        227.0      7.3      0.0      for i in range(steps):\n",
       "    18        30     235814.0   7860.5      0.5          composition_old = composition_new\n",
       "    19        30        280.0      9.3      0.0          if verbose:\n",
       "    20                                                       print(\"composition_old\", composition_old)\n",
       "    21                                                       print(\"composition_old_shape\", composition_old.shape)\n",
       "    22                                                       \n",
       "    23                                                   # Obtain random fractions\n",
       "    24        30    4669681.0 155656.0      9.2          a_prop = np.random.random(composition_old.shape[0])\n",
       "    25                                           #         ab_norm = np.divide(ab, np.sum(ab, axis=0))\n",
       "    26        30        499.0     16.6      0.0          if verbose:\n",
       "    27                                                       print(\"a_prop\", a_prop)\n",
       "    28                                           #             print(\"ab_norm\", ab_norm)\n",
       "    29                                           \n",
       "    30                                                   # Create new composition from old one and fractions\n",
       "    31        30    2250273.0  75009.1      4.4          a = np.multiply(a_prop, composition_old)\n",
       "    32        30    2209748.0  73658.3      4.4          b = composition_old - a\n",
       "    33        30        581.0     19.4      0.0          if verbose:\n",
       "    34                                                       print(\"a\", a)\n",
       "    35                                                       print(\"b\", b)\n",
       "    36        30    3881397.0 129379.9      7.7          composition_new = np.stack((a, b))\n",
       "    37        30   13889188.0 462972.9     27.5          composition_new = np.sort(composition_new, axis=0)\n",
       "    38        30    5513940.0 183798.0     10.9          composition_new[0] = np.floor(composition_new[0])\n",
       "    39        30    3607940.0 120264.7      7.1          composition_new[1] = np.ceil(composition_new[1])\n",
       "    40                                           #         composition_new = composition_new.flatten()\n",
       "    41        30        720.0     24.0      0.0          if verbose:\n",
       "    42                                                       print(\"composition_new\", composition_new)\n",
       "    43                                                       print(\"composition_new_sum\", np.sum(composition_new), \"\\n\")\n",
       "    44                                                       \n",
       "    45                                                   # Move fractions smaller than threshold to single crystals count\n",
       "    46                                           #         composition_new = composition_new.astype('int64')\n",
       "    47        30     921048.0  30701.6      1.8          condition = composition_new == threshold\n",
       "    48        30     881840.0  29394.7      1.7          single_crystals += np.sum(condition)\n",
       "    49        30        323.0     10.8      0.0          if verbose:\n",
       "    50                                                       print(\"single_crystals\", single_crystals)\n",
       "    51        30    6467033.0 215567.8     12.8          composition_new = composition_new[~condition]\n",
       "    52        30    6060137.0 202004.6     12.0          composition_new = composition_new[composition_new != 0]\n",
       "    53                                                   \n",
       "    54        30        741.0     24.7      0.0          if verbose:\n",
       "    55                                                       print(\"composition_new\", composition_new)\n",
       "    56                                                       print(\"composition_new_sum\", np.sum(composition_new), \"\\n\")\n",
       "    57                                                   \n",
       "    58                                                   # Keep track of evolution of pcg and mcg\n",
       "    59        30       1406.0     46.9      0.0          pcg_evolution[i] = composition_new.shape[0]\n",
       "    60        30        334.0     11.1      0.0          mcg_evolution[i] = single_crystals\n",
       "    61        30        486.0     16.2      0.0          pcg_memory_usage[i] = composition_new.nbytes / 1024**2\n",
       "    62        30        246.0      8.2      0.0          if composition_new.shape[0] == 0:\n",
       "    63                                                       print(i)\n",
       "    64                                                       break\n",
       "    65                                                   \n",
       "    66         1          8.0      8.0      0.0      return composition_new, single_crystals, pcg_evolution, mcg_evolution, pcg_memory_usage"
      ]
     },
     "metadata": {},
     "output_type": "display_data"
    }
   ],
   "source": [
    "%lprun -f mechanical_weathering_absolute_vectorized mechanical_weathering_absolute_vectorized(30)"
   ]
  },
  {
   "cell_type": "code",
   "execution_count": 140,
   "metadata": {},
   "outputs": [
    {
     "data": {
      "text/plain": [
       "Timer unit: 1e-07 s\n",
       "\n",
       "Total time: 11.259 s\n",
       "File: <ipython-input-138-1e15c5000493>\n",
       "Function: mechanical_weathering_absolute_vectorized at line 1\n",
       "\n",
       "Line #      Hits         Time  Per Hit   % Time  Line Contents\n",
       "==============================================================\n",
       "     1                                           def mechanical_weathering_absolute_vectorized(steps, verbose=False, threshold=1, start_nr=200e6):\n",
       "     2                                               \"\"\"Threshold value is based on number of crystals that is expected to be \n",
       "     3                                               present in one cubic meter of parent rock which in turn is based on the average bulk crystal size\n",
       "     4                                               \n",
       "     5                                               Example:\n",
       "     6                                               --------\n",
       "     7                                               200 million crystals in 1 m³ means that a proportion of 0.5e-8 presents one crystal.\n",
       "     8                                               When a proprtion is less than or equal to this threshold this would thus mean that \n",
       "     9                                               the pcg is no longer a pcg but has become a mcg.\n",
       "    10                                               \"\"\"\n",
       "    11         1         86.0     86.0      0.0      composition_new = np.array([start_nr])\n",
       "    12         1         31.0     31.0      0.0      pcg_evolution = np.zeros(steps)\n",
       "    13         1         13.0     13.0      0.0      mcg_evolution = np.zeros(steps)\n",
       "    14         1         11.0     11.0      0.0      pcg_memory_usage = np.zeros(steps)\n",
       "    15         1          5.0      5.0      0.0      single_crystals = 0\n",
       "    16                                           \n",
       "    17        31        203.0      6.5      0.0      for i in range(steps):\n",
       "    18        30     388341.0  12944.7      0.3          composition_old = composition_new\n",
       "    19        30        270.0      9.0      0.0          if verbose:\n",
       "    20                                                       print(\"composition_old\", composition_old)\n",
       "    21                                                       print(\"composition_old_shape\", composition_old.shape)\n",
       "    22                                                       \n",
       "    23                                                   # Obtain random fractions\n",
       "    24        30   15605628.0 520187.6     13.9          ab = np.random.random((2, composition_old.shape[0]))\n",
       "    25        30   12476310.0 415877.0     11.1          ab_norm = np.divide(ab, np.sum(ab, axis=0))\n",
       "    26        30        527.0     17.6      0.0          if verbose:\n",
       "    27                                                       print(\"ab\", ab)\n",
       "    28                                                       print(\"ab_norm\", ab_norm)\n",
       "    29                                           \n",
       "    30                                                   # Create new composition from old one and fractions\n",
       "    31        30    7519378.0 250645.9      6.7          composition_new = np.multiply(ab_norm.T, composition_old.reshape(-1, 1))\n",
       "    32        30   23609322.0 786977.4     21.0          composition_new = np.sort(composition_new)\n",
       "    33        30    8665211.0 288840.4      7.7          composition_new[:, 0] = np.floor(composition_new[:, 0])\n",
       "    34        30    6079792.0 202659.7      5.4          composition_new[:, 1] = np.ceil(composition_new[:,1])\n",
       "    35                                           #         composition_new = composition_new.flatten()\n",
       "    36        30        477.0     15.9      0.0          if verbose:\n",
       "    37                                                       print(\"composition_new\", composition_new)\n",
       "    38                                                       print(\"composition_new_sum\", np.sum(composition_new), \"\\n\")\n",
       "    39                                                       \n",
       "    40                                                   # Move fractions smaller than threshold to single crystals count\n",
       "    41        30    7746493.0 258216.4      6.9          composition_new = composition_new.astype('int64')\n",
       "    42        30    1890517.0  63017.2      1.7          condition = composition_new == threshold\n",
       "    43        30    1413522.0  47117.4      1.3          single_crystals += np.sum(condition)\n",
       "    44        30        284.0      9.5      0.0          if verbose:\n",
       "    45                                                       print(\"single_crystals\", single_crystals)\n",
       "    46        30   15668039.0 522268.0     13.9          composition_new = composition_new[~condition]\n",
       "    47        30   11522657.0 384088.6     10.2          composition_new = composition_new[composition_new != 0]\n",
       "    48                                                   \n",
       "    49        30        682.0     22.7      0.0          if verbose:\n",
       "    50                                                       print(\"composition_new\", composition_new)\n",
       "    51                                                       print(\"composition_new_sum\", np.sum(composition_new), \"\\n\")\n",
       "    52                                                   \n",
       "    53                                                   # Keep track of evolution of pcg and mcg\n",
       "    54        30       1007.0     33.6      0.0          pcg_evolution[i] = composition_new.shape[0]\n",
       "    55        30        298.0      9.9      0.0          mcg_evolution[i] = single_crystals\n",
       "    56        30        436.0     14.5      0.0          pcg_memory_usage[i] = composition_new.nbytes / 1024**2\n",
       "    57        30        227.0      7.6      0.0          if composition_new.shape[0] == 0:\n",
       "    58                                                       print(i)\n",
       "    59                                                       break\n",
       "    60                                                   \n",
       "    61         1          8.0      8.0      0.0      return composition_new, single_crystals, pcg_evolution, mcg_evolution, pcg_memory_usage"
      ]
     },
     "metadata": {},
     "output_type": "display_data"
    }
   ],
   "source": [
    "%lprun -f mechanical_weathering_absolute_vectorized mechanical_weathering_absolute_vectorized(30)"
   ]
  },
  {
   "cell_type": "code",
   "execution_count": 23,
   "metadata": {},
   "outputs": [
    {
     "data": {
      "text/plain": [
       "4.470348358154297"
      ]
     },
     "execution_count": 23,
     "metadata": {},
     "output_type": "execute_result"
    }
   ],
   "source": [
    "1e6 * np.random.randint(0, high=5, size=(6, 200)).nbytes / 1024**3"
   ]
  },
  {
   "cell_type": "code",
   "execution_count": null,
   "metadata": {},
   "outputs": [],
   "source": []
  },
  {
   "cell_type": "code",
   "execution_count": 11,
   "metadata": {},
   "outputs": [
    {
     "data": {
      "text/plain": [
       "1240.7009817987996"
      ]
     },
     "execution_count": 11,
     "metadata": {},
     "output_type": "execute_result"
    }
   ],
   "source": [
    "calculate_equivalent_circular_diameter(1e9)"
   ]
  },
  {
   "cell_type": "code",
   "execution_count": 39,
   "metadata": {},
   "outputs": [
    {
     "data": {
      "text/plain": [
       "33.554432"
      ]
     },
     "execution_count": 39,
     "metadata": {},
     "output_type": "execute_result"
    }
   ],
   "source": [
    "2**25 / 1e6"
   ]
  },
  {
   "cell_type": "code",
   "execution_count": 35,
   "metadata": {},
   "outputs": [
    {
     "data": {
      "text/plain": [
       "6309120"
      ]
     },
     "execution_count": 35,
     "metadata": {},
     "output_type": "execute_result"
    }
   ],
   "source": [
    "len(composition_new)"
   ]
  },
  {
   "cell_type": "code",
   "execution_count": 36,
   "metadata": {},
   "outputs": [
    {
     "data": {
      "text/plain": [
       "5995115"
      ]
     },
     "execution_count": 36,
     "metadata": {},
     "output_type": "execute_result"
    }
   ],
   "source": [
    "single_crystals"
   ]
  },
  {
   "cell_type": "code",
   "execution_count": 58,
   "metadata": {},
   "outputs": [],
   "source": [
    "test_list = []"
   ]
  },
  {
   "cell_type": "code",
   "execution_count": 59,
   "metadata": {},
   "outputs": [
    {
     "data": {
      "text/plain": [
       "[]"
      ]
     },
     "execution_count": 59,
     "metadata": {},
     "output_type": "execute_result"
    }
   ],
   "source": [
    "test_list += []\n",
    "test_list"
   ]
  },
  {
   "cell_type": "code",
   "execution_count": 37,
   "metadata": {},
   "outputs": [
    {
     "data": {
      "text/plain": [
       "1048576"
      ]
     },
     "execution_count": 37,
     "metadata": {},
     "output_type": "execute_result"
    }
   ],
   "source": [
    "len(composition_new)"
   ]
  },
  {
   "cell_type": "code",
   "execution_count": 41,
   "metadata": {},
   "outputs": [],
   "source": [
    "composition_new_array = np.array(composition_new)"
   ]
  },
  {
   "cell_type": "code",
   "execution_count": 49,
   "metadata": {},
   "outputs": [
    {
     "data": {
      "text/plain": [
       "2.0"
      ]
     },
     "execution_count": 49,
     "metadata": {},
     "output_type": "execute_result"
    }
   ],
   "source": [
    "2e8 / 1e8"
   ]
  },
  {
   "cell_type": "code",
   "execution_count": 51,
   "metadata": {},
   "outputs": [
    {
     "data": {
      "text/plain": [
       "2.0"
      ]
     },
     "execution_count": 51,
     "metadata": {},
     "output_type": "execute_result"
    }
   ],
   "source": [
    "2e8 * 1e-8"
   ]
  },
  {
   "cell_type": "code",
   "execution_count": 52,
   "metadata": {},
   "outputs": [
    {
     "data": {
      "text/plain": [
       "406164"
      ]
     },
     "execution_count": 52,
     "metadata": {},
     "output_type": "execute_result"
    }
   ],
   "source": [
    "np.sum(composition_new_array < 1e-8)"
   ]
  },
  {
   "cell_type": "code",
   "execution_count": 40,
   "metadata": {},
   "outputs": [
    {
     "data": {
      "text/plain": [
       "2.6814633045115137e-17"
      ]
     },
     "execution_count": 40,
     "metadata": {},
     "output_type": "execute_result"
    }
   ],
   "source": [
    "np.min(ncomposition_new)"
   ]
  },
  {
   "cell_type": "code",
   "execution_count": 32,
   "metadata": {},
   "outputs": [],
   "source": [
    "from sys import getsizeof"
   ]
  },
  {
   "cell_type": "code",
   "execution_count": 37,
   "metadata": {},
   "outputs": [
    {
     "name": "stdout",
     "output_type": "stream",
     "text": [
      "48.53956604003906 MB\n"
     ]
    }
   ],
   "source": [
    "print(getsizeof(composition_new) / (1024**2), \"MB\")"
   ]
  },
  {
   "cell_type": "code",
   "execution_count": 23,
   "metadata": {},
   "outputs": [
    {
     "ename": "NameError",
     "evalue": "name 'split_size' is not defined",
     "output_type": "error",
     "traceback": [
      "\u001b[1;31m---------------------------------------------------------------------------\u001b[0m",
      "\u001b[1;31mNameError\u001b[0m                                 Traceback (most recent call last)",
      "\u001b[1;32m<ipython-input-23-ec11961fbf58>\u001b[0m in \u001b[0;36m<module>\u001b[1;34m\u001b[0m\n\u001b[1;32m----> 1\u001b[1;33m \u001b[0msplit_size\u001b[0m\u001b[1;33m(\u001b[0m\u001b[1;36m4\u001b[0m\u001b[1;33m)\u001b[0m\u001b[1;33m\u001b[0m\u001b[1;33m\u001b[0m\u001b[0m\n\u001b[0m",
      "\u001b[1;31mNameError\u001b[0m: name 'split_size' is not defined"
     ]
    }
   ],
   "source": [
    "split_size(4)"
   ]
  },
  {
   "cell_type": "code",
   "execution_count": 141,
   "metadata": {},
   "outputs": [],
   "source": [
    "# %%timeit\n",
    "x1, x2 = train_test_split(crystal_sizes[0], train_size=(0.9-0.1) * prng.random_sample() + 0.1, random_state=1234)"
   ]
  },
  {
   "cell_type": "code",
   "execution_count": 240,
   "metadata": {},
   "outputs": [
    {
     "data": {
      "text/plain": [
       "array([   0,    1,    2, ..., 9997, 9998, 9999], dtype=int16)"
      ]
     },
     "execution_count": 240,
     "metadata": {},
     "output_type": "execute_result"
    }
   ],
   "source": [
    "test = np.arange(10000, dtype='int16')\n",
    "test"
   ]
  },
  {
   "cell_type": "code",
   "execution_count": 231,
   "metadata": {},
   "outputs": [
    {
     "data": {
      "text/plain": [
       "dtype('int16')"
      ]
     },
     "execution_count": 231,
     "metadata": {},
     "output_type": "execute_result"
    }
   ],
   "source": [
    "test.dtype"
   ]
  },
  {
   "cell_type": "code",
   "execution_count": 248,
   "metadata": {},
   "outputs": [],
   "source": [
    "labels = np.array([0]*5000 + [1]*5000, dtype='bool')"
   ]
  },
  {
   "cell_type": "code",
   "execution_count": 269,
   "metadata": {},
   "outputs": [],
   "source": [
    "# Bins according to phi scale in quarters (in mm)\n",
    "bins = [2.0**x for x in np.arange(-10, 10.1, 0.1)]"
   ]
  },
  {
   "cell_type": "code",
   "execution_count": 274,
   "metadata": {},
   "outputs": [
    {
     "data": {
      "text/plain": [
       "1.4975666999816895"
      ]
     },
     "execution_count": 274,
     "metadata": {},
     "output_type": "execute_result"
    }
   ],
   "source": [
    "np.array(bins).nbytes *1e6 / (1024**3)"
   ]
  },
  {
   "cell_type": "code",
   "execution_count": 278,
   "metadata": {},
   "outputs": [
    {
     "data": {
      "text/plain": [
       "400"
      ]
     },
     "execution_count": 278,
     "metadata": {},
     "output_type": "execute_result"
    }
   ],
   "source": [
    "np.random.randint(low=0, high=10000, size=200, dtype='uint16').nbytes"
   ]
  },
  {
   "cell_type": "code",
   "execution_count": 41,
   "metadata": {},
   "outputs": [],
   "source": [
    "from scipy import sparse"
   ]
  },
  {
   "cell_type": "code",
   "execution_count": 42,
   "metadata": {},
   "outputs": [],
   "source": [
    "from sys import getsizeof"
   ]
  },
  {
   "cell_type": "code",
   "execution_count": 102,
   "metadata": {},
   "outputs": [],
   "source": [
    "tester = np.random.randint(0, 1, (10, 6, 2000), dtype='int32')"
   ]
  },
  {
   "cell_type": "code",
   "execution_count": 103,
   "metadata": {},
   "outputs": [
    {
     "data": {
      "text/plain": [
       "480128"
      ]
     },
     "execution_count": 103,
     "metadata": {},
     "output_type": "execute_result"
    }
   ],
   "source": [
    "getsizeof(tester)"
   ]
  },
  {
   "cell_type": "code",
   "execution_count": 104,
   "metadata": {},
   "outputs": [
    {
     "data": {
      "text/plain": [
       "480000"
      ]
     },
     "execution_count": 104,
     "metadata": {},
     "output_type": "execute_result"
    }
   ],
   "source": [
    "tester.nbytes"
   ]
  },
  {
   "cell_type": "code",
   "execution_count": 105,
   "metadata": {},
   "outputs": [
    {
     "ename": "TypeError",
     "evalue": "Expected rank <=2 dense array or matrix.",
     "output_type": "error",
     "traceback": [
      "\u001b[1;31m---------------------------------------------------------------------------\u001b[0m",
      "\u001b[1;31mTypeError\u001b[0m                                 Traceback (most recent call last)",
      "\u001b[1;32m<ipython-input-105-f4f6e593b363>\u001b[0m in \u001b[0;36m<module>\u001b[1;34m\u001b[0m\n\u001b[1;32m----> 1\u001b[1;33m \u001b[0mtester_sparse\u001b[0m \u001b[1;33m=\u001b[0m \u001b[0msparse\u001b[0m\u001b[1;33m.\u001b[0m\u001b[0mdok_matrix\u001b[0m\u001b[1;33m(\u001b[0m\u001b[0mtester\u001b[0m\u001b[1;33m)\u001b[0m\u001b[1;33m\u001b[0m\u001b[1;33m\u001b[0m\u001b[0m\n\u001b[0m",
      "\u001b[1;32m~\\AppData\\Local\\Continuum\\miniconda3\\envs\\sedgen\\lib\\site-packages\\scipy\\sparse\\dok.py\u001b[0m in \u001b[0;36m__init__\u001b[1;34m(self, arg1, shape, dtype, copy)\u001b[0m\n\u001b[0;32m    103\u001b[0m \u001b[1;33m\u001b[0m\u001b[0m\n\u001b[0;32m    104\u001b[0m             \u001b[1;32mif\u001b[0m \u001b[0mlen\u001b[0m\u001b[1;33m(\u001b[0m\u001b[0marg1\u001b[0m\u001b[1;33m.\u001b[0m\u001b[0mshape\u001b[0m\u001b[1;33m)\u001b[0m \u001b[1;33m!=\u001b[0m \u001b[1;36m2\u001b[0m\u001b[1;33m:\u001b[0m\u001b[1;33m\u001b[0m\u001b[1;33m\u001b[0m\u001b[0m\n\u001b[1;32m--> 105\u001b[1;33m                 \u001b[1;32mraise\u001b[0m \u001b[0mTypeError\u001b[0m\u001b[1;33m(\u001b[0m\u001b[1;34m'Expected rank <=2 dense array or matrix.'\u001b[0m\u001b[1;33m)\u001b[0m\u001b[1;33m\u001b[0m\u001b[1;33m\u001b[0m\u001b[0m\n\u001b[0m\u001b[0;32m    106\u001b[0m \u001b[1;33m\u001b[0m\u001b[0m\n\u001b[0;32m    107\u001b[0m             \u001b[1;32mfrom\u001b[0m \u001b[1;33m.\u001b[0m\u001b[0mcoo\u001b[0m \u001b[1;32mimport\u001b[0m \u001b[0mcoo_matrix\u001b[0m\u001b[1;33m\u001b[0m\u001b[1;33m\u001b[0m\u001b[0m\n",
      "\u001b[1;31mTypeError\u001b[0m: Expected rank <=2 dense array or matrix."
     ]
    }
   ],
   "source": [
    "tester_sparse = sparse.dok_matrix(tester)"
   ]
  },
  {
   "cell_type": "code",
   "execution_count": 100,
   "metadata": {},
   "outputs": [
    {
     "data": {
      "text/plain": [
       "295024"
      ]
     },
     "execution_count": 100,
     "metadata": {},
     "output_type": "execute_result"
    }
   ],
   "source": [
    "getsizeof(tester_sparse)"
   ]
  },
  {
   "cell_type": "code",
   "execution_count": 83,
   "metadata": {},
   "outputs": [
    {
     "data": {
      "text/plain": [
       "dict_values([])"
      ]
     },
     "execution_count": 83,
     "metadata": {},
     "output_type": "execute_result"
    }
   ],
   "source": [
    "tester"
   ]
  },
  {
   "cell_type": "code",
   "execution_count": 80,
   "metadata": {},
   "outputs": [
    {
     "data": {
      "text/plain": [
       "96"
      ]
     },
     "execution_count": 80,
     "metadata": {},
     "output_type": "execute_result"
    }
   ],
   "source": [
    "getsizeof(crystal_counts_binned[0])"
   ]
  },
  {
   "cell_type": "code",
   "execution_count": 81,
   "metadata": {},
   "outputs": [
    {
     "data": {
      "text/plain": [
       "16000"
      ]
     },
     "execution_count": 81,
     "metadata": {},
     "output_type": "execute_result"
    }
   ],
   "source": [
    "crystal_counts_binned[0].nbytes"
   ]
  },
  {
   "cell_type": "code",
   "execution_count": 70,
   "metadata": {},
   "outputs": [
    {
     "data": {
      "text/plain": [
       "array([0., 0., 0., ..., 0., 0., 0.])"
      ]
     },
     "execution_count": 70,
     "metadata": {},
     "output_type": "execute_result"
    }
   ],
   "source": [
    "crystal_counts_binned[0]"
   ]
  },
  {
   "cell_type": "code",
   "execution_count": 71,
   "metadata": {},
   "outputs": [
    {
     "data": {
      "text/plain": [
       "array([9.76562500e-04, 9.83355029e-04, 9.90194804e-04, ...,\n",
       "       1.00990229e+03, 1.01692672e+03, 1.02400000e+03])"
      ]
     },
     "execution_count": 71,
     "metadata": {},
     "output_type": "execute_result"
    }
   ],
   "source": [
    "np.array(bins)"
   ]
  },
  {
   "cell_type": "markdown",
   "metadata": {},
   "source": [
    "**Sparse matrices would become interesting if the non-zero values to be stored are floats and not integers.**  \n",
    "**By using appropriate datatypes, memory usage can be reduced**  "
   ]
  },
  {
   "cell_type": "code",
   "execution_count": 314,
   "metadata": {},
   "outputs": [
    {
     "data": {
      "text/plain": [
       "(190, 380, 380)"
      ]
     },
     "execution_count": 314,
     "metadata": {},
     "output_type": "execute_result"
    }
   ],
   "source": [
    "sparse_array = sparse.coo_matrix(crystal_counts_binned[0])\n",
    "sparse_array.data.nbytes, sparse_array.row.nbytes, sparse_array.col.nbytes"
   ]
  },
  {
   "cell_type": "code",
   "execution_count": 330,
   "metadata": {},
   "outputs": [
    {
     "data": {
      "text/plain": [
       "array([ 1.,  1.,  1.,  1.,  1.,  1.,  1.,  1.,  1.,  1.,  1.,  2.,  1.,\n",
       "        1.,  1.,  1.,  1.,  1.,  1.,  1.,  4.,  1.,  1.,  1.,  1.,  1.,\n",
       "        2.,  1.,  1.,  1.,  3.,  2.,  3.,  2.,  1.,  1.,  1.,  1.,  1.,\n",
       "        1.,  2.,  1.,  1.,  2.,  1.,  2.,  2.,  1.,  3.,  1.,  5.,  2.,\n",
       "        3.,  2.,  2.,  3.,  1.,  3.,  3.,  2.,  1.,  2.,  4.,  4.,  2.,\n",
       "        2.,  1.,  1.,  1.,  3.,  3.,  3.,  4.,  2.,  3.,  3.,  3.,  1.,\n",
       "        1.,  2.,  3.,  2.,  1.,  1.,  2.,  2.,  3.,  2.,  6.,  3.,  1.,\n",
       "        5.,  5.,  3.,  2.,  4.,  3.,  2.,  2., 10.,  4.,  2.,  3.,  4.,\n",
       "        5.,  2.,  3.,  3.,  5.,  2.,  7.,  7.,  3., 12.,  7.,  5.,  3.,\n",
       "        6.,  4.,  5.,  3.,  3.,  1.,  3.,  3.,  1.,  2.,  4.,  3.,  4.,\n",
       "        6.,  5.,  3.,  6.,  2.,  5.,  7.,  3.,  4.,  7.,  2.,  3.,  6.,\n",
       "        5.,  9.,  5.,  3.,  6.,  5.,  4.,  4.,  5.,  5.,  2., 11.,  3.,\n",
       "        8.,  4.,  7.,  6.,  7.,  7.,  3., 10.,  9.,  5.,  5.,  9.,  7.,\n",
       "        8.,  9.,  7.,  9.,  6.,  9.,  7.,  6.,  2.,  6.,  5.,  7.,  8.,\n",
       "        9.,  9.,  3.,  4.,  8.,  6.,  9.,  7.,  6.,  5.,  5.,  7.,  7.,\n",
       "        9.,  4.,  9.,  8.,  6.,  7., 14.,  7., 11., 12.,  4.,  9., 10.,\n",
       "        4., 11.,  9.,  7., 10., 11.,  8.,  9.,  8., 13., 11., 16., 11.,\n",
       "       15., 12., 12.,  8.,  9., 10., 14., 10., 12., 15., 18., 10.,  8.,\n",
       "       12.,  9., 11., 11., 13., 11., 18., 10., 12., 18., 11., 10.,  8.,\n",
       "       11., 17., 15.,  2., 13., 16., 10.,  9., 13.,  8., 16., 10., 10.,\n",
       "       16., 12., 12., 12., 12., 11., 12., 14., 10., 15., 17., 13., 11.,\n",
       "       13., 16.,  5., 15., 16., 12., 16., 10., 19., 14., 13., 16., 11.,\n",
       "       10.,  8., 17., 24., 17., 15., 13., 17., 18., 18.,  4., 17.,  9.,\n",
       "       19., 14., 14.,  8., 13., 12., 14., 21., 14., 16., 19., 31., 13.,\n",
       "       13., 19.,  9., 16., 11., 13., 14., 21., 16., 14., 19., 14., 10.,\n",
       "       11., 16., 16., 21., 13., 17., 18., 16., 14., 15., 22., 19., 18.,\n",
       "       18., 20., 17., 14., 14., 18., 19., 19., 12., 20., 10., 20., 15.,\n",
       "       24., 15., 18., 17., 21., 17., 14., 17., 15.,  9., 15., 11., 13.,\n",
       "       23., 24., 18., 13., 26., 19., 14., 15., 19., 14., 18., 13., 12.,\n",
       "       17.,  9., 26., 11., 13., 11., 17., 13., 18., 12., 15., 15., 18.,\n",
       "       17., 15., 24., 20., 13., 14., 17., 19., 11., 14., 14., 18., 14.,\n",
       "       13., 22., 22., 17., 23., 14., 14., 16., 18., 18., 19., 16., 12.,\n",
       "        7., 20., 19.,  9.,  8., 19., 13., 17., 22.,  8., 23., 12., 18.,\n",
       "       11., 17., 14., 16., 17., 18., 15., 17., 10., 11., 14.,  8., 18.,\n",
       "       12., 19., 14., 16., 14.,  8., 12., 13., 24., 14., 13., 10., 12.,\n",
       "       12., 15., 14., 25., 20., 15., 12., 11., 20., 15., 15., 12.,  8.,\n",
       "       12., 12., 17., 13., 18., 10., 13.,  8.,  7., 16.,  6., 12., 16.,\n",
       "       10., 17., 15., 10.,  7., 12.,  9., 16., 17., 13.,  7.,  4., 11.,\n",
       "        9., 10., 15., 13.,  9., 19.,  5.,  4.,  7., 11., 12.,  9., 10.,\n",
       "        8.,  9., 15.,  8.,  5.,  9., 14., 12., 10., 10., 12.,  6., 11.,\n",
       "        9., 10.,  8., 12.,  4., 10.,  7.,  7., 14.,  8.,  6., 11., 11.,\n",
       "        8.,  7.,  9., 17.,  4.,  9.,  7., 10., 10.,  9.,  3.,  6.,  5.,\n",
       "        6.,  9.,  8.,  7.,  5.,  8., 10.,  9.,  6.,  5.,  6.,  2.,  9.,\n",
       "        8., 11., 12.,  5.,  8., 13.,  5.,  3.,  5.,  4.,  6.,  5.,  5.,\n",
       "        5.,  5., 10.,  5.,  9.,  8.,  5.,  6.,  3.,  7.,  2.,  6.,  6.,\n",
       "        5.,  6.,  5.,  8.,  6.,  5.,  4.,  6.,  1.,  7.,  5.,  4.,  5.,\n",
       "        7.,  1.,  2.,  4.,  3.,  4.,  2.,  4.,  3.,  6.,  6.,  3.,  6.,\n",
       "        8.,  3.,  2.,  2.,  6.,  4.,  4.,  2.,  4.,  5.,  3.,  3.,  4.,\n",
       "        4.,  3.,  5.,  3.,  5.,  2.,  1.,  4.,  1.,  2.,  6.,  3.,  1.,\n",
       "        1.,  4.,  4.,  1.,  3.,  2.,  3.,  4.,  2.,  2.,  5.,  6.,  5.,\n",
       "        4.,  3.,  2.,  2.,  3.,  3.,  1.,  2.,  3.,  2.,  4.,  2.,  3.,\n",
       "        2.,  5.,  3.,  5.,  3.,  1.,  1.,  1.,  3.,  2.,  1.,  2.,  1.,\n",
       "        2.,  2.,  1.,  2.,  1.,  1.,  2.,  1.,  1.,  1.,  1.,  1.,  3.,\n",
       "        3.,  1.,  2.,  1.,  1.,  2.,  1.,  1.,  1.,  2.,  1.,  1.,  1.,\n",
       "        1.,  2.,  1.,  1.,  1.,  1.,  1.,  1.,  1.,  1.,  1.,  2.,  1.,\n",
       "        1.,  2.,  1.,  1.,  1.,  1.,  1.,  1.,  1.,  1.])"
      ]
     },
     "execution_count": 330,
     "metadata": {},
     "output_type": "execute_result"
    },
    {
     "data": {
      "text/plain": [
       "dtype('float64')"
      ]
     },
     "execution_count": 330,
     "metadata": {},
     "output_type": "execute_result"
    },
    {
     "data": {
      "text/plain": [
       "array([  0, 725], dtype=int32)"
      ]
     },
     "execution_count": 330,
     "metadata": {},
     "output_type": "execute_result"
    },
    {
     "data": {
      "text/plain": [
       "array([ 440,  480,  485,  504,  527,  529,  533,  545,  564,  568,  569,\n",
       "        575,  602,  613,  614,  615,  616,  621,  623,  624,  625,  627,\n",
       "        628,  629,  630,  631,  634,  643,  645,  647,  650,  653,  654,\n",
       "        656,  657,  658,  660,  663,  666,  667,  671,  673,  674,  675,\n",
       "        676,  678,  679,  680,  681,  682,  683,  684,  685,  687,  689,\n",
       "        690,  692,  693,  694,  695,  696,  697,  699,  700,  701,  702,\n",
       "        703,  704,  705,  706,  707,  708,  710,  711,  712,  713,  714,\n",
       "        715,  716,  717,  718,  719,  720,  721,  722,  723,  724,  725,\n",
       "        726,  727,  728,  729,  730,  731,  732,  733,  734,  735,  736,\n",
       "        737,  738,  739,  740,  741,  742,  743,  744,  745,  746,  747,\n",
       "        748,  749,  750,  751,  752,  753,  754,  755,  756,  757,  758,\n",
       "        759,  760,  761,  762,  763,  764,  765,  766,  767,  768,  769,\n",
       "        770,  771,  772,  773,  774,  775,  776,  777,  778,  779,  780,\n",
       "        781,  782,  783,  784,  785,  786,  787,  788,  789,  790,  791,\n",
       "        792,  793,  794,  795,  796,  797,  798,  799,  800,  801,  802,\n",
       "        803,  804,  805,  806,  807,  808,  809,  810,  811,  812,  813,\n",
       "        814,  815,  816,  817,  818,  819,  820,  821,  822,  823,  824,\n",
       "        825,  826,  827,  828,  829,  830,  831,  832,  833,  834,  835,\n",
       "        836,  837,  838,  839,  840,  841,  842,  843,  844,  845,  846,\n",
       "        847,  848,  849,  850,  851,  852,  853,  854,  855,  856,  857,\n",
       "        858,  859,  860,  861,  862,  863,  864,  865,  866,  867,  868,\n",
       "        869,  870,  871,  872,  873,  874,  875,  876,  877,  878,  879,\n",
       "        880,  881,  882,  883,  884,  885,  886,  887,  888,  889,  890,\n",
       "        891,  892,  893,  894,  895,  896,  897,  898,  899,  900,  901,\n",
       "        902,  903,  904,  905,  906,  907,  908,  909,  910,  911,  912,\n",
       "        913,  914,  915,  916,  917,  918,  919,  920,  921,  922,  923,\n",
       "        924,  925,  926,  927,  928,  929,  930,  931,  932,  933,  934,\n",
       "        935,  936,  937,  938,  939,  940,  941,  942,  943,  944,  945,\n",
       "        946,  947,  948,  949,  950,  951,  952,  953,  954,  955,  956,\n",
       "        957,  958,  959,  960,  961,  962,  963,  964,  965,  966,  967,\n",
       "        968,  969,  970,  971,  972,  973,  974,  975,  976,  977,  978,\n",
       "        979,  980,  981,  982,  983,  984,  985,  986,  987,  988,  989,\n",
       "        990,  991,  992,  993,  994,  995,  996,  997,  998,  999, 1000,\n",
       "       1001, 1002, 1003, 1004, 1005, 1006, 1007, 1008, 1009, 1010, 1011,\n",
       "       1012, 1013, 1014, 1015, 1016, 1017, 1018, 1019, 1020, 1021, 1022,\n",
       "       1023, 1024, 1025, 1026, 1027, 1028, 1029, 1030, 1031, 1032, 1033,\n",
       "       1034, 1035, 1036, 1037, 1038, 1039, 1040, 1041, 1042, 1043, 1044,\n",
       "       1045, 1046, 1047, 1048, 1049, 1050, 1051, 1052, 1053, 1054, 1055,\n",
       "       1056, 1057, 1058, 1059, 1060, 1061, 1062, 1063, 1064, 1065, 1066,\n",
       "       1067, 1068, 1069, 1070, 1071, 1072, 1073, 1074, 1075, 1076, 1077,\n",
       "       1078, 1079, 1080, 1081, 1082, 1083, 1084, 1085, 1086, 1087, 1088,\n",
       "       1089, 1090, 1091, 1092, 1093, 1094, 1095, 1096, 1097, 1098, 1099,\n",
       "       1100, 1101, 1102, 1103, 1104, 1105, 1106, 1107, 1108, 1109, 1110,\n",
       "       1111, 1112, 1113, 1114, 1115, 1116, 1117, 1118, 1119, 1120, 1121,\n",
       "       1122, 1123, 1124, 1125, 1126, 1127, 1128, 1129, 1130, 1131, 1132,\n",
       "       1133, 1134, 1135, 1136, 1137, 1138, 1139, 1140, 1141, 1142, 1143,\n",
       "       1144, 1145, 1146, 1147, 1148, 1149, 1150, 1151, 1152, 1153, 1154,\n",
       "       1155, 1156, 1157, 1158, 1159, 1160, 1161, 1162, 1163, 1164, 1165,\n",
       "       1166, 1167, 1168, 1169, 1170, 1171, 1172, 1173, 1174, 1175, 1176,\n",
       "       1177, 1178, 1179, 1180, 1181, 1182, 1183, 1184, 1185, 1186, 1187,\n",
       "       1188, 1189, 1190, 1191, 1192, 1193, 1194, 1195, 1196, 1197, 1198,\n",
       "       1199, 1200, 1201, 1202, 1203, 1204, 1205, 1206, 1207, 1208, 1209,\n",
       "       1210, 1211, 1212, 1213, 1214, 1215, 1216, 1217, 1218, 1219, 1220,\n",
       "       1221, 1222, 1223, 1224, 1225, 1226, 1227, 1228, 1229, 1230, 1231,\n",
       "       1232, 1233, 1234, 1235, 1236, 1237, 1238, 1239, 1240, 1241, 1242,\n",
       "       1243, 1244, 1245, 1246, 1247, 1248, 1249, 1250, 1251, 1252, 1253,\n",
       "       1254, 1255, 1256, 1257, 1258, 1259, 1260, 1261, 1262, 1264, 1265,\n",
       "       1266, 1267, 1268, 1269, 1270, 1271, 1272, 1273, 1275, 1276, 1277,\n",
       "       1278, 1279, 1280, 1281, 1282, 1283, 1285, 1286, 1287, 1288, 1289,\n",
       "       1290, 1291, 1292, 1293, 1294, 1295, 1296, 1297, 1298, 1299, 1300,\n",
       "       1301, 1302, 1303, 1304, 1305, 1306, 1307, 1308, 1309, 1310, 1311,\n",
       "       1313, 1315, 1316, 1317, 1318, 1319, 1321, 1322, 1323, 1324, 1326,\n",
       "       1327, 1330, 1331, 1332, 1335, 1337, 1340, 1341, 1342, 1344, 1346,\n",
       "       1348, 1352, 1353, 1354, 1356, 1357, 1362, 1364, 1367, 1368, 1369,\n",
       "       1371, 1372, 1375, 1376, 1380, 1381, 1382, 1386, 1389, 1391, 1392,\n",
       "       1398, 1407, 1408, 1411, 1418, 1420, 1432, 1448, 1450, 1464],\n",
       "      dtype=int32)"
      ]
     },
     "execution_count": 330,
     "metadata": {},
     "output_type": "execute_result"
    },
    {
     "data": {
      "text/plain": [
       "(5800, 8, 2900)"
      ]
     },
     "execution_count": 330,
     "metadata": {},
     "output_type": "execute_result"
    },
    {
     "data": {
      "text/plain": [
       "8708"
      ]
     },
     "execution_count": 330,
     "metadata": {},
     "output_type": "execute_result"
    }
   ],
   "source": [
    "sparse_array = sparse.csr_matrix(crystal_counts_binned[0])\n",
    "sparse_array.data\n",
    "sparse_array.dtype\n",
    "sparse_array.indptr\n",
    "sparse_array.indices\n",
    "sparse_array.data.nbytes, sparse_array.indptr.nbytes, sparse_array.indices.nbytes\n",
    "sparse_array.data.nbytes + sparse_array.indptr.nbytes + sparse_array.indices.nbytes"
   ]
  },
  {
   "cell_type": "code",
   "execution_count": null,
   "metadata": {},
   "outputs": [],
   "source": [
    "sparse.random()"
   ]
  },
  {
   "cell_type": "code",
   "execution_count": 209,
   "metadata": {},
   "outputs": [],
   "source": [
    "# %%timeit\n",
    "testA1, testA2, labelsA1, labelsA2 = train_test_split(test, labels, train_size=split_size(test.size))"
   ]
  },
  {
   "cell_type": "code",
   "execution_count": 183,
   "metadata": {},
   "outputs": [],
   "source": [
    "testB1, testB2 = train_test_split(test, \n",
    "                                train_size=split_size(test.size))"
   ]
  },
  {
   "cell_type": "code",
   "execution_count": 249,
   "metadata": {},
   "outputs": [
    {
     "data": {
      "text/plain": [
       "20000"
      ]
     },
     "execution_count": 249,
     "metadata": {},
     "output_type": "execute_result"
    },
    {
     "data": {
      "text/plain": [
       "10000"
      ]
     },
     "execution_count": 249,
     "metadata": {},
     "output_type": "execute_result"
    }
   ],
   "source": [
    "test.nbytes\n",
    "labels.nbytes"
   ]
  },
  {
   "cell_type": "code",
   "execution_count": 226,
   "metadata": {},
   "outputs": [
    {
     "data": {
      "text/plain": [
       "0.12107193470001221"
      ]
     },
     "execution_count": 226,
     "metadata": {},
     "output_type": "execute_result"
    }
   ],
   "source": [
    "1.3e8 / (1024*1024*1024)"
   ]
  },
  {
   "cell_type": "code",
   "execution_count": 210,
   "metadata": {},
   "outputs": [
    {
     "data": {
      "text/plain": [
       "array([1270,  555, 6171, ..., 6679, 3488, 4346])"
      ]
     },
     "execution_count": 210,
     "metadata": {},
     "output_type": "execute_result"
    },
    {
     "data": {
      "text/plain": [
       "array([0, 0, 1, ..., 1, 0, 0])"
      ]
     },
     "execution_count": 210,
     "metadata": {},
     "output_type": "execute_result"
    },
    {
     "data": {
      "text/plain": [
       "array([ 787, 3362, 8373, ..., 6974, 7276, 8735])"
      ]
     },
     "execution_count": 210,
     "metadata": {},
     "output_type": "execute_result"
    },
    {
     "data": {
      "text/plain": [
       "array([0, 0, 1, ..., 1, 1, 1])"
      ]
     },
     "execution_count": 210,
     "metadata": {},
     "output_type": "execute_result"
    }
   ],
   "source": [
    "testA1\n",
    "labelsA1\n",
    "testA2\n",
    "labelsA2"
   ]
  },
  {
   "cell_type": "code",
   "execution_count": 160,
   "metadata": {},
   "outputs": [
    {
     "data": {
      "text/plain": [
       "[array([4]), array([7])]"
      ]
     },
     "execution_count": 160,
     "metadata": {},
     "output_type": "execute_result"
    },
    {
     "data": {
      "text/plain": [
       "[array([6, 3, 1]), array([9, 0, 5, 2, 8])]"
      ]
     },
     "execution_count": 160,
     "metadata": {},
     "output_type": "execute_result"
    }
   ],
   "source": [
    "train_test_split(test1, train_size=split_size(test1.size))\n",
    "train_test_split(test2, train_size=split_size(test2.size))"
   ]
  },
  {
   "cell_type": "code",
   "execution_count": 91,
   "metadata": {},
   "outputs": [
    {
     "ename": "AttributeError",
     "evalue": "'numpy.ndarray' object has no attribute 'szie'",
     "output_type": "error",
     "traceback": [
      "\u001b[1;31m---------------------------------------------------------------------------\u001b[0m",
      "\u001b[1;31mAttributeError\u001b[0m                            Traceback (most recent call last)",
      "\u001b[1;32m<ipython-input-91-30c8c8b09d8a>\u001b[0m in \u001b[0;36m<module>\u001b[1;34m\u001b[0m\n\u001b[1;32m----> 1\u001b[1;33m \u001b[0mnp\u001b[0m\u001b[1;33m.\u001b[0m\u001b[0masarray\u001b[0m\u001b[1;33m(\u001b[0m\u001b[0mcrystal_sizes\u001b[0m\u001b[1;33m)\u001b[0m\u001b[1;33m.\u001b[0m\u001b[0mszie\u001b[0m\u001b[1;33m\u001b[0m\u001b[1;33m\u001b[0m\u001b[0m\n\u001b[0m",
      "\u001b[1;31mAttributeError\u001b[0m: 'numpy.ndarray' object has no attribute 'szie'"
     ]
    }
   ],
   "source": [
    "crystal_sizes"
   ]
  },
  {
   "cell_type": "code",
   "execution_count": 84,
   "metadata": {},
   "outputs": [
    {
     "data": {
      "text/plain": [
       "(6005,)"
      ]
     },
     "execution_count": 84,
     "metadata": {},
     "output_type": "execute_result"
    }
   ],
   "source": [
    "crystal_sizes[0].shape"
   ]
  },
  {
   "cell_type": "code",
   "execution_count": 85,
   "metadata": {},
   "outputs": [
    {
     "data": {
      "text/plain": [
       "((711,), (5294,))"
      ]
     },
     "execution_count": 85,
     "metadata": {},
     "output_type": "execute_result"
    }
   ],
   "source": [
    "x1.shape, x2.shape"
   ]
  },
  {
   "cell_type": "code",
   "execution_count": 36,
   "metadata": {},
   "outputs": [
    {
     "data": {
      "text/plain": [
       "array([1.6022921 , 0.30392458, 4.19002612, ..., 0.34813099, 0.38173981,\n",
       "       3.76740571])"
      ]
     },
     "execution_count": 36,
     "metadata": {},
     "output_type": "execute_result"
    }
   ],
   "source": [
    "crystal_sizes[0]"
   ]
  },
  {
   "cell_type": "code",
   "execution_count": 26,
   "metadata": {},
   "outputs": [
    {
     "data": {
      "text/plain": [
       "101.41096278205382"
      ]
     },
     "execution_count": 26,
     "metadata": {},
     "output_type": "execute_result"
    }
   ],
   "source": [
    "calculate_equivalent_circular_diameter(crystal_sizes_volume_total)"
   ]
  },
  {
   "cell_type": "code",
   "execution_count": 34,
   "metadata": {},
   "outputs": [
    {
     "data": {
      "text/plain": [
       "array([[  0.,   0.,   0.,   0.,   0.,   0.,   0.,   0.,   0.,   0.,   0.,\n",
       "          0.,   0.,   0.,   0.,   0.,   0.,   1.,   0.,   2.,   1.,   4.,\n",
       "          3.,   2.,   8.,  14.,  20.,  45.,  53.,  95., 106., 131., 170.,\n",
       "        193., 282., 300., 325., 385., 387., 416., 399., 417., 385., 355.,\n",
       "        312., 255., 242., 184., 147., 115.,  78.,  69.,  49.,  19.,  15.,\n",
       "         11.,   6.,   2.,   2.,   0.,   0.,   0.,   0.,   0.,   0.,   0.,\n",
       "          0.,   0.,   0.,   0.,   0.,   0.,   0.,   0.,   0.,   0.,   0.,\n",
       "          0.,   0.,   0.],\n",
       "       [  0.,   0.,   0.,   0.,   0.,   0.,   0.,   0.,   0.,   0.,   0.,\n",
       "          0.,   0.,   0.,   0.,   0.,   0.,   1.,   0.,   2.,   1.,   4.,\n",
       "          3.,   4.,  11.,  15.,  23.,  47.,  56., 106., 119., 156., 191.,\n",
       "        222., 324., 351., 395., 440., 461., 485., 458., 492., 443., 404.,\n",
       "        357., 293., 278., 212., 164., 134.,  89.,  82.,  56.,  23.,  16.,\n",
       "         13.,   8.,   2.,   2.,   0.,   0.,   0.,   0.,   0.,   0.,   0.,\n",
       "          0.,   0.,   0.,   0.,   0.,   0.,   0.,   0.,   0.,   0.,   0.,\n",
       "          0.,   0.,   0.],\n",
       "       [  0.,   0.,   0.,   0.,   0.,   0.,   0.,   0.,   0.,   0.,   0.,\n",
       "          0.,   0.,   0.,   0.,   0.,   0.,   1.,   0.,   1.,   0.,   1.,\n",
       "          0.,   1.,   3.,   9.,   8.,  29.,  25.,  45.,  40.,  61.,  76.,\n",
       "        108., 146., 154., 174., 192., 201., 224., 207., 229., 195., 179.,\n",
       "        157., 130., 118.,  85.,  66.,  58.,  43.,  40.,  28.,  10.,  11.,\n",
       "          8.,   1.,   1.,   2.,   0.,   0.,   0.,   0.,   0.,   0.,   0.,\n",
       "          0.,   0.,   0.,   0.,   0.,   0.,   0.,   0.,   0.,   0.,   0.,\n",
       "          0.,   0.,   0.],\n",
       "       [  0.,   0.,   0.,   0.,   0.,   0.,   0.,   0.,   0.,   0.,   0.,\n",
       "          0.,   0.,   0.,   0.,   0.,   0.,   1.,   0.,   1.,   0.,   0.,\n",
       "          0.,   0.,   2.,   5.,   6.,  19.,  13.,  32.,  27.,  38.,  47.,\n",
       "         64.,  85., 105., 119., 121., 132., 137., 138., 145., 124., 107.,\n",
       "         98.,  85.,  70.,  43.,  46.,  39.,  23.,  25.,  19.,   8.,   9.,\n",
       "          5.,   0.,   1.,   1.,   0.,   0.,   0.,   0.,   0.,   0.,   0.,\n",
       "          0.,   0.,   0.,   0.,   0.,   0.,   0.,   0.,   0.,   0.,   0.,\n",
       "          0.,   0.,   0.],\n",
       "       [  0.,   0.,   0.,   0.,   0.,   0.,   0.,   0.,   0.,   0.,   0.,\n",
       "          0.,   0.,   0.,   0.,   0.,   0.,   0.,   0.,   1.,   0.,   0.,\n",
       "          0.,   0.,   0.,   0.,   2.,   4.,   3.,   5.,   4.,  11.,   9.,\n",
       "         10.,  13.,  15.,  21.,  23.,  27.,  25.,  30.,  34.,  25.,  23.,\n",
       "         24.,  19.,  15.,  11.,   9.,   1.,   6.,   6.,   3.,   2.,   1.,\n",
       "          2.,   0.,   0.,   0.,   0.,   0.,   0.,   0.,   0.,   0.,   0.,\n",
       "          0.,   0.,   0.,   0.,   0.,   0.,   0.,   0.,   0.,   0.,   0.,\n",
       "          0.,   0.,   0.],\n",
       "       [  0.,   0.,   0.,   0.,   0.,   0.,   0.,   0.,   0.,   0.,   0.,\n",
       "          0.,   0.,   0.,   0.,   0.,   0.,   0.,   0.,   1.,   0.,   0.,\n",
       "          0.,   0.,   1.,   5.,   5.,  17.,  11.,  30.,  23.,  33.,  40.,\n",
       "         53.,  70.,  88., 105., 109., 112., 118., 118., 125., 102.,  93.,\n",
       "         81.,  71.,  61.,  35.,  40.,  36.,  18.,  23.,  15.,   8.,   7.,\n",
       "          5.,   0.,   1.,   1.,   0.,   0.,   0.,   0.,   0.,   0.,   0.,\n",
       "          0.,   0.,   0.,   0.,   0.,   0.,   0.,   0.,   0.,   0.,   0.,\n",
       "          0.,   0.,   0.]])"
      ]
     },
     "execution_count": 34,
     "metadata": {},
     "output_type": "execute_result"
    }
   ],
   "source": [
    "crystal_counts_binned"
   ]
  },
  {
   "cell_type": "code",
   "execution_count": null,
   "metadata": {},
   "outputs": [],
   "source": []
  },
  {
   "cell_type": "markdown",
   "metadata": {},
   "source": [
    "___"
   ]
  },
  {
   "cell_type": "markdown",
   "metadata": {},
   "source": [
    "## Lognormal distribution tests"
   ]
  },
  {
   "cell_type": "code",
   "execution_count": 11,
   "metadata": {},
   "outputs": [],
   "source": [
    "from scipy.stats import gmean"
   ]
  },
  {
   "cell_type": "code",
   "execution_count": 16,
   "metadata": {},
   "outputs": [
    {
     "data": {
      "text/plain": [
       "4.9018317882522195"
      ]
     },
     "execution_count": 16,
     "metadata": {},
     "output_type": "execute_result"
    }
   ],
   "source": [
    "gmean(np.random.normal(5, 1, 10000))"
   ]
  },
  {
   "cell_type": "code",
   "execution_count": 19,
   "metadata": {},
   "outputs": [
    {
     "data": {
      "text/plain": [
       "4.903473709354666"
      ]
     },
     "execution_count": 19,
     "metadata": {},
     "output_type": "execute_result"
    }
   ],
   "source": [
    "np.exp(np.mean(np.log(np.random.normal(5, 1, 10000))))"
   ]
  },
  {
   "cell_type": "code",
   "execution_count": null,
   "metadata": {},
   "outputs": [],
   "source": [
    "np.mean(np.random.normal(5, 1, 10000))"
   ]
  },
  {
   "cell_type": "code",
   "execution_count": 14,
   "metadata": {},
   "outputs": [
    {
     "data": {
      "text/plain": [
       "1.676016677534841"
      ]
     },
     "execution_count": 14,
     "metadata": {},
     "output_type": "execute_result"
    }
   ],
   "source": [
    "np.mean(np.random.lognormal(0, 1, 10000))"
   ]
  },
  {
   "cell_type": "code",
   "execution_count": 134,
   "metadata": {},
   "outputs": [],
   "source": [
    "tester1 = lognorm(1, 0, 16)\n",
    "tester2 = lognorm(1, 0, 1)"
   ]
  },
  {
   "cell_type": "code",
   "execution_count": 135,
   "metadata": {},
   "outputs": [
    {
     "data": {
      "image/png": "[encoded data removed]",
      "text/plain": [
       "<Figure size 432x288 with 1 Axes>"
      ]
     },
     "metadata": {
      "needs_background": "light"
     },
     "output_type": "display_data"
    }
   ],
   "source": [
    "plt.plot(x, tester1.pdf(x), label=\"tester1\")\n",
    "plt.plot(x, tester2.pdf(x), label=\"tester2\")\n",
    "plt.legend()\n",
    "plt.show();"
   ]
  },
  {
   "cell_type": "code",
   "execution_count": 129,
   "metadata": {},
   "outputs": [
    {
     "data": {
      "image/png": "[encoded data removed]",
      "text/plain": [
       "<Figure size 432x288 with 1 Axes>"
      ]
     },
     "metadata": {
      "needs_background": "light"
     },
     "output_type": "display_data"
    }
   ],
   "source": [
    "plt.plot(np.log(x), tester1.pdf(np.log(x)), label=\"tester1\")\n",
    "plt.plot(np.log(x), tester2.pdf(np.log(x)), label=\"tester2\")\n",
    "plt.legend()\n",
    "plt.show();"
   ]
  },
  {
   "cell_type": "code",
   "execution_count": 80,
   "metadata": {},
   "outputs": [],
   "source": [
    "mu = 0\n",
    "sigma = 1\n",
    "\n",
    "norm_test = norm(loc=3.54, scale=1.5)\n",
    "# s = shape = sigma = std of underlying normal distribution\n",
    "# loc = Z0 in Y = s * (Z - Z0) ** scale --> set loc=0 for standard lognormal behaviour\n",
    "# scale = exp(mu) where mu = mean of underlying normal distribution = median of lognormal distribution\n",
    "lognorm_test = lognorm(s=sigma, loc=0, scale=np.exp(mu))\n",
    "# np.exp(mu) = geometric mean of underlying normal distribution N~(0, 1) or median of lognormal distribution"
   ]
  },
  {
   "cell_type": "markdown",
   "metadata": {},
   "source": [
    "$$Y = s * (Z - loc)^{scale}$$\n",
    "$$Y = \\sigma * (Z - Z_0)^{\\exp{\\mu}}$$"
   ]
  },
  {
   "cell_type": "code",
   "execution_count": 87,
   "metadata": {},
   "outputs": [],
   "source": [
    "x = np.linspace(-4, 4, 1000)"
   ]
  },
  {
   "cell_type": "code",
   "execution_count": 88,
   "metadata": {},
   "outputs": [],
   "source": [
    "norm_sample = np.random.normal(0, 1, 10000)"
   ]
  },
  {
   "cell_type": "code",
   "execution_count": 89,
   "metadata": {},
   "outputs": [],
   "source": [
    "lognorm_sample = np.random.lognormal(0, 1, 10000)"
   ]
  },
  {
   "cell_type": "code",
   "execution_count": 8,
   "metadata": {},
   "outputs": [],
   "source": [
    "def ecdf(data):\n",
    "    \"\"\"Compute ECDF for a one-dimensional array of measurements.\n",
    "\n",
    "    Parameters:\n",
    "    -----------\n",
    "    n : int\n",
    "        Number of data points\n",
    "    x : list/array\n",
    "        x-data for the ECDF\n",
    "    y : list/array\n",
    "        y-data for the ECDF\n",
    "\n",
    "    Returns:\n",
    "    --------\n",
    "    x : list/array\n",
    "        Data\n",
    "    y : list/array\n",
    "        cdf\n",
    "    \"\"\"\n",
    "\n",
    "    n = len(data)\n",
    "    x = np.sort(data)\n",
    "    y = np.arange(1, n+1) / float(n)\n",
    "\n",
    "    return x, y"
   ]
  },
  {
   "cell_type": "code",
   "execution_count": 85,
   "metadata": {},
   "outputs": [],
   "source": [
    "lognorm_sample_cdf = ecdf(np.log(lognorm_sample))"
   ]
  },
  {
   "cell_type": "code",
   "execution_count": 90,
   "metadata": {},
   "outputs": [
    {
     "data": {
      "image/png": "[encoded data removed]",
      "text/plain": [
       "<Figure size 432x288 with 1 Axes>"
      ]
     },
     "metadata": {
      "needs_background": "light"
     },
     "output_type": "display_data"
    }
   ],
   "source": [
    "plt.plot(x, lognorm_test.cdf(np.exp(x)), c='k', lw=5, label=\"scipy distribution\")\n",
    "plt.plot(lognorm_sample_cdf[0], lognorm_sample_cdf[1], color='orangered', lw=1, label=\"numpy sample\")\n",
    "# plt.plot(x, norm_test.pdf(x), c=\"orangered\")\n",
    "plt.legend(fontsize='small')\n",
    "plt.show();"
   ]
  },
  {
   "cell_type": "code",
   "execution_count": 14,
   "metadata": {},
   "outputs": [
    {
     "data": {
      "text/plain": [
       "1.0"
      ]
     },
     "execution_count": 14,
     "metadata": {},
     "output_type": "execute_result"
    }
   ],
   "source": [
    "np.exp(mu)"
   ]
  },
  {
   "cell_type": "code",
   "execution_count": 13,
   "metadata": {},
   "outputs": [
    {
     "data": {
      "text/plain": [
       "(array(1.64872127), array(4.67077427))"
      ]
     },
     "execution_count": 13,
     "metadata": {},
     "output_type": "execute_result"
    }
   ],
   "source": [
    "lognorm_test.stats()"
   ]
  },
  {
   "cell_type": "code",
   "execution_count": 465,
   "metadata": {},
   "outputs": [
    {
     "data": {
      "text/plain": [
       "1.6487212707001282"
      ]
     },
     "execution_count": 465,
     "metadata": {},
     "output_type": "execute_result"
    }
   ],
   "source": [
    "# Formula for mean of lognormal distribution based on underlying normal distribution's mean and std\n",
    "np.exp(mu + (sigma**2)/2)"
   ]
  },
  {
   "cell_type": "code",
   "execution_count": 463,
   "metadata": {},
   "outputs": [
    {
     "data": {
      "text/plain": [
       "4.670774270471604"
      ]
     },
     "execution_count": 463,
     "metadata": {},
     "output_type": "execute_result"
    }
   ],
   "source": [
    "# Formula for variance of lognormal distribution based on underlying normal distribution's mean and std\n",
    "(np.exp(sigma**2) - 1) * np.exp(2*mu+sigma**2)"
   ]
  },
  {
   "cell_type": "code",
   "execution_count": 17,
   "metadata": {},
   "outputs": [
    {
     "data": {
      "text/plain": [
       "2.1610182784974308"
      ]
     },
     "execution_count": 17,
     "metadata": {},
     "output_type": "execute_result"
    }
   ],
   "source": [
    "np.sqrt(4.67)"
   ]
  },
  {
   "cell_type": "code",
   "execution_count": 480,
   "metadata": {},
   "outputs": [
    {
     "data": {
      "text/plain": [
       "3.5632121497683826"
      ]
     },
     "execution_count": 480,
     "metadata": {},
     "output_type": "execute_result"
    }
   ],
   "source": [
    "lognorm_test.stats()[0] * np.sqrt(lognorm_test.stats()[1])"
   ]
  },
  {
   "cell_type": "code",
   "execution_count": 249,
   "metadata": {},
   "outputs": [],
   "source": [
    "def prepare_lognorm(mean, var):\n",
    "    # Formula from https://en.wikipedia.org/wiki/Log-normal_distribution\n",
    "    sigma = np.sqrt(np.log(1 + (float(var) / mean ** 2)))\n",
    "    mu = np.log(mean / np.sqrt(1 + (float(var) / mean ** 2)))\n",
    "    # Compute the scale for scipy\n",
    "    # For more details, check: https://docs.scipy.org/doc/scipy/reference/generated/scipy.stats.lognorm.html\n",
    "    return lognorm(sigma, scale=np.exp(mu))\n",
    " \n",
    "\n",
    "MEAN = 0.0001\n",
    "VAR = 1 ** 2\n",
    "cmp_mean, cmp_var = prepare_lognorm(MEAN, VAR).stats(moments='mv')\n",
    "np.testing.assert_array_almost_equal([cmp_mean, cmp_var], [MEAN, VAR])"
   ]
  },
  {
   "cell_type": "code",
   "execution_count": 331,
   "metadata": {},
   "outputs": [
    {
     "data": {
      "text/plain": [
       "<matplotlib.axes._subplots.AxesSubplot at 0x1c279c60a08>"
      ]
     },
     "execution_count": 331,
     "metadata": {},
     "output_type": "execute_result"
    },
    {
     "data": {
      "text/plain": [
       "[<matplotlib.lines.Line2D at 0x1c279c6d888>]"
      ]
     },
     "execution_count": 331,
     "metadata": {},
     "output_type": "execute_result"
    },
    {
     "data": {
      "text/plain": [
       "[<matplotlib.lines.Line2D at 0x1c279c94988>]"
      ]
     },
     "execution_count": 331,
     "metadata": {},
     "output_type": "execute_result"
    },
    {
     "data": {
      "text/plain": [
       "<matplotlib.legend.Legend at 0x1c279ce7908>"
      ]
     },
     "execution_count": 331,
     "metadata": {},
     "output_type": "execute_result"
    },
    {
     "data": {
      "image/png": "[encoded data removed]",
      "text/plain": [
       "<Figure size 720x360 with 1 Axes>"
      ]
     },
     "metadata": {
      "needs_background": "light"
     },
     "output_type": "display_data"
    },
    {
     "data": {
      "text/plain": [
       "<matplotlib.axes._subplots.AxesSubplot at 0x1c279d990c8>"
      ]
     },
     "execution_count": 331,
     "metadata": {},
     "output_type": "execute_result"
    },
    {
     "data": {
      "text/plain": [
       "[<matplotlib.lines.Line2D at 0x1c279af1d88>]"
      ]
     },
     "execution_count": 331,
     "metadata": {},
     "output_type": "execute_result"
    },
    {
     "data": {
      "text/plain": [
       "[<matplotlib.lines.Line2D at 0x1c279da9fc8>]"
      ]
     },
     "execution_count": 331,
     "metadata": {},
     "output_type": "execute_result"
    },
    {
     "data": {
      "text/plain": [
       "<matplotlib.legend.Legend at 0x1c279ae25c8>"
      ]
     },
     "execution_count": 331,
     "metadata": {},
     "output_type": "execute_result"
    },
    {
     "data": {
      "image/png": "[encoded data removed]",
      "text/plain": [
       "<Figure size 720x360 with 1 Axes>"
      ]
     },
     "metadata": {
      "needs_background": "light"
     },
     "output_type": "display_data"
    }
   ],
   "source": [
    "import scipy\n",
    "import matplotlib.pyplot as plt\n",
    "import seaborn as sns\n",
    "import numpy as np\n",
    "\n",
    "mu = 10 # Mean of sample !!! Make sure your data is positive for the lognormal example \n",
    "sigma = 1.5 # Standard deviation of sample\n",
    "N = 2000 # Number of samples\n",
    "\n",
    "norm_dist = scipy.stats.norm(loc=mu, scale=sigma) # Create Random Process\n",
    "x = norm_dist.rvs(size=N) # Generate samples\n",
    "\n",
    "# Fit normal\n",
    "fitting_params = scipy.stats.norm.fit(x)\n",
    "norm_dist_fitted = scipy.stats.norm(*fitting_params)\n",
    "t = np.linspace(np.min(x), np.max(x), 100)\n",
    "\n",
    "# Plot normals\n",
    "f, ax = plt.subplots(1, sharex='col', figsize=(10, 5))\n",
    "sns.distplot(x, ax=ax, norm_hist=True, kde=False, label='Data X~N(mu={0:.1f}, sigma={1:.1f})'.format(mu, sigma))\n",
    "ax.plot(t, norm_dist_fitted.pdf(t), lw=2, color='r',\n",
    "        label='Fitted Model X~N(mu={0:.1f}, sigma={1:.1f})'.format(norm_dist_fitted.mean(), norm_dist_fitted.std()))\n",
    "ax.plot(t, norm_dist.pdf(t), lw=2, color='g', ls=':',\n",
    "        label='Original Model X~N(mu={0:.1f}, sigma={1:.1f})'.format(norm_dist.mean(), norm_dist.std()))\n",
    "ax.legend(loc='lower right')\n",
    "plt.show()\n",
    "\n",
    "\n",
    "# The lognormal model fits to a variable whose log is normal\n",
    "# We create our variable whose log is normal 'exponenciating' the previous variable\n",
    "\n",
    "x_exp = np.exp(x)\n",
    "mu_exp = np.exp(mu)\n",
    "sigma_exp = np.exp(sigma)\n",
    "\n",
    "fitting_params_lognormal = scipy.stats.lognorm.fit(x_exp, floc=0, scale=mu_exp)\n",
    "lognorm_dist_fitted = scipy.stats.lognorm(*fitting_params_lognormal)\n",
    "t = np.linspace(np.min(x_exp), np.max(x_exp), 100)\n",
    "\n",
    "# Here is the magic I was looking for a long long time\n",
    "lognorm_dist = scipy.stats.lognorm(s=sigma, loc=0, scale=np.exp(mu))\n",
    "\n",
    "# The trick is to understand these two things:\n",
    "# 1. If the EXP of a variable is NORMAL with MU and STD -> EXP(X) ~ scipy.stats.lognorm(s=sigma, loc=0, scale=np.exp(mu))\n",
    "# 2. If your variable (x) HAS THE FORM of a LOGNORMAL, the model will be scipy.stats.lognorm(s=sigmaX, loc=0, scale=muX)\n",
    "# with:\n",
    "#    - muX = np.mean(np.log(x))\n",
    "#    - sigmaX = np.std(np.log(x))\n",
    "\n",
    "\n",
    "# Plot lognormals\n",
    "f, ax = plt.subplots(1, sharex='col', figsize=(10, 5))\n",
    "sns.distplot(x_exp, ax=ax, norm_hist=True, kde=False,\n",
    "             label='Data exp(X)~N(mu={0:.1f}, sigma={1:.1f})\\n X~LogNorm(mu={0:.1f}, sigma={1:.1f})'.format(mu, sigma))\n",
    "ax.plot(t, lognorm_dist_fitted.pdf(t), lw=2, color='r',\n",
    "        label='Fitted Model X~LogNorm(mu={0:.1f}, sigma={1:.1f})'.format(lognorm_dist_fitted.mean(), lognorm_dist_fitted.std()))\n",
    "ax.plot(t, lognorm_dist.pdf(t), lw=2, color='g', ls=':',\n",
    "        label='Original Model X~LogNorm(mu={0:.1f}, sigma={1:.1f})'.format(lognorm_dist.mean(), lognorm_dist.std()))\n",
    "ax.legend(loc='lower right')\n",
    "plt.show()"
   ]
  },
  {
   "cell_type": "markdown",
   "metadata": {},
   "source": [
    "___"
   ]
  },
  {
   "cell_type": "markdown",
   "metadata": {},
   "source": [
    "___"
   ]
  },
  {
   "cell_type": "markdown",
   "metadata": {},
   "source": [
    "## Random dataset generation"
   ]
  },
  {
   "cell_type": "code",
   "execution_count": 105,
   "metadata": {},
   "outputs": [],
   "source": [
    "# Minerals present\n",
    "minerals = [\"Q\" ,\"P\", \"K\", \"B\", \"O\", \"A\"]"
   ]
  },
  {
   "cell_type": "code",
   "execution_count": 3,
   "metadata": {},
   "outputs": [],
   "source": [
    "# Initialize dataset\n",
    "dataset = Input([\"Q\" ,\"P\", \"K\", \"B\", \"O\", \"A\"])"
   ]
  },
  {
   "cell_type": "code",
   "execution_count": 16,
   "metadata": {},
   "outputs": [
    {
     "data": {
      "text/plain": [
       "array([0.06199479, 0.20137643, 0.14169234, 0.25422035, 0.25247794,\n",
       "       0.08823815])"
      ]
     },
     "execution_count": 16,
     "metadata": {},
     "output_type": "execute_result"
    }
   ],
   "source": [
    "# Set custom proportion of minerals\n",
    "dataset.set_random_mineral_proportions()"
   ]
  },
  {
   "cell_type": "code",
   "execution_count": 15,
   "metadata": {},
   "outputs": [
    {
     "name": "stdout",
     "output_type": "stream",
     "text": [
      "hello\n"
     ]
    },
    {
     "data": {
      "text/plain": [
       "array([[0., 0., 0., 0., 0., 0., 0., 0., 0., 0.],\n",
       "       [0., 0., 0., 0., 0., 0., 0., 0., 0., 0.],\n",
       "       [0., 0., 0., 0., 0., 0., 0., 0., 0., 0.],\n",
       "       [0., 0., 0., 0., 0., 0., 0., 0., 0., 0.],\n",
       "       [0., 0., 0., 0., 0., 0., 0., 0., 0., 0.],\n",
       "       [0., 0., 0., 0., 0., 0., 0., 0., 0., 0.]])"
      ]
     },
     "execution_count": 15,
     "metadata": {},
     "output_type": "execute_result"
    }
   ],
   "source": [
    "dataset.get_number_of_crystals()"
   ]
  },
  {
   "cell_type": "code",
   "execution_count": null,
   "metadata": {},
   "outputs": [],
   "source": [
    "np.random.random()"
   ]
  },
  {
   "cell_type": "code",
   "execution_count": 18,
   "metadata": {},
   "outputs": [],
   "source": [
    "minerals_csd = dataset.set_random_grain_size_distributions()"
   ]
  },
  {
   "cell_type": "code",
   "execution_count": 8,
   "metadata": {},
   "outputs": [
    {
     "data": {
      "text/html": [
       "<div>\n",
       "<style scoped>\n",
       "    .dataframe tbody tr th:only-of-type {\n",
       "        vertical-align: middle;\n",
       "    }\n",
       "\n",
       "    .dataframe tbody tr th {\n",
       "        vertical-align: top;\n",
       "    }\n",
       "\n",
       "    .dataframe thead th {\n",
       "        text-align: right;\n",
       "    }\n",
       "</style>\n",
       "<table border=\"1\" class=\"dataframe\">\n",
       "  <thead>\n",
       "    <tr style=\"text-align: right;\">\n",
       "      <th></th>\n",
       "      <th>0</th>\n",
       "      <th>1</th>\n",
       "      <th>2</th>\n",
       "      <th>3</th>\n",
       "      <th>4</th>\n",
       "      <th>5</th>\n",
       "      <th>6</th>\n",
       "      <th>7</th>\n",
       "      <th>8</th>\n",
       "      <th>9</th>\n",
       "    </tr>\n",
       "  </thead>\n",
       "  <tbody>\n",
       "    <tr>\n",
       "      <th>Q</th>\n",
       "      <td>0.0</td>\n",
       "      <td>0.0</td>\n",
       "      <td>0.0</td>\n",
       "      <td>0.0</td>\n",
       "      <td>0.0</td>\n",
       "      <td>0.0</td>\n",
       "      <td>0.0</td>\n",
       "      <td>0.0</td>\n",
       "      <td>0.0</td>\n",
       "      <td>0.0</td>\n",
       "    </tr>\n",
       "    <tr>\n",
       "      <th>P</th>\n",
       "      <td>0.0</td>\n",
       "      <td>0.0</td>\n",
       "      <td>0.0</td>\n",
       "      <td>0.0</td>\n",
       "      <td>0.0</td>\n",
       "      <td>0.0</td>\n",
       "      <td>0.0</td>\n",
       "      <td>0.0</td>\n",
       "      <td>0.0</td>\n",
       "      <td>0.0</td>\n",
       "    </tr>\n",
       "    <tr>\n",
       "      <th>K</th>\n",
       "      <td>0.0</td>\n",
       "      <td>0.0</td>\n",
       "      <td>0.0</td>\n",
       "      <td>0.0</td>\n",
       "      <td>0.0</td>\n",
       "      <td>0.0</td>\n",
       "      <td>0.0</td>\n",
       "      <td>0.0</td>\n",
       "      <td>0.0</td>\n",
       "      <td>0.0</td>\n",
       "    </tr>\n",
       "    <tr>\n",
       "      <th>B</th>\n",
       "      <td>0.0</td>\n",
       "      <td>0.0</td>\n",
       "      <td>0.0</td>\n",
       "      <td>0.0</td>\n",
       "      <td>0.0</td>\n",
       "      <td>0.0</td>\n",
       "      <td>0.0</td>\n",
       "      <td>0.0</td>\n",
       "      <td>0.0</td>\n",
       "      <td>0.0</td>\n",
       "    </tr>\n",
       "    <tr>\n",
       "      <th>O</th>\n",
       "      <td>0.0</td>\n",
       "      <td>0.0</td>\n",
       "      <td>0.0</td>\n",
       "      <td>0.0</td>\n",
       "      <td>0.0</td>\n",
       "      <td>0.0</td>\n",
       "      <td>0.0</td>\n",
       "      <td>0.0</td>\n",
       "      <td>0.0</td>\n",
       "      <td>0.0</td>\n",
       "    </tr>\n",
       "    <tr>\n",
       "      <th>A</th>\n",
       "      <td>0.0</td>\n",
       "      <td>0.0</td>\n",
       "      <td>0.0</td>\n",
       "      <td>0.0</td>\n",
       "      <td>0.0</td>\n",
       "      <td>0.0</td>\n",
       "      <td>0.0</td>\n",
       "      <td>0.0</td>\n",
       "      <td>0.0</td>\n",
       "      <td>0.0</td>\n",
       "    </tr>\n",
       "  </tbody>\n",
       "</table>\n",
       "</div>"
      ],
      "text/plain": [
       "     0    1    2    3    4    5    6    7    8    9\n",
       "Q  0.0  0.0  0.0  0.0  0.0  0.0  0.0  0.0  0.0  0.0\n",
       "P  0.0  0.0  0.0  0.0  0.0  0.0  0.0  0.0  0.0  0.0\n",
       "K  0.0  0.0  0.0  0.0  0.0  0.0  0.0  0.0  0.0  0.0\n",
       "B  0.0  0.0  0.0  0.0  0.0  0.0  0.0  0.0  0.0  0.0\n",
       "O  0.0  0.0  0.0  0.0  0.0  0.0  0.0  0.0  0.0  0.0\n",
       "A  0.0  0.0  0.0  0.0  0.0  0.0  0.0  0.0  0.0  0.0"
      ]
     },
     "execution_count": 8,
     "metadata": {},
     "output_type": "execute_result"
    }
   ],
   "source": [
    "pd.DataFrame(dataset.get_number_of_crystals(), index=[[\"Q\" ,\"P\", \"K\", \"B\", \"O\", \"A\"]])"
   ]
  },
  {
   "cell_type": "code",
   "execution_count": 19,
   "metadata": {},
   "outputs": [],
   "source": [
    "from scipy.stats import lognorm"
   ]
  },
  {
   "cell_type": "code",
   "execution_count": 11,
   "metadata": {},
   "outputs": [
    {
     "data": {
      "text/plain": [
       "['QQ',\n",
       " 'QP',\n",
       " 'QK',\n",
       " 'QB',\n",
       " 'QO',\n",
       " 'QA',\n",
       " 'PP',\n",
       " 'PK',\n",
       " 'PB',\n",
       " 'PO',\n",
       " 'PA',\n",
       " 'KK',\n",
       " 'KB',\n",
       " 'KO',\n",
       " 'KA',\n",
       " 'BB',\n",
       " 'BO',\n",
       " 'BA',\n",
       " 'OO',\n",
       " 'OA',\n",
       " 'AA']"
      ]
     },
     "execution_count": 11,
     "metadata": {},
     "output_type": "execute_result"
    }
   ],
   "source": [
    "dataset.get_interface_labels()"
   ]
  },
  {
   "cell_type": "code",
   "execution_count": 13,
   "metadata": {},
   "outputs": [
    {
     "data": {
      "text/plain": [
       "array([[0., 0., 0., 0., 0., 0., 0., 0., 0., 0.],\n",
       "       [0., 0., 0., 0., 0., 0., 0., 0., 0., 0.],\n",
       "       [0., 0., 0., 0., 0., 0., 0., 0., 0., 0.],\n",
       "       [0., 0., 0., 0., 0., 0., 0., 0., 0., 0.],\n",
       "       [0., 0., 0., 0., 0., 0., 0., 0., 0., 0.],\n",
       "       [0., 0., 0., 0., 0., 0., 0., 0., 0., 0.]])"
      ]
     },
     "execution_count": 13,
     "metadata": {},
     "output_type": "execute_result"
    }
   ],
   "source": [
    "dataset.get_number_of_crystals()"
   ]
  },
  {
   "cell_type": "markdown",
   "metadata": {},
   "source": [
    "## SedGen algorithms\n",
    "____"
   ]
  },
  {
   "cell_type": "markdown",
   "metadata": {},
   "source": [
    "**Assumptions**\n",
    "- All grains are spherical  \n",
    "\n",
    "**Relations**  \n",
    "- $X = Y+Z$"
   ]
  },
  {
   "cell_type": "code",
   "execution_count": 72,
   "metadata": {},
   "outputs": [],
   "source": [
    "m = 6  # number of mineral species\n",
    "d = 10 # number of size classes forming a geometric series\n",
    "n_c_pcg = np.zeros((m, d))  # Y (m x d) number of crystals forming part of polycrystalline grains (pcg)\n",
    "n_c_mcg = np.zeros((m, d))  # Z (m x d) number of crystals occurring as monocrystalline grains (mcg)\n",
    "n_g_pcg = np.zeros((1, d))  # R (1 x d) number of polycrystalline grains (pcg)\n",
    "\n",
    "n_c_all = n_c_mcg + n_c_pcg  # X (m x d) number of crystals in parent rock\n",
    "n_g_all = n_c_mcg + n_g_pcg  # (m x d) number of grains in parent rock"
   ]
  },
  {
   "cell_type": "code",
   "execution_count": 173,
   "metadata": {},
   "outputs": [],
   "source": [
    "n_c_pcg_df = pd.DataFrame(n_c_pcg, index=minerals)\n",
    "n_c_mcg_df = pd.DataFrame(n_c_mcg, index=minerals)\n",
    "n_g_pcg_df = pd.DataFrame(n_g_pcg)"
   ]
  },
  {
   "cell_type": "code",
   "execution_count": 176,
   "metadata": {},
   "outputs": [],
   "source": [
    "n_c_pcg_df.loc[:, 9] = [10000, 2000, 3000, 1000, 200, 300]\n",
    "n_g_pcg_df.loc[:, 9] = [1]"
   ]
  },
  {
   "cell_type": "code",
   "execution_count": 177,
   "metadata": {},
   "outputs": [
    {
     "data": {
      "text/html": [
       "<div>\n",
       "<style scoped>\n",
       "    .dataframe tbody tr th:only-of-type {\n",
       "        vertical-align: middle;\n",
       "    }\n",
       "\n",
       "    .dataframe tbody tr th {\n",
       "        vertical-align: top;\n",
       "    }\n",
       "\n",
       "    .dataframe thead th {\n",
       "        text-align: right;\n",
       "    }\n",
       "</style>\n",
       "<table border=\"1\" class=\"dataframe\">\n",
       "  <thead>\n",
       "    <tr style=\"text-align: right;\">\n",
       "      <th></th>\n",
       "      <th>0</th>\n",
       "      <th>1</th>\n",
       "      <th>2</th>\n",
       "      <th>3</th>\n",
       "      <th>4</th>\n",
       "      <th>5</th>\n",
       "      <th>6</th>\n",
       "      <th>7</th>\n",
       "      <th>8</th>\n",
       "      <th>9</th>\n",
       "    </tr>\n",
       "  </thead>\n",
       "  <tbody>\n",
       "    <tr>\n",
       "      <th>Q</th>\n",
       "      <td>0.0</td>\n",
       "      <td>0.0</td>\n",
       "      <td>0.0</td>\n",
       "      <td>0.0</td>\n",
       "      <td>0.0</td>\n",
       "      <td>0.0</td>\n",
       "      <td>0.0</td>\n",
       "      <td>0.0</td>\n",
       "      <td>0.0</td>\n",
       "      <td>10000</td>\n",
       "    </tr>\n",
       "    <tr>\n",
       "      <th>P</th>\n",
       "      <td>0.0</td>\n",
       "      <td>0.0</td>\n",
       "      <td>0.0</td>\n",
       "      <td>0.0</td>\n",
       "      <td>0.0</td>\n",
       "      <td>0.0</td>\n",
       "      <td>0.0</td>\n",
       "      <td>0.0</td>\n",
       "      <td>0.0</td>\n",
       "      <td>2000</td>\n",
       "    </tr>\n",
       "    <tr>\n",
       "      <th>K</th>\n",
       "      <td>0.0</td>\n",
       "      <td>0.0</td>\n",
       "      <td>0.0</td>\n",
       "      <td>0.0</td>\n",
       "      <td>0.0</td>\n",
       "      <td>0.0</td>\n",
       "      <td>0.0</td>\n",
       "      <td>0.0</td>\n",
       "      <td>0.0</td>\n",
       "      <td>3000</td>\n",
       "    </tr>\n",
       "    <tr>\n",
       "      <th>B</th>\n",
       "      <td>0.0</td>\n",
       "      <td>0.0</td>\n",
       "      <td>0.0</td>\n",
       "      <td>0.0</td>\n",
       "      <td>0.0</td>\n",
       "      <td>0.0</td>\n",
       "      <td>0.0</td>\n",
       "      <td>0.0</td>\n",
       "      <td>0.0</td>\n",
       "      <td>1000</td>\n",
       "    </tr>\n",
       "    <tr>\n",
       "      <th>O</th>\n",
       "      <td>0.0</td>\n",
       "      <td>0.0</td>\n",
       "      <td>0.0</td>\n",
       "      <td>0.0</td>\n",
       "      <td>0.0</td>\n",
       "      <td>0.0</td>\n",
       "      <td>0.0</td>\n",
       "      <td>0.0</td>\n",
       "      <td>0.0</td>\n",
       "      <td>200</td>\n",
       "    </tr>\n",
       "    <tr>\n",
       "      <th>A</th>\n",
       "      <td>0.0</td>\n",
       "      <td>0.0</td>\n",
       "      <td>0.0</td>\n",
       "      <td>0.0</td>\n",
       "      <td>0.0</td>\n",
       "      <td>0.0</td>\n",
       "      <td>0.0</td>\n",
       "      <td>0.0</td>\n",
       "      <td>0.0</td>\n",
       "      <td>300</td>\n",
       "    </tr>\n",
       "  </tbody>\n",
       "</table>\n",
       "</div>"
      ],
      "text/plain": [
       "     0    1    2    3    4    5    6    7    8      9\n",
       "Q  0.0  0.0  0.0  0.0  0.0  0.0  0.0  0.0  0.0  10000\n",
       "P  0.0  0.0  0.0  0.0  0.0  0.0  0.0  0.0  0.0   2000\n",
       "K  0.0  0.0  0.0  0.0  0.0  0.0  0.0  0.0  0.0   3000\n",
       "B  0.0  0.0  0.0  0.0  0.0  0.0  0.0  0.0  0.0   1000\n",
       "O  0.0  0.0  0.0  0.0  0.0  0.0  0.0  0.0  0.0    200\n",
       "A  0.0  0.0  0.0  0.0  0.0  0.0  0.0  0.0  0.0    300"
      ]
     },
     "execution_count": 177,
     "metadata": {},
     "output_type": "execute_result"
    },
    {
     "data": {
      "text/html": [
       "<div>\n",
       "<style scoped>\n",
       "    .dataframe tbody tr th:only-of-type {\n",
       "        vertical-align: middle;\n",
       "    }\n",
       "\n",
       "    .dataframe tbody tr th {\n",
       "        vertical-align: top;\n",
       "    }\n",
       "\n",
       "    .dataframe thead th {\n",
       "        text-align: right;\n",
       "    }\n",
       "</style>\n",
       "<table border=\"1\" class=\"dataframe\">\n",
       "  <thead>\n",
       "    <tr style=\"text-align: right;\">\n",
       "      <th></th>\n",
       "      <th>0</th>\n",
       "      <th>1</th>\n",
       "      <th>2</th>\n",
       "      <th>3</th>\n",
       "      <th>4</th>\n",
       "      <th>5</th>\n",
       "      <th>6</th>\n",
       "      <th>7</th>\n",
       "      <th>8</th>\n",
       "      <th>9</th>\n",
       "    </tr>\n",
       "  </thead>\n",
       "  <tbody>\n",
       "    <tr>\n",
       "      <th>0</th>\n",
       "      <td>0.0</td>\n",
       "      <td>0.0</td>\n",
       "      <td>0.0</td>\n",
       "      <td>0.0</td>\n",
       "      <td>0.0</td>\n",
       "      <td>0.0</td>\n",
       "      <td>0.0</td>\n",
       "      <td>0.0</td>\n",
       "      <td>0.0</td>\n",
       "      <td>1</td>\n",
       "    </tr>\n",
       "  </tbody>\n",
       "</table>\n",
       "</div>"
      ],
      "text/plain": [
       "     0    1    2    3    4    5    6    7    8  9\n",
       "0  0.0  0.0  0.0  0.0  0.0  0.0  0.0  0.0  0.0  1"
      ]
     },
     "execution_count": 177,
     "metadata": {},
     "output_type": "execute_result"
    }
   ],
   "source": [
    "n_c_pcg_df\n",
    "n_g_pcg_df"
   ]
  },
  {
   "cell_type": "code",
   "execution_count": 163,
   "metadata": {},
   "outputs": [],
   "source": [
    "bins = [2.0**x for x in np.arange(-10, 10.25, 0.25)]"
   ]
  },
  {
   "cell_type": "raw",
   "metadata": {},
   "source": [
    "bins_final = []\n",
    "for bin_ in bins:\n",
    "    for y in [1.0, 1.25, 1.50, 1.75]:\n",
    "        bins_final.append(bin_ * y)\n",
    "        if bin_ == 512 and y == 1.75:\n",
    "            bins_final.append(1024.0)"
   ]
  },
  {
   "cell_type": "code",
   "execution_count": 164,
   "metadata": {},
   "outputs": [
    {
     "data": {
      "text/plain": [
       "[0.0009765625,\n",
       " 0.0011613350732448448,\n",
       " 0.0013810679320049757,\n",
       " 0.0016423758110424111,\n",
       " 0.001953125,\n",
       " 0.0023226701464896895,\n",
       " 0.0027621358640099515,\n",
       " 0.0032847516220848223,\n",
       " 0.00390625,\n",
       " 0.004645340292979379,\n",
       " 0.005524271728019903,\n",
       " 0.0065695032441696445,\n",
       " 0.0078125,\n",
       " 0.009290680585958758,\n",
       " 0.011048543456039806,\n",
       " 0.013139006488339289,\n",
       " 0.015625,\n",
       " 0.018581361171917516,\n",
       " 0.02209708691207961,\n",
       " 0.026278012976678578,\n",
       " 0.03125,\n",
       " 0.03716272234383503,\n",
       " 0.04419417382415922,\n",
       " 0.052556025953357156,\n",
       " 0.0625,\n",
       " 0.07432544468767006,\n",
       " 0.08838834764831845,\n",
       " 0.10511205190671431,\n",
       " 0.125,\n",
       " 0.14865088937534013,\n",
       " 0.1767766952966369,\n",
       " 0.21022410381342863,\n",
       " 0.25,\n",
       " 0.29730177875068026,\n",
       " 0.3535533905932738,\n",
       " 0.42044820762685725,\n",
       " 0.5,\n",
       " 0.5946035575013605,\n",
       " 0.7071067811865476,\n",
       " 0.8408964152537145,\n",
       " 1.0,\n",
       " 1.189207115002721,\n",
       " 1.4142135623730951,\n",
       " 1.681792830507429,\n",
       " 2.0,\n",
       " 2.378414230005442,\n",
       " 2.8284271247461903,\n",
       " 3.363585661014858,\n",
       " 4.0,\n",
       " 4.756828460010884,\n",
       " 5.656854249492381,\n",
       " 6.727171322029716,\n",
       " 8.0,\n",
       " 9.513656920021768,\n",
       " 11.313708498984761,\n",
       " 13.454342644059432,\n",
       " 16.0,\n",
       " 19.027313840043536,\n",
       " 22.627416997969522,\n",
       " 26.908685288118864,\n",
       " 32.0,\n",
       " 38.05462768008707,\n",
       " 45.254833995939045,\n",
       " 53.81737057623773,\n",
       " 64.0,\n",
       " 76.10925536017415,\n",
       " 90.50966799187809,\n",
       " 107.63474115247546,\n",
       " 128.0,\n",
       " 152.2185107203483,\n",
       " 181.01933598375618,\n",
       " 215.2694823049509,\n",
       " 256.0,\n",
       " 304.4370214406966,\n",
       " 362.03867196751236,\n",
       " 430.5389646099018,\n",
       " 512.0,\n",
       " 608.8740428813932,\n",
       " 724.0773439350247,\n",
       " 861.0779292198037,\n",
       " 1024.0]"
      ]
     },
     "execution_count": 164,
     "metadata": {},
     "output_type": "execute_result"
    }
   ],
   "source": [
    "bins"
   ]
  },
  {
   "cell_type": "code",
   "execution_count": 165,
   "metadata": {},
   "outputs": [
    {
     "data": {
      "text/plain": [
       "array([-10.  ,  -9.75,  -9.5 ,  -9.25,  -9.  ,  -8.75,  -8.5 ,  -8.25,\n",
       "        -8.  ,  -7.75,  -7.5 ,  -7.25,  -7.  ,  -6.75,  -6.5 ,  -6.25,\n",
       "        -6.  ,  -5.75,  -5.5 ,  -5.25,  -5.  ,  -4.75,  -4.5 ,  -4.25,\n",
       "        -4.  ,  -3.75,  -3.5 ,  -3.25,  -3.  ,  -2.75,  -2.5 ,  -2.25,\n",
       "        -2.  ,  -1.75,  -1.5 ,  -1.25,  -1.  ,  -0.75,  -0.5 ,  -0.25,\n",
       "         0.  ,   0.25,   0.5 ,   0.75,   1.  ,   1.25,   1.5 ,   1.75,\n",
       "         2.  ,   2.25,   2.5 ,   2.75,   3.  ,   3.25,   3.5 ,   3.75,\n",
       "         4.  ,   4.25,   4.5 ,   4.75,   5.  ,   5.25,   5.5 ,   5.75,\n",
       "         6.  ,   6.25,   6.5 ,   6.75,   7.  ,   7.25,   7.5 ,   7.75,\n",
       "         8.  ,   8.25,   8.5 ,   8.75,   9.  ,   9.25,   9.5 ,   9.75,\n",
       "        10.  ])"
      ]
     },
     "execution_count": 165,
     "metadata": {},
     "output_type": "execute_result"
    }
   ],
   "source": [
    "np.log2(bins)"
   ]
  },
  {
   "cell_type": "code",
   "execution_count": 105,
   "metadata": {},
   "outputs": [
    {
     "data": {
      "text/plain": [
       "1152921504606846976"
      ]
     },
     "execution_count": 105,
     "metadata": {},
     "output_type": "execute_result"
    }
   ],
   "source": [
    "n ** 3"
   ]
  },
  {
   "cell_type": "code",
   "execution_count": 110,
   "metadata": {},
   "outputs": [
    {
     "data": {
      "text/plain": [
       "1.152921504606847"
      ]
     },
     "execution_count": 110,
     "metadata": {},
     "output_type": "execute_result"
    }
   ],
   "source": [
    "(n ** 3) / 1_000_000_000_000_000_000"
   ]
  },
  {
   "cell_type": "code",
   "execution_count": 166,
   "metadata": {},
   "outputs": [
    {
     "data": {
      "text/plain": [
       "81"
      ]
     },
     "execution_count": 166,
     "metadata": {},
     "output_type": "execute_result"
    }
   ],
   "source": [
    "len(bins)"
   ]
  },
  {
   "cell_type": "code",
   "execution_count": 167,
   "metadata": {},
   "outputs": [
    {
     "data": {
      "text/plain": [
       "array([[0., 0., 0., 0., 0., 0., 0., 0., 0., 0.],\n",
       "       [0., 0., 0., 0., 0., 0., 0., 0., 0., 0.],\n",
       "       [0., 0., 0., 0., 0., 0., 0., 0., 0., 0.],\n",
       "       [0., 0., 0., 0., 0., 0., 0., 0., 0., 0.],\n",
       "       [0., 0., 0., 0., 0., 0., 0., 0., 0., 0.],\n",
       "       [0., 0., 0., 0., 0., 0., 0., 0., 0., 0.]])"
      ]
     },
     "execution_count": 167,
     "metadata": {},
     "output_type": "execute_result"
    }
   ],
   "source": [
    "n_c_pcg"
   ]
  },
  {
   "cell_type": "code",
   "execution_count": 12,
   "metadata": {},
   "outputs": [
    {
     "data": {
      "text/plain": [
       "array([[0., 0., 0., 0., 0., 0., 0., 0., 0., 0.],\n",
       "       [0., 0., 0., 0., 0., 0., 0., 0., 0., 0.],\n",
       "       [0., 0., 0., 0., 0., 0., 0., 0., 0., 0.],\n",
       "       [0., 0., 0., 0., 0., 0., 0., 0., 0., 0.],\n",
       "       [0., 0., 0., 0., 0., 0., 0., 0., 0., 0.],\n",
       "       [0., 0., 0., 0., 0., 0., 0., 0., 0., 0.]])"
      ]
     },
     "execution_count": 12,
     "metadata": {},
     "output_type": "execute_result"
    }
   ],
   "source": [
    "n_c_mcg"
   ]
  },
  {
   "cell_type": "code",
   "execution_count": 13,
   "metadata": {},
   "outputs": [
    {
     "data": {
      "text/plain": [
       "array([[0., 0., 0., 0., 0., 0., 0., 0., 0., 0.]])"
      ]
     },
     "execution_count": 13,
     "metadata": {},
     "output_type": "execute_result"
    }
   ],
   "source": [
    "n_g_pcg"
   ]
  },
  {
   "cell_type": "code",
   "execution_count": 14,
   "metadata": {},
   "outputs": [
    {
     "data": {
      "text/plain": [
       "array([[0., 0., 0., 0., 0., 0., 0., 0., 0., 0.],\n",
       "       [0., 0., 0., 0., 0., 0., 0., 0., 0., 0.],\n",
       "       [0., 0., 0., 0., 0., 0., 0., 0., 0., 0.],\n",
       "       [0., 0., 0., 0., 0., 0., 0., 0., 0., 0.],\n",
       "       [0., 0., 0., 0., 0., 0., 0., 0., 0., 0.],\n",
       "       [0., 0., 0., 0., 0., 0., 0., 0., 0., 0.]])"
      ]
     },
     "execution_count": 14,
     "metadata": {},
     "output_type": "execute_result"
    }
   ],
   "source": [
    "n_c_all"
   ]
  },
  {
   "cell_type": "code",
   "execution_count": 16,
   "metadata": {},
   "outputs": [],
   "source": [
    "mineral_labels = [\"Q\" ,\"P\", \"K\", \"B\", \"O\", \"A\"]"
   ]
  },
  {
   "cell_type": "code",
   "execution_count": 149,
   "metadata": {},
   "outputs": [
    {
     "data": {
      "image/png": "[encoded data removed]",
      "text/plain": [
       "<Figure size 432x288 with 1 Axes>"
      ]
     },
     "metadata": {
      "needs_background": "light"
     },
     "output_type": "display_data"
    }
   ],
   "source": [
    "norm_distr = norm(loc=0, scale=1)\n",
    "x = np.linspace(-5, 5, 81)\n",
    "pdf = norm_distr.pdf(x)\n",
    "pdf_normalized = pdf / pdf.sum()\n",
    "\n",
    "plt.plot(x, pdf_normalized)\n",
    "plt.show();"
   ]
  },
  {
   "cell_type": "code",
   "execution_count": 158,
   "metadata": {},
   "outputs": [
    {
     "data": {
      "text/plain": [
       "2.0"
      ]
     },
     "execution_count": 158,
     "metadata": {},
     "output_type": "execute_result"
    }
   ],
   "source": [
    "(1/2) * ((1/2) ** -2)"
   ]
  },
  {
   "cell_type": "code",
   "execution_count": 87,
   "metadata": {},
   "outputs": [
    {
     "data": {
      "text/plain": [
       "array([9.29199761e-07, 1.73962726e-05, 2.20372317e-04, 1.88891140e-03,\n",
       "       1.09551886e-02, 4.29914254e-02, 1.14155686e-01, 2.05100619e-01,\n",
       "       2.49338942e-01, 2.05100619e-01, 1.14155686e-01, 4.29914254e-02,\n",
       "       1.09551886e-02, 1.88891140e-03, 2.20372317e-04, 1.73962726e-05,\n",
       "       9.29199761e-07])"
      ]
     },
     "execution_count": 87,
     "metadata": {},
     "output_type": "execute_result"
    }
   ],
   "source": [
    "pdf_normalized[-1]"
   ]
  },
  {
   "cell_type": "code",
   "execution_count": 4,
   "metadata": {},
   "outputs": [
    {
     "data": {
      "text/plain": [
       "['QQ',\n",
       " 'QP',\n",
       " 'QK',\n",
       " 'QB',\n",
       " 'QO',\n",
       " 'QA',\n",
       " 'PP',\n",
       " 'PK',\n",
       " 'PB',\n",
       " 'PO',\n",
       " 'PA',\n",
       " 'KK',\n",
       " 'KB',\n",
       " 'KO',\n",
       " 'KA',\n",
       " 'BB',\n",
       " 'BO',\n",
       " 'BA',\n",
       " 'OO',\n",
       " 'OA',\n",
       " 'AA']"
      ]
     },
     "execution_count": 4,
     "metadata": {},
     "output_type": "execute_result"
    }
   ],
   "source": [
    "interface_labels = [\"\".join(pair) for pair in itertools.combinations_with_replacement(mineral_labels, 2)]\n",
    "interface_labels"
   ]
  },
  {
   "cell_type": "code",
   "execution_count": null,
   "metadata": {},
   "outputs": [],
   "source": [
    "interface_labels"
   ]
  },
  {
   "cell_type": "markdown",
   "metadata": {},
   "source": [
    "## Mechanical weathering\n",
    "____"
   ]
  },
  {
   "cell_type": "code",
   "execution_count": null,
   "metadata": {},
   "outputs": [],
   "source": [
    "# Selection for breakage\n",
    "# D = size of grain\n",
    "# alpha_Qm = susceptibility to breakage normallized to monocrystalline quartz (Qm)\n",
    "alpha_Qm = np.zeros((m, 1)) # CONSTANT\n",
    "# delta_k = model time step\n",
    "delta_k = int\n",
    "# gamma = coefficient of time-step dependent strength of pcg # CONSTANT\n",
    "gamma = float\n",
    "# alpha = susceptibility to breakage\n",
    "alpha = alpha_Qm + alpha_init * delta_k ** gamma\n",
    "# z = abundance in the grain population\n",
    "S = D * alpha * z\n",
    "# probability of breakage ([m + 1] x d)\n",
    "P = S / np.sum(S)"
   ]
  },
  {
   "cell_type": "code",
   "execution_count": 4,
   "metadata": {},
   "outputs": [
    {
     "data": {
      "text/html": [
       "<div>\n",
       "<style scoped>\n",
       "    .dataframe tbody tr th:only-of-type {\n",
       "        vertical-align: middle;\n",
       "    }\n",
       "\n",
       "    .dataframe tbody tr th {\n",
       "        vertical-align: top;\n",
       "    }\n",
       "\n",
       "    .dataframe thead th {\n",
       "        text-align: right;\n",
       "    }\n",
       "</style>\n",
       "<table border=\"1\" class=\"dataframe\">\n",
       "  <thead>\n",
       "    <tr style=\"text-align: right;\">\n",
       "      <th></th>\n",
       "      <th>alpha_Qm</th>\n",
       "    </tr>\n",
       "  </thead>\n",
       "  <tbody>\n",
       "    <tr>\n",
       "      <th>Q</th>\n",
       "      <td>1.0</td>\n",
       "    </tr>\n",
       "    <tr>\n",
       "      <th>P</th>\n",
       "      <td>1.5</td>\n",
       "    </tr>\n",
       "    <tr>\n",
       "      <th>K</th>\n",
       "      <td>1.2</td>\n",
       "    </tr>\n",
       "    <tr>\n",
       "      <th>B</th>\n",
       "      <td>2.0</td>\n",
       "    </tr>\n",
       "    <tr>\n",
       "      <th>O</th>\n",
       "      <td>3.0</td>\n",
       "    </tr>\n",
       "    <tr>\n",
       "      <th>A</th>\n",
       "      <td>1.6</td>\n",
       "    </tr>\n",
       "  </tbody>\n",
       "</table>\n",
       "</div>"
      ],
      "text/plain": [
       "   alpha_Qm\n",
       "Q       1.0\n",
       "P       1.5\n",
       "K       1.2\n",
       "B       2.0\n",
       "O       3.0\n",
       "A       1.6"
      ]
     },
     "execution_count": 4,
     "metadata": {},
     "output_type": "execute_result"
    }
   ],
   "source": [
    "# Example values\n",
    "mineral_constants = pd.DataFrame({\"alpha_Qm\": [1, 1.5, 1.2, 2, 3, 1.6]}, index=mineral_labels)\n",
    "mineral_constants"
   ]
  },
  {
   "cell_type": "markdown",
   "metadata": {},
   "source": [
    "### Inter-crystal breakage (of pcg)"
   ]
  },
  {
   "cell_type": "code",
   "execution_count": 27,
   "metadata": {},
   "outputs": [
    {
     "data": {
      "text/html": [
       "<div>\n",
       "<style scoped>\n",
       "    .dataframe tbody tr th:only-of-type {\n",
       "        vertical-align: middle;\n",
       "    }\n",
       "\n",
       "    .dataframe tbody tr th {\n",
       "        vertical-align: top;\n",
       "    }\n",
       "\n",
       "    .dataframe thead th {\n",
       "        text-align: right;\n",
       "    }\n",
       "</style>\n",
       "<table border=\"1\" class=\"dataframe\">\n",
       "  <thead>\n",
       "    <tr style=\"text-align: right;\">\n",
       "      <th></th>\n",
       "      <th>beta_QQ</th>\n",
       "    </tr>\n",
       "  </thead>\n",
       "  <tbody>\n",
       "    <tr>\n",
       "      <th>QQ</th>\n",
       "      <td>0.500</td>\n",
       "    </tr>\n",
       "    <tr>\n",
       "      <th>QP</th>\n",
       "      <td>0.750</td>\n",
       "    </tr>\n",
       "    <tr>\n",
       "      <th>QK</th>\n",
       "      <td>0.600</td>\n",
       "    </tr>\n",
       "    <tr>\n",
       "      <th>QB</th>\n",
       "      <td>1.000</td>\n",
       "    </tr>\n",
       "    <tr>\n",
       "      <th>QO</th>\n",
       "      <td>1.500</td>\n",
       "    </tr>\n",
       "    <tr>\n",
       "      <th>QA</th>\n",
       "      <td>0.800</td>\n",
       "    </tr>\n",
       "    <tr>\n",
       "      <th>PP</th>\n",
       "      <td>1.125</td>\n",
       "    </tr>\n",
       "    <tr>\n",
       "      <th>PK</th>\n",
       "      <td>0.900</td>\n",
       "    </tr>\n",
       "    <tr>\n",
       "      <th>PB</th>\n",
       "      <td>1.500</td>\n",
       "    </tr>\n",
       "    <tr>\n",
       "      <th>PO</th>\n",
       "      <td>2.250</td>\n",
       "    </tr>\n",
       "    <tr>\n",
       "      <th>PA</th>\n",
       "      <td>1.200</td>\n",
       "    </tr>\n",
       "    <tr>\n",
       "      <th>KK</th>\n",
       "      <td>0.720</td>\n",
       "    </tr>\n",
       "    <tr>\n",
       "      <th>KB</th>\n",
       "      <td>1.200</td>\n",
       "    </tr>\n",
       "    <tr>\n",
       "      <th>KO</th>\n",
       "      <td>1.800</td>\n",
       "    </tr>\n",
       "    <tr>\n",
       "      <th>KA</th>\n",
       "      <td>0.960</td>\n",
       "    </tr>\n",
       "    <tr>\n",
       "      <th>BB</th>\n",
       "      <td>2.000</td>\n",
       "    </tr>\n",
       "    <tr>\n",
       "      <th>BO</th>\n",
       "      <td>3.000</td>\n",
       "    </tr>\n",
       "    <tr>\n",
       "      <th>BA</th>\n",
       "      <td>1.600</td>\n",
       "    </tr>\n",
       "    <tr>\n",
       "      <th>OO</th>\n",
       "      <td>4.500</td>\n",
       "    </tr>\n",
       "    <tr>\n",
       "      <th>OA</th>\n",
       "      <td>2.400</td>\n",
       "    </tr>\n",
       "    <tr>\n",
       "      <th>AA</th>\n",
       "      <td>1.280</td>\n",
       "    </tr>\n",
       "  </tbody>\n",
       "</table>\n",
       "</div>"
      ],
      "text/plain": [
       "    beta_QQ\n",
       "QQ    0.500\n",
       "QP    0.750\n",
       "QK    0.600\n",
       "QB    1.000\n",
       "QO    1.500\n",
       "QA    0.800\n",
       "PP    1.125\n",
       "PK    0.900\n",
       "PB    1.500\n",
       "PO    2.250\n",
       "PA    1.200\n",
       "KK    0.720\n",
       "KB    1.200\n",
       "KO    1.800\n",
       "KA    0.960\n",
       "BB    2.000\n",
       "BO    3.000\n",
       "BA    1.600\n",
       "OO    4.500\n",
       "OA    2.400\n",
       "AA    1.280"
      ]
     },
     "execution_count": 27,
     "metadata": {},
     "output_type": "execute_result"
    }
   ],
   "source": [
    "# beta = (g x 1) susceptibility of mineral interface to breakage\n",
    "interface_constants = pd.DataFrame({\"beta_QQ\": [(alpha[0] * alpha[1]) / 2 for alpha in itertools.combinations_with_replacement(mineral_constants[\"alpha_Qm\"], 2)]}, index=interface_labels)\n",
    "interface_constants"
   ]
  },
  {
   "cell_type": "markdown",
   "metadata": {},
   "source": [
    "### Intra-crystal breakage"
   ]
  },
  {
   "cell_type": "code",
   "execution_count": null,
   "metadata": {},
   "outputs": [],
   "source": []
  }
 ],
 "metadata": {
  "kernelspec": {
   "display_name": "Python [conda env:sedgen]",
   "language": "python",
   "name": "conda-env-sedgen-py"
  },
  "language_info": {
   "codemirror_mode": {
    "name": "ipython",
    "version": 3
   },
   "file_extension": ".py",
   "mimetype": "text/x-python",
   "name": "python",
   "nbconvert_exporter": "python",
   "pygments_lexer": "ipython3",
   "version": "3.7.6"
  },
  "toc-autonumbering": true
 },
 "nbformat": 4,
 "nbformat_minor": 4
}
