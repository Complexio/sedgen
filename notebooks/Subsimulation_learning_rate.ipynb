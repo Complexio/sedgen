{
 "cells": [
  {
   "cell_type": "markdown",
   "metadata": {},
   "source": [
    "# Subsimulation learning rate"
   ]
  },
  {
   "cell_type": "code",
   "execution_count": 19,
   "metadata": {
    "execution": {
     "iopub.execute_input": "2020-10-30T09:08:32.582733Z",
     "iopub.status.busy": "2020-10-30T09:08:32.582733Z",
     "iopub.status.idle": "2020-10-30T09:08:32.716732Z",
     "shell.execute_reply": "2020-10-30T09:08:32.715731Z",
     "shell.execute_reply.started": "2020-10-30T09:08:32.582733Z"
    }
   },
   "outputs": [],
   "source": [
    "import numpy as np\n",
    "\n",
    "import matplotlib.pyplot as plt\n",
    "import seaborn as sns\n",
    "\n",
    "from scipy.optimize import curve_fit\n",
    "from scipy.stats import truncnorm\n",
    "\n",
    "import numba as nb"
   ]
  },
  {
   "cell_type": "code",
   "execution_count": 3,
   "metadata": {
    "execution": {
     "iopub.execute_input": "2020-10-30T08:54:27.191017Z",
     "iopub.status.busy": "2020-10-30T08:54:27.190045Z",
     "iopub.status.idle": "2020-10-30T08:54:27.475308Z",
     "shell.execute_reply": "2020-10-30T08:54:27.474292Z",
     "shell.execute_reply.started": "2020-10-30T08:54:27.191017Z"
    }
   },
   "outputs": [],
   "source": [
    "from sedgen import initialization as ini\n",
    "from sedgen import general as gen\n",
    "from sedgen import preprocessing"
   ]
  },
  {
   "cell_type": "code",
   "execution_count": 4,
   "metadata": {
    "execution": {
     "iopub.execute_input": "2020-10-30T08:54:28.467130Z",
     "iopub.status.busy": "2020-10-30T08:54:28.467130Z",
     "iopub.status.idle": "2020-10-30T08:54:28.583125Z",
     "shell.execute_reply": "2020-10-30T08:54:28.582124Z",
     "shell.execute_reply.started": "2020-10-30T08:54:28.467130Z"
    }
   },
   "outputs": [],
   "source": [
    "%load_ext line_profiler\n",
    "%load_ext memory_profiler"
   ]
  },
  {
   "cell_type": "code",
   "execution_count": 5,
   "metadata": {
    "execution": {
     "iopub.execute_input": "2020-10-30T08:54:29.411929Z",
     "iopub.status.busy": "2020-10-30T08:54:29.410933Z",
     "iopub.status.idle": "2020-10-30T08:54:29.554926Z",
     "shell.execute_reply": "2020-10-30T08:54:29.554926Z",
     "shell.execute_reply.started": "2020-10-30T08:54:29.411929Z"
    }
   },
   "outputs": [],
   "source": [
    "# Load jupyter extension to reload packages before executing user code.\n",
    "# https://ipython.readthedocs.io/en/stable/config/extensions/autoreload.html\n",
    "%load_ext autoreload\n",
    "# Reload all packages (except those excluded by %aimport) every time \n",
    "# before executing the Python code typed.\n",
    "%autoreload 2"
   ]
  },
  {
   "cell_type": "markdown",
   "metadata": {},
   "source": [
    "____"
   ]
  },
  {
   "cell_type": "code",
   "execution_count": 7,
   "metadata": {
    "execution": {
     "iopub.execute_input": "2020-10-30T08:57:07.723039Z",
     "iopub.status.busy": "2020-10-30T08:57:07.723039Z",
     "iopub.status.idle": "2020-10-30T08:57:08.519038Z",
     "shell.execute_reply": "2020-10-30T08:57:08.518068Z",
     "shell.execute_reply.started": "2020-10-30T08:57:07.723039Z"
    }
   },
   "outputs": [],
   "source": [
    "sedgen_CA_NS = preprocessing.load_obj(\"sedgen_CA_NS_model\")"
   ]
  },
  {
   "cell_type": "code",
   "execution_count": 11,
   "metadata": {
    "execution": {
     "iopub.execute_input": "2020-10-30T09:02:52.625680Z",
     "iopub.status.busy": "2020-10-30T09:02:52.625680Z",
     "iopub.status.idle": "2020-10-30T09:02:52.749677Z",
     "shell.execute_reply": "2020-10-30T09:02:52.748678Z",
     "shell.execute_reply.started": "2020-10-30T09:02:52.625680Z"
    }
   },
   "outputs": [
    {
     "data": {
      "text/plain": [
       "<scipy.stats._distn_infrastructure.rv_frozen at 0x22bfa134488>"
      ]
     },
     "execution_count": 11,
     "metadata": {},
     "output_type": "execute_result"
    }
   ],
   "source": [
    "sedgen_CA_NS.csds[0]"
   ]
  },
  {
   "cell_type": "code",
   "execution_count": 41,
   "metadata": {
    "execution": {
     "iopub.execute_input": "2020-10-30T09:13:15.926814Z",
     "iopub.status.busy": "2020-10-30T09:13:15.925812Z",
     "iopub.status.idle": "2020-10-30T09:13:16.052812Z",
     "shell.execute_reply": "2020-10-30T09:13:16.051824Z",
     "shell.execute_reply.started": "2020-10-30T09:13:15.926814Z"
    }
   },
   "outputs": [],
   "source": [
    "cvd_mean_0 = np.exp(gen.calculate_volume_sphere(np.log(sedgen_CA_NS.csd_means[0])))\n",
    "cvd_std_0 = np.log(gen.calculate_volume_sphere(np.exp(sedgen_CA_NS.csd_stds[0])))\n",
    "trunc_left = gen.calculate_volume_sphere(1/256)\n",
    "trunc_right = gen.calculate_volume_sphere(30)"
   ]
  },
  {
   "cell_type": "code",
   "execution_count": 17,
   "metadata": {
    "execution": {
     "iopub.execute_input": "2020-10-30T09:08:00.165174Z",
     "iopub.status.busy": "2020-10-30T09:08:00.165174Z",
     "iopub.status.idle": "2020-10-30T09:08:00.298180Z",
     "shell.execute_reply": "2020-10-30T09:08:00.298180Z",
     "shell.execute_reply.started": "2020-10-30T09:08:00.165174Z"
    }
   },
   "outputs": [],
   "source": [
    "def initialize_csd(mean, std, trunc_left=1/256, trunc_right=30):\n",
    "    \"\"\"Initalizes the truncated lognormal crystal size distribution\n",
    "\n",
    "    Parameters:\n",
    "    -----------\n",
    "    m : int\n",
    "        Number specifying mineral class\n",
    "    trunc_left : float(optional)\n",
    "        Value to truncate lognormal distribution to on left side,\n",
    "        i.e. smallest values\n",
    "    trunc_right : float(optional)\n",
    "        Value to truncate lognormal distribution to on right side,\n",
    "        i.e. biggest values\n",
    "\n",
    "    Returns:\n",
    "    --------\n",
    "    csd : scipy.stats.truncnorm\n",
    "        Truncated lognormal crystal size distribution\n",
    "    \"\"\"\n",
    "\n",
    "    mean = np.log(mean)\n",
    "    std = np.exp(std)\n",
    "\n",
    "    if not np.isinf(trunc_left):\n",
    "        trunc_left = np.log(trunc_left)\n",
    "\n",
    "    if not np.isinf(trunc_right):\n",
    "        trunc_right = np.log(trunc_right)\n",
    "\n",
    "    a, b = (trunc_left - mean) / std, (trunc_right - mean) / std\n",
    "    csd = truncnorm(loc=mean, scale=std, a=a, b=b)\n",
    "\n",
    "    return csd"
   ]
  },
  {
   "cell_type": "code",
   "execution_count": 42,
   "metadata": {
    "execution": {
     "iopub.execute_input": "2020-10-30T09:13:17.310249Z",
     "iopub.status.busy": "2020-10-30T09:13:17.309246Z",
     "iopub.status.idle": "2020-10-30T09:13:17.429259Z",
     "shell.execute_reply": "2020-10-30T09:13:17.428245Z",
     "shell.execute_reply.started": "2020-10-30T09:13:17.310249Z"
    }
   },
   "outputs": [],
   "source": [
    "cvd_trunc = initialize_csd(cvd_mean_0, cvd_std_0, trunc_left, trunc_right)"
   ]
  },
  {
   "cell_type": "code",
   "execution_count": 43,
   "metadata": {
    "execution": {
     "iopub.execute_input": "2020-10-30T09:13:18.325325Z",
     "iopub.status.busy": "2020-10-30T09:13:18.325325Z",
     "iopub.status.idle": "2020-10-30T09:13:18.661329Z",
     "shell.execute_reply": "2020-10-30T09:13:18.660333Z",
     "shell.execute_reply.started": "2020-10-30T09:13:18.325325Z"
    }
   },
   "outputs": [
    {
     "data": {
      "text/plain": [
       "(array([  9627.,  24831.,  53424.,  95387., 141534., 174617., 178533.,\n",
       "        151640., 107360.,  63047.]),\n",
       " array([-17.28133862, -14.59755937, -11.91378012,  -9.23000087,\n",
       "         -6.54622163,  -3.86244238,  -1.17866313,   1.50511612,\n",
       "          4.18889537,   6.87267462,   9.55645387]),\n",
       " <BarContainer object of 10 artists>)"
      ]
     },
     "execution_count": 43,
     "metadata": {},
     "output_type": "execute_result"
    },
    {
     "data": {
      "image/png": "[encoded data removed]",
      "text/plain": [
       "<Figure size 432x288 with 1 Axes>"
      ]
     },
     "metadata": {
      "needs_background": "light"
     },
     "output_type": "display_data"
    }
   ],
   "source": [
    "plt.hist(cvd_trunc.rvs(1_000_000))"
   ]
  },
  {
   "cell_type": "code",
   "execution_count": 46,
   "metadata": {
    "execution": {
     "iopub.execute_input": "2020-10-30T09:13:50.565157Z",
     "iopub.status.busy": "2020-10-30T09:13:50.565157Z",
     "iopub.status.idle": "2020-10-30T09:13:51.029157Z",
     "shell.execute_reply": "2020-10-30T09:13:51.028156Z",
     "shell.execute_reply.started": "2020-10-30T09:13:50.565157Z"
    }
   },
   "outputs": [
    {
     "data": {
      "text/plain": [
       "(array([ 37527.,  68092., 105624., 142166., 162119., 159464., 134454.,\n",
       "         97172.,  60685.,  32697.]),\n",
       " array([-17.28248607, -14.59858715, -11.91468824,  -9.23078932,\n",
       "         -6.5468904 ,  -3.86299148,  -1.17909256,   1.50480636,\n",
       "          4.18870528,   6.8726042 ,   9.55650312]),\n",
       " <BarContainer object of 10 artists>)"
      ]
     },
     "execution_count": 46,
     "metadata": {},
     "output_type": "execute_result"
    },
    {
     "data": {
      "text/plain": [
       "(array([  9609.,  24883.,  53580.,  95637., 141696., 174426., 177999.,\n",
       "        151740., 107536.,  62894.]),\n",
       " array([-17.2821743 , -14.59830967, -11.91444504,  -9.23058041,\n",
       "         -6.54671577,  -3.86285114,  -1.17898651,   1.50487813,\n",
       "          4.18874276,   6.87260739,   9.55647202]),\n",
       " <BarContainer object of 10 artists>)"
      ]
     },
     "execution_count": 46,
     "metadata": {},
     "output_type": "execute_result"
    },
    {
     "data": {
      "image/png": "[encoded data removed]",
      "text/plain": [
       "<Figure size 432x288 with 1 Axes>"
      ]
     },
     "metadata": {
      "needs_background": "light"
     },
     "output_type": "display_data"
    }
   ],
   "source": [
    "plt.hist(np.log(gen.calculate_volume_sphere(np.exp(sedgen_CA_NS.csds[0].rvs(1_000_000)))))\n",
    "plt.hist(cvd_trunc.rvs(1_000_000), alpha=0.8)"
   ]
  },
  {
   "cell_type": "code",
   "execution_count": null,
   "metadata": {},
   "outputs": [],
   "source": []
  }
 ],
 "metadata": {
  "kernelspec": {
   "display_name": "Python [conda env:sedgen]",
   "language": "python",
   "name": "conda-env-sedgen-py"
  },
  "language_info": {
   "codemirror_mode": {
    "name": "ipython",
    "version": 3
   },
   "file_extension": ".py",
   "mimetype": "text/x-python",
   "name": "python",
   "nbconvert_exporter": "python",
   "pygments_lexer": "ipython3",
   "version": "3.7.8"
  }
 },
 "nbformat": 4,
 "nbformat_minor": 4
}
