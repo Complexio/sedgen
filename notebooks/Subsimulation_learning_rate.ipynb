{
 "cells": [
  {
   "cell_type": "markdown",
   "metadata": {},
   "source": [
    "# Subsimulation learning rate"
   ]
  },
  {
   "cell_type": "code",
   "execution_count": 1,
   "metadata": {
    "execution": {
     "iopub.execute_input": "2020-11-04T11:48:14.362127Z",
     "iopub.status.busy": "2020-11-04T11:48:14.361125Z",
     "iopub.status.idle": "2020-11-04T11:48:22.661139Z",
     "shell.execute_reply": "2020-11-04T11:48:22.660169Z",
     "shell.execute_reply.started": "2020-11-04T11:48:14.362127Z"
    }
   },
   "outputs": [],
   "source": [
    "import numpy as np\n",
    "\n",
    "import matplotlib.pyplot as plt\n",
    "import seaborn as sns\n",
    "\n",
    "from scipy.optimize import curve_fit\n",
    "from scipy.stats import truncnorm\n",
    "\n",
    "import numba as nb"
   ]
  },
  {
   "cell_type": "code",
   "execution_count": 2,
   "metadata": {
    "execution": {
     "iopub.execute_input": "2020-11-04T11:48:22.662136Z",
     "iopub.status.busy": "2020-11-04T11:48:22.662136Z",
     "iopub.status.idle": "2020-11-04T11:48:23.079131Z",
     "shell.execute_reply": "2020-11-04T11:48:23.078162Z",
     "shell.execute_reply.started": "2020-11-04T11:48:22.662136Z"
    }
   },
   "outputs": [],
   "source": [
    "from sedgen import initialization as ini\n",
    "from sedgen import general as gen\n",
    "from sedgen import preprocessing"
   ]
  },
  {
   "cell_type": "code",
   "execution_count": 3,
   "metadata": {
    "execution": {
     "iopub.execute_input": "2020-11-04T11:48:23.080132Z",
     "iopub.status.busy": "2020-11-04T11:48:23.080132Z",
     "iopub.status.idle": "2020-11-04T11:48:23.193130Z",
     "shell.execute_reply": "2020-11-04T11:48:23.192141Z",
     "shell.execute_reply.started": "2020-11-04T11:48:23.080132Z"
    }
   },
   "outputs": [],
   "source": [
    "%load_ext line_profiler\n",
    "%load_ext memory_profiler"
   ]
  },
  {
   "cell_type": "code",
   "execution_count": 4,
   "metadata": {
    "execution": {
     "iopub.execute_input": "2020-11-04T11:48:23.194132Z",
     "iopub.status.busy": "2020-11-04T11:48:23.194132Z",
     "iopub.status.idle": "2020-11-04T11:48:23.331161Z",
     "shell.execute_reply": "2020-11-04T11:48:23.331161Z",
     "shell.execute_reply.started": "2020-11-04T11:48:23.194132Z"
    }
   },
   "outputs": [],
   "source": [
    "# Load jupyter extension to reload packages before executing user code.\n",
    "# https://ipython.readthedocs.io/en/stable/config/extensions/autoreload.html\n",
    "%load_ext autoreload\n",
    "# Reload all packages (except those excluded by %aimport) every time \n",
    "# before executing the Python code typed.\n",
    "%autoreload 2"
   ]
  },
  {
   "cell_type": "markdown",
   "metadata": {},
   "source": [
    "____"
   ]
  },
  {
   "cell_type": "code",
   "execution_count": null,
   "metadata": {},
   "outputs": [],
   "source": [
    "sedgen_CA_NS.simulate_N_crystals()"
   ]
  },
  {
   "cell_type": "code",
   "execution_count": 29,
   "metadata": {
    "execution": {
     "iopub.execute_input": "2020-11-04T11:56:38.602664Z",
     "iopub.status.busy": "2020-11-04T11:56:38.601697Z",
     "iopub.status.idle": "2020-11-04T11:56:38.735675Z",
     "shell.execute_reply": "2020-11-04T11:56:38.734696Z",
     "shell.execute_reply.started": "2020-11-04T11:56:38.601697Z"
    }
   },
   "outputs": [],
   "source": [
    "a = (np.log(1/256) - np.log(sedgen_CA_NS.csd_means[0])) / sedgen_CA_NS.csd_stds[0]\n",
    "b = (np.log(30) - np.log(sedgen_CA_NS.csd_means[0])) / sedgen_CA_NS.csd_stds[0]"
   ]
  },
  {
   "cell_type": "code",
   "execution_count": 36,
   "metadata": {
    "execution": {
     "iopub.execute_input": "2020-11-04T11:57:38.240018Z",
     "iopub.status.busy": "2020-11-04T11:57:38.240018Z",
     "iopub.status.idle": "2020-11-04T11:57:38.361017Z",
     "shell.execute_reply": "2020-11-04T11:57:38.360016Z",
     "shell.execute_reply.started": "2020-11-04T11:57:38.240018Z"
    }
   },
   "outputs": [
    {
     "data": {
      "text/plain": [
       "-5.310769674842248"
      ]
     },
     "execution_count": 36,
     "metadata": {},
     "output_type": "execute_result"
    }
   ],
   "source": [
    "a"
   ]
  },
  {
   "cell_type": "code",
   "execution_count": 35,
   "metadata": {
    "execution": {
     "iopub.execute_input": "2020-11-04T11:57:23.999824Z",
     "iopub.status.busy": "2020-11-04T11:57:23.999824Z",
     "iopub.status.idle": "2020-11-04T11:57:27.340098Z",
     "shell.execute_reply": "2020-11-04T11:57:27.339133Z",
     "shell.execute_reply.started": "2020-11-04T11:57:23.999824Z"
    }
   },
   "outputs": [
    {
     "data": {
      "text/plain": [
       "(array([1838., 1720., 1753., ..., 1453., 1458., 1469.]),\n",
       " array([-5.54517648, -5.53921223, -5.53324798, ...,  3.38926537,\n",
       "         3.39522961,  3.40119386]),\n",
       " <BarContainer object of 1500 artists>)"
      ]
     },
     "execution_count": 35,
     "metadata": {},
     "output_type": "execute_result"
    },
    {
     "data": {
      "text/plain": [
       "[<matplotlib.lines.Line2D at 0x26dec68bd88>]"
      ]
     },
     "execution_count": 35,
     "metadata": {},
     "output_type": "execute_result"
    },
    {
     "data": {
      "image/png": "[encoded data removed]",
      "text/plain": [
       "<Figure size 432x288 with 1 Axes>"
      ]
     },
     "metadata": {
      "needs_background": "light"
     },
     "output_type": "display_data"
    }
   ],
   "source": [
    "plt.hist(sedgen_CA_NS.csds[0].rvs(10000000), bins=1500)\n",
    "plt.plot(np.linspace(a, np.log(30), 1501), sedgen_CA_NS.csds[0].pdf(np.log(sedgen_CA_NS.size_bins)) * 60000)"
   ]
  },
  {
   "cell_type": "code",
   "execution_count": 11,
   "metadata": {
    "execution": {
     "iopub.execute_input": "2020-11-04T11:50:20.478977Z",
     "iopub.status.busy": "2020-11-04T11:50:20.477972Z",
     "iopub.status.idle": "2020-11-04T11:50:24.728979Z",
     "shell.execute_reply": "2020-11-04T11:50:24.727965Z",
     "shell.execute_reply.started": "2020-11-04T11:50:20.478977Z"
    }
   },
   "outputs": [
    {
     "data": {
      "text/plain": [
       "(array([1704., 1750., 1683., ..., 1473., 1469., 1440.]),\n",
       " array([-17.28247923, -17.26458654, -17.24669384, ...,   9.52077481,\n",
       "          9.5386675 ,   9.5565602 ]),\n",
       " <BarContainer object of 1500 artists>)"
      ]
     },
     "execution_count": 11,
     "metadata": {},
     "output_type": "execute_result"
    },
    {
     "data": {
      "image/png": "[encoded data removed]",
      "text/plain": [
       "<Figure size 432x288 with 1 Axes>"
      ]
     },
     "metadata": {
      "needs_background": "light"
     },
     "output_type": "display_data"
    }
   ],
   "source": [
    "plt.hist(np.log(gen.calculate_volume_sphere(np.exp(sedgen_CA_NS.csds[0].rvs(10000000)))), bins=1500)"
   ]
  },
  {
   "cell_type": "code",
   "execution_count": 17,
   "metadata": {
    "execution": {
     "iopub.execute_input": "2020-11-03T09:53:40.217299Z",
     "iopub.status.busy": "2020-11-03T09:53:40.217299Z",
     "iopub.status.idle": "2020-11-03T09:53:40.337341Z",
     "shell.execute_reply": "2020-11-03T09:53:40.336325Z",
     "shell.execute_reply.started": "2020-11-03T09:53:40.217299Z"
    }
   },
   "outputs": [
    {
     "data": {
      "text/plain": [
       "1.362062370503422"
      ]
     },
     "execution_count": 17,
     "metadata": {},
     "output_type": "execute_result"
    }
   ],
   "source": [
    "np.exp(sedgen_CA_NS.csd_means[0])"
   ]
  },
  {
   "cell_type": "code",
   "execution_count": 19,
   "metadata": {
    "execution": {
     "iopub.execute_input": "2020-11-03T09:53:54.351534Z",
     "iopub.status.busy": "2020-11-03T09:53:54.350534Z",
     "iopub.status.idle": "2020-11-03T09:53:54.470535Z",
     "shell.execute_reply": "2020-11-03T09:53:54.469537Z",
     "shell.execute_reply.started": "2020-11-03T09:53:54.351534Z"
    }
   },
   "outputs": [
    {
     "data": {
      "text/plain": [
       "2.2773215645191884"
      ]
     },
     "execution_count": 19,
     "metadata": {},
     "output_type": "execute_result"
    }
   ],
   "source": [
    "np.exp(sedgen_CA_NS.csd_stds[0])"
   ]
  },
  {
   "cell_type": "code",
   "execution_count": 20,
   "metadata": {
    "execution": {
     "iopub.execute_input": "2020-11-03T09:54:45.921291Z",
     "iopub.status.busy": "2020-11-03T09:54:45.921291Z",
     "iopub.status.idle": "2020-11-03T09:54:46.050274Z",
     "shell.execute_reply": "2020-11-03T09:54:46.049275Z",
     "shell.execute_reply.started": "2020-11-03T09:54:45.921291Z"
    }
   },
   "outputs": [],
   "source": [
    "cvd_mean_0 = np.log(gen.calculate_volume_sphere(np.exp(sedgen_CA_NS.csd_means[0])))\n",
    "cvd_std_0 = np.log(gen.calculate_volume_sphere(np.exp(sedgen_CA_NS.csd_stds[0])))\n",
    "trunc_left = gen.calculate_volume_sphere(1/256)\n",
    "trunc_right = gen.calculate_volume_sphere(30)"
   ]
  },
  {
   "cell_type": "code",
   "execution_count": 63,
   "metadata": {
    "execution": {
     "iopub.execute_input": "2020-11-03T10:14:20.874961Z",
     "iopub.status.busy": "2020-11-03T10:14:20.873959Z",
     "iopub.status.idle": "2020-11-03T10:14:21.106959Z",
     "shell.execute_reply": "2020-11-03T10:14:21.105960Z",
     "shell.execute_reply.started": "2020-11-03T10:14:20.874961Z"
    }
   },
   "outputs": [
    {
     "data": {
      "text/plain": [
       "-4.0899270761267985"
      ]
     },
     "execution_count": 63,
     "metadata": {},
     "output_type": "execute_result"
    }
   ],
   "source": [
    "np.log(gen.calculate_volume_sphere(np.exp(sedgen_CA_NS.csds[0].rvs(1_000_000)))).mean()"
   ]
  },
  {
   "cell_type": "code",
   "execution_count": 73,
   "metadata": {
    "execution": {
     "iopub.execute_input": "2020-11-03T10:21:18.911713Z",
     "iopub.status.busy": "2020-11-03T10:21:18.911713Z",
     "iopub.status.idle": "2020-11-03T10:21:19.031729Z",
     "shell.execute_reply": "2020-11-03T10:21:19.030712Z",
     "shell.execute_reply.started": "2020-11-03T10:21:18.911713Z"
    }
   },
   "outputs": [
    {
     "data": {
      "text/plain": [
       "-1.2730713363185293"
      ]
     },
     "execution_count": 73,
     "metadata": {},
     "output_type": "execute_result"
    }
   ],
   "source": [
    "np.log(cvd_mean_0)"
   ]
  },
  {
   "cell_type": "code",
   "execution_count": 95,
   "metadata": {
    "execution": {
     "iopub.execute_input": "2020-11-03T12:40:37.733530Z",
     "iopub.status.busy": "2020-11-03T12:40:37.733530Z",
     "iopub.status.idle": "2020-11-03T12:40:38.023529Z",
     "shell.execute_reply": "2020-11-03T12:40:38.022528Z",
     "shell.execute_reply.started": "2020-11-03T12:40:37.733530Z"
    }
   },
   "outputs": [],
   "source": [
    "pdf_norm = sedgen_CA_NS.csds[0].pdf(np.log(sedgen_CA_NS.size_bins)) / np.sum(sedgen_CA_NS.csds[0].pdf(np.log(sedgen_CA_NS.size_bins)))"
   ]
  },
  {
   "cell_type": "code",
   "execution_count": 181,
   "metadata": {
    "execution": {
     "iopub.execute_input": "2020-11-03T14:42:16.206662Z",
     "iopub.status.busy": "2020-11-03T14:42:16.206662Z",
     "iopub.status.idle": "2020-11-03T14:42:16.332658Z",
     "shell.execute_reply": "2020-11-03T14:42:16.331664Z",
     "shell.execute_reply.started": "2020-11-03T14:42:16.206662Z"
    }
   },
   "outputs": [],
   "source": [
    "sizes = pdf_norm * 1e9"
   ]
  },
  {
   "cell_type": "code",
   "execution_count": 125,
   "metadata": {
    "execution": {
     "iopub.execute_input": "2020-11-03T12:46:33.434716Z",
     "iopub.status.busy": "2020-11-03T12:46:33.434716Z",
     "iopub.status.idle": "2020-11-03T12:46:33.552726Z",
     "shell.execute_reply": "2020-11-03T12:46:33.551711Z",
     "shell.execute_reply.started": "2020-11-03T12:46:33.434716Z"
    }
   },
   "outputs": [
    {
     "data": {
      "text/plain": [
       "1240.7009817987996"
      ]
     },
     "execution_count": 125,
     "metadata": {},
     "output_type": "execute_result"
    }
   ],
   "source": [
    "gen.calculate_equivalent_circular_diameter(1e9)"
   ]
  },
  {
   "cell_type": "code",
   "execution_count": 182,
   "metadata": {
    "execution": {
     "iopub.execute_input": "2020-11-03T14:42:17.764970Z",
     "iopub.status.busy": "2020-11-03T14:42:17.764970Z",
     "iopub.status.idle": "2020-11-03T14:42:17.890871Z",
     "shell.execute_reply": "2020-11-03T14:42:17.889905Z",
     "shell.execute_reply.started": "2020-11-03T14:42:17.764970Z"
    }
   },
   "outputs": [
    {
     "name": "stderr",
     "output_type": "stream",
     "text": [
      "C:\\Users\\u0108248\\AppData\\Local\\Continuum\\miniconda3\\envs\\sedgen\\lib\\site-packages\\ipykernel_launcher.py:1: RuntimeWarning: divide by zero encountered in log\n",
      "  \"\"\"Entry point for launching an IPython kernel.\n"
     ]
    }
   ],
   "source": [
    "nr = np.log(sizes) / sedgen_CA_NS.volume_bins"
   ]
  },
  {
   "cell_type": "code",
   "execution_count": 183,
   "metadata": {
    "execution": {
     "iopub.execute_input": "2020-11-03T14:42:18.985960Z",
     "iopub.status.busy": "2020-11-03T14:42:18.985960Z",
     "iopub.status.idle": "2020-11-03T14:42:19.211961Z",
     "shell.execute_reply": "2020-11-03T14:42:19.210997Z",
     "shell.execute_reply.started": "2020-11-03T14:42:18.985960Z"
    }
   },
   "outputs": [
    {
     "data": {
      "text/plain": [
       "[<matplotlib.lines.Line2D at 0x2730310c588>]"
      ]
     },
     "execution_count": 183,
     "metadata": {},
     "output_type": "execute_result"
    },
    {
     "data": {
      "image/png": "[encoded data removed]",
      "text/plain": [
       "<Figure size 432x288 with 1 Axes>"
      ]
     },
     "metadata": {
      "needs_background": "light"
     },
     "output_type": "display_data"
    }
   ],
   "source": [
    "plt.plot(sizes / np.exp(sedgen_CA_NS.size_bins))"
   ]
  },
  {
   "cell_type": "code",
   "execution_count": 196,
   "metadata": {
    "execution": {
     "iopub.execute_input": "2020-11-03T14:46:13.377092Z",
     "iopub.status.busy": "2020-11-03T14:46:13.377092Z",
     "iopub.status.idle": "2020-11-03T14:46:13.496090Z",
     "shell.execute_reply": "2020-11-03T14:46:13.495119Z",
     "shell.execute_reply.started": "2020-11-03T14:46:13.377092Z"
    }
   },
   "outputs": [
    {
     "data": {
      "text/plain": [
       "2857142857142"
      ]
     },
     "execution_count": 196,
     "metadata": {},
     "output_type": "execute_result"
    }
   ],
   "source": [
    "int(1e9 / (0.35 / 1000))"
   ]
  },
  {
   "cell_type": "code",
   "execution_count": 176,
   "metadata": {
    "execution": {
     "iopub.execute_input": "2020-11-03T14:40:46.234603Z",
     "iopub.status.busy": "2020-11-03T14:40:46.233603Z",
     "iopub.status.idle": "2020-11-03T14:40:46.487171Z",
     "shell.execute_reply": "2020-11-03T14:40:46.486198Z",
     "shell.execute_reply.started": "2020-11-03T14:40:46.234603Z"
    }
   },
   "outputs": [
    {
     "data": {
      "text/plain": [
       "[<matplotlib.lines.Line2D at 0x27302ee0408>]"
      ]
     },
     "execution_count": 176,
     "metadata": {},
     "output_type": "execute_result"
    },
    {
     "data": {
      "image/png": "[encoded data removed]",
      "text/plain": [
       "<Figure size 432x288 with 1 Axes>"
      ]
     },
     "metadata": {
      "needs_background": "light"
     },
     "output_type": "display_data"
    }
   ],
   "source": [
    "plt.plot(gen.weighted_bin_count(sedgen_CA_NS.crystal_size_array, w=None, ml=1501))"
   ]
  },
  {
   "cell_type": "code",
   "execution_count": 172,
   "metadata": {
    "execution": {
     "iopub.execute_input": "2020-11-03T14:39:12.843509Z",
     "iopub.status.busy": "2020-11-03T14:39:12.842472Z",
     "iopub.status.idle": "2020-11-03T14:39:12.962527Z",
     "shell.execute_reply": "2020-11-03T14:39:12.962527Z",
     "shell.execute_reply.started": "2020-11-03T14:39:12.843509Z"
    }
   },
   "outputs": [
    {
     "data": {
      "text/plain": [
       "202469870.7244935"
      ]
     },
     "execution_count": 172,
     "metadata": {},
     "output_type": "execute_result"
    }
   ],
   "source": [
    "np.sum(sizes / sedgen_CA_NS.size_bins)"
   ]
  },
  {
   "cell_type": "code",
   "execution_count": 144,
   "metadata": {
    "execution": {
     "iopub.execute_input": "2020-11-03T12:51:44.258145Z",
     "iopub.status.busy": "2020-11-03T12:51:44.257144Z",
     "iopub.status.idle": "2020-11-03T12:51:44.510137Z",
     "shell.execute_reply": "2020-11-03T12:51:44.509136Z",
     "shell.execute_reply.started": "2020-11-03T12:51:44.258145Z"
    }
   },
   "outputs": [
    {
     "data": {
      "text/plain": [
       "[<matplotlib.lines.Line2D at 0x273028b2748>]"
      ]
     },
     "execution_count": 144,
     "metadata": {},
     "output_type": "execute_result"
    },
    {
     "data": {
      "image/png": "[encoded data removed]",
      "text/plain": [
       "<Figure size 432x288 with 1 Axes>"
      ]
     },
     "metadata": {
      "needs_background": "light"
     },
     "output_type": "display_data"
    }
   ],
   "source": [
    "plt.plot(gen.bin_count(sedgen_CA_NS.crystal_size_array))\n",
    "# plt.plot(sizes)"
   ]
  },
  {
   "cell_type": "code",
   "execution_count": 132,
   "metadata": {
    "execution": {
     "iopub.execute_input": "2020-11-03T12:49:07.063872Z",
     "iopub.status.busy": "2020-11-03T12:49:07.063872Z",
     "iopub.status.idle": "2020-11-03T12:49:07.217871Z",
     "shell.execute_reply": "2020-11-03T12:49:07.216872Z",
     "shell.execute_reply.started": "2020-11-03T12:49:07.063872Z"
    }
   },
   "outputs": [
    {
     "data": {
      "text/plain": [
       "12327396.869233357"
      ]
     },
     "execution_count": 132,
     "metadata": {},
     "output_type": "execute_result"
    }
   ],
   "source": [
    "np.sum(gen.weighted_bin_count(sedgen_CA_NS.crystal_size_array, w=None, ml=1501) * sedgen_CA_NS.size_bins)"
   ]
  },
  {
   "cell_type": "code",
   "execution_count": 145,
   "metadata": {
    "execution": {
     "iopub.execute_input": "2020-11-03T14:31:09.990691Z",
     "iopub.status.busy": "2020-11-03T14:31:09.989705Z",
     "iopub.status.idle": "2020-11-03T14:31:10.114704Z",
     "shell.execute_reply": "2020-11-03T14:31:10.113708Z",
     "shell.execute_reply.started": "2020-11-03T14:31:09.990691Z"
    }
   },
   "outputs": [
    {
     "data": {
      "text/plain": [
       "8541915"
      ]
     },
     "execution_count": 145,
     "metadata": {},
     "output_type": "execute_result"
    }
   ],
   "source": [
    "sedgen_CA_NS.crystal_size_array.size"
   ]
  },
  {
   "cell_type": "code",
   "execution_count": 142,
   "metadata": {
    "execution": {
     "iopub.execute_input": "2020-11-03T12:51:10.046333Z",
     "iopub.status.busy": "2020-11-03T12:51:10.045332Z",
     "iopub.status.idle": "2020-11-03T12:51:10.162356Z",
     "shell.execute_reply": "2020-11-03T12:51:10.162356Z",
     "shell.execute_reply.started": "2020-11-03T12:51:10.046333Z"
    }
   },
   "outputs": [
    {
     "data": {
      "text/plain": [
       "8541915"
      ]
     },
     "execution_count": 142,
     "metadata": {},
     "output_type": "execute_result"
    }
   ],
   "source": [
    "sedgen_CA_NS.minerals_N_actual.sum()"
   ]
  },
  {
   "cell_type": "code",
   "execution_count": 92,
   "metadata": {
    "execution": {
     "iopub.execute_input": "2020-11-03T12:28:16.235303Z",
     "iopub.status.busy": "2020-11-03T12:28:16.235303Z",
     "iopub.status.idle": "2020-11-03T12:28:16.358301Z",
     "shell.execute_reply": "2020-11-03T12:28:16.357300Z",
     "shell.execute_reply.started": "2020-11-03T12:28:16.235303Z"
    }
   },
   "outputs": [
    {
     "data": {
      "text/plain": [
       "0.00390625"
      ]
     },
     "execution_count": 92,
     "metadata": {},
     "output_type": "execute_result"
    },
    {
     "data": {
      "text/plain": [
       "0.00390625"
      ]
     },
     "execution_count": 92,
     "metadata": {},
     "output_type": "execute_result"
    }
   ],
   "source": [
    "1/256\n",
    "sedgen_CA_NS.size_bins[200]"
   ]
  },
  {
   "cell_type": "code",
   "execution_count": 21,
   "metadata": {
    "execution": {
     "iopub.execute_input": "2020-11-03T09:54:46.410012Z",
     "iopub.status.busy": "2020-11-03T09:54:46.410012Z",
     "iopub.status.idle": "2020-11-03T09:54:46.530988Z",
     "shell.execute_reply": "2020-11-03T09:54:46.529974Z",
     "shell.execute_reply.started": "2020-11-03T09:54:46.410012Z"
    }
   },
   "outputs": [],
   "source": [
    "def initialize_csd(mean, std, trunc_left=1/256, trunc_right=30):\n",
    "    \"\"\"Initalizes the truncated lognormal crystal size distribution\n",
    "\n",
    "    Parameters:\n",
    "    -----------\n",
    "    m : int\n",
    "        Number specifying mineral class\n",
    "    trunc_left : float(optional)\n",
    "        Value to truncate lognormal distribution to on left side,\n",
    "        i.e. smallest values\n",
    "    trunc_right : float(optional)\n",
    "        Value to truncate lognormal distribution to on right side,\n",
    "        i.e. biggest values\n",
    "\n",
    "    Returns:\n",
    "    --------\n",
    "    csd : scipy.stats.truncnorm\n",
    "        Truncated lognormal crystal size distribution\n",
    "    \"\"\"\n",
    "\n",
    "    mean = np.log(mean)\n",
    "    std = np.exp(std)\n",
    "\n",
    "    if not np.isinf(trunc_left):\n",
    "        trunc_left = np.log(trunc_left)\n",
    "\n",
    "    if not np.isinf(trunc_right):\n",
    "        trunc_right = np.log(trunc_right)\n",
    "\n",
    "    a, b = (trunc_left - mean) / std, (trunc_right - mean) / std\n",
    "    csd = truncnorm(loc=mean, scale=std, a=a, b=b)\n",
    "\n",
    "    return csd"
   ]
  },
  {
   "cell_type": "code",
   "execution_count": 22,
   "metadata": {
    "execution": {
     "iopub.execute_input": "2020-11-03T09:54:47.089395Z",
     "iopub.status.busy": "2020-11-03T09:54:47.089395Z",
     "iopub.status.idle": "2020-11-03T09:54:47.214422Z",
     "shell.execute_reply": "2020-11-03T09:54:47.214422Z",
     "shell.execute_reply.started": "2020-11-03T09:54:47.089395Z"
    }
   },
   "outputs": [],
   "source": [
    "cvd_trunc = initialize_csd(cvd_mean_0, cvd_std_0, trunc_left, trunc_right)"
   ]
  },
  {
   "cell_type": "code",
   "execution_count": 26,
   "metadata": {
    "execution": {
     "iopub.execute_input": "2020-11-03T09:55:56.681079Z",
     "iopub.status.busy": "2020-11-03T09:55:56.681079Z",
     "iopub.status.idle": "2020-11-03T09:55:56.828081Z",
     "shell.execute_reply": "2020-11-03T09:55:56.827079Z",
     "shell.execute_reply.started": "2020-11-03T09:55:56.681079Z"
    }
   },
   "outputs": [
    {
     "data": {
      "text/plain": [
       "-1.7399046840996732"
      ]
     },
     "execution_count": 26,
     "metadata": {},
     "output_type": "execute_result"
    }
   ],
   "source": [
    "cvd_trunc.mean()"
   ]
  },
  {
   "cell_type": "code",
   "execution_count": 32,
   "metadata": {
    "execution": {
     "iopub.execute_input": "2020-11-03T09:56:47.931664Z",
     "iopub.status.busy": "2020-11-03T09:56:47.930662Z",
     "iopub.status.idle": "2020-11-03T09:56:48.062661Z",
     "shell.execute_reply": "2020-11-03T09:56:48.061659Z",
     "shell.execute_reply.started": "2020-11-03T09:56:47.931664Z"
    }
   },
   "outputs": [
    {
     "data": {
      "text/plain": [
       "-4.096627675742213"
      ]
     },
     "execution_count": 32,
     "metadata": {},
     "output_type": "execute_result"
    }
   ],
   "source": [
    "np.log(gen.calculate_volume_sphere(np.exp(sedgen_CA_NS.csds[0].mean())))"
   ]
  },
  {
   "cell_type": "code",
   "execution_count": 37,
   "metadata": {
    "execution": {
     "iopub.execute_input": "2020-11-03T09:58:00.336864Z",
     "iopub.status.busy": "2020-11-03T09:58:00.336864Z",
     "iopub.status.idle": "2020-11-03T09:58:00.459862Z",
     "shell.execute_reply": "2020-11-03T09:58:00.458861Z",
     "shell.execute_reply.started": "2020-11-03T09:58:00.336864Z"
    }
   },
   "outputs": [
    {
     "data": {
      "text/plain": [
       "0.3166791917991695"
      ]
     },
     "execution_count": 37,
     "metadata": {},
     "output_type": "execute_result"
    }
   ],
   "source": [
    "np.exp(sedgen_CA_NS.csds[0].mean())"
   ]
  },
  {
   "cell_type": "code",
   "execution_count": 42,
   "metadata": {
    "execution": {
     "iopub.execute_input": "2020-11-03T09:58:39.916082Z",
     "iopub.status.busy": "2020-11-03T09:58:39.916082Z",
     "iopub.status.idle": "2020-11-03T09:58:40.038095Z",
     "shell.execute_reply": "2020-11-03T09:58:40.037079Z",
     "shell.execute_reply.started": "2020-11-03T09:58:39.916082Z"
    }
   },
   "outputs": [
    {
     "data": {
      "text/plain": [
       "0.6858310906835234"
      ]
     },
     "execution_count": 42,
     "metadata": {},
     "output_type": "execute_result"
    }
   ],
   "source": [
    "sedgen_CA_NS.csds[0].std()"
   ]
  },
  {
   "cell_type": "code",
   "execution_count": 40,
   "metadata": {
    "execution": {
     "iopub.execute_input": "2020-11-03T09:58:24.543477Z",
     "iopub.status.busy": "2020-11-03T09:58:24.543477Z",
     "iopub.status.idle": "2020-11-03T09:58:24.655507Z",
     "shell.execute_reply": "2020-11-03T09:58:24.655507Z",
     "shell.execute_reply.started": "2020-11-03T09:58:24.543477Z"
    }
   },
   "outputs": [
    {
     "data": {
      "text/plain": [
       "0.823"
      ]
     },
     "execution_count": 40,
     "metadata": {},
     "output_type": "execute_result"
    }
   ],
   "source": [
    "sedgen_CA_NS.csd_stds[0]"
   ]
  },
  {
   "cell_type": "code",
   "execution_count": 30,
   "metadata": {
    "execution": {
     "iopub.execute_input": "2020-11-03T09:56:39.197174Z",
     "iopub.status.busy": "2020-11-03T09:56:39.196173Z",
     "iopub.status.idle": "2020-11-03T09:56:39.536171Z",
     "shell.execute_reply": "2020-11-03T09:56:39.535201Z",
     "shell.execute_reply.started": "2020-11-03T09:56:39.197174Z"
    }
   },
   "outputs": [
    {
     "data": {
      "text/plain": [
       "(array([ 11215.,  28118.,  59045., 102557., 147506., 175566., 175362.,\n",
       "        144234.,  99711.,  56686.]),\n",
       " array([-17.28252451, -14.59861758, -11.91471065,  -9.23080372,\n",
       "         -6.54689678,  -3.86298985,  -1.17908292,   1.50482401,\n",
       "          4.18873094,   6.87263788,   9.55654481]),\n",
       " <BarContainer object of 10 artists>)"
      ]
     },
     "execution_count": 30,
     "metadata": {},
     "output_type": "execute_result"
    },
    {
     "data": {
      "image/png": "[encoded data removed]",
      "text/plain": [
       "<Figure size 432x288 with 1 Axes>"
      ]
     },
     "metadata": {
      "needs_background": "light"
     },
     "output_type": "display_data"
    }
   ],
   "source": [
    "plt.hist(cvd_trunc.rvs(1_000_000))"
   ]
  },
  {
   "cell_type": "code",
   "execution_count": 60,
   "metadata": {
    "execution": {
     "iopub.execute_input": "2020-11-03T10:06:24.867720Z",
     "iopub.status.busy": "2020-11-03T10:06:24.867720Z",
     "iopub.status.idle": "2020-11-03T10:06:25.331719Z",
     "shell.execute_reply": "2020-11-03T10:06:25.330748Z",
     "shell.execute_reply.started": "2020-11-03T10:06:24.867720Z"
    }
   },
   "outputs": [
    {
     "data": {
      "text/plain": [
       "(array([ 37550.,  68322., 106478., 141574., 162345., 159088., 134680.,\n",
       "         97061.,  60570.,  32332.]),\n",
       " array([-17.28235782, -14.59849016, -11.91462251,  -9.23075485,\n",
       "         -6.5468872 ,  -3.86301954,  -1.17915189,   1.50471577,\n",
       "          4.18858342,   6.87245107,   9.55631873]),\n",
       " <BarContainer object of 10 artists>)"
      ]
     },
     "execution_count": 60,
     "metadata": {},
     "output_type": "execute_result"
    },
    {
     "data": {
      "text/plain": [
       "(array([ 11287.,  28440.,  59028., 102559., 147447., 175780., 175191.,\n",
       "        144721.,  99162.,  56385.]),\n",
       " array([-17.28240021, -14.598509  , -11.91461779,  -9.23072658,\n",
       "         -6.54683537,  -3.86294416,  -1.17905295,   1.50483825,\n",
       "          4.18872946,   6.87262067,   9.55651188]),\n",
       " <BarContainer object of 10 artists>)"
      ]
     },
     "execution_count": 60,
     "metadata": {},
     "output_type": "execute_result"
    },
    {
     "data": {
      "image/png": "[encoded data removed]",
      "text/plain": [
       "<Figure size 432x288 with 1 Axes>"
      ]
     },
     "metadata": {
      "needs_background": "light"
     },
     "output_type": "display_data"
    }
   ],
   "source": [
    "plt.hist(np.log(gen.calculate_volume_sphere(np.exp(sedgen_CA_NS.csds[0].rvs(1_000_000)))))\n",
    "plt.hist(cvd_trunc.rvs(1_000_000), alpha=0.8)"
   ]
  },
  {
   "cell_type": "code",
   "execution_count": null,
   "metadata": {},
   "outputs": [],
   "source": []
  }
 ],
 "metadata": {
  "kernelspec": {
   "display_name": "Python [conda env:sedgen]",
   "language": "python",
   "name": "conda-env-sedgen-py"
  },
  "language_info": {
   "codemirror_mode": {
    "name": "ipython",
    "version": 3
   },
   "file_extension": ".py",
   "mimetype": "text/x-python",
   "name": "python",
   "nbconvert_exporter": "python",
   "pygments_lexer": "ipython3",
   "version": "3.7.8"
  }
 },
 "nbformat": 4,
 "nbformat_minor": 4
}
