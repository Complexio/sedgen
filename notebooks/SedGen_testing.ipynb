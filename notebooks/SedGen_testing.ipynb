{
 "cells": [
  {
   "cell_type": "markdown",
   "metadata": {},
   "source": [
    "# SedGen testing"
   ]
  },
  {
   "cell_type": "markdown",
   "metadata": {},
   "source": [
    "## Imports"
   ]
  },
  {
   "cell_type": "code",
   "execution_count": 1,
   "metadata": {
    "execution": {
     "iopub.execute_input": "2021-04-07T15:46:28.252439Z",
     "iopub.status.busy": "2021-04-07T15:46:28.252439Z",
     "iopub.status.idle": "2021-04-07T15:46:33.910226Z",
     "shell.execute_reply": "2021-04-07T15:46:33.910226Z",
     "shell.execute_reply.started": "2021-04-07T15:46:28.252439Z"
    },
    "tags": []
   },
   "outputs": [],
   "source": [
    "import numpy as np\n",
    "import numba as nb\n",
    "from numba.typed import List\n",
    "import numexpr as ne\n",
    "import pandas as pd\n",
    "import itertools\n",
    "from operator import itemgetter\n",
    "import gc\n",
    "import copy\n",
    "\n",
    "from scipy.stats import norm, lognorm, truncnorm\n",
    "import matplotlib.pyplot as plt\n",
    "import seaborn as sns\n",
    "\n",
    "from collections import Counter, deque\n",
    "from sys import getsizeof"
   ]
  },
  {
   "cell_type": "code",
   "execution_count": 2,
   "metadata": {
    "execution": {
     "iopub.execute_input": "2021-04-07T15:46:33.912194Z",
     "iopub.status.busy": "2021-04-07T15:46:33.912194Z",
     "iopub.status.idle": "2021-04-07T15:46:34.316063Z",
     "shell.execute_reply": "2021-04-07T15:46:34.315064Z",
     "shell.execute_reply.started": "2021-04-07T15:46:33.912194Z"
    },
    "tags": []
   },
   "outputs": [],
   "source": [
    "from sedgen.initialization import SedGen\n",
    "from sedgen import initialization as ini\n",
    "from sedgen import general as gen\n",
    "from sedgen import preprocessing\n",
    "from sedgen import geostatistics"
   ]
  },
  {
   "cell_type": "code",
   "execution_count": 3,
   "metadata": {
    "execution": {
     "iopub.execute_input": "2021-04-07T15:46:34.318080Z",
     "iopub.status.busy": "2021-04-07T15:46:34.317065Z",
     "iopub.status.idle": "2021-04-07T15:46:34.399063Z",
     "shell.execute_reply": "2021-04-07T15:46:34.398093Z",
     "shell.execute_reply.started": "2021-04-07T15:46:34.318080Z"
    },
    "tags": []
   },
   "outputs": [],
   "source": [
    "%load_ext line_profiler\n",
    "%load_ext memory_profiler"
   ]
  },
  {
   "cell_type": "code",
   "execution_count": 4,
   "metadata": {
    "execution": {
     "iopub.execute_input": "2021-04-07T15:46:34.400064Z",
     "iopub.status.busy": "2021-04-07T15:46:34.400064Z",
     "iopub.status.idle": "2021-04-07T15:46:34.485071Z",
     "shell.execute_reply": "2021-04-07T15:46:34.485071Z",
     "shell.execute_reply.started": "2021-04-07T15:46:34.400064Z"
    },
    "tags": []
   },
   "outputs": [],
   "source": [
    "# Load jupyter extension to reload packages before executing user code.\n",
    "# https://ipython.readthedocs.io/en/stable/config/extensions/autoreload.html\n",
    "%load_ext autoreload\n",
    "# Reload all packages (except those excluded by %aimport) every time \n",
    "# before executing the Python code typed.\n",
    "%autoreload 2"
   ]
  },
  {
   "cell_type": "markdown",
   "metadata": {},
   "source": [
    "## Model input\n",
    "___"
   ]
  },
  {
   "cell_type": "markdown",
   "metadata": {},
   "source": [
    "### Parent rock characteristics"
   ]
  },
  {
   "cell_type": "code",
   "execution_count": 5,
   "metadata": {
    "execution": {
     "iopub.execute_input": "2021-04-07T15:46:36.844753Z",
     "iopub.status.busy": "2021-04-07T15:46:36.843751Z",
     "iopub.status.idle": "2021-04-07T15:46:36.922752Z",
     "shell.execute_reply": "2021-04-07T15:46:36.921749Z",
     "shell.execute_reply.started": "2021-04-07T15:46:36.844753Z"
    },
    "tags": []
   },
   "outputs": [],
   "source": [
    "# Unit is mm³\n",
    "parent_rock_volume = 1e9\n",
    "\n",
    "# Mineral classes present in parent rock\n",
    "minerals = [\"Q\", \"P\", \"K\", \"B\", \"O\", \"A\"]"
   ]
  },
  {
   "cell_type": "markdown",
   "metadata": {},
   "source": [
    "### Modal mineralogy\n",
    "This property will be represented by a mean value of parent rock samples.  \n",
    "The mean value should be calculated based on clr transformed data, though."
   ]
  },
  {
   "cell_type": "code",
   "execution_count": 6,
   "metadata": {
    "execution": {
     "iopub.execute_input": "2021-04-07T15:46:37.284456Z",
     "iopub.status.busy": "2021-04-07T15:46:37.283440Z",
     "iopub.status.idle": "2021-04-07T15:46:37.364438Z",
     "shell.execute_reply": "2021-04-07T15:46:37.363438Z",
     "shell.execute_reply.started": "2021-04-07T15:46:37.284456Z"
    },
    "tags": []
   },
   "outputs": [],
   "source": [
    "# Modal mineralogy mean values f CA-NS of Heins(1992)\n",
    "modal_mineralogy = np.array([0.30591989, 0.38159713, 0.26209888, 0.01882560, 0.00799247, 0.02356603])"
   ]
  },
  {
   "cell_type": "markdown",
   "metadata": {},
   "source": [
    "### Interfacial composition\n",
    "This property will be represented by a mean value of parent rock samples.  \n",
    "The mean value should be calculated based on clr transformed data, though."
   ]
  },
  {
   "cell_type": "code",
   "execution_count": 7,
   "metadata": {
    "execution": {
     "iopub.execute_input": "2021-04-07T15:46:37.717193Z",
     "iopub.status.busy": "2021-04-07T15:46:37.716192Z",
     "iopub.status.idle": "2021-04-07T15:46:37.796187Z",
     "shell.execute_reply": "2021-04-07T15:46:37.795194Z",
     "shell.execute_reply.started": "2021-04-07T15:46:37.716192Z"
    },
    "tags": []
   },
   "outputs": [],
   "source": [
    "interface_proportions_true = None"
   ]
  },
  {
   "cell_type": "markdown",
   "metadata": {},
   "source": [
    "### Crystal size distributions\n",
    "This property will be based on a mean crystal size and standard deviation  \n",
    "which will be represented as a log-normal distribution."
   ]
  },
  {
   "cell_type": "code",
   "execution_count": 8,
   "metadata": {
    "execution": {
     "iopub.execute_input": "2021-04-07T15:46:38.144542Z",
     "iopub.status.busy": "2021-04-07T15:46:38.144542Z",
     "iopub.status.idle": "2021-04-07T15:46:38.222539Z",
     "shell.execute_reply": "2021-04-07T15:46:38.221540Z",
     "shell.execute_reply.started": "2021-04-07T15:46:38.144542Z"
    },
    "tags": []
   },
   "outputs": [],
   "source": [
    "csds_CA_NS_means = np.array([0.309, 0.330, 0.244, 0.223, 0.120, 0.122])\n",
    "csds_CA_NS_stds = np.array([0.823, 0.683, 0.817, 0.819, 0.554, 0.782])"
   ]
  },
  {
   "cell_type": "markdown",
   "metadata": {},
   "source": [
    "## Initialization"
   ]
  },
  {
   "cell_type": "code",
   "execution_count": 9,
   "metadata": {
    "execution": {
     "iopub.execute_input": "2021-04-07T15:46:39.363216Z",
     "iopub.status.busy": "2021-04-07T15:46:39.363216Z",
     "iopub.status.idle": "2021-04-07T15:46:39.446250Z",
     "shell.execute_reply": "2021-04-07T15:46:39.445208Z",
     "shell.execute_reply.started": "2021-04-07T15:46:39.363216Z"
    },
    "tags": []
   },
   "outputs": [],
   "source": [
    "# Create scenario data\n",
    "balance = np.array([0.5] * 100)\n",
    "climate = np.array([2] * 100)\n",
    "# Keep additional input material limited to first couple of steps\n",
    "# Otherwise this has a massive performance impact regarding the time it\n",
    "# takes for the model to execute due to very high number of pcgs/mcgs.\n",
    "new_input = np.array([0.01] * 10 + [0.0] * 90)\n",
    "scenario_array = np.stack([balance, climate, new_input], axis=1)"
   ]
  },
  {
   "cell_type": "code",
   "execution_count": 11,
   "metadata": {
    "execution": {
     "iopub.execute_input": "2021-04-07T15:48:20.472333Z",
     "iopub.status.busy": "2021-04-07T15:48:20.471332Z",
     "iopub.status.idle": "2021-04-07T15:48:51.633502Z",
     "shell.execute_reply": "2021-04-07T15:48:51.632529Z",
     "shell.execute_reply.started": "2021-04-07T15:48:20.472333Z"
    },
    "tags": []
   },
   "outputs": [
    {
     "name": "stdout",
     "output_type": "stream",
     "text": [
      "---SedGen model initialization started---\n",
      "\n",
      "Initializing modal mineralogy...\n",
      "Initializing csds...\n",
      "Initializing bins...\n",
      "Simulating mineral occurences... |Q|P|K|B|O|A| Done in 1.5288 seconds\n",
      "Initializing interfaces... |Q|P|K|B|O|A| Done in 2.8075 seconds\n",
      "Counting interfaces...  Done in 0.0330 seconds\n",
      "Correcting interface arrays for consistency...\n",
      "too much Q 1\n",
      "all good P 0\n",
      "all good K 0\n",
      "all good B 0\n",
      "all good O 0\n",
      "too few A -1\n",
      "Initializing crystal size array... |Q|P|K|B|O|A| Done in 0.2263 seconds\n",
      "Initializing inter-crystal breakage probability arrays...\n",
      "Initializing model evolution arrays...\n",
      "Initializing discretization for model's weathering...\n",
      "100/100\n",
      "---SedGen model initialization finished succesfully---\n",
      "Wall time: 31 s\n"
     ]
    }
   ],
   "source": [
    "%%time\n",
    "sedgen_CA_NS = SedGen(minerals, \n",
    "                      parent_rock_volume, \n",
    "                      modal_mineralogy,\n",
    "                      csds_CA_NS_means, \n",
    "                      csds_CA_NS_stds, \n",
    "                      scenario_data=scenario_array,\n",
    "                      learning_rate=10000, \n",
    "                      timed=True,\n",
    "                      chem_weath_rates=[0.01, 0.05, 0.1, 0.03, 0.02, 0.04])"
   ]
  },
  {
   "cell_type": "markdown",
   "metadata": {
    "execution": {
     "iopub.execute_input": "2021-04-05T11:50:13.217590Z",
     "iopub.status.busy": "2021-04-05T11:50:13.217590Z",
     "iopub.status.idle": "2021-04-05T11:50:13.298628Z",
     "shell.execute_reply": "2021-04-05T11:50:13.297604Z",
     "shell.execute_reply.started": "2021-04-05T11:50:13.217590Z"
    }
   },
   "source": [
    "___"
   ]
  },
  {
   "cell_type": "code",
   "execution_count": 13,
   "metadata": {
    "execution": {
     "iopub.execute_input": "2021-04-07T08:49:05.053593Z",
     "iopub.status.busy": "2021-04-07T08:49:05.053593Z",
     "iopub.status.idle": "2021-04-07T08:50:53.451563Z",
     "shell.execute_reply": "2021-04-07T08:50:53.450330Z",
     "shell.execute_reply.started": "2021-04-07T08:49:05.053593Z"
    },
    "tags": []
   },
   "outputs": [
    {
     "name": "stdout",
     "output_type": "stream",
     "text": [
      "After 81 steps all pcgs have been broken down to mcg\n",
      "Wall time: 1min 48s\n"
     ]
    }
   ],
   "source": [
    "%%time\n",
    "sedgen_CA_NS_mech = \\\n",
    "    sedgen_CA_NS.weathering(\n",
    "        operations=[\"intra_cb\", \"inter_cb\"], \n",
    "        timesteps=100, inplace=False)"
   ]
  },
  {
   "cell_type": "markdown",
   "metadata": {},
   "source": [
    "Examples of duration for new material input with only mechanical weathering:\n",
    "- 10% new material every step out of 100 steps: 11m30s\n",
    "- 10% new material for first 10 steps out of 100 steps: 4m58s\n",
    "- 1% new material for first 10 steps out of 100 steps: 2m10s\n",
    "- no new input: 1m58s"
   ]
  },
  {
   "cell_type": "code",
   "execution_count": 19,
   "metadata": {
    "execution": {
     "iopub.execute_input": "2021-04-05T12:39:10.693294Z",
     "iopub.status.busy": "2021-04-05T12:39:10.693294Z",
     "iopub.status.idle": "2021-04-05T12:39:48.592223Z",
     "shell.execute_reply": "2021-04-05T12:39:48.586194Z",
     "shell.execute_reply.started": "2021-04-05T12:39:10.693294Z"
    },
    "tags": []
   },
   "outputs": [
    {
     "name": "stdout",
     "output_type": "stream",
     "text": [
      "Wall time: 37.8 s\n"
     ]
    }
   ],
   "source": [
    "%%time\n",
    "sedgen_CA_NS_chem = \\\n",
    "    sedgen_CA_NS.weathering(\n",
    "        operations=[\"chem_mcg\", \"chem_pcg\"], \n",
    "        timesteps=100, inplace=False)"
   ]
  },
  {
   "cell_type": "markdown",
   "metadata": {},
   "source": [
    "Examples of duration for new material input with only chemical weathering:\n",
    "- 10% new material every step out of 100 steps: not checked\n",
    "- 10% new material for first 10 steps out of 100 steps: not checked\n",
    "- 1% new material for first 10 steps out of 100 steps: 37.8s\n",
    "- no new input: 24s"
   ]
  },
  {
   "cell_type": "code",
   "execution_count": 12,
   "metadata": {
    "execution": {
     "iopub.execute_input": "2021-04-07T15:48:57.604813Z",
     "iopub.status.busy": "2021-04-07T15:48:57.604813Z",
     "iopub.status.idle": "2021-04-07T15:50:46.527406Z",
     "shell.execute_reply": "2021-04-07T15:50:46.526398Z",
     "shell.execute_reply.started": "2021-04-07T15:48:57.604813Z"
    },
    "tags": []
   },
   "outputs": [
    {
     "name": "stdout",
     "output_type": "stream",
     "text": [
      "After 70 steps all pcgs have been broken down to mcg\n",
      "Wall time: 1min 48s\n"
     ]
    }
   ],
   "source": [
    "%%time\n",
    "sedgen_CA_NS_both = \\\n",
    "    sedgen_CA_NS.weathering(\n",
    "    operations=[\"intra_cb\", \"inter_cb\", \n",
    "                \"chem_mcg\", \"chem_pcg\"], \n",
    "    timesteps=100, inplace=False)"
   ]
  },
  {
   "cell_type": "markdown",
   "metadata": {},
   "source": [
    "Examples of duration for new material input with both types of weathering:\n",
    "- 10% new material every step out of 100 steps: not checked\n",
    "- 10% new material for first 10 steps out of 100 steps: not checked\n",
    "- 1% new material for first 10 steps out of 100 steps: 2m19s\n",
    "- no new input: 1m06s"
   ]
  },
  {
   "cell_type": "markdown",
   "metadata": {},
   "source": [
    "___"
   ]
  },
  {
   "cell_type": "code",
   "execution_count": null,
   "metadata": {},
   "outputs": [],
   "source": []
  }
 ],
 "metadata": {
  "kernelspec": {
   "display_name": "Python [conda env:sedgen]",
   "language": "python",
   "name": "conda-env-sedgen-py"
  },
  "language_info": {
   "codemirror_mode": {
    "name": "ipython",
    "version": 3
   },
   "file_extension": ".py",
   "mimetype": "text/x-python",
   "name": "python",
   "nbconvert_exporter": "python",
   "pygments_lexer": "ipython3",
   "version": "3.7.10"
  }
 },
 "nbformat": 4,
 "nbformat_minor": 4
}
