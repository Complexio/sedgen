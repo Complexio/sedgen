{
 "cells": [
  {
   "cell_type": "markdown",
   "metadata": {},
   "source": [
    "# SedGen: examples"
   ]
  },
  {
   "cell_type": "markdown",
   "metadata": {},
   "source": [
    "## Imports"
   ]
  },
  {
   "cell_type": "code",
   "execution_count": 1,
   "metadata": {
    "execution": {
     "iopub.execute_input": "2021-02-10T12:48:44.904396Z",
     "iopub.status.busy": "2021-02-10T12:48:44.904396Z",
     "iopub.status.idle": "2021-02-10T12:48:51.188042Z",
     "shell.execute_reply": "2021-02-10T12:48:51.188042Z",
     "shell.execute_reply.started": "2021-02-10T12:48:44.904396Z"
    }
   },
   "outputs": [],
   "source": [
    "import numpy as np\n",
    "import numba as nb\n",
    "from numba.typed import List\n",
    "import numexpr as ne\n",
    "import pandas as pd\n",
    "import itertools\n",
    "from operator import itemgetter\n",
    "import gc\n",
    "import copy\n",
    "\n",
    "from scipy.stats import norm, lognorm, truncnorm\n",
    "import matplotlib.pyplot as plt\n",
    "import seaborn as sns\n",
    "\n",
    "from collections import Counter, deque\n",
    "from sys import getsizeof"
   ]
  },
  {
   "cell_type": "code",
   "execution_count": 2,
   "metadata": {
    "execution": {
     "iopub.execute_input": "2021-02-10T12:48:51.190173Z",
     "iopub.status.busy": "2021-02-10T12:48:51.190173Z",
     "iopub.status.idle": "2021-02-10T12:48:51.595557Z",
     "shell.execute_reply": "2021-02-10T12:48:51.594557Z",
     "shell.execute_reply.started": "2021-02-10T12:48:51.190173Z"
    }
   },
   "outputs": [],
   "source": [
    "from sedgen.initialization import SedGen\n",
    "from sedgen import initialization as ini\n",
    "from sedgen import general as gen\n",
    "from sedgen import preprocessing\n",
    "from sedgen import geostatistics"
   ]
  },
  {
   "cell_type": "code",
   "execution_count": 3,
   "metadata": {
    "execution": {
     "iopub.execute_input": "2021-02-10T12:48:51.597558Z",
     "iopub.status.busy": "2021-02-10T12:48:51.596560Z",
     "iopub.status.idle": "2021-02-10T12:48:51.670557Z",
     "shell.execute_reply": "2021-02-10T12:48:51.669558Z",
     "shell.execute_reply.started": "2021-02-10T12:48:51.597558Z"
    }
   },
   "outputs": [],
   "source": [
    "%load_ext line_profiler\n",
    "%load_ext memory_profiler"
   ]
  },
  {
   "cell_type": "code",
   "execution_count": 4,
   "metadata": {
    "execution": {
     "iopub.execute_input": "2021-02-10T12:48:51.671560Z",
     "iopub.status.busy": "2021-02-10T12:48:51.671560Z",
     "iopub.status.idle": "2021-02-10T12:48:51.757556Z",
     "shell.execute_reply": "2021-02-10T12:48:51.757556Z",
     "shell.execute_reply.started": "2021-02-10T12:48:51.671560Z"
    }
   },
   "outputs": [],
   "source": [
    "# Load jupyter extension to reload packages before executing user code.\n",
    "# https://ipython.readthedocs.io/en/stable/config/extensions/autoreload.html\n",
    "%load_ext autoreload\n",
    "# Reload all packages (except those excluded by %aimport) every time \n",
    "# before executing the Python code typed.\n",
    "%autoreload 2"
   ]
  },
  {
   "cell_type": "markdown",
   "metadata": {},
   "source": [
    "## Model input\n",
    "___"
   ]
  },
  {
   "cell_type": "markdown",
   "metadata": {},
   "source": [
    "### Parent rock characteristics"
   ]
  },
  {
   "cell_type": "code",
   "execution_count": 5,
   "metadata": {
    "execution": {
     "iopub.execute_input": "2021-02-10T12:48:54.655581Z",
     "iopub.status.busy": "2021-02-10T12:48:54.655581Z",
     "iopub.status.idle": "2021-02-10T12:48:54.725467Z",
     "shell.execute_reply": "2021-02-10T12:48:54.724467Z",
     "shell.execute_reply.started": "2021-02-10T12:48:54.655581Z"
    }
   },
   "outputs": [],
   "source": [
    "# Unit is mm³\n",
    "parent_rock_volume = 1e9\n",
    "\n",
    "# Mineral classes present in parent rock\n",
    "minerals = [\"Q\", \"P\", \"K\", \"B\", \"O\", \"A\"]"
   ]
  },
  {
   "cell_type": "markdown",
   "metadata": {},
   "source": [
    "### Modal mineralogy\n",
    "This property will be represented by a mean value of parent rock samples.  \n",
    "The mean value should be calculated based on clr transformed data, though."
   ]
  },
  {
   "cell_type": "code",
   "execution_count": 6,
   "metadata": {
    "execution": {
     "iopub.execute_input": "2021-02-10T12:48:55.126653Z",
     "iopub.status.busy": "2021-02-10T12:48:55.126653Z",
     "iopub.status.idle": "2021-02-10T12:48:55.193251Z",
     "shell.execute_reply": "2021-02-10T12:48:55.193251Z",
     "shell.execute_reply.started": "2021-02-10T12:48:55.126653Z"
    }
   },
   "outputs": [],
   "source": [
    "# Modal mineralogy mean values f CA-NS of Heins(1992)\n",
    "modal_mineralogy = np.array([0.30591989, 0.38159713, 0.26209888, 0.01882560, 0.00799247, 0.02356603])"
   ]
  },
  {
   "cell_type": "markdown",
   "metadata": {},
   "source": [
    "### Interfacial composition\n",
    "This property will be represented by a mean value of parent rock samples.  \n",
    "The mean value should be calculated based on clr transformed data, though."
   ]
  },
  {
   "cell_type": "code",
   "execution_count": 7,
   "metadata": {
    "execution": {
     "iopub.execute_input": "2021-02-10T12:48:55.757923Z",
     "iopub.status.busy": "2021-02-10T12:48:55.757923Z",
     "iopub.status.idle": "2021-02-10T12:48:55.824923Z",
     "shell.execute_reply": "2021-02-10T12:48:55.823923Z",
     "shell.execute_reply.started": "2021-02-10T12:48:55.757923Z"
    }
   },
   "outputs": [],
   "source": [
    "interface_proportions_true = None"
   ]
  },
  {
   "cell_type": "markdown",
   "metadata": {},
   "source": [
    "### Crystal size distributions\n",
    "This property will be based on a mean crystal size and standard deviation  \n",
    "which will be represented as a log-normal distribution."
   ]
  },
  {
   "cell_type": "code",
   "execution_count": 8,
   "metadata": {
    "execution": {
     "iopub.execute_input": "2021-02-10T12:48:57.104562Z",
     "iopub.status.busy": "2021-02-10T12:48:57.104562Z",
     "iopub.status.idle": "2021-02-10T12:48:57.180162Z",
     "shell.execute_reply": "2021-02-10T12:48:57.180162Z",
     "shell.execute_reply.started": "2021-02-10T12:48:57.104562Z"
    }
   },
   "outputs": [],
   "source": [
    "csds_CA_NS_means = np.array([0.309, 0.330, 0.244, 0.223, 0.120, 0.122])\n",
    "csds_CA_NS_stds = np.array([0.823, 0.683, 0.817, 0.819, 0.554, 0.782])"
   ]
  },
  {
   "cell_type": "code",
   "execution_count": 9,
   "metadata": {
    "execution": {
     "iopub.execute_input": "2021-02-10T12:48:57.373768Z",
     "iopub.status.busy": "2021-02-10T12:48:57.372768Z",
     "iopub.status.idle": "2021-02-10T12:48:58.062209Z",
     "shell.execute_reply": "2021-02-10T12:48:58.062209Z",
     "shell.execute_reply.started": "2021-02-10T12:48:57.373768Z"
    }
   },
   "outputs": [
    {
     "data": {
      "text/plain": [
       "0.9999999999999999"
      ]
     },
     "execution_count": 9,
     "metadata": {},
     "output_type": "execute_result"
    }
   ],
   "source": [
    "crystal_strengths_normalized = gen.normalize(np.array([5, 2, 0.8, 2.5, 4, 3])).reshape(-1, 1)\n",
    "crystal_strengths_normalized.sum()"
   ]
  },
  {
   "cell_type": "code",
   "execution_count": 10,
   "metadata": {
    "execution": {
     "iopub.execute_input": "2021-02-10T12:48:58.064212Z",
     "iopub.status.busy": "2021-02-10T12:48:58.064212Z",
     "iopub.status.idle": "2021-02-10T12:48:58.137918Z",
     "shell.execute_reply": "2021-02-10T12:48:58.137918Z",
     "shell.execute_reply.started": "2021-02-10T12:48:58.064212Z"
    }
   },
   "outputs": [
    {
     "data": {
      "text/plain": [
       "array([[0.08353102, 0.03341241, 0.01336496, 0.04176551, 0.06682482,\n",
       "        0.05011861],\n",
       "       [0.03341241, 0.01336496, 0.00534599, 0.0167062 , 0.02672993,\n",
       "        0.02004745],\n",
       "       [0.01336496, 0.00534599, 0.00213839, 0.00668248, 0.01069197,\n",
       "        0.00801898],\n",
       "       [0.04176551, 0.0167062 , 0.00668248, 0.02088276, 0.03341241,\n",
       "        0.02505931],\n",
       "       [0.06682482, 0.02672993, 0.01069197, 0.03341241, 0.05345985,\n",
       "        0.04009489],\n",
       "       [0.05011861, 0.02004745, 0.00801898, 0.02505931, 0.04009489,\n",
       "        0.03007117]])"
      ]
     },
     "execution_count": 10,
     "metadata": {},
     "output_type": "execute_result"
    }
   ],
   "source": [
    "(crystal_strengths_normalized * crystal_strengths_normalized.T)"
   ]
  },
  {
   "cell_type": "markdown",
   "metadata": {},
   "source": [
    "## Initialization"
   ]
  },
  {
   "cell_type": "code",
   "execution_count": null,
   "metadata": {
    "execution": {
     "iopub.execute_input": "2021-02-10T12:49:06.908322Z",
     "iopub.status.busy": "2021-02-10T12:49:06.908322Z"
    }
   },
   "outputs": [
    {
     "name": "stdout",
     "output_type": "stream",
     "text": [
      "---SedGen model initialization started---\n",
      "\n",
      "Initializing modal mineralogy...\n",
      "Initializing csds...\n",
      "Initializing bins...\n",
      "Simulating mineral occurences... |Q|P|K|B|O|A| Done in 1.6196 seconds\n",
      "Initializing interfaces... |Q|P|K|B|O|A| Done in 3.9030 seconds\n",
      "Counting interfaces...  Done in 0.0336 seconds\n",
      "Correcting interface arrays for consistency...\n",
      "too much Q 1\n",
      "all good P 0\n",
      "all good K 0\n",
      "all good B 0\n",
      "all good O 0\n",
      "too few A -1\n",
      "Initializing crystal size array... |Q|P|K|B|O|A| Done in 0.6292 seconds\n",
      "Initializing inter-crystal breakage probability arrays...\n"
     ]
    }
   ],
   "source": [
    "%%time\n",
    "sedgen_CA_NS = SedGen(minerals, \n",
    "                      parent_rock_volume, \n",
    "                      modal_mineralogy,\n",
    "                      csds_CA_NS_means, \n",
    "                      csds_CA_NS_stds, \n",
    "                      learning_rate=10000, \n",
    "                      timed=True,\n",
    "                      chem_weath_rates=[0.01, 0.05, 0.1, 0.03, 0.02, 0.04])"
   ]
  },
  {
   "cell_type": "code",
   "execution_count": 19,
   "metadata": {
    "execution": {
     "iopub.execute_input": "2020-12-10T08:50:24.122588Z",
     "iopub.status.busy": "2020-12-10T08:50:24.121603Z",
     "iopub.status.idle": "2020-12-10T08:50:59.500602Z",
     "shell.execute_reply": "2020-12-10T08:50:59.499592Z",
     "shell.execute_reply.started": "2020-12-10T08:50:24.122588Z"
    }
   },
   "outputs": [
    {
     "name": "stdout",
     "output_type": "stream",
     "text": [
      "---SedGen model initialization started---\n",
      "\n",
      "Initializing modal mineralogy...\n",
      "Initializing csds...\n",
      "Initializing bins...\n",
      "Simulating mineral occurences... |Q|P|K|B|O|A| Done in 2.1820 seconds\n",
      "Initializing interfaces... |Q|P|K|B|O|A| Done in 3.4439 seconds\n",
      "Counting interfaces...  Done in 0.0371 seconds\n",
      "Correcting interface arrays for consistency...\n",
      "too much Q 1\n",
      "all good P 0\n",
      "all good K 0\n",
      "all good B 0\n",
      "all good O 0\n",
      "too few A -1\n",
      "Initializing crystal size array... |Q|P|K|B|O|A| Done in 0.2199 seconds\n",
      "Initializing inter-crystal breakage probability arrays...\n",
      "Initializing model evolution arrays...\n",
      "Initializing discretization for model's weathering...\n",
      "100/100\n",
      "---SedGen model initialization finished succesfully---\n",
      "Wall time: 35.3 s\n"
     ]
    }
   ],
   "source": [
    "%%time\n",
    "sedgen_CA_NS = SedGen(minerals, \n",
    "                      parent_rock_volume, \n",
    "                      modal_mineralogy,\n",
    "                      csds_CA_NS_means, \n",
    "                      csds_CA_NS_stds, \n",
    "                      learning_rate=10000, \n",
    "                      timed=True,\n",
    "                      chem_weath_rates=[0.01, 0.05, 0.1, 0.03, 0.02, 0.04])"
   ]
  },
  {
   "cell_type": "code",
   "execution_count": 36,
   "metadata": {
    "execution": {
     "iopub.execute_input": "2020-12-02T09:00:29.958303Z",
     "iopub.status.busy": "2020-12-02T09:00:29.958303Z",
     "iopub.status.idle": "2020-12-02T09:00:30.032274Z",
     "shell.execute_reply": "2020-12-02T09:00:30.032274Z",
     "shell.execute_reply.started": "2020-12-02T09:00:29.958303Z"
    }
   },
   "outputs": [],
   "source": [
    "def autolabel(rects):\n",
    "    \"\"\"Attach a text label above each bar in *rects*, displaying its height.\"\"\"\n",
    "    for rect in rects:\n",
    "        height = rect.get_height()\n",
    "        ax.annotate(f'{height}',\n",
    "                    xy=(rect.get_x() + rect.get_width() / 2, height),\n",
    "                    xytext=(0, 3),  # 3 points vertical offset\n",
    "                    textcoords=\"offset points\",\n",
    "                    ha='center', va='bottom')"
   ]
  },
  {
   "cell_type": "code",
   "execution_count": 45,
   "metadata": {
    "execution": {
     "iopub.execute_input": "2020-12-02T09:14:06.714352Z",
     "iopub.status.busy": "2020-12-02T09:14:06.714352Z",
     "iopub.status.idle": "2020-12-02T09:14:06.977362Z",
     "shell.execute_reply": "2020-12-02T09:14:06.976383Z",
     "shell.execute_reply.started": "2020-12-02T09:14:06.714352Z"
    }
   },
   "outputs": [
    {
     "data": {
      "image/png": "[encoded data removed]",
      "text/plain": [
       "<Figure size 432x288 with 1 Axes>"
      ]
     },
     "metadata": {
      "needs_background": "light"
     },
     "output_type": "display_data"
    }
   ],
   "source": [
    "fig, ax = plt.subplots()\n",
    "minerals_N_normalized = gen.normalize(sedgen_CA_NS.minerals_N)\n",
    "rects = ax.bar(x=sedgen_CA_NS.minerals, height=np.round(minerals_N_normalized, 2), color=sns.color_palette())\n",
    "autolabel(rects) \n",
    "plt.ylabel(\"y\", rotation=0, labelpad=10)\n",
    "\n",
    "sns.despine()\n",
    "plt.savefig(\"_FIGURES/barplot_minerals_N_relative_CA-NS.pdf\")\n",
    "plt.show();"
   ]
  },
  {
   "cell_type": "code",
   "execution_count": 41,
   "metadata": {
    "execution": {
     "iopub.execute_input": "2020-12-02T09:03:47.816329Z",
     "iopub.status.busy": "2020-12-02T09:03:47.815335Z",
     "iopub.status.idle": "2020-12-02T09:03:48.090330Z",
     "shell.execute_reply": "2020-12-02T09:03:48.089326Z",
     "shell.execute_reply.started": "2020-12-02T09:03:47.816329Z"
    }
   },
   "outputs": [
    {
     "data": {
      "image/png": "[encoded data removed]",
      "text/plain": [
       "<Figure size 432x288 with 1 Axes>"
      ]
     },
     "metadata": {
      "needs_background": "light"
     },
     "output_type": "display_data"
    }
   ],
   "source": [
    "fig, ax = plt.subplots()\n",
    "rects = ax.bar(x=sedgen_CA_NS.minerals, height=sedgen_CA_NS.minerals_N, color=sns.color_palette())\n",
    "autolabel(rects) \n",
    "plt.ylabel(\"N\", rotation=0, labelpad=10)\n",
    "\n",
    "sns.despine()\n",
    "plt.savefig(\"_FIGURES/barplot_minerals_N_CA-NS.pdf\")\n",
    "plt.show();"
   ]
  },
  {
   "cell_type": "code",
   "execution_count": 85,
   "metadata": {
    "execution": {
     "iopub.execute_input": "2020-12-02T10:55:08.708614Z",
     "iopub.status.busy": "2020-12-02T10:55:08.708614Z",
     "iopub.status.idle": "2020-12-02T10:55:09.003023Z",
     "shell.execute_reply": "2020-12-02T10:55:09.001021Z",
     "shell.execute_reply.started": "2020-12-02T10:55:08.708614Z"
    }
   },
   "outputs": [
    {
     "data": {
      "image/png": "[encoded data removed]",
      "text/plain": [
       "<Figure size 432x288 with 1 Axes>"
      ]
     },
     "metadata": {},
     "output_type": "display_data"
    }
   ],
   "source": [
    "fig, ax = plt.subplots()\n",
    "rects = ax.bar(x=sedgen_CA_NS.minerals, height=np.round(sedgen_CA_NS.modal_mineralogy, 2), color=sns.color_palette())\n",
    "autolabel(rects) \n",
    "\n",
    "# Set the color of the visible spines\n",
    "ax.spines['left'].set_color('grey')\n",
    "ax.spines['bottom'].set_color('grey')\n",
    "\n",
    "# Set general tick parameters\n",
    "ax.tick_params(axis='both',\n",
    "               direction='out',\n",
    "               colors='grey',\n",
    "               labelsize=9)\n",
    "\n",
    "ax.set_ylabel(\"x\", rotation=0, labelpad=10, color='grey')\n",
    "\n",
    "# Set facecolor of figure\n",
    "plt.gcf().set_facecolor('white')\n",
    "\n",
    "sns.despine()\n",
    "plt.savefig(\"_FIGURES/barplot_modal_mineralogy_CA-NS.pdf\")\n",
    "plt.show();"
   ]
  },
  {
   "cell_type": "code",
   "execution_count": 28,
   "metadata": {
    "execution": {
     "iopub.execute_input": "2020-11-30T13:07:15.934210Z",
     "iopub.status.busy": "2020-11-30T13:07:15.934210Z",
     "iopub.status.idle": "2020-11-30T13:07:16.180210Z",
     "shell.execute_reply": "2020-11-30T13:07:16.179209Z",
     "shell.execute_reply.started": "2020-11-30T13:07:15.934210Z"
    }
   },
   "outputs": [
    {
     "data": {
      "text/plain": [
       "1000098378.8610446"
      ]
     },
     "execution_count": 28,
     "metadata": {},
     "output_type": "execute_result"
    }
   ],
   "source": [
    "np.sum(sedgen_CA_NS.volume_bins_medians_matrix[sedgen_CA_NS.pcg_chem_weath_array_new, sedgen_CA_NS.pcgs_new, sedgen_CA_NS.crystal_size_array_new])"
   ]
  },
  {
   "cell_type": "code",
   "execution_count": 29,
   "metadata": {
    "execution": {
     "iopub.execute_input": "2020-11-30T13:07:16.632803Z",
     "iopub.status.busy": "2020-11-30T13:07:16.632803Z",
     "iopub.status.idle": "2020-11-30T13:07:16.720801Z",
     "shell.execute_reply": "2020-11-30T13:07:16.719810Z",
     "shell.execute_reply.started": "2020-11-30T13:07:16.632803Z"
    }
   },
   "outputs": [
    {
     "data": {
      "text/plain": [
       "1000010368.3232061"
      ]
     },
     "execution_count": 29,
     "metadata": {},
     "output_type": "execute_result"
    }
   ],
   "source": [
    "np.sum(sedgen_CA_NS.simulated_volume)"
   ]
  },
  {
   "cell_type": "markdown",
   "metadata": {},
   "source": [
    "## Mechanical Weathering"
   ]
  },
  {
   "cell_type": "code",
   "execution_count": 20,
   "metadata": {
    "execution": {
     "iopub.execute_input": "2020-12-10T09:48:24.645499Z",
     "iopub.status.busy": "2020-12-10T09:48:24.644503Z",
     "iopub.status.idle": "2020-12-10T09:50:19.864596Z",
     "shell.execute_reply": "2020-12-10T09:50:19.863599Z",
     "shell.execute_reply.started": "2020-12-10T09:48:24.645499Z"
    }
   },
   "outputs": [
    {
     "name": "stdout",
     "output_type": "stream",
     "text": [
      "After 78 steps all pcgs have been broken down to mcg\n",
      "Wall time: 1min 55s\n"
     ]
    }
   ],
   "source": [
    "%%time\n",
    "sedgen_CA_NS_mech = \\\n",
    "    sedgen_CA_NS.weathering(\n",
    "        operations=[\"intra_cb\", \"inter_cb\"], \n",
    "        timesteps=100, inplace=False)"
   ]
  },
  {
   "cell_type": "code",
   "execution_count": 145,
   "metadata": {
    "execution": {
     "iopub.execute_input": "2020-12-02T13:17:18.247857Z",
     "iopub.status.busy": "2020-12-02T13:17:18.246847Z",
     "iopub.status.idle": "2020-12-02T13:17:56.648033Z",
     "shell.execute_reply": "2020-12-02T13:17:56.641033Z",
     "shell.execute_reply.started": "2020-12-02T13:17:18.247857Z"
    }
   },
   "outputs": [
    {
     "name": "stdout",
     "output_type": "stream",
     "text": [
      "Wall time: 38.3 s\n"
     ]
    }
   ],
   "source": [
    "%%time\n",
    "sedgen_CA_NS_mech2 = sedgen_CA_NS.weathering(operations=[\"intra_cb\", \"inter_cb\"], \n",
    "                                             timesteps=30, inplace=False)"
   ]
  },
  {
   "cell_type": "code",
   "execution_count": 52,
   "metadata": {
    "execution": {
     "iopub.execute_input": "2020-12-02T10:29:22.819070Z",
     "iopub.status.busy": "2020-12-02T10:29:22.819070Z",
     "iopub.status.idle": "2020-12-02T10:29:22.901082Z",
     "shell.execute_reply": "2020-12-02T10:29:22.899080Z",
     "shell.execute_reply.started": "2020-12-02T10:29:22.819070Z"
    }
   },
   "outputs": [
    {
     "data": {
      "text/plain": [
       "71132"
      ]
     },
     "execution_count": 52,
     "metadata": {},
     "output_type": "execute_result"
    }
   ],
   "source": [
    "n_pcgs = len(sedgen_CA_NS_mech.pcgs_new)\n",
    "n_pcgs"
   ]
  },
  {
   "cell_type": "code",
   "execution_count": 53,
   "metadata": {
    "execution": {
     "iopub.execute_input": "2020-12-02T10:29:23.698240Z",
     "iopub.status.busy": "2020-12-02T10:29:23.698240Z",
     "iopub.status.idle": "2020-12-02T10:29:24.699347Z",
     "shell.execute_reply": "2020-12-02T10:29:24.697353Z",
     "shell.execute_reply.started": "2020-12-02T10:29:23.698240Z"
    }
   },
   "outputs": [],
   "source": [
    "pcgs_volumes = np.zeros(n_pcgs)\n",
    "\n",
    "for p in range(n_pcgs):\n",
    "    pcgs_volumes[p] = np.sum(sedgen_CA_NS_mech.volume_bins_medians_matrix[sedgen_CA_NS_mech.pcg_chem_weath_array_new[p], sedgen_CA_NS_mech.pcgs_new[p], sedgen_CA_NS_mech.crystal_size_array_new[p]])"
   ]
  },
  {
   "cell_type": "code",
   "execution_count": 59,
   "metadata": {
    "execution": {
     "iopub.execute_input": "2020-12-02T10:30:39.469602Z",
     "iopub.status.busy": "2020-12-02T10:30:39.468602Z",
     "iopub.status.idle": "2020-12-02T10:30:39.811691Z",
     "shell.execute_reply": "2020-12-02T10:30:39.810691Z",
     "shell.execute_reply.started": "2020-12-02T10:30:39.469602Z"
    }
   },
   "outputs": [
    {
     "data": {
      "image/png": "[encoded data removed]",
      "text/plain": [
       "<Figure size 432x288 with 1 Axes>"
      ]
     },
     "metadata": {
      "needs_background": "light"
     },
     "output_type": "display_data"
    }
   ],
   "source": [
    "plt.hist(gen.calculate_equivalent_circular_diameter(pcgs_volumes), bins=[2**x for x in np.linspace(-10, 10, 100)])\n",
    "plt.show();"
   ]
  },
  {
   "cell_type": "code",
   "execution_count": 50,
   "metadata": {
    "execution": {
     "iopub.execute_input": "2020-12-02T10:28:39.194642Z",
     "iopub.status.busy": "2020-12-02T10:28:39.193642Z",
     "iopub.status.idle": "2020-12-02T10:28:42.868944Z",
     "shell.execute_reply": "2020-12-02T10:28:42.867067Z",
     "shell.execute_reply.started": "2020-12-02T10:28:39.194642Z"
    }
   },
   "outputs": [
    {
     "data": {
      "image/png": "[encoded data removed]",
      "text/plain": [
       "<Figure size 432x288 with 1 Axes>"
      ]
     },
     "metadata": {
      "needs_background": "light"
     },
     "output_type": "display_data"
    }
   ],
   "source": [
    "plt.hist(gen.calculate_equivalent_circular_diameter(pcgs_volumes), bins=[2**x for x in np.linspace(-10, 10, 2000)])\n",
    "plt.show();"
   ]
  },
  {
   "cell_type": "code",
   "execution_count": 38,
   "metadata": {
    "execution": {
     "iopub.execute_input": "2020-11-18T10:10:03.188850Z",
     "iopub.status.busy": "2020-11-18T10:10:03.187852Z",
     "iopub.status.idle": "2020-11-18T10:10:03.562844Z",
     "shell.execute_reply": "2020-11-18T10:10:03.561842Z",
     "shell.execute_reply.started": "2020-11-18T10:10:03.188850Z"
    }
   },
   "outputs": [
    {
     "data": {
      "text/plain": [
       "array([404.09972532, 420.32726578, 462.98930974, 525.45629446,\n",
       "       586.53330711])"
      ]
     },
     "execution_count": 38,
     "metadata": {},
     "output_type": "execute_result"
    }
   ],
   "source": [
    "np.sort(gen.calculate_equivalent_circular_diameter(pcgs_volumes))[-5:]"
   ]
  },
  {
   "cell_type": "code",
   "execution_count": 30,
   "metadata": {
    "execution": {
     "iopub.execute_input": "2020-11-18T08:36:14.470332Z",
     "iopub.status.busy": "2020-11-18T08:36:14.470332Z",
     "iopub.status.idle": "2020-11-18T08:36:14.874335Z",
     "shell.execute_reply": "2020-11-18T08:36:14.873333Z",
     "shell.execute_reply.started": "2020-11-18T08:36:14.470332Z"
    }
   },
   "outputs": [
    {
     "data": {
      "text/plain": [
       "1000086853.6562829"
      ]
     },
     "execution_count": 30,
     "metadata": {},
     "output_type": "execute_result"
    }
   ],
   "source": [
    "sedgen_CA_NS_mech.vol_pcg_evolution[9]"
   ]
  },
  {
   "cell_type": "code",
   "execution_count": 111,
   "metadata": {
    "execution": {
     "iopub.execute_input": "2020-12-02T11:14:32.482638Z",
     "iopub.status.busy": "2020-12-02T11:14:32.482638Z",
     "iopub.status.idle": "2020-12-02T11:14:32.839193Z",
     "shell.execute_reply": "2020-12-02T11:14:32.835189Z",
     "shell.execute_reply.started": "2020-12-02T11:14:32.482638Z"
    }
   },
   "outputs": [
    {
     "name": "stderr",
     "output_type": "stream",
     "text": [
      "C:\\Users\\u0108248\\AppData\\Local\\Continuum\\miniconda3\\envs\\sedgen\\lib\\site-packages\\ipykernel_launcher.py:4: RuntimeWarning: divide by zero encountered in log10\n",
      "  after removing the cwd from sys.path.\n"
     ]
    },
    {
     "data": {
      "image/png": "[encoded data removed]",
      "text/plain": [
       "<Figure size 432x288 with 1 Axes>"
      ]
     },
     "metadata": {},
     "output_type": "display_data"
    }
   ],
   "source": [
    "fig, ax = plt.subplots()\n",
    "\n",
    "ax.plot(np.log10(sedgen_CA_NS_mech.pcg_additions), label=\"pcg\", lw=2)\n",
    "ax.plot(np.log10(sedgen_CA_NS_mech.mcg_additions), label=\"mcg\", lw=2)\n",
    "\n",
    "ax.text(70, 12, \"mcg\", color=sns.color_palette()[1], fontsize=12)\n",
    "ax.text(70, 2.5, \"pcg\", color=sns.color_palette()[0], fontsize=12)\n",
    "\n",
    "# Set the color of the visible spines\n",
    "ax.spines['left'].set_color('grey')\n",
    "ax.spines['bottom'].set_color('grey')\n",
    "\n",
    "ax.set_xlim(0, 77)\n",
    "\n",
    "ax.spines['bottom'].set_bounds(0, 77)\n",
    "ax.spines['left'].set_bounds(0, 14)\n",
    "\n",
    "ax.spines['left'].set_position(('outward', 10))\n",
    "\n",
    "# Set general tick parameters\n",
    "ax.tick_params(axis='both',\n",
    "               direction='out',\n",
    "               colors='grey',\n",
    "               labelsize=9)\n",
    "\n",
    "ax.set_xlabel(\"Timesteps\", color='grey')\n",
    "ax.set_ylabel(\"$\\log_{10}$n\", rotation=0, labelpad=20, color='grey')\n",
    "\n",
    "# Set facecolor of figure\n",
    "plt.gcf().set_facecolor('white')\n",
    "\n",
    "sns.despine()\n",
    "# plt.legend()\n",
    "plt.tight_layout()\n",
    "plt.savefig(\"_FIGURES/lineplot_pcgmcg_evolution_mech_CA-NS.pdf\")\n",
    "plt.show();"
   ]
  },
  {
   "cell_type": "code",
   "execution_count": 93,
   "metadata": {
    "execution": {
     "iopub.execute_input": "2020-11-16T11:26:38.554505Z",
     "iopub.status.busy": "2020-11-16T11:26:38.553530Z",
     "iopub.status.idle": "2020-11-16T11:26:39.316492Z",
     "shell.execute_reply": "2020-11-16T11:26:39.314490Z",
     "shell.execute_reply.started": "2020-11-16T11:26:38.554505Z"
    }
   },
   "outputs": [
    {
     "name": "stderr",
     "output_type": "stream",
     "text": [
      "C:\\Users\\u0108248\\AppData\\Local\\Continuum\\miniconda3\\envs\\sedgen\\lib\\site-packages\\ipykernel_launcher.py:1: RuntimeWarning: divide by zero encountered in log\n",
      "  \"\"\"Entry point for launching an IPython kernel.\n",
      "C:\\Users\\u0108248\\AppData\\Local\\Continuum\\miniconda3\\envs\\sedgen\\lib\\site-packages\\ipykernel_launcher.py:2: RuntimeWarning: divide by zero encountered in log\n",
      "  \n"
     ]
    },
    {
     "data": {
      "image/png": "[encoded data removed]",
      "text/plain": [
       "<Figure size 432x288 with 1 Axes>"
      ]
     },
     "metadata": {
      "needs_background": "light"
     },
     "output_type": "display_data"
    }
   ],
   "source": [
    "plt.plot(np.log(sedgen_CA_NS_mech.pcg_additions))\n",
    "plt.plot(np.log(sedgen_CA_NS_mech.mcg_additions))\n",
    "pass;"
   ]
  },
  {
   "cell_type": "code",
   "execution_count": 65,
   "metadata": {
    "execution": {
     "iopub.execute_input": "2020-11-16T09:56:03.026550Z",
     "iopub.status.busy": "2020-11-16T09:56:03.026550Z",
     "iopub.status.idle": "2020-11-16T09:56:03.162579Z",
     "shell.execute_reply": "2020-11-16T09:56:03.160582Z",
     "shell.execute_reply.started": "2020-11-16T09:56:03.026550Z"
    }
   },
   "outputs": [
    {
     "data": {
      "text/plain": [
       "3311106970"
      ]
     },
     "execution_count": 65,
     "metadata": {},
     "output_type": "execute_result"
    }
   ],
   "source": [
    "np.sum(sedgen_CA_NS_mech.mcg[0][0][:1000])"
   ]
  },
  {
   "cell_type": "code",
   "execution_count": 66,
   "metadata": {
    "execution": {
     "iopub.execute_input": "2020-11-16T09:56:11.307018Z",
     "iopub.status.busy": "2020-11-16T09:56:11.307018Z",
     "iopub.status.idle": "2020-11-16T09:56:13.728026Z",
     "shell.execute_reply": "2020-11-16T09:56:13.725017Z",
     "shell.execute_reply.started": "2020-11-16T09:56:11.307018Z"
    }
   },
   "outputs": [
    {
     "data": {
      "image/png": "[encoded data removed]",
      "text/plain": [
       "<Figure size 1152x648 with 1 Axes>"
      ]
     },
     "metadata": {
      "needs_background": "light"
     },
     "output_type": "display_data"
    }
   ],
   "source": [
    "fig, ax = plt.subplots(figsize=(16,9))\n",
    "plt.bar(range(0, 1500), height=sedgen_CA_NS_mech.mcg[0][0]);"
   ]
  },
  {
   "cell_type": "code",
   "execution_count": 134,
   "metadata": {
    "execution": {
     "iopub.execute_input": "2020-12-02T11:30:22.825917Z",
     "iopub.status.busy": "2020-12-02T11:30:22.824916Z",
     "iopub.status.idle": "2020-12-02T11:30:59.557848Z",
     "shell.execute_reply": "2020-12-02T11:30:59.554847Z",
     "shell.execute_reply.started": "2020-12-02T11:30:22.825917Z"
    }
   },
   "outputs": [
    {
     "data": {
      "image/png": "[encoded data removed]",
      "text/plain": [
       "<Figure size 1152x648 with 1 Axes>"
      ]
     },
     "metadata": {
      "needs_background": "light"
     },
     "output_type": "display_data"
    }
   ],
   "source": [
    "fig, ax = plt.subplots(figsize=(16,9))\n",
    "for i, z in zip(range(6), [2, 1, 3, 5, 6, 4]):\n",
    "    plt.bar(range(0, 1500), height=sedgen_CA_NS_mech.mcg[0][i], zorder=z, label=sedgen_CA_NS.minerals[i])\n",
    "# plt.bar(range(0, 1500), height=sedgen_CA_NS_mech.mcg[0][3])\n",
    "# plt.savefig(\"test.pdf\")\n",
    "plt.legend()\n",
    "sns.despine()\n",
    "plt.savefig(\"_FIGURES/barplot_csd_mcg_mech_CA-NS.pdf\")\n",
    "plt.show();"
   ]
  },
  {
   "cell_type": "code",
   "execution_count": 142,
   "metadata": {
    "execution": {
     "iopub.execute_input": "2020-12-02T11:35:18.838165Z",
     "iopub.status.busy": "2020-12-02T11:35:18.838165Z",
     "iopub.status.idle": "2020-12-02T11:35:19.222778Z",
     "shell.execute_reply": "2020-12-02T11:35:19.219778Z",
     "shell.execute_reply.started": "2020-12-02T11:35:18.838165Z"
    }
   },
   "outputs": [
    {
     "data": {
      "image/png": "[encoded data removed]",
      "text/plain": [
       "<Figure size 432x288 with 1 Axes>"
      ]
     },
     "metadata": {
      "needs_background": "light"
     },
     "output_type": "display_data"
    }
   ],
   "source": [
    "fig, ax = plt.subplots()\n",
    "for i, z in zip(range(6), [2, 1, 3, 5, 6, 4]):\n",
    "    plt.plot(range(0, 1500), sedgen_CA_NS_mech.mcg[0][i], zorder=z, label=sedgen_CA_NS.minerals[i], lw=1)\n",
    "# plt.bar(range(0, 1500), height=sedgen_CA_NS_mech.mcg[0][3])\n",
    "# plt.savefig(\"test.pdf\")\n",
    "plt.legend()\n",
    "sns.despine()\n",
    "plt.savefig(\"_FIGURES/lineplot_csd_mcg_mech_CA-NS.pdf\")\n",
    "plt.show();"
   ]
  },
  {
   "cell_type": "code",
   "execution_count": 134,
   "metadata": {
    "execution": {
     "iopub.execute_input": "2020-11-16T13:39:19.727115Z",
     "iopub.status.busy": "2020-11-16T13:39:19.727115Z",
     "iopub.status.idle": "2020-11-16T13:39:27.712089Z",
     "shell.execute_reply": "2020-11-16T13:39:27.708086Z",
     "shell.execute_reply.started": "2020-11-16T13:39:19.727115Z"
    }
   },
   "outputs": [
    {
     "data": {
      "image/png": "[encoded data removed]",
      "text/plain": [
       "<Figure size 1152x648 with 1 Axes>"
      ]
     },
     "metadata": {
      "needs_background": "light"
     },
     "output_type": "display_data"
    }
   ],
   "source": [
    "fig, ax = plt.subplots(figsize=(16,9))\n",
    "plt.bar(range(0, 1500), height=sedgen_CA_NS_mech.mcg[0][0], zorder=10)\n",
    "plt.bar(range(0, 1500), height=sedgen_CA_NS_mech.mcg[0][1])\n",
    "# plt.savefig(\"test.pdf\")\n",
    "plt.show();"
   ]
  },
  {
   "cell_type": "code",
   "execution_count": 76,
   "metadata": {
    "execution": {
     "iopub.execute_input": "2020-11-16T10:12:03.740861Z",
     "iopub.status.busy": "2020-11-16T10:12:03.740861Z",
     "iopub.status.idle": "2020-11-16T10:12:11.150743Z",
     "shell.execute_reply": "2020-11-16T10:12:11.149741Z",
     "shell.execute_reply.started": "2020-11-16T10:12:03.740861Z"
    }
   },
   "outputs": [
    {
     "data": {
      "text/plain": [
       "<BarContainer object of 1500 artists>"
      ]
     },
     "execution_count": 76,
     "metadata": {},
     "output_type": "execute_result"
    },
    {
     "data": {
      "text/plain": [
       "<BarContainer object of 1500 artists>"
      ]
     },
     "execution_count": 76,
     "metadata": {},
     "output_type": "execute_result"
    },
    {
     "data": {
      "image/png": "[encoded data removed]",
      "text/plain": [
       "<Figure size 1152x648 with 1 Axes>"
      ]
     },
     "metadata": {
      "needs_background": "light"
     },
     "output_type": "display_data"
    }
   ],
   "source": [
    "fig, ax = plt.subplots(figsize=(16,9))\n",
    "plt.bar(range(0, 1500), height=sedgen_CA_NS_mech.mcg[0][0], zorder=10)\n",
    "plt.bar(range(0, 1500), height=sedgen_CA_NS_mech.mcg[0][1])\n",
    "plt.savefig(\"test.pdf\")\n",
    "plt.show();"
   ]
  },
  {
   "cell_type": "code",
   "execution_count": 116,
   "metadata": {
    "execution": {
     "iopub.execute_input": "2020-11-16T13:34:07.497278Z",
     "iopub.status.busy": "2020-11-16T13:34:07.497278Z",
     "iopub.status.idle": "2020-11-16T13:34:07.651277Z",
     "shell.execute_reply": "2020-11-16T13:34:07.647274Z",
     "shell.execute_reply.started": "2020-11-16T13:34:07.497278Z"
    }
   },
   "outputs": [
    {
     "data": {
      "text/plain": [
       "0.0625"
      ]
     },
     "execution_count": 116,
     "metadata": {},
     "output_type": "execute_result"
    }
   ],
   "source": [
    "2**-4"
   ]
  },
  {
   "cell_type": "code",
   "execution_count": 120,
   "metadata": {
    "execution": {
     "iopub.execute_input": "2020-11-16T13:34:59.762963Z",
     "iopub.status.busy": "2020-11-16T13:34:59.761964Z",
     "iopub.status.idle": "2020-11-16T13:34:59.909978Z",
     "shell.execute_reply": "2020-11-16T13:34:59.904992Z",
     "shell.execute_reply.started": "2020-11-16T13:34:59.762963Z"
    }
   },
   "outputs": [
    {
     "data": {
      "text/plain": [
       "2.0"
      ]
     },
     "execution_count": 120,
     "metadata": {},
     "output_type": "execute_result"
    }
   ],
   "source": [
    "sedgen_CA_NS_mech.size_bins[1100]"
   ]
  },
  {
   "cell_type": "code",
   "execution_count": 156,
   "metadata": {
    "execution": {
     "iopub.execute_input": "2020-12-02T14:38:41.108165Z",
     "iopub.status.busy": "2020-12-02T14:38:41.108165Z",
     "iopub.status.idle": "2020-12-02T14:38:42.419148Z",
     "shell.execute_reply": "2020-12-02T14:38:42.415165Z",
     "shell.execute_reply.started": "2020-12-02T14:38:41.108165Z"
    }
   },
   "outputs": [
    {
     "data": {
      "image/png": "[encoded data removed]",
      "text/plain": [
       "<Figure size 432x288 with 1 Axes>"
      ]
     },
     "metadata": {
      "needs_background": "light"
     },
     "output_type": "display_data"
    }
   ],
   "source": [
    "for d in range(0, 1100, 25):\n",
    "    heights = np.sum(sedgen_CA_NS_mech2.mcg[0, :, d:d+100] * sedgen_CA_NS_mech2.volume_bins_medians_matrix[0, :, d:d+100], axis=1)\n",
    "    for m in range(6):\n",
    "        if d == 600:\n",
    "            plt.bar(np.log2(sedgen_CA_NS_mech2.size_bins[d]), height=heights[m], width=0.15, bottom=np.sum(heights[:m]), label=minerals[m], color=sns.color_palette()[m])\n",
    "        else:\n",
    "            plt.bar(np.log2(sedgen_CA_NS_mech2.size_bins[d]), height=heights[m], width=0.15, bottom=np.sum(heights[:m]), color=sns.color_palette()[m])\n",
    "plt.legend()\n",
    "ax.set_xlabel([4, 3, 2, 1, 0, -1])\n",
    "sns.despine()\n",
    "\n",
    "plt.xlabel(\"Phi-scale\")\n",
    "plt.ylabel(\"n\", rotation=0, labelpad=15)\n",
    "\n",
    "plt.show();"
   ]
  },
  {
   "cell_type": "code",
   "execution_count": 21,
   "metadata": {
    "execution": {
     "iopub.execute_input": "2020-12-10T11:17:43.134539Z",
     "iopub.status.busy": "2020-12-10T11:17:43.133538Z",
     "iopub.status.idle": "2020-12-10T11:17:45.508872Z",
     "shell.execute_reply": "2020-12-10T11:17:45.507857Z",
     "shell.execute_reply.started": "2020-12-10T11:17:43.134539Z"
    }
   },
   "outputs": [
    {
     "name": "stderr",
     "output_type": "stream",
     "text": [
      "C:\\Users\\u0108248\\AppData\\Local\\Continuum\\miniconda3\\envs\\sedgen\\lib\\site-packages\\ipykernel_launcher.py:33: UserWarning: FixedFormatter should only be used together with FixedLocator\n"
     ]
    },
    {
     "data": {
      "image/png": "[encoded data removed]",
      "text/plain": [
       "<Figure size 432x288 with 1 Axes>"
      ]
     },
     "metadata": {},
     "output_type": "display_data"
    }
   ],
   "source": [
    "fig, ax = plt.subplots()\n",
    "\n",
    "for d in range(0, 1500, 25):\n",
    "    heights = np.sum(sedgen_CA_NS_mech.mcg[0, :, d:d+25] * sedgen_CA_NS_mech.volume_bins_medians_matrix[0, :, d:d+25], axis=1)\n",
    "    for m in range(6):\n",
    "        if d == 600:\n",
    "            ax.bar(np.log2(sedgen_CA_NS_mech.size_bins[d]), height=heights[m], width=0.15, bottom=np.sum(heights[:m]), label=minerals[m], color=sns.color_palette()[m])\n",
    "        else:\n",
    "            ax.bar(np.log2(sedgen_CA_NS_mech.size_bins[d]), height=heights[m], width=0.15, bottom=np.sum(heights[:m]), color=sns.color_palette()[m])\n",
    "            \n",
    "            \n",
    "# Set the color of the visible spines\n",
    "ax.spines['left'].set_color('grey')\n",
    "ax.spines['bottom'].set_color('grey')\n",
    "\n",
    "ax.set_xlim(-10, 5)\n",
    "ax.set_ylim(0, 7e7)\n",
    "\n",
    "ax.spines['bottom'].set_bounds(-10, 5)\n",
    "ax.spines['left'].set_bounds(0, 7e7)\n",
    "\n",
    "ax.spines['left'].set_position(('outward', 10))\n",
    "\n",
    "# Set general tick parameters\n",
    "ax.tick_params(axis='both',\n",
    "               direction='out',\n",
    "               colors='grey',\n",
    "               labelsize=9)\n",
    "\n",
    "ax.set_xlabel(\"Phi-scale\", color='grey')\n",
    "ax.set_ylabel(\"V\", rotation=0, labelpad=15, color='grey')\n",
    "\n",
    "ax.set_xticklabels(list(range(10, -6, -2)))\n",
    "\n",
    "# Set facecolor of figure\n",
    "plt.gcf().set_facecolor('white')\n",
    "\n",
    "sns.despine()\n",
    "\n",
    "plt.legend(fontsize='small')\n",
    "plt.tight_layout()\n",
    "# plt.savefig(\"_FIGURES/barplot_volume_mcg_mech_CA-NS.pdf\")\n",
    "plt.show();"
   ]
  },
  {
   "cell_type": "code",
   "execution_count": 213,
   "metadata": {
    "execution": {
     "iopub.execute_input": "2020-12-02T17:25:09.285098Z",
     "iopub.status.busy": "2020-12-02T17:25:09.283072Z",
     "iopub.status.idle": "2020-12-02T17:25:11.557098Z",
     "shell.execute_reply": "2020-12-02T17:25:11.551063Z",
     "shell.execute_reply.started": "2020-12-02T17:25:09.285098Z"
    }
   },
   "outputs": [
    {
     "name": "stderr",
     "output_type": "stream",
     "text": [
      "C:\\Users\\u0108248\\AppData\\Local\\Continuum\\miniconda3\\envs\\sedgen\\lib\\site-packages\\ipykernel_launcher.py:33: UserWarning: FixedFormatter should only be used together with FixedLocator\n"
     ]
    },
    {
     "data": {
      "image/png": "[encoded data removed]",
      "text/plain": [
       "<Figure size 432x288 with 1 Axes>"
      ]
     },
     "metadata": {},
     "output_type": "display_data"
    }
   ],
   "source": [
    "fig, ax = plt.subplots()\n",
    "\n",
    "for d in range(0, 1500, 25):\n",
    "    heights = np.sum(sedgen_CA_NS_mech.mcg[0, :, d:d+25] * sedgen_CA_NS_mech.volume_bins_medians_matrix[0, :, d:d+25], axis=1)\n",
    "    for m in range(6):\n",
    "        if d == 600:\n",
    "            ax.bar(np.log2(sedgen_CA_NS_mech.size_bins[d]), height=heights[m], width=0.15, bottom=np.sum(heights[:m]), label=minerals[m], color=sns.color_palette()[m])\n",
    "        else:\n",
    "            ax.bar(np.log2(sedgen_CA_NS_mech.size_bins[d]), height=heights[m], width=0.15, bottom=np.sum(heights[:m]), color=sns.color_palette()[m])\n",
    "            \n",
    "            \n",
    "# Set the color of the visible spines\n",
    "ax.spines['left'].set_color('grey')\n",
    "ax.spines['bottom'].set_color('grey')\n",
    "\n",
    "ax.set_xlim(-10, 5)\n",
    "ax.set_ylim(0, 7e7)\n",
    "\n",
    "ax.spines['bottom'].set_bounds(-10, 5)\n",
    "ax.spines['left'].set_bounds(0, 7e7)\n",
    "\n",
    "ax.spines['left'].set_position(('outward', 10))\n",
    "\n",
    "# Set general tick parameters\n",
    "ax.tick_params(axis='both',\n",
    "               direction='out',\n",
    "               colors='grey',\n",
    "               labelsize=9)\n",
    "\n",
    "ax.set_xlabel(\"Phi-scale\", color='grey')\n",
    "ax.set_ylabel(\"V\", rotation=0, labelpad=15, color='grey')\n",
    "\n",
    "ax.set_xticklabels(list(range(10, -6, -2)))\n",
    "\n",
    "# Set facecolor of figure\n",
    "plt.gcf().set_facecolor('white')\n",
    "\n",
    "sns.despine()\n",
    "\n",
    "plt.legend(fontsize='small')\n",
    "plt.tight_layout()\n",
    "plt.savefig(\"_FIGURES/barplot_volume_mcg_mech_CA-NS.pdf\")\n",
    "plt.show();"
   ]
  },
  {
   "cell_type": "code",
   "execution_count": 52,
   "metadata": {
    "execution": {
     "iopub.execute_input": "2020-12-10T11:38:03.774078Z",
     "iopub.status.busy": "2020-12-10T11:38:03.774078Z",
     "iopub.status.idle": "2020-12-10T11:38:04.035077Z",
     "shell.execute_reply": "2020-12-10T11:38:04.034103Z",
     "shell.execute_reply.started": "2020-12-10T11:38:03.774078Z"
    }
   },
   "outputs": [
    {
     "name": "stderr",
     "output_type": "stream",
     "text": [
      "C:\\Users\\u0108248\\AppData\\Local\\Continuum\\miniconda3\\envs\\sedgen\\lib\\site-packages\\ipykernel_launcher.py:13: RuntimeWarning: divide by zero encountered in true_divide\n",
      "  del sys.path[0]\n",
      "C:\\Users\\u0108248\\AppData\\Local\\Continuum\\miniconda3\\envs\\sedgen\\lib\\site-packages\\ipykernel_launcher.py:13: RuntimeWarning: invalid value encountered in true_divide\n",
      "  del sys.path[0]\n",
      "C:\\Users\\u0108248\\AppData\\Local\\Continuum\\miniconda3\\envs\\sedgen\\lib\\site-packages\\ipykernel_launcher.py:36: UserWarning: FixedFormatter should only be used together with FixedLocator\n"
     ]
    },
    {
     "data": {
      "image/png": "[encoded data removed]",
      "text/plain": [
       "<Figure size 432x288 with 1 Axes>"
      ]
     },
     "metadata": {},
     "output_type": "display_data"
    }
   ],
   "source": [
    "fig, ax = plt.subplots()\n",
    "\n",
    "Q_values = np.zeros(1500//25)\n",
    "P_values = np.zeros(1500//25)\n",
    "K_values = np.zeros(1500//25)\n",
    "\n",
    "for i, d in enumerate(range(0, 1500, 25)):\n",
    "    Q_values[i] = np.sum(sedgen_CA_NS_mech.mcg[0, 0, d:d+25] * sedgen_CA_NS_mech.volume_bins_medians_matrix[0, 0, d:d+25])\n",
    "    P_values[i] = np.sum(sedgen_CA_NS_mech.mcg[0, 1, d:d+25] * sedgen_CA_NS_mech.volume_bins_medians_matrix[0, 1, d:d+25])\n",
    "    K_values[i] = np.sum(sedgen_CA_NS_mech.mcg[0, 2, d:d+25] * sedgen_CA_NS_mech.volume_bins_medians_matrix[0, 2, d:d+25])\n",
    "    F_values = P_values + K_values\n",
    "\n",
    "ax.plot(np.log2(sedgen_CA_NS_mech.size_bins[range(0, 1500, 25)]), Q_values/F_values)\n",
    "\n",
    "# Set the color of the visible spines\n",
    "ax.spines['left'].set_color('grey')\n",
    "ax.spines['bottom'].set_color('grey')\n",
    "\n",
    "ax.set_xlim(-10, 5)\n",
    "# ax.set_ylim(0, 7e7)\n",
    "\n",
    "ax.spines['bottom'].set_bounds(-10, 5)\n",
    "# ax.spines['left'].set_bounds(0, 7e7)\n",
    "\n",
    "ax.spines['left'].set_position(('outward', 10))\n",
    "\n",
    "# Set general tick parameters\n",
    "ax.tick_params(axis='both',\n",
    "               direction='out',\n",
    "               colors='grey',\n",
    "               labelsize=9)\n",
    "\n",
    "ax.set_xlabel(\"Phi-scale\", color='grey')\n",
    "ax.set_ylabel(r\"$\\ln Q/F$\", rotation=0, labelpad=25, color='grey')\n",
    "\n",
    "ax.set_xticklabels(list(range(10, -6, -2)))\n",
    "\n",
    "# Set facecolor of figure\n",
    "plt.gcf().set_facecolor('white')\n",
    "\n",
    "sns.despine()\n",
    "\n",
    "# plt.legend(fontsize='small')\n",
    "plt.tight_layout()\n",
    "# plt.savefig(\"_FIGURES/barplot_volume_mcg_mech_CA-NS.pdf\")\n",
    "plt.show();"
   ]
  },
  {
   "cell_type": "code",
   "execution_count": 172,
   "metadata": {
    "execution": {
     "iopub.execute_input": "2020-11-16T15:08:16.625011Z",
     "iopub.status.busy": "2020-11-16T15:08:16.624012Z",
     "iopub.status.idle": "2020-11-16T15:08:17.303014Z",
     "shell.execute_reply": "2020-11-16T15:08:17.298015Z",
     "shell.execute_reply.started": "2020-11-16T15:08:16.625011Z"
    }
   },
   "outputs": [
    {
     "data": {
      "image/png": "[encoded data removed]",
      "text/plain": [
       "<Figure size 432x288 with 1 Axes>"
      ]
     },
     "metadata": {
      "needs_background": "light"
     },
     "output_type": "display_data"
    }
   ],
   "source": [
    "for d in range(600, 1100, 25):\n",
    "    heights = np.sum(sedgen_CA_NS_mech.mcg[0, :, d:d+100], axis=1)\n",
    "    for m in range(6):\n",
    "        if d == 600:\n",
    "            plt.bar(np.log2(sedgen_CA_NS_mech.size_bins[d]), height=heights[m], width=0.15, bottom=np.sum(heights[:m]), label=minerals[m], color=sns.color_palette()[m])\n",
    "        else:\n",
    "            plt.bar(np.log2(sedgen_CA_NS_mech.size_bins[d]), height=heights[m], width=0.15, bottom=np.sum(heights[:m]), color=sns.color_palette()[m])\n",
    "plt.legend()\n",
    "ax.set_xlabel([4, 3, 2, 1, 0, -1])\n",
    "sns.despine()\n",
    "\n",
    "plt.xlabel(\"Phi-scale\")\n",
    "plt.ylabel(\"n\", rotation=0, labelpad=15)\n",
    "\n",
    "plt.show();"
   ]
  },
  {
   "cell_type": "markdown",
   "metadata": {},
   "source": [
    "## Chemical Weathering"
   ]
  },
  {
   "cell_type": "code",
   "execution_count": 22,
   "metadata": {
    "execution": {
     "iopub.execute_input": "2020-12-03T08:39:42.337892Z",
     "iopub.status.busy": "2020-12-03T08:39:42.336889Z",
     "iopub.status.idle": "2020-12-03T08:40:06.688351Z",
     "shell.execute_reply": "2020-12-03T08:40:06.687347Z",
     "shell.execute_reply.started": "2020-12-03T08:39:42.337892Z"
    }
   },
   "outputs": [
    {
     "name": "stdout",
     "output_type": "stream",
     "text": [
      "Wall time: 24.2 s\n"
     ]
    }
   ],
   "source": [
    "%%time\n",
    "sedgen_CA_NS_chem = \\\n",
    "    sedgen_CA_NS.weathering(\n",
    "        operations=[\"chem_mcg\", \"chem_pcg\"], \n",
    "        timesteps=100, inplace=False)"
   ]
  },
  {
   "cell_type": "code",
   "execution_count": 46,
   "metadata": {
    "execution": {
     "iopub.execute_input": "2020-12-03T08:59:39.445523Z",
     "iopub.status.busy": "2020-12-03T08:59:39.444525Z",
     "iopub.status.idle": "2020-12-03T08:59:39.875499Z",
     "shell.execute_reply": "2020-12-03T08:59:39.874497Z",
     "shell.execute_reply.started": "2020-12-03T08:59:39.445523Z"
    }
   },
   "outputs": [
    {
     "name": "stderr",
     "output_type": "stream",
     "text": [
      "C:\\Users\\u0108248\\AppData\\Local\\Continuum\\miniconda3\\envs\\sedgen\\lib\\site-packages\\ipykernel_launcher.py:4: RuntimeWarning: divide by zero encountered in log10\n",
      "  after removing the cwd from sys.path.\n",
      "C:\\Users\\u0108248\\AppData\\Local\\Continuum\\miniconda3\\envs\\sedgen\\lib\\site-packages\\ipykernel_launcher.py:4: RuntimeWarning: divide by zero encountered in log10\n",
      "  after removing the cwd from sys.path.\n",
      "C:\\Users\\u0108248\\AppData\\Local\\Continuum\\miniconda3\\envs\\sedgen\\lib\\site-packages\\ipykernel_launcher.py:4: RuntimeWarning: divide by zero encountered in log10\n",
      "  after removing the cwd from sys.path.\n",
      "C:\\Users\\u0108248\\AppData\\Local\\Continuum\\miniconda3\\envs\\sedgen\\lib\\site-packages\\ipykernel_launcher.py:4: RuntimeWarning: divide by zero encountered in log10\n",
      "  after removing the cwd from sys.path.\n",
      "C:\\Users\\u0108248\\AppData\\Local\\Continuum\\miniconda3\\envs\\sedgen\\lib\\site-packages\\ipykernel_launcher.py:4: RuntimeWarning: divide by zero encountered in log10\n",
      "  after removing the cwd from sys.path.\n",
      "C:\\Users\\u0108248\\AppData\\Local\\Continuum\\miniconda3\\envs\\sedgen\\lib\\site-packages\\ipykernel_launcher.py:4: RuntimeWarning: divide by zero encountered in log10\n",
      "  after removing the cwd from sys.path.\n"
     ]
    },
    {
     "data": {
      "image/png": "[encoded data removed]",
      "text/plain": [
       "<Figure size 432x288 with 1 Axes>"
      ]
     },
     "metadata": {},
     "output_type": "display_data"
    }
   ],
   "source": [
    "fig, ax = plt.subplots()\n",
    "\n",
    "for i in range(6):\n",
    "    ax.plot(np.log10(np.cumsum(sedgen_CA_NS_chem.pcg_chem_residue_additions[:, i])), label=sedgen_CA_NS.minerals[i], lw=2)\n",
    "    \n",
    "# Set the color of the visible spines\n",
    "ax.spines['left'].set_color('grey')\n",
    "ax.spines['bottom'].set_color('grey')\n",
    "\n",
    "ax.set_xlim(0, 100)\n",
    "ax.set_ylim(4.5, 8.5)\n",
    "\n",
    "ax.spines['bottom'].set_bounds(0, 100)\n",
    "ax.spines['left'].set_bounds(4.5, 8.5)\n",
    "\n",
    "ax.spines['left'].set_position(('outward', 10))\n",
    "ax.spines['bottom'].set_position(('outward', 5))\n",
    "\n",
    "# Set general tick parameters\n",
    "ax.tick_params(axis='both',\n",
    "               direction='out',\n",
    "               colors='grey',\n",
    "               labelsize=9)\n",
    "\n",
    "ax.set_xlabel(\"Timesteps\", color='grey')\n",
    "ax.set_ylabel(\"$\\log_{10}$V\", rotation=0, labelpad=20, color='grey')\n",
    "\n",
    "# ax.set_xticklabels(list(range(10, -6, -2)))\n",
    "\n",
    "# Set facecolor of figure\n",
    "plt.gcf().set_facecolor('white')\n",
    "\n",
    "sns.despine()\n",
    "\n",
    "plt.legend(fontsize='small')\n",
    "plt.tight_layout()\n",
    "plt.savefig(\"_FIGURES/lineplot_volume_residue_chem_CA-NS.pdf\")\n",
    "plt.show();"
   ]
  },
  {
   "cell_type": "code",
   "execution_count": 81,
   "metadata": {
    "execution": {
     "iopub.execute_input": "2020-12-03T09:31:44.244654Z",
     "iopub.status.busy": "2020-12-03T09:31:44.244654Z",
     "iopub.status.idle": "2020-12-03T09:31:48.986488Z",
     "shell.execute_reply": "2020-12-03T09:31:48.985497Z",
     "shell.execute_reply.started": "2020-12-03T09:31:44.244654Z"
    }
   },
   "outputs": [
    {
     "name": "stderr",
     "output_type": "stream",
     "text": [
      "C:\\Users\\u0108248\\AppData\\Local\\Continuum\\miniconda3\\envs\\sedgen\\lib\\site-packages\\ipykernel_launcher.py:15: RuntimeWarning: invalid value encountered in log2\n",
      "  from ipykernel import kernelapp as app\n",
      "C:\\Users\\u0108248\\AppData\\Local\\Continuum\\miniconda3\\envs\\sedgen\\lib\\site-packages\\ipykernel_launcher.py:13: RuntimeWarning: invalid value encountered in log2\n",
      "  del sys.path[0]\n",
      "C:\\Users\\u0108248\\AppData\\Local\\Continuum\\miniconda3\\envs\\sedgen\\lib\\site-packages\\ipykernel_launcher.py:38: UserWarning: FixedFormatter should only be used together with FixedLocator\n"
     ]
    },
    {
     "data": {
      "image/png": "[encoded data removed]",
      "text/plain": [
       "<Figure size 432x288 with 1 Axes>"
      ]
     },
     "metadata": {},
     "output_type": "display_data"
    }
   ],
   "source": [
    "fig, ax = plt.subplots()\n",
    "\n",
    "for d in range(0, 1500, 25):\n",
    "    heights = np.zeros(6)\n",
    "    for m in range(6):\n",
    "        csd_filter = sedgen_CA_NS_chem.crystal_size_array_new[0][sedgen_CA_NS_chem.pcgs_new[0] == m]\n",
    "        chem_state_filter = sedgen_CA_NS_chem.pcg_chem_weath_array_new[0][sedgen_CA_NS_chem.pcgs_new[0] == m]\n",
    "        \n",
    "        csd_filter_filtered = csd_filter[np.where((d <= csd_filter) & (csd_filter < d+25))]\n",
    "        chem_state_filter_filtered = chem_state_filter[np.where((d <= csd_filter) & (csd_filter < d+25))]\n",
    "        heights[m] = np.sum(sedgen_CA_NS_chem.volume_bins_medians_matrix[chem_state_filter_filtered, 0, csd_filter_filtered])\n",
    "        if d == 600:\n",
    "            ax.bar(np.log2(sedgen_CA_NS_chem.size_bins_matrix[99, m, d]), height=heights[m], width=0.15, bottom=0, label=minerals[m], color=sns.color_palette()[m], alpha=0.8)\n",
    "        else:\n",
    "            ax.bar(np.log2(sedgen_CA_NS_chem.size_bins_matrix[99, m, d]), height=heights[m], width=0.15, bottom=0, color=sns.color_palette()[m], alpha=0.8)\n",
    "            \n",
    "# Set the color of the visible spines\n",
    "ax.spines['left'].set_color('grey')\n",
    "ax.spines['bottom'].set_color('grey')\n",
    "\n",
    "ax.set_xlim(-10, 5)\n",
    "ax.set_ylim(0, 8e7)\n",
    "\n",
    "ax.spines['bottom'].set_bounds(-10, 5)\n",
    "ax.spines['left'].set_bounds(0, 8e7)\n",
    "\n",
    "ax.spines['left'].set_position(('outward', 10))\n",
    "\n",
    "# Set general tick parameters\n",
    "ax.tick_params(axis='both',\n",
    "               direction='out',\n",
    "               colors='grey',\n",
    "               labelsize=9)\n",
    "\n",
    "ax.set_xlabel(\"Phi-scale\", color='grey')\n",
    "ax.set_ylabel(\"V\", rotation=0, labelpad=20, color='grey')\n",
    "\n",
    "ax.set_xticklabels(list(range(10, -6, -2)))\n",
    "\n",
    "# Set facecolor of figure\n",
    "plt.gcf().set_facecolor('white')\n",
    "\n",
    "sns.despine()\n",
    "\n",
    "plt.legend(fontsize='small')\n",
    "plt.tight_layout()\n",
    "plt.savefig(\"_FIGURES/barplot_volume_pcg_xx_chem_CA-NS.pdf\")\n",
    "plt.show();"
   ]
  },
  {
   "cell_type": "code",
   "execution_count": 213,
   "metadata": {
    "execution": {
     "iopub.execute_input": "2020-12-02T17:25:09.285098Z",
     "iopub.status.busy": "2020-12-02T17:25:09.283072Z",
     "iopub.status.idle": "2020-12-02T17:25:11.557098Z",
     "shell.execute_reply": "2020-12-02T17:25:11.551063Z",
     "shell.execute_reply.started": "2020-12-02T17:25:09.285098Z"
    }
   },
   "outputs": [
    {
     "name": "stderr",
     "output_type": "stream",
     "text": [
      "C:\\Users\\u0108248\\AppData\\Local\\Continuum\\miniconda3\\envs\\sedgen\\lib\\site-packages\\ipykernel_launcher.py:33: UserWarning: FixedFormatter should only be used together with FixedLocator\n"
     ]
    },
    {
     "data": {
      "image/png": "[encoded data removed]",
      "text/plain": [
       "<Figure size 432x288 with 1 Axes>"
      ]
     },
     "metadata": {},
     "output_type": "display_data"
    }
   ],
   "source": [
    "fig, ax = plt.subplots()\n",
    "\n",
    "for d in range(0, 1500, 25):\n",
    "    heights = np.sum(sedgen_CA_NS_mech.mcg[0, :, d:d+25] * sedgen_CA_NS_mech2.volume_bins_medians_matrix[0, :, d:d+25], axis=1)\n",
    "    for m in range(6):\n",
    "        if d == 600:\n",
    "            ax.bar(np.log2(sedgen_CA_NS_mech.size_bins[d]), height=heights[m], width=0.15, bottom=np.sum(heights[:m]), label=minerals[m], color=sns.color_palette()[m])\n",
    "        else:\n",
    "            ax.bar(np.log2(sedgen_CA_NS_mech.size_bins[d]), height=heights[m], width=0.15, bottom=np.sum(heights[:m]), color=sns.color_palette()[m])\n",
    "            \n",
    "            \n",
    "# Set the color of the visible spines\n",
    "ax.spines['left'].setchem_state_filter_filterednes['bottom'].set_color('grey')\n",
    "\n",
    "ax.set_xlim(-10, 5)\n",
    "ax.set_ylim(0, 7e7)\n",
    "\n",
    "ax.spines['bottom'].set_bounds(-10, 5)\n",
    "ax.spines['left'].set_bounds(0, 7e7)\n",
    "\n",
    "ax.spines['left'].set_position(('outward', 10))\n",
    "\n",
    "# Set general tick parameters\n",
    "ax.tick_params(axis='both',\n",
    "               direction='out',\n",
    "               colors='grey',\n",
    "               labelsize=9)\n",
    "\n",
    "ax.set_xlabel(\"Phi-scale\", color='grey')\n",
    "ax.set_ylabel(\"V\", rotation=0, labelpad=15, color='grey')\n",
    "\n",
    "ax.set_xticklabels(list(range(10, -6, -2)))\n",
    "\n",
    "# Set facecolor of figure\n",
    "plt.gcf().set_facecolor('white')\n",
    "\n",
    "sns.despine()\n",
    "\n",
    "plt.legend(fontsize='small')\n",
    "plt.tight_layout()\n",
    "plt.savefig(\"_FIGURES/barplot_volume_mcg_mech_CA-NS.pdf\")\n",
    "plt.show();"
   ]
  },
  {
   "cell_type": "markdown",
   "metadata": {},
   "source": [
    "## Both weathering operations"
   ]
  },
  {
   "cell_type": "code",
   "execution_count": 82,
   "metadata": {
    "execution": {
     "iopub.execute_input": "2020-12-03T09:34:37.421940Z",
     "iopub.status.busy": "2020-12-03T09:34:37.420888Z",
     "iopub.status.idle": "2020-12-03T09:35:44.309922Z",
     "shell.execute_reply": "2020-12-03T09:35:44.308922Z",
     "shell.execute_reply.started": "2020-12-03T09:34:37.421940Z"
    }
   },
   "outputs": [
    {
     "name": "stdout",
     "output_type": "stream",
     "text": [
      "After 68 steps all pcgs have been broken down to mcg\n",
      "Wall time: 1min 6s\n"
     ]
    }
   ],
   "source": [
    "%%time\n",
    "sedgen_CA_NS_both = \\\n",
    "    sedgen_CA_NS.weathering(\n",
    "    operations=[\"intra_cb\", \"inter_cb\", \n",
    "                \"chem_mcg\", \"chem_pcg\"], \n",
    "    timesteps=100, inplace=False)"
   ]
  },
  {
   "cell_type": "code",
   "execution_count": 177,
   "metadata": {
    "execution": {
     "iopub.execute_input": "2020-12-02T14:54:04.803358Z",
     "iopub.status.busy": "2020-12-02T14:54:04.803358Z",
     "iopub.status.idle": "2020-12-02T14:54:50.151344Z",
     "shell.execute_reply": "2020-12-02T14:54:50.146341Z",
     "shell.execute_reply.started": "2020-12-02T14:54:04.803358Z"
    }
   },
   "outputs": [
    {
     "name": "stdout",
     "output_type": "stream",
     "text": [
      "Wall time: 45.3 s\n"
     ]
    }
   ],
   "source": [
    "%%time\n",
    "sedgen_CA_NS_both2 = \\\n",
    "    sedgen_CA_NS.weathering(operations=[\"intra_cb\", \"inter_cb\", \"chem_mcg\", \"chem_pcg\"], \n",
    "                            timesteps=30, inplace=False)"
   ]
  },
  {
   "cell_type": "code",
   "execution_count": 83,
   "metadata": {
    "execution": {
     "iopub.execute_input": "2020-12-03T09:36:24.056809Z",
     "iopub.status.busy": "2020-12-03T09:36:24.056809Z",
     "iopub.status.idle": "2020-12-03T09:36:24.143803Z",
     "shell.execute_reply": "2020-12-03T09:36:24.142803Z",
     "shell.execute_reply.started": "2020-12-03T09:36:24.056809Z"
    }
   },
   "outputs": [
    {
     "data": {
      "text/plain": [
       "array([1, 1, 3, ..., 0, 0, 5], dtype=uint8)"
      ]
     },
     "execution_count": 83,
     "metadata": {},
     "output_type": "execute_result"
    },
    {
     "data": {
      "text/plain": [
       "array([ 874,  998,  830, ..., 1463,  888,  753], dtype=uint16)"
      ]
     },
     "execution_count": 83,
     "metadata": {},
     "output_type": "execute_result"
    },
    {
     "data": {
      "text/plain": [
       "array([0, 0, 0, ..., 0, 0, 0], dtype=uint8)"
      ]
     },
     "execution_count": 83,
     "metadata": {},
     "output_type": "execute_result"
    }
   ],
   "source": [
    "sedgen_CA_NS.interface_array\n",
    "sedgen_CA_NS.crystal_size_array\n",
    "sedgen_CA_NS.pcg_chem_weath_array_new[0]"
   ]
  },
  {
   "cell_type": "code",
   "execution_count": 154,
   "metadata": {
    "execution": {
     "iopub.execute_input": "2020-12-02T13:53:18.650449Z",
     "iopub.status.busy": "2020-12-02T13:53:18.649445Z",
     "iopub.status.idle": "2020-12-02T13:53:18.744445Z",
     "shell.execute_reply": "2020-12-02T13:53:18.739447Z",
     "shell.execute_reply.started": "2020-12-02T13:53:18.650449Z"
    }
   },
   "outputs": [
    {
     "data": {
      "text/plain": [
       "array([16034572.23375518, 19412553.97561826, 13899259.64932888,\n",
       "        1006130.58924192,   431895.49189993,  1249422.60409523])"
      ]
     },
     "execution_count": 154,
     "metadata": {},
     "output_type": "execute_result"
    }
   ],
   "source": [
    "sedgen_CA_NS.residue.sum(axis=0)"
   ]
  },
  {
   "cell_type": "code",
   "execution_count": 99,
   "metadata": {
    "execution": {
     "iopub.execute_input": "2020-12-02T11:08:38.042712Z",
     "iopub.status.busy": "2020-12-02T11:08:38.041698Z",
     "iopub.status.idle": "2020-12-02T11:08:38.127402Z",
     "shell.execute_reply": "2020-12-02T11:08:38.125404Z",
     "shell.execute_reply.started": "2020-12-02T11:08:38.042712Z"
    }
   },
   "outputs": [],
   "source": [
    "def adjust_spines(ax, spines):\n",
    "    for loc, spine in ax.spines.items():\n",
    "        if loc in spines:\n",
    "            spine.set_position(('outward', 10))  # outward by 10 points\n",
    "        else:\n",
    "            spine.set_color('none')  # don't draw spine"
   ]
  },
  {
   "cell_type": "code",
   "execution_count": 102,
   "metadata": {
    "execution": {
     "iopub.execute_input": "2020-12-02T11:09:22.709626Z",
     "iopub.status.busy": "2020-12-02T11:09:22.708627Z",
     "iopub.status.idle": "2020-12-02T11:09:23.056961Z",
     "shell.execute_reply": "2020-12-02T11:09:23.054989Z",
     "shell.execute_reply.started": "2020-12-02T11:09:22.709626Z"
    }
   },
   "outputs": [
    {
     "name": "stderr",
     "output_type": "stream",
     "text": [
      "C:\\Users\\u0108248\\AppData\\Local\\Continuum\\miniconda3\\envs\\sedgen\\lib\\site-packages\\ipykernel_launcher.py:4: RuntimeWarning: divide by zero encountered in log10\n",
      "  after removing the cwd from sys.path.\n"
     ]
    },
    {
     "data": {
      "image/png": "[encoded data removed]",
      "text/plain": [
       "<Figure size 432x288 with 1 Axes>"
      ]
     },
     "metadata": {},
     "output_type": "display_data"
    }
   ],
   "source": [
    "fig, ax = plt.subplots()\n",
    "\n",
    "ax.plot(np.log10(sedgen_CA_NS_both.pcg_additions), label=\"pcg\", lw=2)\n",
    "ax.plot(np.log10(sedgen_CA_NS_both.mcg_additions), label=\"mcg\", lw=2)\n",
    "\n",
    "ax.text(60, 11, \"mcg\", color=sns.color_palette()[1], fontsize=12)\n",
    "ax.text(60, 2.5, \"pcg\", color=sns.color_palette()[0], fontsize=12)\n",
    "\n",
    "# Set the color of the visible spines\n",
    "ax.spines['left'].set_color('grey')\n",
    "ax.spines['bottom'].set_color('grey')\n",
    "\n",
    "ax.set_xlim(0, 77)\n",
    "ax.set_ylim(0, 14)\n",
    "\n",
    "ax.spines['bottom'].set_bounds(0, 77)\n",
    "ax.spines['left'].set_bounds(0, 14)\n",
    "\n",
    "adjust_spines(ax, ['left', 'bottom'])\n",
    "\n",
    "# Set general tick parameters\n",
    "ax.tick_params(axis='both',\n",
    "               direction='out',\n",
    "               colors='grey',\n",
    "               labelsize=9)\n",
    "\n",
    "ax.set_xlabel(\"Timesteps\", color='grey')\n",
    "ax.set_ylabel(\"$\\log_{10}$n\", rotation=0, labelpad=20, color='grey')\n",
    "\n",
    "# Set facecolor of figure\n",
    "plt.gcf().set_facecolor('white')\n",
    "\n",
    "sns.despine()\n",
    "# plt.legend()\n",
    "plt.tight_layout()\n",
    "plt.savefig(\"_FIGURES/lineplot_pcgmcg_evolution_both_CA-NS.pdf\")\n",
    "plt.show();"
   ]
  },
  {
   "cell_type": "code",
   "execution_count": 92,
   "metadata": {
    "execution": {
     "iopub.execute_input": "2020-12-03T09:39:10.844977Z",
     "iopub.status.busy": "2020-12-03T09:39:10.843975Z",
     "iopub.status.idle": "2020-12-03T09:39:13.504934Z",
     "shell.execute_reply": "2020-12-03T09:39:13.503969Z",
     "shell.execute_reply.started": "2020-12-03T09:39:10.844977Z"
    }
   },
   "outputs": [
    {
     "name": "stderr",
     "output_type": "stream",
     "text": [
      "C:\\Users\\u0108248\\AppData\\Local\\Continuum\\miniconda3\\envs\\sedgen\\lib\\site-packages\\ipykernel_launcher.py:9: RuntimeWarning: invalid value encountered in log2\n",
      "  if __name__ == '__main__':\n",
      "C:\\Users\\u0108248\\AppData\\Local\\Continuum\\miniconda3\\envs\\sedgen\\lib\\site-packages\\ipykernel_launcher.py:7: RuntimeWarning: invalid value encountered in log2\n",
      "  import sys\n",
      "C:\\Users\\u0108248\\AppData\\Local\\Continuum\\miniconda3\\envs\\sedgen\\lib\\site-packages\\ipykernel_launcher.py:33: UserWarning: FixedFormatter should only be used together with FixedLocator\n"
     ]
    },
    {
     "data": {
      "image/png": "[encoded data removed]",
      "text/plain": [
       "<Figure size 432x288 with 1 Axes>"
      ]
     },
     "metadata": {},
     "output_type": "display_data"
    }
   ],
   "source": [
    "fig, ax = plt.subplots()\n",
    "\n",
    "for d in range(0, 1500, 25):\n",
    "    heights = np.sum(np.sum(sedgen_CA_NS_both.mcg[:, :, d:d+25] * sedgen_CA_NS_both.volume_bins_medians_matrix[:, :, d:d+25], axis=0), axis=1)\n",
    "    for m in range(6):\n",
    "        if d == 600:\n",
    "            ax.bar(np.log2(sedgen_CA_NS_both.size_bins_matrix[67, m, d]), height=heights[m], width=0.15, bottom=0, label=minerals[m], color=sns.color_palette()[m], alpha=0.8)\n",
    "        else:\n",
    "            ax.bar(np.log2(sedgen_CA_NS_both.size_bins_matrix[67, m, d]), height=heights[m], width=0.15, bottom=0, color=sns.color_palette()[m], alpha=0.8)\n",
    "            \n",
    "            \n",
    "# Set the color of the visible spines\n",
    "ax.spines['left'].set_color('grey')\n",
    "ax.spines['bottom'].set_color('grey')\n",
    "\n",
    "ax.set_xlim(-10, 5)\n",
    "ax.set_ylim(0, 7e7)\n",
    "\n",
    "ax.spines['bottom'].set_bounds(-10, 5)\n",
    "ax.spines['left'].set_bounds(0, 7e7)\n",
    "\n",
    "ax.spines['left'].set_position(('outward', 10))\n",
    "\n",
    "# Set general tick parameters\n",
    "ax.tick_params(axis='both',\n",
    "               direction='out',\n",
    "               colors='grey',\n",
    "               labelsize=9)\n",
    "\n",
    "ax.set_xlabel(\"Phi-scale\", color='grey')\n",
    "ax.set_ylabel(\"V\", rotation=0, labelpad=15, color='grey')\n",
    "\n",
    "ax.set_xticklabels(list(range(10, -6, -2)))\n",
    "\n",
    "# Set facecolor of figure\n",
    "plt.gcf().set_facecolor('white')\n",
    "\n",
    "sns.despine()\n",
    "\n",
    "plt.legend(fontsize='small')\n",
    "plt.tight_layout()\n",
    "plt.savefig(\"_FIGURES/barplot_volume_mcg_both_CA-NS.pdf\")\n",
    "plt.show();"
   ]
  },
  {
   "cell_type": "code",
   "execution_count": null,
   "metadata": {},
   "outputs": [],
   "source": []
  }
 ],
 "metadata": {
  "kernelspec": {
   "display_name": "Python [conda env:sedgen]",
   "language": "python",
   "name": "conda-env-sedgen-py"
  },
  "language_info": {
   "codemirror_mode": {
    "name": "ipython",
    "version": 3
   },
   "file_extension": ".py",
   "mimetype": "text/x-python",
   "name": "python",
   "nbconvert_exporter": "python",
   "pygments_lexer": "ipython3",
   "version": "3.7.10"
  }
 },
 "nbformat": 4,
 "nbformat_minor": 4
}
