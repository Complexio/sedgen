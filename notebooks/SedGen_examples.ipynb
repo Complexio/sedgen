{
 "cells": [
  {
   "cell_type": "markdown",
   "metadata": {},
   "source": [
    "# SedGen: examples"
   ]
  },
  {
   "cell_type": "markdown",
   "metadata": {},
   "source": [
    "## Imports"
   ]
  },
  {
   "cell_type": "code",
   "execution_count": 11,
   "metadata": {
    "execution": {
     "iopub.execute_input": "2020-11-16T08:57:40.845992Z",
     "iopub.status.busy": "2020-11-16T08:57:40.845992Z",
     "iopub.status.idle": "2020-11-16T08:57:40.979006Z",
     "shell.execute_reply": "2020-11-16T08:57:40.978038Z",
     "shell.execute_reply.started": "2020-11-16T08:57:40.845992Z"
    }
   },
   "outputs": [],
   "source": [
    "import numpy as np\n",
    "import numba as nb\n",
    "from numba.typed import List\n",
    "import numexpr as ne\n",
    "import pandas as pd\n",
    "import itertools\n",
    "from operator import itemgetter\n",
    "import gc\n",
    "import copy\n",
    "\n",
    "from scipy.stats import norm, lognorm, truncnorm\n",
    "import matplotlib.pyplot as plt\n",
    "import seaborn as sns\n",
    "\n",
    "from collections import Counter, deque\n",
    "from sys import getsizeof"
   ]
  },
  {
   "cell_type": "code",
   "execution_count": 2,
   "metadata": {
    "execution": {
     "iopub.execute_input": "2020-11-16T08:55:30.648366Z",
     "iopub.status.busy": "2020-11-16T08:55:30.648366Z",
     "iopub.status.idle": "2020-11-16T08:55:31.064094Z",
     "shell.execute_reply": "2020-11-16T08:55:31.063091Z",
     "shell.execute_reply.started": "2020-11-16T08:55:30.648366Z"
    }
   },
   "outputs": [],
   "source": [
    "from sedgen.initialization import SedGen\n",
    "from sedgen import initialization as ini\n",
    "from sedgen import general as gen\n",
    "from sedgen import preprocessing"
   ]
  },
  {
   "cell_type": "code",
   "execution_count": 3,
   "metadata": {
    "execution": {
     "iopub.execute_input": "2020-11-16T08:55:31.065082Z",
     "iopub.status.busy": "2020-11-16T08:55:31.065082Z",
     "iopub.status.idle": "2020-11-16T08:55:31.186084Z",
     "shell.execute_reply": "2020-11-16T08:55:31.185082Z",
     "shell.execute_reply.started": "2020-11-16T08:55:31.065082Z"
    }
   },
   "outputs": [],
   "source": [
    "%load_ext line_profiler\n",
    "%load_ext memory_profiler"
   ]
  },
  {
   "cell_type": "code",
   "execution_count": 4,
   "metadata": {
    "execution": {
     "iopub.execute_input": "2020-11-16T08:55:31.188084Z",
     "iopub.status.busy": "2020-11-16T08:55:31.188084Z",
     "iopub.status.idle": "2020-11-16T08:55:31.331080Z",
     "shell.execute_reply": "2020-11-16T08:55:31.330080Z",
     "shell.execute_reply.started": "2020-11-16T08:55:31.188084Z"
    }
   },
   "outputs": [],
   "source": [
    "# Load jupyter extension to reload packages before executing user code.\n",
    "# https://ipython.readthedocs.io/en/stable/config/extensions/autoreload.html\n",
    "%load_ext autoreload\n",
    "# Reload all packages (except those excluded by %aimport) every time \n",
    "# before executing the Python code typed.\n",
    "%autoreload 2"
   ]
  },
  {
   "cell_type": "markdown",
   "metadata": {},
   "source": [
    "## Model input\n",
    "___"
   ]
  },
  {
   "cell_type": "markdown",
   "metadata": {},
   "source": [
    "### Parent rock characteristics"
   ]
  },
  {
   "cell_type": "code",
   "execution_count": 5,
   "metadata": {
    "execution": {
     "iopub.execute_input": "2020-11-16T08:55:40.450419Z",
     "iopub.status.busy": "2020-11-16T08:55:40.450419Z",
     "iopub.status.idle": "2020-11-16T08:55:40.591390Z",
     "shell.execute_reply": "2020-11-16T08:55:40.590391Z",
     "shell.execute_reply.started": "2020-11-16T08:55:40.450419Z"
    }
   },
   "outputs": [],
   "source": [
    "# Unit is mm³\n",
    "parent_rock_volume = 1e9\n",
    "\n",
    "# Mineral classes present in parent rock\n",
    "minerals = [\"Q\", \"P\", \"K\", \"B\", \"O\", \"A\"]"
   ]
  },
  {
   "cell_type": "markdown",
   "metadata": {},
   "source": [
    "### Modal mineralogy\n",
    "This property will be represented by a mean value of parent rock samples.  \n",
    "The mean value should be calculated based on clr transformed data, though."
   ]
  },
  {
   "cell_type": "code",
   "execution_count": 6,
   "metadata": {
    "execution": {
     "iopub.execute_input": "2020-11-16T08:55:41.217303Z",
     "iopub.status.busy": "2020-11-16T08:55:41.217303Z",
     "iopub.status.idle": "2020-11-16T08:55:41.352308Z",
     "shell.execute_reply": "2020-11-16T08:55:41.351327Z",
     "shell.execute_reply.started": "2020-11-16T08:55:41.217303Z"
    }
   },
   "outputs": [],
   "source": [
    "# Modal mineralogy mean values f CA-NS of Heins(1992)\n",
    "modal_mineralogy = np.array([0.30591989, 0.38159713, 0.26209888, 0.01882560, 0.00799247, 0.02356603])"
   ]
  },
  {
   "cell_type": "markdown",
   "metadata": {},
   "source": [
    "### Interfacial composition\n",
    "This property will be represented by a mean value of parent rock samples.  \n",
    "The mean value should be calculated based on clr transformed data, though."
   ]
  },
  {
   "cell_type": "code",
   "execution_count": 7,
   "metadata": {
    "execution": {
     "iopub.execute_input": "2020-11-16T08:55:41.849138Z",
     "iopub.status.busy": "2020-11-16T08:55:41.848131Z",
     "iopub.status.idle": "2020-11-16T08:55:41.981139Z",
     "shell.execute_reply": "2020-11-16T08:55:41.980131Z",
     "shell.execute_reply.started": "2020-11-16T08:55:41.849138Z"
    }
   },
   "outputs": [],
   "source": [
    "interface_proportions_true = None"
   ]
  },
  {
   "cell_type": "markdown",
   "metadata": {},
   "source": [
    "### Crystal size distributions\n",
    "This property will be based on a mean crystal size and standard deviation  \n",
    "which will be represented as a log-normal distribution."
   ]
  },
  {
   "cell_type": "code",
   "execution_count": 8,
   "metadata": {
    "execution": {
     "iopub.execute_input": "2020-11-16T08:55:42.726457Z",
     "iopub.status.busy": "2020-11-16T08:55:42.726457Z",
     "iopub.status.idle": "2020-11-16T08:55:42.845453Z",
     "shell.execute_reply": "2020-11-16T08:55:42.844452Z",
     "shell.execute_reply.started": "2020-11-16T08:55:42.726457Z"
    }
   },
   "outputs": [],
   "source": [
    "csds_CA_NS_means = np.array([0.309, 0.330, 0.244, 0.223, 0.120, 0.122])\n",
    "csds_CA_NS_stds = np.array([0.823, 0.683, 0.817, 0.819, 0.554, 0.782])"
   ]
  },
  {
   "cell_type": "markdown",
   "metadata": {},
   "source": [
    "## Initialization"
   ]
  },
  {
   "cell_type": "code",
   "execution_count": 109,
   "metadata": {
    "execution": {
     "iopub.execute_input": "2020-11-16T12:27:57.199756Z",
     "iopub.status.busy": "2020-11-16T12:27:57.198742Z",
     "iopub.status.idle": "2020-11-16T12:28:50.591426Z",
     "shell.execute_reply": "2020-11-16T12:28:50.588425Z",
     "shell.execute_reply.started": "2020-11-16T12:27:57.199756Z"
    }
   },
   "outputs": [
    {
     "name": "stdout",
     "output_type": "stream",
     "text": [
      "---SedGen model initialization started---\n",
      "\n",
      "Initializing modal mineralogy...\n",
      "Initializing csds...\n",
      "Initializing bins...\n",
      "Simulating mineral occurences... |Q|P|K|B|O|A| Done in 2.2767 seconds\n",
      "Initializing interfaces... |Q|P|K|B|O|A| Done in 3.0978 seconds\n",
      "Counting interfaces...  Done in 0.0346 seconds\n",
      "Correcting interface arrays for consistency...\n",
      "too much Q 1\n",
      "all good P 0\n",
      "all good K 0\n",
      "all good B 0\n",
      "all good O 0\n",
      "too few A -1\n",
      "Initializing crystal size array... |Q|P|K|B|O|A| Done in 0.2670 seconds\n",
      "Initializing inter-crystal breakage probability arrays...\n",
      "Initializing model evolution arrays...\n",
      "Initializing discretization for model's weathering...\n",
      "0, 1, 2, 3, 4, 5, 6, 7, 8, 9, 10, 11, 12, 13, 14, 15, 16, 17, 18, 19, 20, 21, 22, 23, 24, 25, 26, 27, 28, 29, 30, 31, 32, 33, 34, 35, 36, 37, 38, 39, 40, 41, 42, 43, 44, 45, 46, 47, 48, 49, 50, 51, 52, 53, 54, 55, 56, 57, 58, 59, 60, 61, 62, 63, 64, 65, 66, 67, 68, 69, 70, 71, 72, 73, 74, 75, 76, 77, 78, 79, 80, 81, 82, 83, 84, 85, 86, 87, 88, 89, 90, 91, 92, 93, 94, 95, 96, 97, 98, 99, \n",
      "---SedGen model initialization finished succesfully---\n",
      "Wall time: 52.3 s\n"
     ]
    }
   ],
   "source": [
    "%%time\n",
    "sedgen_CA_NS = SedGen(minerals, \n",
    "                      parent_rock_volume, \n",
    "                      modal_mineralogy,\n",
    "                      csds_CA_NS_means, \n",
    "                      csds_CA_NS_stds, \n",
    "                      learning_rate=10000, \n",
    "                      timed=True)"
   ]
  },
  {
   "cell_type": "markdown",
   "metadata": {},
   "source": [
    "## Mechanical Weathering"
   ]
  },
  {
   "cell_type": "code",
   "execution_count": 112,
   "metadata": {
    "execution": {
     "iopub.execute_input": "2020-11-16T12:34:59.619297Z",
     "iopub.status.busy": "2020-11-16T12:34:59.618293Z",
     "iopub.status.idle": "2020-11-16T12:36:36.955526Z",
     "shell.execute_reply": "2020-11-16T12:36:36.950529Z",
     "shell.execute_reply.started": "2020-11-16T12:34:59.619297Z"
    }
   },
   "outputs": [
    {
     "name": "stdout",
     "output_type": "stream",
     "text": [
      "After 81 steps all pcgs have been broken down to mcg\n"
     ]
    }
   ],
   "source": [
    "sedgen_CA_NS_mech = sedgen_CA_NS.weathering(operations=[\"intra_cb\", \"inter_cb\"], timesteps=100, inplace=False)"
   ]
  },
  {
   "cell_type": "code",
   "execution_count": 113,
   "metadata": {
    "execution": {
     "iopub.execute_input": "2020-11-16T12:36:36.958529Z",
     "iopub.status.busy": "2020-11-16T12:36:36.958529Z",
     "iopub.status.idle": "2020-11-16T12:36:37.712522Z",
     "shell.execute_reply": "2020-11-16T12:36:37.709531Z",
     "shell.execute_reply.started": "2020-11-16T12:36:36.958529Z"
    }
   },
   "outputs": [
    {
     "name": "stderr",
     "output_type": "stream",
     "text": [
      "C:\\Users\\u0108248\\AppData\\Local\\Continuum\\miniconda3\\envs\\sedgen\\lib\\site-packages\\ipykernel_launcher.py:1: RuntimeWarning: divide by zero encountered in log\n",
      "  \"\"\"Entry point for launching an IPython kernel.\n",
      "C:\\Users\\u0108248\\AppData\\Local\\Continuum\\miniconda3\\envs\\sedgen\\lib\\site-packages\\ipykernel_launcher.py:2: RuntimeWarning: divide by zero encountered in log\n",
      "  \n"
     ]
    },
    {
     "data": {
      "image/png": "[encoded data removed]",
      "text/plain": [
       "<Figure size 432x288 with 1 Axes>"
      ]
     },
     "metadata": {
      "needs_background": "light"
     },
     "output_type": "display_data"
    }
   ],
   "source": [
    "plt.plot(np.log(sedgen_CA_NS_mech.pcg_additions))\n",
    "plt.plot(np.log(sedgen_CA_NS_mech.mcg_additions))\n",
    "pass;"
   ]
  },
  {
   "cell_type": "code",
   "execution_count": 93,
   "metadata": {
    "execution": {
     "iopub.execute_input": "2020-11-16T11:26:38.554505Z",
     "iopub.status.busy": "2020-11-16T11:26:38.553530Z",
     "iopub.status.idle": "2020-11-16T11:26:39.316492Z",
     "shell.execute_reply": "2020-11-16T11:26:39.314490Z",
     "shell.execute_reply.started": "2020-11-16T11:26:38.554505Z"
    }
   },
   "outputs": [
    {
     "name": "stderr",
     "output_type": "stream",
     "text": [
      "C:\\Users\\u0108248\\AppData\\Local\\Continuum\\miniconda3\\envs\\sedgen\\lib\\site-packages\\ipykernel_launcher.py:1: RuntimeWarning: divide by zero encountered in log\n",
      "  \"\"\"Entry point for launching an IPython kernel.\n",
      "C:\\Users\\u0108248\\AppData\\Local\\Continuum\\miniconda3\\envs\\sedgen\\lib\\site-packages\\ipykernel_launcher.py:2: RuntimeWarning: divide by zero encountered in log\n",
      "  \n"
     ]
    },
    {
     "data": {
      "image/png": "[encoded data removed]",
      "text/plain": [
       "<Figure size 432x288 with 1 Axes>"
      ]
     },
     "metadata": {
      "needs_background": "light"
     },
     "output_type": "display_data"
    }
   ],
   "source": [
    "plt.plot(np.log(sedgen_CA_NS_mech.pcg_additions))\n",
    "plt.plot(np.log(sedgen_CA_NS_mech.mcg_additions))\n",
    "pass;"
   ]
  },
  {
   "cell_type": "code",
   "execution_count": 65,
   "metadata": {
    "execution": {
     "iopub.execute_input": "2020-11-16T09:56:03.026550Z",
     "iopub.status.busy": "2020-11-16T09:56:03.026550Z",
     "iopub.status.idle": "2020-11-16T09:56:03.162579Z",
     "shell.execute_reply": "2020-11-16T09:56:03.160582Z",
     "shell.execute_reply.started": "2020-11-16T09:56:03.026550Z"
    }
   },
   "outputs": [
    {
     "data": {
      "text/plain": [
       "3311106970"
      ]
     },
     "execution_count": 65,
     "metadata": {},
     "output_type": "execute_result"
    }
   ],
   "source": [
    "np.sum(sedgen_CA_NS_mech.mcg[0][0][:1000])"
   ]
  },
  {
   "cell_type": "code",
   "execution_count": 66,
   "metadata": {
    "execution": {
     "iopub.execute_input": "2020-11-16T09:56:11.307018Z",
     "iopub.status.busy": "2020-11-16T09:56:11.307018Z",
     "iopub.status.idle": "2020-11-16T09:56:13.728026Z",
     "shell.execute_reply": "2020-11-16T09:56:13.725017Z",
     "shell.execute_reply.started": "2020-11-16T09:56:11.307018Z"
    }
   },
   "outputs": [
    {
     "data": {
      "image/png": "[encoded data removed]",
      "text/plain": [
       "<Figure size 1152x648 with 1 Axes>"
      ]
     },
     "metadata": {
      "needs_background": "light"
     },
     "output_type": "display_data"
    }
   ],
   "source": [
    "fig, ax = plt.subplots(figsize=(16,9))\n",
    "plt.bar(range(0, 1500), height=sedgen_CA_NS_mech.mcg[0][0]);"
   ]
  },
  {
   "cell_type": "code",
   "execution_count": 134,
   "metadata": {
    "execution": {
     "iopub.execute_input": "2020-11-16T13:39:19.727115Z",
     "iopub.status.busy": "2020-11-16T13:39:19.727115Z",
     "iopub.status.idle": "2020-11-16T13:39:27.712089Z",
     "shell.execute_reply": "2020-11-16T13:39:27.708086Z",
     "shell.execute_reply.started": "2020-11-16T13:39:19.727115Z"
    }
   },
   "outputs": [
    {
     "data": {
      "image/png": "[encoded data removed]",
      "text/plain": [
       "<Figure size 1152x648 with 1 Axes>"
      ]
     },
     "metadata": {
      "needs_background": "light"
     },
     "output_type": "display_data"
    }
   ],
   "source": [
    "fig, ax = plt.subplots(figsize=(16,9))\n",
    "plt.bar(range(0, 1500), height=sedgen_CA_NS_mech.mcg[0][0], zorder=10)\n",
    "plt.bar(range(0, 1500), height=sedgen_CA_NS_mech.mcg[0][1])\n",
    "plt.savefig(\"test.pdf\")\n",
    "plt.show();"
   ]
  },
  {
   "cell_type": "code",
   "execution_count": 76,
   "metadata": {
    "execution": {
     "iopub.execute_input": "2020-11-16T10:12:03.740861Z",
     "iopub.status.busy": "2020-11-16T10:12:03.740861Z",
     "iopub.status.idle": "2020-11-16T10:12:11.150743Z",
     "shell.execute_reply": "2020-11-16T10:12:11.149741Z",
     "shell.execute_reply.started": "2020-11-16T10:12:03.740861Z"
    }
   },
   "outputs": [
    {
     "data": {
      "text/plain": [
       "<BarContainer object of 1500 artists>"
      ]
     },
     "execution_count": 76,
     "metadata": {},
     "output_type": "execute_result"
    },
    {
     "data": {
      "text/plain": [
       "<BarContainer object of 1500 artists>"
      ]
     },
     "execution_count": 76,
     "metadata": {},
     "output_type": "execute_result"
    },
    {
     "data": {
      "image/png": "[encoded data removed]",
      "text/plain": [
       "<Figure size 1152x648 with 1 Axes>"
      ]
     },
     "metadata": {
      "needs_background": "light"
     },
     "output_type": "display_data"
    }
   ],
   "source": [
    "fig, ax = plt.subplots(figsize=(16,9))\n",
    "plt.bar(range(0, 1500), height=sedgen_CA_NS_mech.mcg[0][0], zorder=10)\n",
    "plt.bar(range(0, 1500), height=sedgen_CA_NS_mech.mcg[0][1])\n",
    "plt.savefig(\"test.pdf\")\n",
    "plt.show();"
   ]
  },
  {
   "cell_type": "code",
   "execution_count": 116,
   "metadata": {
    "execution": {
     "iopub.execute_input": "2020-11-16T13:34:07.497278Z",
     "iopub.status.busy": "2020-11-16T13:34:07.497278Z",
     "iopub.status.idle": "2020-11-16T13:34:07.651277Z",
     "shell.execute_reply": "2020-11-16T13:34:07.647274Z",
     "shell.execute_reply.started": "2020-11-16T13:34:07.497278Z"
    }
   },
   "outputs": [
    {
     "data": {
      "text/plain": [
       "0.0625"
      ]
     },
     "execution_count": 116,
     "metadata": {},
     "output_type": "execute_result"
    }
   ],
   "source": [
    "2**-4"
   ]
  },
  {
   "cell_type": "code",
   "execution_count": 120,
   "metadata": {
    "execution": {
     "iopub.execute_input": "2020-11-16T13:34:59.762963Z",
     "iopub.status.busy": "2020-11-16T13:34:59.761964Z",
     "iopub.status.idle": "2020-11-16T13:34:59.909978Z",
     "shell.execute_reply": "2020-11-16T13:34:59.904992Z",
     "shell.execute_reply.started": "2020-11-16T13:34:59.762963Z"
    }
   },
   "outputs": [
    {
     "data": {
      "text/plain": [
       "2.0"
      ]
     },
     "execution_count": 120,
     "metadata": {},
     "output_type": "execute_result"
    }
   ],
   "source": [
    "sedgen_CA_NS_mech.size_bins[1100]"
   ]
  },
  {
   "cell_type": "code",
   "execution_count": 172,
   "metadata": {
    "execution": {
     "iopub.execute_input": "2020-11-16T15:08:16.625011Z",
     "iopub.status.busy": "2020-11-16T15:08:16.624012Z",
     "iopub.status.idle": "2020-11-16T15:08:17.303014Z",
     "shell.execute_reply": "2020-11-16T15:08:17.298015Z",
     "shell.execute_reply.started": "2020-11-16T15:08:16.625011Z"
    }
   },
   "outputs": [
    {
     "data": {
      "image/png": "[encoded data removed]",
      "text/plain": [
       "<Figure size 432x288 with 1 Axes>"
      ]
     },
     "metadata": {
      "needs_background": "light"
     },
     "output_type": "display_data"
    }
   ],
   "source": [
    "for d in range(600, 1100, 25):\n",
    "    heights = np.sum(sedgen_CA_NS_mech.mcg[0, :, d:d+100], axis=1)\n",
    "    for m in range(6):\n",
    "        if d == 600:\n",
    "            plt.bar(np.log2(sedgen_CA_NS_mech.size_bins[d]), height=heights[m], width=0.15, bottom=np.sum(heights[:m]), label=minerals[m], color=sns.color_palette()[m])\n",
    "        else:\n",
    "            plt.bar(np.log2(sedgen_CA_NS_mech.size_bins[d]), height=heights[m], width=0.15, bottom=np.sum(heights[:m]), color=sns.color_palette()[m])\n",
    "plt.legend()\n",
    "ax.set_xlabel([4, 3, 2, 1, 0, -1])\n",
    "sns.despine()\n",
    "\n",
    "plt.xlabel(\"Phi-scale\")\n",
    "plt.ylabel(\"n\", rotation=0, labelpad=15)\n",
    "\n",
    "plt.show();"
   ]
  },
  {
   "cell_type": "markdown",
   "metadata": {},
   "source": [
    "## Chemical Weathering"
   ]
  },
  {
   "cell_type": "code",
   "execution_count": 173,
   "metadata": {
    "execution": {
     "iopub.execute_input": "2020-11-16T15:10:17.812191Z",
     "iopub.status.busy": "2020-11-16T15:10:17.811222Z",
     "iopub.status.idle": "2020-11-16T15:10:56.023111Z",
     "shell.execute_reply": "2020-11-16T15:10:56.019114Z",
     "shell.execute_reply.started": "2020-11-16T15:10:17.812191Z"
    }
   },
   "outputs": [
    {
     "name": "stdout",
     "output_type": "stream",
     "text": [
      "99/100\r"
     ]
    }
   ],
   "source": [
    "sedgen_CA_NS_chem = sedgen_CA_NS.weathering(operations=[\"chem_mcg\", \"chem_pcg\"], timesteps=100, inplace=False)"
   ]
  },
  {
   "cell_type": "code",
   "execution_count": 175,
   "metadata": {
    "execution": {
     "iopub.execute_input": "2020-11-16T15:11:26.452769Z",
     "iopub.status.busy": "2020-11-16T15:11:26.450770Z",
     "iopub.status.idle": "2020-11-16T15:11:26.999763Z",
     "shell.execute_reply": "2020-11-16T15:11:26.995795Z",
     "shell.execute_reply.started": "2020-11-16T15:11:26.452769Z"
    }
   },
   "outputs": [
    {
     "name": "stderr",
     "output_type": "stream",
     "text": [
      "C:\\Users\\u0108248\\AppData\\Local\\Continuum\\miniconda3\\envs\\sedgen\\lib\\site-packages\\ipykernel_launcher.py:1: RuntimeWarning: divide by zero encountered in log\n",
      "  \"\"\"Entry point for launching an IPython kernel.\n"
     ]
    },
    {
     "data": {
      "image/png": "[encoded data removed]",
      "text/plain": [
       "<Figure size 432x288 with 1 Axes>"
      ]
     },
     "metadata": {
      "needs_background": "light"
     },
     "output_type": "display_data"
    }
   ],
   "source": [
    "plt.plot(np.log(sedgen_CA_NS_mech.residue_additions))\n",
    "pass;"
   ]
  },
  {
   "cell_type": "code",
   "execution_count": null,
   "metadata": {},
   "outputs": [],
   "source": []
  }
 ],
 "metadata": {
  "kernelspec": {
   "display_name": "Python [conda env:sedgen]",
   "language": "python",
   "name": "conda-env-sedgen-py"
  },
  "language_info": {
   "codemirror_mode": {
    "name": "ipython",
    "version": 3
   },
   "file_extension": ".py",
   "mimetype": "text/x-python",
   "name": "python",
   "nbconvert_exporter": "python",
   "pygments_lexer": "ipython3",
   "version": "3.7.8"
  }
 },
 "nbformat": 4,
 "nbformat_minor": 4
}
